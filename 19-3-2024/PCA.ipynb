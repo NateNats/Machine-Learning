{
 "cells": [
  {
   "cell_type": "code",
   "execution_count": 271,
   "id": "initial_id",
   "metadata": {
    "collapsed": true,
    "ExecuteTime": {
     "end_time": "2024-03-19T15:01:48.444785Z",
     "start_time": "2024-03-19T15:01:48.408730Z"
    }
   },
   "outputs": [],
   "source": [
    "import numpy as np\n",
    "import pandas as pd\n",
    "import matplotlib.pyplot as plt\n",
    "from sklearn.decomposition import PCA\n",
    "from sklearn.model_selection import train_test_split\n",
    "from sklearn.preprocessing import LabelEncoder, StandardScaler\n",
    "from sklearn.tree import DecisionTreeClassifier\n",
    "from sklearn.pipeline import Pipeline\n",
    "from sklearn.ensemble import RandomForestClassifier\n",
    "from sklearn.inspection import permutation_importance\n",
    "from sklearn.metrics import accuracy_score, confusion_matrix, classification_report"
   ]
  },
  {
   "cell_type": "code",
   "outputs": [
    {
     "data": {
      "text/plain": "       age workclass  fnlwgt     education  education.num      marital.status  \\\n0       90         ?   77053       HS-grad              9             Widowed   \n1       82   Private  132870       HS-grad              9             Widowed   \n2       66         ?  186061  Some-college             10             Widowed   \n3       54   Private  140359       7th-8th              4            Divorced   \n4       41   Private  264663  Some-college             10           Separated   \n...    ...       ...     ...           ...            ...                 ...   \n32556   22   Private  310152  Some-college             10       Never-married   \n32557   27   Private  257302    Assoc-acdm             12  Married-civ-spouse   \n32558   40   Private  154374       HS-grad              9  Married-civ-spouse   \n32559   58   Private  151910       HS-grad              9             Widowed   \n32560   22   Private  201490       HS-grad              9       Never-married   \n\n              occupation   relationship   race     sex  capital.gain  \\\n0                      ?  Not-in-family  White  Female             0   \n1        Exec-managerial  Not-in-family  White  Female             0   \n2                      ?      Unmarried  Black  Female             0   \n3      Machine-op-inspct      Unmarried  White  Female             0   \n4         Prof-specialty      Own-child  White  Female             0   \n...                  ...            ...    ...     ...           ...   \n32556    Protective-serv  Not-in-family  White    Male             0   \n32557       Tech-support           Wife  White  Female             0   \n32558  Machine-op-inspct        Husband  White    Male             0   \n32559       Adm-clerical      Unmarried  White  Female             0   \n32560       Adm-clerical      Own-child  White    Male             0   \n\n       capital.loss  hours.per.week native.country income  \n0              4356              40  United-States  <=50K  \n1              4356              18  United-States  <=50K  \n2              4356              40  United-States  <=50K  \n3              3900              40  United-States  <=50K  \n4              3900              40  United-States  <=50K  \n...             ...             ...            ...    ...  \n32556             0              40  United-States  <=50K  \n32557             0              38  United-States  <=50K  \n32558             0              40  United-States   >50K  \n32559             0              40  United-States  <=50K  \n32560             0              20  United-States  <=50K  \n\n[32561 rows x 15 columns]",
      "text/html": "<div>\n<style scoped>\n    .dataframe tbody tr th:only-of-type {\n        vertical-align: middle;\n    }\n\n    .dataframe tbody tr th {\n        vertical-align: top;\n    }\n\n    .dataframe thead th {\n        text-align: right;\n    }\n</style>\n<table border=\"1\" class=\"dataframe\">\n  <thead>\n    <tr style=\"text-align: right;\">\n      <th></th>\n      <th>age</th>\n      <th>workclass</th>\n      <th>fnlwgt</th>\n      <th>education</th>\n      <th>education.num</th>\n      <th>marital.status</th>\n      <th>occupation</th>\n      <th>relationship</th>\n      <th>race</th>\n      <th>sex</th>\n      <th>capital.gain</th>\n      <th>capital.loss</th>\n      <th>hours.per.week</th>\n      <th>native.country</th>\n      <th>income</th>\n    </tr>\n  </thead>\n  <tbody>\n    <tr>\n      <th>0</th>\n      <td>90</td>\n      <td>?</td>\n      <td>77053</td>\n      <td>HS-grad</td>\n      <td>9</td>\n      <td>Widowed</td>\n      <td>?</td>\n      <td>Not-in-family</td>\n      <td>White</td>\n      <td>Female</td>\n      <td>0</td>\n      <td>4356</td>\n      <td>40</td>\n      <td>United-States</td>\n      <td>&lt;=50K</td>\n    </tr>\n    <tr>\n      <th>1</th>\n      <td>82</td>\n      <td>Private</td>\n      <td>132870</td>\n      <td>HS-grad</td>\n      <td>9</td>\n      <td>Widowed</td>\n      <td>Exec-managerial</td>\n      <td>Not-in-family</td>\n      <td>White</td>\n      <td>Female</td>\n      <td>0</td>\n      <td>4356</td>\n      <td>18</td>\n      <td>United-States</td>\n      <td>&lt;=50K</td>\n    </tr>\n    <tr>\n      <th>2</th>\n      <td>66</td>\n      <td>?</td>\n      <td>186061</td>\n      <td>Some-college</td>\n      <td>10</td>\n      <td>Widowed</td>\n      <td>?</td>\n      <td>Unmarried</td>\n      <td>Black</td>\n      <td>Female</td>\n      <td>0</td>\n      <td>4356</td>\n      <td>40</td>\n      <td>United-States</td>\n      <td>&lt;=50K</td>\n    </tr>\n    <tr>\n      <th>3</th>\n      <td>54</td>\n      <td>Private</td>\n      <td>140359</td>\n      <td>7th-8th</td>\n      <td>4</td>\n      <td>Divorced</td>\n      <td>Machine-op-inspct</td>\n      <td>Unmarried</td>\n      <td>White</td>\n      <td>Female</td>\n      <td>0</td>\n      <td>3900</td>\n      <td>40</td>\n      <td>United-States</td>\n      <td>&lt;=50K</td>\n    </tr>\n    <tr>\n      <th>4</th>\n      <td>41</td>\n      <td>Private</td>\n      <td>264663</td>\n      <td>Some-college</td>\n      <td>10</td>\n      <td>Separated</td>\n      <td>Prof-specialty</td>\n      <td>Own-child</td>\n      <td>White</td>\n      <td>Female</td>\n      <td>0</td>\n      <td>3900</td>\n      <td>40</td>\n      <td>United-States</td>\n      <td>&lt;=50K</td>\n    </tr>\n    <tr>\n      <th>...</th>\n      <td>...</td>\n      <td>...</td>\n      <td>...</td>\n      <td>...</td>\n      <td>...</td>\n      <td>...</td>\n      <td>...</td>\n      <td>...</td>\n      <td>...</td>\n      <td>...</td>\n      <td>...</td>\n      <td>...</td>\n      <td>...</td>\n      <td>...</td>\n      <td>...</td>\n    </tr>\n    <tr>\n      <th>32556</th>\n      <td>22</td>\n      <td>Private</td>\n      <td>310152</td>\n      <td>Some-college</td>\n      <td>10</td>\n      <td>Never-married</td>\n      <td>Protective-serv</td>\n      <td>Not-in-family</td>\n      <td>White</td>\n      <td>Male</td>\n      <td>0</td>\n      <td>0</td>\n      <td>40</td>\n      <td>United-States</td>\n      <td>&lt;=50K</td>\n    </tr>\n    <tr>\n      <th>32557</th>\n      <td>27</td>\n      <td>Private</td>\n      <td>257302</td>\n      <td>Assoc-acdm</td>\n      <td>12</td>\n      <td>Married-civ-spouse</td>\n      <td>Tech-support</td>\n      <td>Wife</td>\n      <td>White</td>\n      <td>Female</td>\n      <td>0</td>\n      <td>0</td>\n      <td>38</td>\n      <td>United-States</td>\n      <td>&lt;=50K</td>\n    </tr>\n    <tr>\n      <th>32558</th>\n      <td>40</td>\n      <td>Private</td>\n      <td>154374</td>\n      <td>HS-grad</td>\n      <td>9</td>\n      <td>Married-civ-spouse</td>\n      <td>Machine-op-inspct</td>\n      <td>Husband</td>\n      <td>White</td>\n      <td>Male</td>\n      <td>0</td>\n      <td>0</td>\n      <td>40</td>\n      <td>United-States</td>\n      <td>&gt;50K</td>\n    </tr>\n    <tr>\n      <th>32559</th>\n      <td>58</td>\n      <td>Private</td>\n      <td>151910</td>\n      <td>HS-grad</td>\n      <td>9</td>\n      <td>Widowed</td>\n      <td>Adm-clerical</td>\n      <td>Unmarried</td>\n      <td>White</td>\n      <td>Female</td>\n      <td>0</td>\n      <td>0</td>\n      <td>40</td>\n      <td>United-States</td>\n      <td>&lt;=50K</td>\n    </tr>\n    <tr>\n      <th>32560</th>\n      <td>22</td>\n      <td>Private</td>\n      <td>201490</td>\n      <td>HS-grad</td>\n      <td>9</td>\n      <td>Never-married</td>\n      <td>Adm-clerical</td>\n      <td>Own-child</td>\n      <td>White</td>\n      <td>Male</td>\n      <td>0</td>\n      <td>0</td>\n      <td>20</td>\n      <td>United-States</td>\n      <td>&lt;=50K</td>\n    </tr>\n  </tbody>\n</table>\n<p>32561 rows × 15 columns</p>\n</div>"
     },
     "execution_count": 213,
     "metadata": {},
     "output_type": "execute_result"
    }
   ],
   "source": [
    "# Load the data\n",
    "data = pd.read_csv('adult.csv')\n",
    "data"
   ],
   "metadata": {
    "collapsed": false,
    "ExecuteTime": {
     "end_time": "2024-03-19T13:42:52.613743Z",
     "start_time": "2024-03-19T13:42:52.537603Z"
    }
   },
   "id": "5dfff5827373bb07",
   "execution_count": 213
  },
  {
   "cell_type": "code",
   "outputs": [
    {
     "name": "stdout",
     "output_type": "stream",
     "text": [
      "<class 'pandas.core.frame.DataFrame'>\n",
      "RangeIndex: 32561 entries, 0 to 32560\n",
      "Data columns (total 15 columns):\n",
      " #   Column          Non-Null Count  Dtype \n",
      "---  ------          --------------  ----- \n",
      " 0   age             32561 non-null  int64 \n",
      " 1   workclass       32561 non-null  object\n",
      " 2   fnlwgt          32561 non-null  int64 \n",
      " 3   education       32561 non-null  object\n",
      " 4   education.num   32561 non-null  int64 \n",
      " 5   marital.status  32561 non-null  object\n",
      " 6   occupation      32561 non-null  object\n",
      " 7   relationship    32561 non-null  object\n",
      " 8   race            32561 non-null  object\n",
      " 9   sex             32561 non-null  object\n",
      " 10  capital.gain    32561 non-null  int64 \n",
      " 11  capital.loss    32561 non-null  int64 \n",
      " 12  hours.per.week  32561 non-null  int64 \n",
      " 13  native.country  32561 non-null  object\n",
      " 14  income          32561 non-null  object\n",
      "dtypes: int64(6), object(9)\n",
      "memory usage: 3.7+ MB\n"
     ]
    }
   ],
   "source": [
    "data.info()"
   ],
   "metadata": {
    "collapsed": false,
    "ExecuteTime": {
     "end_time": "2024-03-19T13:42:52.629744Z",
     "start_time": "2024-03-19T13:42:52.614725Z"
    }
   },
   "id": "edcd84a49e3f6370",
   "execution_count": 214
  },
  {
   "cell_type": "code",
   "outputs": [
    {
     "data": {
      "text/plain": "(32561, 15)"
     },
     "execution_count": 215,
     "metadata": {},
     "output_type": "execute_result"
    }
   ],
   "source": [
    "data.shape"
   ],
   "metadata": {
    "collapsed": false,
    "ExecuteTime": {
     "end_time": "2024-03-19T13:42:52.644956Z",
     "start_time": "2024-03-19T13:42:52.630752Z"
    }
   },
   "id": "77b8ff22222623f4",
   "execution_count": 215
  },
  {
   "cell_type": "code",
   "outputs": [
    {
     "data": {
      "text/plain": "age               0\nworkclass         0\nfnlwgt            0\neducation         0\neducation.num     0\nmarital.status    0\noccupation        0\nrelationship      0\nrace              0\nsex               0\ncapital.gain      0\ncapital.loss      0\nhours.per.week    0\nnative.country    0\nincome            0\ndtype: int64"
     },
     "execution_count": 216,
     "metadata": {},
     "output_type": "execute_result"
    }
   ],
   "source": [
    "data.isnull().sum()"
   ],
   "metadata": {
    "collapsed": false,
    "ExecuteTime": {
     "end_time": "2024-03-19T13:42:52.661105Z",
     "start_time": "2024-03-19T13:42:52.646928Z"
    }
   },
   "id": "74ec076f1075e74c",
   "execution_count": 216
  },
  {
   "cell_type": "code",
   "outputs": [
    {
     "data": {
      "text/plain": "age               0\nworkclass         0\nfnlwgt            0\neducation         0\neducation.num     0\nmarital.status    0\noccupation        0\nrelationship      0\nrace              0\nsex               0\ncapital.gain      0\ncapital.loss      0\nhours.per.week    0\nnative.country    0\nincome            0\ndtype: int64"
     },
     "execution_count": 217,
     "metadata": {},
     "output_type": "execute_result"
    }
   ],
   "source": [
    "data.isna().sum()"
   ],
   "metadata": {
    "collapsed": false,
    "ExecuteTime": {
     "end_time": "2024-03-19T13:42:52.676412Z",
     "start_time": "2024-03-19T13:42:52.663106Z"
    }
   },
   "id": "8ffe5f832a08e0d8",
   "execution_count": 217
  },
  {
   "cell_type": "code",
   "outputs": [
    {
     "name": "stdout",
     "output_type": "stream",
     "text": [
      "The dataset contains 4262 missing values represented as \"?\".\n"
     ]
    },
    {
     "name": "stderr",
     "output_type": "stream",
     "text": [
      "C:\\Users\\Nicolaus\\AppData\\Local\\Temp\\ipykernel_2604\\3163091106.py:1: FutureWarning: DataFrame.applymap has been deprecated. Use DataFrame.map instead.\n",
      "  missing_values = data.applymap(lambda x: x == '?').sum().sum()\n"
     ]
    }
   ],
   "source": [
    "missing_values = data.applymap(lambda x: x == '?').sum().sum()\n",
    "print(f'The dataset contains {missing_values} missing values represented as \"?\".')"
   ],
   "metadata": {
    "collapsed": false,
    "ExecuteTime": {
     "end_time": "2024-03-19T13:42:52.755255Z",
     "start_time": "2024-03-19T13:42:52.678406Z"
    }
   },
   "id": "6346d56f52673b43",
   "execution_count": 218
  },
  {
   "cell_type": "code",
   "outputs": [],
   "source": [
    "data[data == '?'] = np.nan"
   ],
   "metadata": {
    "collapsed": false,
    "ExecuteTime": {
     "end_time": "2024-03-19T13:42:52.801919Z",
     "start_time": "2024-03-19T13:42:52.777821Z"
    }
   },
   "id": "3f7deca8c2c382fa",
   "execution_count": 219
  },
  {
   "cell_type": "code",
   "outputs": [
    {
     "data": {
      "text/plain": "       age workclass  fnlwgt     education  education.num      marital.status  \\\n0       90       NaN   77053       HS-grad              9             Widowed   \n1       82   Private  132870       HS-grad              9             Widowed   \n2       66       NaN  186061  Some-college             10             Widowed   \n3       54   Private  140359       7th-8th              4            Divorced   \n4       41   Private  264663  Some-college             10           Separated   \n...    ...       ...     ...           ...            ...                 ...   \n32556   22   Private  310152  Some-college             10       Never-married   \n32557   27   Private  257302    Assoc-acdm             12  Married-civ-spouse   \n32558   40   Private  154374       HS-grad              9  Married-civ-spouse   \n32559   58   Private  151910       HS-grad              9             Widowed   \n32560   22   Private  201490       HS-grad              9       Never-married   \n\n              occupation   relationship   race     sex  capital.gain  \\\n0                    NaN  Not-in-family  White  Female             0   \n1        Exec-managerial  Not-in-family  White  Female             0   \n2                    NaN      Unmarried  Black  Female             0   \n3      Machine-op-inspct      Unmarried  White  Female             0   \n4         Prof-specialty      Own-child  White  Female             0   \n...                  ...            ...    ...     ...           ...   \n32556    Protective-serv  Not-in-family  White    Male             0   \n32557       Tech-support           Wife  White  Female             0   \n32558  Machine-op-inspct        Husband  White    Male             0   \n32559       Adm-clerical      Unmarried  White  Female             0   \n32560       Adm-clerical      Own-child  White    Male             0   \n\n       capital.loss  hours.per.week native.country income  \n0              4356              40  United-States  <=50K  \n1              4356              18  United-States  <=50K  \n2              4356              40  United-States  <=50K  \n3              3900              40  United-States  <=50K  \n4              3900              40  United-States  <=50K  \n...             ...             ...            ...    ...  \n32556             0              40  United-States  <=50K  \n32557             0              38  United-States  <=50K  \n32558             0              40  United-States   >50K  \n32559             0              40  United-States  <=50K  \n32560             0              20  United-States  <=50K  \n\n[32561 rows x 15 columns]",
      "text/html": "<div>\n<style scoped>\n    .dataframe tbody tr th:only-of-type {\n        vertical-align: middle;\n    }\n\n    .dataframe tbody tr th {\n        vertical-align: top;\n    }\n\n    .dataframe thead th {\n        text-align: right;\n    }\n</style>\n<table border=\"1\" class=\"dataframe\">\n  <thead>\n    <tr style=\"text-align: right;\">\n      <th></th>\n      <th>age</th>\n      <th>workclass</th>\n      <th>fnlwgt</th>\n      <th>education</th>\n      <th>education.num</th>\n      <th>marital.status</th>\n      <th>occupation</th>\n      <th>relationship</th>\n      <th>race</th>\n      <th>sex</th>\n      <th>capital.gain</th>\n      <th>capital.loss</th>\n      <th>hours.per.week</th>\n      <th>native.country</th>\n      <th>income</th>\n    </tr>\n  </thead>\n  <tbody>\n    <tr>\n      <th>0</th>\n      <td>90</td>\n      <td>NaN</td>\n      <td>77053</td>\n      <td>HS-grad</td>\n      <td>9</td>\n      <td>Widowed</td>\n      <td>NaN</td>\n      <td>Not-in-family</td>\n      <td>White</td>\n      <td>Female</td>\n      <td>0</td>\n      <td>4356</td>\n      <td>40</td>\n      <td>United-States</td>\n      <td>&lt;=50K</td>\n    </tr>\n    <tr>\n      <th>1</th>\n      <td>82</td>\n      <td>Private</td>\n      <td>132870</td>\n      <td>HS-grad</td>\n      <td>9</td>\n      <td>Widowed</td>\n      <td>Exec-managerial</td>\n      <td>Not-in-family</td>\n      <td>White</td>\n      <td>Female</td>\n      <td>0</td>\n      <td>4356</td>\n      <td>18</td>\n      <td>United-States</td>\n      <td>&lt;=50K</td>\n    </tr>\n    <tr>\n      <th>2</th>\n      <td>66</td>\n      <td>NaN</td>\n      <td>186061</td>\n      <td>Some-college</td>\n      <td>10</td>\n      <td>Widowed</td>\n      <td>NaN</td>\n      <td>Unmarried</td>\n      <td>Black</td>\n      <td>Female</td>\n      <td>0</td>\n      <td>4356</td>\n      <td>40</td>\n      <td>United-States</td>\n      <td>&lt;=50K</td>\n    </tr>\n    <tr>\n      <th>3</th>\n      <td>54</td>\n      <td>Private</td>\n      <td>140359</td>\n      <td>7th-8th</td>\n      <td>4</td>\n      <td>Divorced</td>\n      <td>Machine-op-inspct</td>\n      <td>Unmarried</td>\n      <td>White</td>\n      <td>Female</td>\n      <td>0</td>\n      <td>3900</td>\n      <td>40</td>\n      <td>United-States</td>\n      <td>&lt;=50K</td>\n    </tr>\n    <tr>\n      <th>4</th>\n      <td>41</td>\n      <td>Private</td>\n      <td>264663</td>\n      <td>Some-college</td>\n      <td>10</td>\n      <td>Separated</td>\n      <td>Prof-specialty</td>\n      <td>Own-child</td>\n      <td>White</td>\n      <td>Female</td>\n      <td>0</td>\n      <td>3900</td>\n      <td>40</td>\n      <td>United-States</td>\n      <td>&lt;=50K</td>\n    </tr>\n    <tr>\n      <th>...</th>\n      <td>...</td>\n      <td>...</td>\n      <td>...</td>\n      <td>...</td>\n      <td>...</td>\n      <td>...</td>\n      <td>...</td>\n      <td>...</td>\n      <td>...</td>\n      <td>...</td>\n      <td>...</td>\n      <td>...</td>\n      <td>...</td>\n      <td>...</td>\n      <td>...</td>\n    </tr>\n    <tr>\n      <th>32556</th>\n      <td>22</td>\n      <td>Private</td>\n      <td>310152</td>\n      <td>Some-college</td>\n      <td>10</td>\n      <td>Never-married</td>\n      <td>Protective-serv</td>\n      <td>Not-in-family</td>\n      <td>White</td>\n      <td>Male</td>\n      <td>0</td>\n      <td>0</td>\n      <td>40</td>\n      <td>United-States</td>\n      <td>&lt;=50K</td>\n    </tr>\n    <tr>\n      <th>32557</th>\n      <td>27</td>\n      <td>Private</td>\n      <td>257302</td>\n      <td>Assoc-acdm</td>\n      <td>12</td>\n      <td>Married-civ-spouse</td>\n      <td>Tech-support</td>\n      <td>Wife</td>\n      <td>White</td>\n      <td>Female</td>\n      <td>0</td>\n      <td>0</td>\n      <td>38</td>\n      <td>United-States</td>\n      <td>&lt;=50K</td>\n    </tr>\n    <tr>\n      <th>32558</th>\n      <td>40</td>\n      <td>Private</td>\n      <td>154374</td>\n      <td>HS-grad</td>\n      <td>9</td>\n      <td>Married-civ-spouse</td>\n      <td>Machine-op-inspct</td>\n      <td>Husband</td>\n      <td>White</td>\n      <td>Male</td>\n      <td>0</td>\n      <td>0</td>\n      <td>40</td>\n      <td>United-States</td>\n      <td>&gt;50K</td>\n    </tr>\n    <tr>\n      <th>32559</th>\n      <td>58</td>\n      <td>Private</td>\n      <td>151910</td>\n      <td>HS-grad</td>\n      <td>9</td>\n      <td>Widowed</td>\n      <td>Adm-clerical</td>\n      <td>Unmarried</td>\n      <td>White</td>\n      <td>Female</td>\n      <td>0</td>\n      <td>0</td>\n      <td>40</td>\n      <td>United-States</td>\n      <td>&lt;=50K</td>\n    </tr>\n    <tr>\n      <th>32560</th>\n      <td>22</td>\n      <td>Private</td>\n      <td>201490</td>\n      <td>HS-grad</td>\n      <td>9</td>\n      <td>Never-married</td>\n      <td>Adm-clerical</td>\n      <td>Own-child</td>\n      <td>White</td>\n      <td>Male</td>\n      <td>0</td>\n      <td>0</td>\n      <td>20</td>\n      <td>United-States</td>\n      <td>&lt;=50K</td>\n    </tr>\n  </tbody>\n</table>\n<p>32561 rows × 15 columns</p>\n</div>"
     },
     "execution_count": 220,
     "metadata": {},
     "output_type": "execute_result"
    }
   ],
   "source": [
    "data"
   ],
   "metadata": {
    "collapsed": false,
    "ExecuteTime": {
     "end_time": "2024-03-19T13:42:52.911044Z",
     "start_time": "2024-03-19T13:42:52.882003Z"
    }
   },
   "id": "8f89a9ae23a221a6",
   "execution_count": 220
  },
  {
   "cell_type": "code",
   "outputs": [
    {
     "data": {
      "text/plain": "age                  0\nworkclass         1836\nfnlwgt               0\neducation            0\neducation.num        0\nmarital.status       0\noccupation        1843\nrelationship         0\nrace                 0\nsex                  0\ncapital.gain         0\ncapital.loss         0\nhours.per.week       0\nnative.country     583\nincome               0\ndtype: int64"
     },
     "execution_count": 221,
     "metadata": {},
     "output_type": "execute_result"
    }
   ],
   "source": [
    "data.isnull().sum()"
   ],
   "metadata": {
    "collapsed": false,
    "ExecuteTime": {
     "end_time": "2024-03-19T13:42:52.987532Z",
     "start_time": "2024-03-19T13:42:52.968828Z"
    }
   },
   "id": "cf5dea3b29a67c0e",
   "execution_count": 221
  },
  {
   "cell_type": "code",
   "outputs": [
    {
     "data": {
      "text/plain": "24"
     },
     "execution_count": 222,
     "metadata": {},
     "output_type": "execute_result"
    }
   ],
   "source": [
    "data.duplicated().sum()"
   ],
   "metadata": {
    "collapsed": false,
    "ExecuteTime": {
     "end_time": "2024-03-19T13:42:53.067058Z",
     "start_time": "2024-03-19T13:42:53.043605Z"
    }
   },
   "id": "9c8f73288a236df9",
   "execution_count": 222
  },
  {
   "cell_type": "code",
   "outputs": [],
   "source": [
    "for col in ['workclass', 'occupation', 'native.country']:\n",
    "    data[col].fillna(data[col].mode()[0], inplace=True)"
   ],
   "metadata": {
    "collapsed": false,
    "ExecuteTime": {
     "end_time": "2024-03-19T13:42:53.097250Z",
     "start_time": "2024-03-19T13:42:53.071163Z"
    }
   },
   "id": "43d800fd7a32a2ae",
   "execution_count": 223
  },
  {
   "cell_type": "code",
   "outputs": [
    {
     "data": {
      "text/plain": "24"
     },
     "execution_count": 224,
     "metadata": {},
     "output_type": "execute_result"
    }
   ],
   "source": [
    "data.duplicated().sum()"
   ],
   "metadata": {
    "collapsed": false,
    "ExecuteTime": {
     "end_time": "2024-03-19T13:42:53.206749Z",
     "start_time": "2024-03-19T13:42:53.181669Z"
    }
   },
   "id": "700d6b4f88b6ea0c",
   "execution_count": 224
  },
  {
   "cell_type": "code",
   "outputs": [],
   "source": [
    "data.drop_duplicates(inplace=True)"
   ],
   "metadata": {
    "collapsed": false,
    "ExecuteTime": {
     "end_time": "2024-03-19T13:42:53.285170Z",
     "start_time": "2024-03-19T13:42:53.255913Z"
    }
   },
   "id": "6a469d76c859a2d1",
   "execution_count": 225
  },
  {
   "cell_type": "code",
   "outputs": [],
   "source": [
    "X = data.drop('income', axis=1)\n",
    "y = data['income']"
   ],
   "metadata": {
    "collapsed": false,
    "ExecuteTime": {
     "end_time": "2024-03-19T13:42:53.316337Z",
     "start_time": "2024-03-19T13:42:53.302053Z"
    }
   },
   "id": "fb8b8782b31d2bb0",
   "execution_count": 226
  },
  {
   "cell_type": "code",
   "outputs": [],
   "source": [
    "X_train, X_test, y_train, y_test = train_test_split(X, y, test_size=0.3, random_state=42)"
   ],
   "metadata": {
    "collapsed": false,
    "ExecuteTime": {
     "end_time": "2024-03-19T13:42:53.347914Z",
     "start_time": "2024-03-19T13:42:53.335402Z"
    }
   },
   "id": "1c02e43fc7696784",
   "execution_count": 227
  },
  {
   "cell_type": "code",
   "outputs": [
    {
     "data": {
      "text/plain": "       age         workclass  fnlwgt     education  education.num  \\\n1216    62           Private  109463  Some-college             10   \n27958   52           Private  312477       HS-grad              9   \n23074   69           Private  168794       7th-8th              4   \n19677   33           Private  199227     Bachelors             13   \n19179   40           Private  374367     Assoc-voc             11   \n...    ...               ...     ...           ...            ...   \n29823   31           Private  112627       HS-grad              9   \n5390    51           Private  146767     Assoc-voc             11   \n860     55       Federal-gov  238192       HS-grad              9   \n15800   23           Private  233626     Bachelors             13   \n23667   47  Self-emp-not-inc  171968     Bachelors             13   \n\n           marital.status        occupation   relationship  \\\n1216            Separated             Sales      Unmarried   \n27958             Widowed  Transport-moving  Not-in-family   \n23074  Married-civ-spouse    Prof-specialty        Husband   \n19677  Married-civ-spouse   Exec-managerial        Husband   \n19179           Separated             Sales  Not-in-family   \n...                   ...               ...            ...   \n29823  Married-civ-spouse  Transport-moving        Husband   \n5390   Married-civ-spouse    Prof-specialty        Husband   \n860    Married-civ-spouse      Tech-support        Husband   \n15800       Never-married             Sales  Not-in-family   \n23667             Widowed   Exec-managerial      Unmarried   \n\n                     race     sex  capital.gain  capital.loss  hours.per.week  \\\n1216                White  Female             0          1617              33   \n27958               White    Male             0             0              40   \n23074               White    Male             0             0              48   \n19677               White    Male             0             0              55   \n19179               Black    Male             0             0              44   \n...                   ...     ...           ...           ...             ...   \n29823  Amer-Indian-Eskimo    Male             0             0              40   \n5390                White    Male             0             0              40   \n860                 White    Male             0          1887              40   \n15800               White    Male             0             0              25   \n23667  Asian-Pac-Islander  Female             0             0              60   \n\n      native.country  \n1216   United-States  \n27958  United-States  \n23074  United-States  \n19677  United-States  \n19179  United-States  \n...              ...  \n29823  United-States  \n5390   United-States  \n860    United-States  \n15800  United-States  \n23667       Thailand  \n\n[22775 rows x 14 columns]",
      "text/html": "<div>\n<style scoped>\n    .dataframe tbody tr th:only-of-type {\n        vertical-align: middle;\n    }\n\n    .dataframe tbody tr th {\n        vertical-align: top;\n    }\n\n    .dataframe thead th {\n        text-align: right;\n    }\n</style>\n<table border=\"1\" class=\"dataframe\">\n  <thead>\n    <tr style=\"text-align: right;\">\n      <th></th>\n      <th>age</th>\n      <th>workclass</th>\n      <th>fnlwgt</th>\n      <th>education</th>\n      <th>education.num</th>\n      <th>marital.status</th>\n      <th>occupation</th>\n      <th>relationship</th>\n      <th>race</th>\n      <th>sex</th>\n      <th>capital.gain</th>\n      <th>capital.loss</th>\n      <th>hours.per.week</th>\n      <th>native.country</th>\n    </tr>\n  </thead>\n  <tbody>\n    <tr>\n      <th>1216</th>\n      <td>62</td>\n      <td>Private</td>\n      <td>109463</td>\n      <td>Some-college</td>\n      <td>10</td>\n      <td>Separated</td>\n      <td>Sales</td>\n      <td>Unmarried</td>\n      <td>White</td>\n      <td>Female</td>\n      <td>0</td>\n      <td>1617</td>\n      <td>33</td>\n      <td>United-States</td>\n    </tr>\n    <tr>\n      <th>27958</th>\n      <td>52</td>\n      <td>Private</td>\n      <td>312477</td>\n      <td>HS-grad</td>\n      <td>9</td>\n      <td>Widowed</td>\n      <td>Transport-moving</td>\n      <td>Not-in-family</td>\n      <td>White</td>\n      <td>Male</td>\n      <td>0</td>\n      <td>0</td>\n      <td>40</td>\n      <td>United-States</td>\n    </tr>\n    <tr>\n      <th>23074</th>\n      <td>69</td>\n      <td>Private</td>\n      <td>168794</td>\n      <td>7th-8th</td>\n      <td>4</td>\n      <td>Married-civ-spouse</td>\n      <td>Prof-specialty</td>\n      <td>Husband</td>\n      <td>White</td>\n      <td>Male</td>\n      <td>0</td>\n      <td>0</td>\n      <td>48</td>\n      <td>United-States</td>\n    </tr>\n    <tr>\n      <th>19677</th>\n      <td>33</td>\n      <td>Private</td>\n      <td>199227</td>\n      <td>Bachelors</td>\n      <td>13</td>\n      <td>Married-civ-spouse</td>\n      <td>Exec-managerial</td>\n      <td>Husband</td>\n      <td>White</td>\n      <td>Male</td>\n      <td>0</td>\n      <td>0</td>\n      <td>55</td>\n      <td>United-States</td>\n    </tr>\n    <tr>\n      <th>19179</th>\n      <td>40</td>\n      <td>Private</td>\n      <td>374367</td>\n      <td>Assoc-voc</td>\n      <td>11</td>\n      <td>Separated</td>\n      <td>Sales</td>\n      <td>Not-in-family</td>\n      <td>Black</td>\n      <td>Male</td>\n      <td>0</td>\n      <td>0</td>\n      <td>44</td>\n      <td>United-States</td>\n    </tr>\n    <tr>\n      <th>...</th>\n      <td>...</td>\n      <td>...</td>\n      <td>...</td>\n      <td>...</td>\n      <td>...</td>\n      <td>...</td>\n      <td>...</td>\n      <td>...</td>\n      <td>...</td>\n      <td>...</td>\n      <td>...</td>\n      <td>...</td>\n      <td>...</td>\n      <td>...</td>\n    </tr>\n    <tr>\n      <th>29823</th>\n      <td>31</td>\n      <td>Private</td>\n      <td>112627</td>\n      <td>HS-grad</td>\n      <td>9</td>\n      <td>Married-civ-spouse</td>\n      <td>Transport-moving</td>\n      <td>Husband</td>\n      <td>Amer-Indian-Eskimo</td>\n      <td>Male</td>\n      <td>0</td>\n      <td>0</td>\n      <td>40</td>\n      <td>United-States</td>\n    </tr>\n    <tr>\n      <th>5390</th>\n      <td>51</td>\n      <td>Private</td>\n      <td>146767</td>\n      <td>Assoc-voc</td>\n      <td>11</td>\n      <td>Married-civ-spouse</td>\n      <td>Prof-specialty</td>\n      <td>Husband</td>\n      <td>White</td>\n      <td>Male</td>\n      <td>0</td>\n      <td>0</td>\n      <td>40</td>\n      <td>United-States</td>\n    </tr>\n    <tr>\n      <th>860</th>\n      <td>55</td>\n      <td>Federal-gov</td>\n      <td>238192</td>\n      <td>HS-grad</td>\n      <td>9</td>\n      <td>Married-civ-spouse</td>\n      <td>Tech-support</td>\n      <td>Husband</td>\n      <td>White</td>\n      <td>Male</td>\n      <td>0</td>\n      <td>1887</td>\n      <td>40</td>\n      <td>United-States</td>\n    </tr>\n    <tr>\n      <th>15800</th>\n      <td>23</td>\n      <td>Private</td>\n      <td>233626</td>\n      <td>Bachelors</td>\n      <td>13</td>\n      <td>Never-married</td>\n      <td>Sales</td>\n      <td>Not-in-family</td>\n      <td>White</td>\n      <td>Male</td>\n      <td>0</td>\n      <td>0</td>\n      <td>25</td>\n      <td>United-States</td>\n    </tr>\n    <tr>\n      <th>23667</th>\n      <td>47</td>\n      <td>Self-emp-not-inc</td>\n      <td>171968</td>\n      <td>Bachelors</td>\n      <td>13</td>\n      <td>Widowed</td>\n      <td>Exec-managerial</td>\n      <td>Unmarried</td>\n      <td>Asian-Pac-Islander</td>\n      <td>Female</td>\n      <td>0</td>\n      <td>0</td>\n      <td>60</td>\n      <td>Thailand</td>\n    </tr>\n  </tbody>\n</table>\n<p>22775 rows × 14 columns</p>\n</div>"
     },
     "execution_count": 228,
     "metadata": {},
     "output_type": "execute_result"
    }
   ],
   "source": [
    "X_train"
   ],
   "metadata": {
    "collapsed": false,
    "ExecuteTime": {
     "end_time": "2024-03-19T13:42:53.378878Z",
     "start_time": "2024-03-19T13:42:53.358974Z"
    }
   },
   "id": "deb7a8fac940fbfe",
   "execution_count": 228
  },
  {
   "cell_type": "code",
   "outputs": [
    {
     "data": {
      "text/plain": "       age     workclass  fnlwgt     education  education.num  \\\n3643    53       Private  150980  Some-college             10   \n16041   18       Private  284450          11th              7   \n9403    42       Private  156580  Some-college             10   \n17909   49  Self-emp-inc   94606     Doctorate             16   \n5198    58     Local-gov  205267     Bachelors             13   \n...    ...           ...     ...           ...            ...   \n12138   24     Local-gov  461678          10th              6   \n20526   18       Private  102182          12th              8   \n27628   34       Private  167832          10th              6   \n26456   25       Private  262978  Some-college             10   \n31430   49       Private  543922       HS-grad              9   \n\n           marital.status         occupation   relationship   race     sex  \\\n3643   Married-civ-spouse  Machine-op-inspct        Husband  White    Male   \n16041       Never-married     Prof-specialty      Own-child  White    Male   \n9403   Married-civ-spouse  Machine-op-inspct           Wife  White  Female   \n17909  Married-civ-spouse     Prof-specialty        Husband  Black    Male   \n5198   Married-civ-spouse     Prof-specialty           Wife  White  Female   \n...                   ...                ...            ...    ...     ...   \n12138       Never-married      Other-service  Not-in-family  White    Male   \n20526       Never-married    Priv-house-serv  Not-in-family  White  Female   \n27628  Married-civ-spouse       Craft-repair        Husband  White    Male   \n26456       Never-married              Sales  Not-in-family  White    Male   \n31430  Married-civ-spouse       Craft-repair        Husband  White    Male   \n\n       capital.gain  capital.loss  hours.per.week native.country  \n3643           3137             0              40  United-States  \n16041             0             0              25  United-States  \n9403              0             0              37  United-States  \n17909             0             0              60  United-States  \n5198              0             0              40  United-States  \n...             ...           ...             ...            ...  \n12138             0             0              40  United-States  \n20526             0             0              30  United-States  \n27628             0             0              40  United-States  \n26456             0             0              30  United-States  \n31430             0             0              42  United-States  \n\n[9762 rows x 14 columns]",
      "text/html": "<div>\n<style scoped>\n    .dataframe tbody tr th:only-of-type {\n        vertical-align: middle;\n    }\n\n    .dataframe tbody tr th {\n        vertical-align: top;\n    }\n\n    .dataframe thead th {\n        text-align: right;\n    }\n</style>\n<table border=\"1\" class=\"dataframe\">\n  <thead>\n    <tr style=\"text-align: right;\">\n      <th></th>\n      <th>age</th>\n      <th>workclass</th>\n      <th>fnlwgt</th>\n      <th>education</th>\n      <th>education.num</th>\n      <th>marital.status</th>\n      <th>occupation</th>\n      <th>relationship</th>\n      <th>race</th>\n      <th>sex</th>\n      <th>capital.gain</th>\n      <th>capital.loss</th>\n      <th>hours.per.week</th>\n      <th>native.country</th>\n    </tr>\n  </thead>\n  <tbody>\n    <tr>\n      <th>3643</th>\n      <td>53</td>\n      <td>Private</td>\n      <td>150980</td>\n      <td>Some-college</td>\n      <td>10</td>\n      <td>Married-civ-spouse</td>\n      <td>Machine-op-inspct</td>\n      <td>Husband</td>\n      <td>White</td>\n      <td>Male</td>\n      <td>3137</td>\n      <td>0</td>\n      <td>40</td>\n      <td>United-States</td>\n    </tr>\n    <tr>\n      <th>16041</th>\n      <td>18</td>\n      <td>Private</td>\n      <td>284450</td>\n      <td>11th</td>\n      <td>7</td>\n      <td>Never-married</td>\n      <td>Prof-specialty</td>\n      <td>Own-child</td>\n      <td>White</td>\n      <td>Male</td>\n      <td>0</td>\n      <td>0</td>\n      <td>25</td>\n      <td>United-States</td>\n    </tr>\n    <tr>\n      <th>9403</th>\n      <td>42</td>\n      <td>Private</td>\n      <td>156580</td>\n      <td>Some-college</td>\n      <td>10</td>\n      <td>Married-civ-spouse</td>\n      <td>Machine-op-inspct</td>\n      <td>Wife</td>\n      <td>White</td>\n      <td>Female</td>\n      <td>0</td>\n      <td>0</td>\n      <td>37</td>\n      <td>United-States</td>\n    </tr>\n    <tr>\n      <th>17909</th>\n      <td>49</td>\n      <td>Self-emp-inc</td>\n      <td>94606</td>\n      <td>Doctorate</td>\n      <td>16</td>\n      <td>Married-civ-spouse</td>\n      <td>Prof-specialty</td>\n      <td>Husband</td>\n      <td>Black</td>\n      <td>Male</td>\n      <td>0</td>\n      <td>0</td>\n      <td>60</td>\n      <td>United-States</td>\n    </tr>\n    <tr>\n      <th>5198</th>\n      <td>58</td>\n      <td>Local-gov</td>\n      <td>205267</td>\n      <td>Bachelors</td>\n      <td>13</td>\n      <td>Married-civ-spouse</td>\n      <td>Prof-specialty</td>\n      <td>Wife</td>\n      <td>White</td>\n      <td>Female</td>\n      <td>0</td>\n      <td>0</td>\n      <td>40</td>\n      <td>United-States</td>\n    </tr>\n    <tr>\n      <th>...</th>\n      <td>...</td>\n      <td>...</td>\n      <td>...</td>\n      <td>...</td>\n      <td>...</td>\n      <td>...</td>\n      <td>...</td>\n      <td>...</td>\n      <td>...</td>\n      <td>...</td>\n      <td>...</td>\n      <td>...</td>\n      <td>...</td>\n      <td>...</td>\n    </tr>\n    <tr>\n      <th>12138</th>\n      <td>24</td>\n      <td>Local-gov</td>\n      <td>461678</td>\n      <td>10th</td>\n      <td>6</td>\n      <td>Never-married</td>\n      <td>Other-service</td>\n      <td>Not-in-family</td>\n      <td>White</td>\n      <td>Male</td>\n      <td>0</td>\n      <td>0</td>\n      <td>40</td>\n      <td>United-States</td>\n    </tr>\n    <tr>\n      <th>20526</th>\n      <td>18</td>\n      <td>Private</td>\n      <td>102182</td>\n      <td>12th</td>\n      <td>8</td>\n      <td>Never-married</td>\n      <td>Priv-house-serv</td>\n      <td>Not-in-family</td>\n      <td>White</td>\n      <td>Female</td>\n      <td>0</td>\n      <td>0</td>\n      <td>30</td>\n      <td>United-States</td>\n    </tr>\n    <tr>\n      <th>27628</th>\n      <td>34</td>\n      <td>Private</td>\n      <td>167832</td>\n      <td>10th</td>\n      <td>6</td>\n      <td>Married-civ-spouse</td>\n      <td>Craft-repair</td>\n      <td>Husband</td>\n      <td>White</td>\n      <td>Male</td>\n      <td>0</td>\n      <td>0</td>\n      <td>40</td>\n      <td>United-States</td>\n    </tr>\n    <tr>\n      <th>26456</th>\n      <td>25</td>\n      <td>Private</td>\n      <td>262978</td>\n      <td>Some-college</td>\n      <td>10</td>\n      <td>Never-married</td>\n      <td>Sales</td>\n      <td>Not-in-family</td>\n      <td>White</td>\n      <td>Male</td>\n      <td>0</td>\n      <td>0</td>\n      <td>30</td>\n      <td>United-States</td>\n    </tr>\n    <tr>\n      <th>31430</th>\n      <td>49</td>\n      <td>Private</td>\n      <td>543922</td>\n      <td>HS-grad</td>\n      <td>9</td>\n      <td>Married-civ-spouse</td>\n      <td>Craft-repair</td>\n      <td>Husband</td>\n      <td>White</td>\n      <td>Male</td>\n      <td>0</td>\n      <td>0</td>\n      <td>42</td>\n      <td>United-States</td>\n    </tr>\n  </tbody>\n</table>\n<p>9762 rows × 14 columns</p>\n</div>"
     },
     "execution_count": 229,
     "metadata": {},
     "output_type": "execute_result"
    }
   ],
   "source": [
    "X_test"
   ],
   "metadata": {
    "collapsed": false,
    "ExecuteTime": {
     "end_time": "2024-03-19T13:42:53.441078Z",
     "start_time": "2024-03-19T13:42:53.425021Z"
    }
   },
   "id": "9fb8601649a49736",
   "execution_count": 229
  },
  {
   "cell_type": "code",
   "outputs": [],
   "source": [
    "# Preprocessing\n",
    "categorical = ['workclass', 'education', 'marital.status', 'occupation', 'relationship', 'race', 'sex', 'native.country']\n",
    "\n",
    "for col in categorical:\n",
    "    le = LabelEncoder()\n",
    "    X_train[col] = le.fit_transform(X_train[col])\n",
    "    X_test[col] = le.transform(X_test[col])"
   ],
   "metadata": {
    "collapsed": false,
    "ExecuteTime": {
     "end_time": "2024-03-19T13:42:53.503732Z",
     "start_time": "2024-03-19T13:42:53.459693Z"
    }
   },
   "id": "a21cf4d68e8d03fe",
   "execution_count": 230
  },
  {
   "cell_type": "code",
   "outputs": [
    {
     "data": {
      "text/plain": "       age  workclass  fnlwgt  education  education.num  marital.status  \\\n1216    62          3  109463         15             10               5   \n27958   52          3  312477         11              9               6   \n23074   69          3  168794          5              4               2   \n19677   33          3  199227          9             13               2   \n19179   40          3  374367          8             11               5   \n...    ...        ...     ...        ...            ...             ...   \n29823   31          3  112627         11              9               2   \n5390    51          3  146767          8             11               2   \n860     55          0  238192         11              9               2   \n15800   23          3  233626          9             13               4   \n23667   47          5  171968          9             13               6   \n\n       occupation  relationship  race  sex  capital.gain  capital.loss  \\\n1216           11             4     4    0             0          1617   \n27958          13             1     4    1             0             0   \n23074           9             0     4    1             0             0   \n19677           3             0     4    1             0             0   \n19179          11             1     2    1             0             0   \n...           ...           ...   ...  ...           ...           ...   \n29823          13             0     0    1             0             0   \n5390            9             0     4    1             0             0   \n860            12             0     4    1             0          1887   \n15800          11             1     4    1             0             0   \n23667           3             4     1    0             0             0   \n\n       hours.per.week  native.country  \n1216               33              38  \n27958              40              38  \n23074              48              38  \n19677              55              38  \n19179              44              38  \n...               ...             ...  \n29823              40              38  \n5390               40              38  \n860                40              38  \n15800              25              38  \n23667              60              36  \n\n[22775 rows x 14 columns]",
      "text/html": "<div>\n<style scoped>\n    .dataframe tbody tr th:only-of-type {\n        vertical-align: middle;\n    }\n\n    .dataframe tbody tr th {\n        vertical-align: top;\n    }\n\n    .dataframe thead th {\n        text-align: right;\n    }\n</style>\n<table border=\"1\" class=\"dataframe\">\n  <thead>\n    <tr style=\"text-align: right;\">\n      <th></th>\n      <th>age</th>\n      <th>workclass</th>\n      <th>fnlwgt</th>\n      <th>education</th>\n      <th>education.num</th>\n      <th>marital.status</th>\n      <th>occupation</th>\n      <th>relationship</th>\n      <th>race</th>\n      <th>sex</th>\n      <th>capital.gain</th>\n      <th>capital.loss</th>\n      <th>hours.per.week</th>\n      <th>native.country</th>\n    </tr>\n  </thead>\n  <tbody>\n    <tr>\n      <th>1216</th>\n      <td>62</td>\n      <td>3</td>\n      <td>109463</td>\n      <td>15</td>\n      <td>10</td>\n      <td>5</td>\n      <td>11</td>\n      <td>4</td>\n      <td>4</td>\n      <td>0</td>\n      <td>0</td>\n      <td>1617</td>\n      <td>33</td>\n      <td>38</td>\n    </tr>\n    <tr>\n      <th>27958</th>\n      <td>52</td>\n      <td>3</td>\n      <td>312477</td>\n      <td>11</td>\n      <td>9</td>\n      <td>6</td>\n      <td>13</td>\n      <td>1</td>\n      <td>4</td>\n      <td>1</td>\n      <td>0</td>\n      <td>0</td>\n      <td>40</td>\n      <td>38</td>\n    </tr>\n    <tr>\n      <th>23074</th>\n      <td>69</td>\n      <td>3</td>\n      <td>168794</td>\n      <td>5</td>\n      <td>4</td>\n      <td>2</td>\n      <td>9</td>\n      <td>0</td>\n      <td>4</td>\n      <td>1</td>\n      <td>0</td>\n      <td>0</td>\n      <td>48</td>\n      <td>38</td>\n    </tr>\n    <tr>\n      <th>19677</th>\n      <td>33</td>\n      <td>3</td>\n      <td>199227</td>\n      <td>9</td>\n      <td>13</td>\n      <td>2</td>\n      <td>3</td>\n      <td>0</td>\n      <td>4</td>\n      <td>1</td>\n      <td>0</td>\n      <td>0</td>\n      <td>55</td>\n      <td>38</td>\n    </tr>\n    <tr>\n      <th>19179</th>\n      <td>40</td>\n      <td>3</td>\n      <td>374367</td>\n      <td>8</td>\n      <td>11</td>\n      <td>5</td>\n      <td>11</td>\n      <td>1</td>\n      <td>2</td>\n      <td>1</td>\n      <td>0</td>\n      <td>0</td>\n      <td>44</td>\n      <td>38</td>\n    </tr>\n    <tr>\n      <th>...</th>\n      <td>...</td>\n      <td>...</td>\n      <td>...</td>\n      <td>...</td>\n      <td>...</td>\n      <td>...</td>\n      <td>...</td>\n      <td>...</td>\n      <td>...</td>\n      <td>...</td>\n      <td>...</td>\n      <td>...</td>\n      <td>...</td>\n      <td>...</td>\n    </tr>\n    <tr>\n      <th>29823</th>\n      <td>31</td>\n      <td>3</td>\n      <td>112627</td>\n      <td>11</td>\n      <td>9</td>\n      <td>2</td>\n      <td>13</td>\n      <td>0</td>\n      <td>0</td>\n      <td>1</td>\n      <td>0</td>\n      <td>0</td>\n      <td>40</td>\n      <td>38</td>\n    </tr>\n    <tr>\n      <th>5390</th>\n      <td>51</td>\n      <td>3</td>\n      <td>146767</td>\n      <td>8</td>\n      <td>11</td>\n      <td>2</td>\n      <td>9</td>\n      <td>0</td>\n      <td>4</td>\n      <td>1</td>\n      <td>0</td>\n      <td>0</td>\n      <td>40</td>\n      <td>38</td>\n    </tr>\n    <tr>\n      <th>860</th>\n      <td>55</td>\n      <td>0</td>\n      <td>238192</td>\n      <td>11</td>\n      <td>9</td>\n      <td>2</td>\n      <td>12</td>\n      <td>0</td>\n      <td>4</td>\n      <td>1</td>\n      <td>0</td>\n      <td>1887</td>\n      <td>40</td>\n      <td>38</td>\n    </tr>\n    <tr>\n      <th>15800</th>\n      <td>23</td>\n      <td>3</td>\n      <td>233626</td>\n      <td>9</td>\n      <td>13</td>\n      <td>4</td>\n      <td>11</td>\n      <td>1</td>\n      <td>4</td>\n      <td>1</td>\n      <td>0</td>\n      <td>0</td>\n      <td>25</td>\n      <td>38</td>\n    </tr>\n    <tr>\n      <th>23667</th>\n      <td>47</td>\n      <td>5</td>\n      <td>171968</td>\n      <td>9</td>\n      <td>13</td>\n      <td>6</td>\n      <td>3</td>\n      <td>4</td>\n      <td>1</td>\n      <td>0</td>\n      <td>0</td>\n      <td>0</td>\n      <td>60</td>\n      <td>36</td>\n    </tr>\n  </tbody>\n</table>\n<p>22775 rows × 14 columns</p>\n</div>"
     },
     "execution_count": 231,
     "metadata": {},
     "output_type": "execute_result"
    }
   ],
   "source": [
    "X_train"
   ],
   "metadata": {
    "collapsed": false,
    "ExecuteTime": {
     "end_time": "2024-03-19T13:42:53.535282Z",
     "start_time": "2024-03-19T13:42:53.507713Z"
    }
   },
   "id": "62670f98d9be1c89",
   "execution_count": 231
  },
  {
   "cell_type": "code",
   "outputs": [
    {
     "data": {
      "text/plain": "       age  workclass  fnlwgt  education  education.num  marital.status  \\\n3643    53          3  150980         15             10               2   \n16041   18          3  284450          1              7               4   \n9403    42          3  156580         15             10               2   \n17909   49          4   94606         10             16               2   \n5198    58          1  205267          9             13               2   \n...    ...        ...     ...        ...            ...             ...   \n12138   24          1  461678          0              6               4   \n20526   18          3  102182          2              8               4   \n27628   34          3  167832          0              6               2   \n26456   25          3  262978         15             10               4   \n31430   49          3  543922         11              9               2   \n\n       occupation  relationship  race  sex  capital.gain  capital.loss  \\\n3643            6             0     4    1          3137             0   \n16041           9             3     4    1             0             0   \n9403            6             5     4    0             0             0   \n17909           9             0     2    1             0             0   \n5198            9             5     4    0             0             0   \n...           ...           ...   ...  ...           ...           ...   \n12138           7             1     4    1             0             0   \n20526           8             1     4    0             0             0   \n27628           2             0     4    1             0             0   \n26456          11             1     4    1             0             0   \n31430           2             0     4    1             0             0   \n\n       hours.per.week  native.country  \n3643               40              38  \n16041              25              38  \n9403               37              38  \n17909              60              38  \n5198               40              38  \n...               ...             ...  \n12138              40              38  \n20526              30              38  \n27628              40              38  \n26456              30              38  \n31430              42              38  \n\n[9762 rows x 14 columns]",
      "text/html": "<div>\n<style scoped>\n    .dataframe tbody tr th:only-of-type {\n        vertical-align: middle;\n    }\n\n    .dataframe tbody tr th {\n        vertical-align: top;\n    }\n\n    .dataframe thead th {\n        text-align: right;\n    }\n</style>\n<table border=\"1\" class=\"dataframe\">\n  <thead>\n    <tr style=\"text-align: right;\">\n      <th></th>\n      <th>age</th>\n      <th>workclass</th>\n      <th>fnlwgt</th>\n      <th>education</th>\n      <th>education.num</th>\n      <th>marital.status</th>\n      <th>occupation</th>\n      <th>relationship</th>\n      <th>race</th>\n      <th>sex</th>\n      <th>capital.gain</th>\n      <th>capital.loss</th>\n      <th>hours.per.week</th>\n      <th>native.country</th>\n    </tr>\n  </thead>\n  <tbody>\n    <tr>\n      <th>3643</th>\n      <td>53</td>\n      <td>3</td>\n      <td>150980</td>\n      <td>15</td>\n      <td>10</td>\n      <td>2</td>\n      <td>6</td>\n      <td>0</td>\n      <td>4</td>\n      <td>1</td>\n      <td>3137</td>\n      <td>0</td>\n      <td>40</td>\n      <td>38</td>\n    </tr>\n    <tr>\n      <th>16041</th>\n      <td>18</td>\n      <td>3</td>\n      <td>284450</td>\n      <td>1</td>\n      <td>7</td>\n      <td>4</td>\n      <td>9</td>\n      <td>3</td>\n      <td>4</td>\n      <td>1</td>\n      <td>0</td>\n      <td>0</td>\n      <td>25</td>\n      <td>38</td>\n    </tr>\n    <tr>\n      <th>9403</th>\n      <td>42</td>\n      <td>3</td>\n      <td>156580</td>\n      <td>15</td>\n      <td>10</td>\n      <td>2</td>\n      <td>6</td>\n      <td>5</td>\n      <td>4</td>\n      <td>0</td>\n      <td>0</td>\n      <td>0</td>\n      <td>37</td>\n      <td>38</td>\n    </tr>\n    <tr>\n      <th>17909</th>\n      <td>49</td>\n      <td>4</td>\n      <td>94606</td>\n      <td>10</td>\n      <td>16</td>\n      <td>2</td>\n      <td>9</td>\n      <td>0</td>\n      <td>2</td>\n      <td>1</td>\n      <td>0</td>\n      <td>0</td>\n      <td>60</td>\n      <td>38</td>\n    </tr>\n    <tr>\n      <th>5198</th>\n      <td>58</td>\n      <td>1</td>\n      <td>205267</td>\n      <td>9</td>\n      <td>13</td>\n      <td>2</td>\n      <td>9</td>\n      <td>5</td>\n      <td>4</td>\n      <td>0</td>\n      <td>0</td>\n      <td>0</td>\n      <td>40</td>\n      <td>38</td>\n    </tr>\n    <tr>\n      <th>...</th>\n      <td>...</td>\n      <td>...</td>\n      <td>...</td>\n      <td>...</td>\n      <td>...</td>\n      <td>...</td>\n      <td>...</td>\n      <td>...</td>\n      <td>...</td>\n      <td>...</td>\n      <td>...</td>\n      <td>...</td>\n      <td>...</td>\n      <td>...</td>\n    </tr>\n    <tr>\n      <th>12138</th>\n      <td>24</td>\n      <td>1</td>\n      <td>461678</td>\n      <td>0</td>\n      <td>6</td>\n      <td>4</td>\n      <td>7</td>\n      <td>1</td>\n      <td>4</td>\n      <td>1</td>\n      <td>0</td>\n      <td>0</td>\n      <td>40</td>\n      <td>38</td>\n    </tr>\n    <tr>\n      <th>20526</th>\n      <td>18</td>\n      <td>3</td>\n      <td>102182</td>\n      <td>2</td>\n      <td>8</td>\n      <td>4</td>\n      <td>8</td>\n      <td>1</td>\n      <td>4</td>\n      <td>0</td>\n      <td>0</td>\n      <td>0</td>\n      <td>30</td>\n      <td>38</td>\n    </tr>\n    <tr>\n      <th>27628</th>\n      <td>34</td>\n      <td>3</td>\n      <td>167832</td>\n      <td>0</td>\n      <td>6</td>\n      <td>2</td>\n      <td>2</td>\n      <td>0</td>\n      <td>4</td>\n      <td>1</td>\n      <td>0</td>\n      <td>0</td>\n      <td>40</td>\n      <td>38</td>\n    </tr>\n    <tr>\n      <th>26456</th>\n      <td>25</td>\n      <td>3</td>\n      <td>262978</td>\n      <td>15</td>\n      <td>10</td>\n      <td>4</td>\n      <td>11</td>\n      <td>1</td>\n      <td>4</td>\n      <td>1</td>\n      <td>0</td>\n      <td>0</td>\n      <td>30</td>\n      <td>38</td>\n    </tr>\n    <tr>\n      <th>31430</th>\n      <td>49</td>\n      <td>3</td>\n      <td>543922</td>\n      <td>11</td>\n      <td>9</td>\n      <td>2</td>\n      <td>2</td>\n      <td>0</td>\n      <td>4</td>\n      <td>1</td>\n      <td>0</td>\n      <td>0</td>\n      <td>42</td>\n      <td>38</td>\n    </tr>\n  </tbody>\n</table>\n<p>9762 rows × 14 columns</p>\n</div>"
     },
     "execution_count": 232,
     "metadata": {},
     "output_type": "execute_result"
    }
   ],
   "source": [
    "X_test"
   ],
   "metadata": {
    "collapsed": false,
    "ExecuteTime": {
     "end_time": "2024-03-19T13:42:53.597032Z",
     "start_time": "2024-03-19T13:42:53.575316Z"
    }
   },
   "id": "6b2352638ea04f4b",
   "execution_count": 232
  },
  {
   "cell_type": "code",
   "outputs": [],
   "source": [
    "scaler = StandardScaler()\n",
    "X_train = pd.DataFrame(scaler.fit_transform(X_train), columns=X_train.columns)\n",
    "X_test = pd.DataFrame(scaler.transform(X_test), columns=X_test.columns)"
   ],
   "metadata": {
    "collapsed": false,
    "ExecuteTime": {
     "end_time": "2024-03-19T13:42:53.739576Z",
     "start_time": "2024-03-19T13:42:53.708965Z"
    }
   },
   "id": "ba25c7aea9f78a59",
   "execution_count": 233
  },
  {
   "cell_type": "code",
   "outputs": [
    {
     "data": {
      "text/plain": "            age  workclass    fnlwgt  education  education.num  \\\n0      1.719100  -0.085012 -0.754592   1.215517      -0.034646   \n1      0.984731  -0.085012  1.167816   0.180266      -0.424687   \n2      2.233158  -0.085012 -0.192767  -1.372611      -2.374893   \n3     -0.410569  -0.085012  0.095414  -0.337360       1.135478   \n4      0.103489  -0.085012  1.753873  -0.596173       0.355396   \n...         ...        ...       ...        ...            ...   \n22770 -0.557443  -0.085012 -0.724631   0.180266      -0.424687   \n22771  0.911294  -0.085012 -0.401348  -0.596173       0.355396   \n22772  1.205042  -2.785369  0.464386   0.180266      -0.424687   \n22773 -1.144938  -0.085012  0.421149  -0.337360       1.135478   \n22774  0.617547   1.715226 -0.162711  -0.337360       1.135478   \n\n       marital.status  occupation  relationship      race       sex  \\\n0            1.588320    1.226546      1.579154  0.396785 -1.421322   \n1            2.253149    1.729134     -0.280828  0.396785  0.703570   \n2           -0.406166    0.723958     -0.900822  0.396785  0.703570   \n3           -0.406166   -0.783805     -0.900822  0.396785  0.703570   \n4            1.588320    1.226546     -0.280828 -1.938600  0.703570   \n...               ...         ...           ...       ...       ...   \n22770       -0.406166    1.729134     -0.900822 -4.273985  0.703570   \n22771       -0.406166    0.723958     -0.900822  0.396785  0.703570   \n22772       -0.406166    1.477840     -0.900822  0.396785  0.703570   \n22773        0.923492    1.226546     -0.280828  0.396785  0.703570   \n22774        2.253149   -0.783805      1.579154 -3.106293 -1.421322   \n\n       capital.gain  capital.loss  hours.per.week  native.country  \n0         -0.146525      3.781030       -0.603438        0.259289  \n1         -0.146525     -0.217300       -0.037637        0.259289  \n2         -0.146525     -0.217300        0.608992        0.259289  \n3         -0.146525     -0.217300        1.174793        0.259289  \n4         -0.146525     -0.217300        0.285677        0.259289  \n...             ...           ...             ...             ...  \n22770     -0.146525     -0.217300       -0.037637        0.259289  \n22771     -0.146525     -0.217300       -0.037637        0.259289  \n22772     -0.146525      4.448655       -0.037637        0.259289  \n22773     -0.146525     -0.217300       -1.250067        0.259289  \n22774     -0.146525     -0.217300        1.578936       -0.073958  \n\n[22775 rows x 14 columns]",
      "text/html": "<div>\n<style scoped>\n    .dataframe tbody tr th:only-of-type {\n        vertical-align: middle;\n    }\n\n    .dataframe tbody tr th {\n        vertical-align: top;\n    }\n\n    .dataframe thead th {\n        text-align: right;\n    }\n</style>\n<table border=\"1\" class=\"dataframe\">\n  <thead>\n    <tr style=\"text-align: right;\">\n      <th></th>\n      <th>age</th>\n      <th>workclass</th>\n      <th>fnlwgt</th>\n      <th>education</th>\n      <th>education.num</th>\n      <th>marital.status</th>\n      <th>occupation</th>\n      <th>relationship</th>\n      <th>race</th>\n      <th>sex</th>\n      <th>capital.gain</th>\n      <th>capital.loss</th>\n      <th>hours.per.week</th>\n      <th>native.country</th>\n    </tr>\n  </thead>\n  <tbody>\n    <tr>\n      <th>0</th>\n      <td>1.719100</td>\n      <td>-0.085012</td>\n      <td>-0.754592</td>\n      <td>1.215517</td>\n      <td>-0.034646</td>\n      <td>1.588320</td>\n      <td>1.226546</td>\n      <td>1.579154</td>\n      <td>0.396785</td>\n      <td>-1.421322</td>\n      <td>-0.146525</td>\n      <td>3.781030</td>\n      <td>-0.603438</td>\n      <td>0.259289</td>\n    </tr>\n    <tr>\n      <th>1</th>\n      <td>0.984731</td>\n      <td>-0.085012</td>\n      <td>1.167816</td>\n      <td>0.180266</td>\n      <td>-0.424687</td>\n      <td>2.253149</td>\n      <td>1.729134</td>\n      <td>-0.280828</td>\n      <td>0.396785</td>\n      <td>0.703570</td>\n      <td>-0.146525</td>\n      <td>-0.217300</td>\n      <td>-0.037637</td>\n      <td>0.259289</td>\n    </tr>\n    <tr>\n      <th>2</th>\n      <td>2.233158</td>\n      <td>-0.085012</td>\n      <td>-0.192767</td>\n      <td>-1.372611</td>\n      <td>-2.374893</td>\n      <td>-0.406166</td>\n      <td>0.723958</td>\n      <td>-0.900822</td>\n      <td>0.396785</td>\n      <td>0.703570</td>\n      <td>-0.146525</td>\n      <td>-0.217300</td>\n      <td>0.608992</td>\n      <td>0.259289</td>\n    </tr>\n    <tr>\n      <th>3</th>\n      <td>-0.410569</td>\n      <td>-0.085012</td>\n      <td>0.095414</td>\n      <td>-0.337360</td>\n      <td>1.135478</td>\n      <td>-0.406166</td>\n      <td>-0.783805</td>\n      <td>-0.900822</td>\n      <td>0.396785</td>\n      <td>0.703570</td>\n      <td>-0.146525</td>\n      <td>-0.217300</td>\n      <td>1.174793</td>\n      <td>0.259289</td>\n    </tr>\n    <tr>\n      <th>4</th>\n      <td>0.103489</td>\n      <td>-0.085012</td>\n      <td>1.753873</td>\n      <td>-0.596173</td>\n      <td>0.355396</td>\n      <td>1.588320</td>\n      <td>1.226546</td>\n      <td>-0.280828</td>\n      <td>-1.938600</td>\n      <td>0.703570</td>\n      <td>-0.146525</td>\n      <td>-0.217300</td>\n      <td>0.285677</td>\n      <td>0.259289</td>\n    </tr>\n    <tr>\n      <th>...</th>\n      <td>...</td>\n      <td>...</td>\n      <td>...</td>\n      <td>...</td>\n      <td>...</td>\n      <td>...</td>\n      <td>...</td>\n      <td>...</td>\n      <td>...</td>\n      <td>...</td>\n      <td>...</td>\n      <td>...</td>\n      <td>...</td>\n      <td>...</td>\n    </tr>\n    <tr>\n      <th>22770</th>\n      <td>-0.557443</td>\n      <td>-0.085012</td>\n      <td>-0.724631</td>\n      <td>0.180266</td>\n      <td>-0.424687</td>\n      <td>-0.406166</td>\n      <td>1.729134</td>\n      <td>-0.900822</td>\n      <td>-4.273985</td>\n      <td>0.703570</td>\n      <td>-0.146525</td>\n      <td>-0.217300</td>\n      <td>-0.037637</td>\n      <td>0.259289</td>\n    </tr>\n    <tr>\n      <th>22771</th>\n      <td>0.911294</td>\n      <td>-0.085012</td>\n      <td>-0.401348</td>\n      <td>-0.596173</td>\n      <td>0.355396</td>\n      <td>-0.406166</td>\n      <td>0.723958</td>\n      <td>-0.900822</td>\n      <td>0.396785</td>\n      <td>0.703570</td>\n      <td>-0.146525</td>\n      <td>-0.217300</td>\n      <td>-0.037637</td>\n      <td>0.259289</td>\n    </tr>\n    <tr>\n      <th>22772</th>\n      <td>1.205042</td>\n      <td>-2.785369</td>\n      <td>0.464386</td>\n      <td>0.180266</td>\n      <td>-0.424687</td>\n      <td>-0.406166</td>\n      <td>1.477840</td>\n      <td>-0.900822</td>\n      <td>0.396785</td>\n      <td>0.703570</td>\n      <td>-0.146525</td>\n      <td>4.448655</td>\n      <td>-0.037637</td>\n      <td>0.259289</td>\n    </tr>\n    <tr>\n      <th>22773</th>\n      <td>-1.144938</td>\n      <td>-0.085012</td>\n      <td>0.421149</td>\n      <td>-0.337360</td>\n      <td>1.135478</td>\n      <td>0.923492</td>\n      <td>1.226546</td>\n      <td>-0.280828</td>\n      <td>0.396785</td>\n      <td>0.703570</td>\n      <td>-0.146525</td>\n      <td>-0.217300</td>\n      <td>-1.250067</td>\n      <td>0.259289</td>\n    </tr>\n    <tr>\n      <th>22774</th>\n      <td>0.617547</td>\n      <td>1.715226</td>\n      <td>-0.162711</td>\n      <td>-0.337360</td>\n      <td>1.135478</td>\n      <td>2.253149</td>\n      <td>-0.783805</td>\n      <td>1.579154</td>\n      <td>-3.106293</td>\n      <td>-1.421322</td>\n      <td>-0.146525</td>\n      <td>-0.217300</td>\n      <td>1.578936</td>\n      <td>-0.073958</td>\n    </tr>\n  </tbody>\n</table>\n<p>22775 rows × 14 columns</p>\n</div>"
     },
     "execution_count": 234,
     "metadata": {},
     "output_type": "execute_result"
    }
   ],
   "source": [
    "X_train"
   ],
   "metadata": {
    "collapsed": false,
    "ExecuteTime": {
     "end_time": "2024-03-19T13:42:53.817293Z",
     "start_time": "2024-03-19T13:42:53.797254Z"
    }
   },
   "id": "cc058c7698012206",
   "execution_count": 234
  },
  {
   "cell_type": "code",
   "outputs": [
    {
     "data": {
      "text/plain": "           age  workclass    fnlwgt  education  education.num  marital.status  \\\n0     1.058168  -0.085012 -0.361453   1.215517      -0.034646       -0.406166   \n1    -1.512122  -0.085012  0.902419  -2.407862      -1.204770        0.923492   \n2     0.250362  -0.085012 -0.308425   1.215517      -0.034646       -0.406166   \n3     0.764421   0.815107 -0.895278  -0.078547       2.305602       -0.406166   \n4     1.425352  -1.885250  0.152608  -0.337360       1.135478       -0.406166   \n...        ...        ...       ...        ...            ...             ...   \n9757 -1.071501  -1.885250  2.580651  -2.666675      -1.594811        0.923492   \n9758 -1.512122  -0.085012 -0.823538  -2.149050      -0.814728        0.923492   \n9759 -0.337132  -0.085012 -0.201876  -2.666675      -1.594811       -0.406166   \n9760 -0.998064  -0.085012  0.699093   1.215517      -0.034646        0.923492   \n9761  0.764421  -0.085012  3.359447   0.180266      -0.424687       -0.406166   \n\n      occupation  relationship      race       sex  capital.gain  \\\n0      -0.029924     -0.900822  0.396785  0.703570      0.277836   \n1       0.723958      0.959160  0.396785  0.703570     -0.146525   \n2      -0.029924      2.199148  0.396785 -1.421322     -0.146525   \n3       0.723958     -0.900822 -1.938600  0.703570     -0.146525   \n4       0.723958      2.199148  0.396785 -1.421322     -0.146525   \n...          ...           ...       ...       ...           ...   \n9757    0.221370     -0.280828  0.396785  0.703570     -0.146525   \n9758    0.472664     -0.280828  0.396785 -1.421322     -0.146525   \n9759   -1.035099     -0.900822  0.396785  0.703570     -0.146525   \n9760    1.226546     -0.280828  0.396785  0.703570     -0.146525   \n9761   -1.035099     -0.900822  0.396785  0.703570     -0.146525   \n\n      capital.loss  hours.per.week  native.country  \n0          -0.2173       -0.037637        0.259289  \n1          -0.2173       -1.250067        0.259289  \n2          -0.2173       -0.280123        0.259289  \n3          -0.2173        1.578936        0.259289  \n4          -0.2173       -0.037637        0.259289  \n...            ...             ...             ...  \n9757       -0.2173       -0.037637        0.259289  \n9758       -0.2173       -0.845924        0.259289  \n9759       -0.2173       -0.037637        0.259289  \n9760       -0.2173       -0.845924        0.259289  \n9761       -0.2173        0.124020        0.259289  \n\n[9762 rows x 14 columns]",
      "text/html": "<div>\n<style scoped>\n    .dataframe tbody tr th:only-of-type {\n        vertical-align: middle;\n    }\n\n    .dataframe tbody tr th {\n        vertical-align: top;\n    }\n\n    .dataframe thead th {\n        text-align: right;\n    }\n</style>\n<table border=\"1\" class=\"dataframe\">\n  <thead>\n    <tr style=\"text-align: right;\">\n      <th></th>\n      <th>age</th>\n      <th>workclass</th>\n      <th>fnlwgt</th>\n      <th>education</th>\n      <th>education.num</th>\n      <th>marital.status</th>\n      <th>occupation</th>\n      <th>relationship</th>\n      <th>race</th>\n      <th>sex</th>\n      <th>capital.gain</th>\n      <th>capital.loss</th>\n      <th>hours.per.week</th>\n      <th>native.country</th>\n    </tr>\n  </thead>\n  <tbody>\n    <tr>\n      <th>0</th>\n      <td>1.058168</td>\n      <td>-0.085012</td>\n      <td>-0.361453</td>\n      <td>1.215517</td>\n      <td>-0.034646</td>\n      <td>-0.406166</td>\n      <td>-0.029924</td>\n      <td>-0.900822</td>\n      <td>0.396785</td>\n      <td>0.703570</td>\n      <td>0.277836</td>\n      <td>-0.2173</td>\n      <td>-0.037637</td>\n      <td>0.259289</td>\n    </tr>\n    <tr>\n      <th>1</th>\n      <td>-1.512122</td>\n      <td>-0.085012</td>\n      <td>0.902419</td>\n      <td>-2.407862</td>\n      <td>-1.204770</td>\n      <td>0.923492</td>\n      <td>0.723958</td>\n      <td>0.959160</td>\n      <td>0.396785</td>\n      <td>0.703570</td>\n      <td>-0.146525</td>\n      <td>-0.2173</td>\n      <td>-1.250067</td>\n      <td>0.259289</td>\n    </tr>\n    <tr>\n      <th>2</th>\n      <td>0.250362</td>\n      <td>-0.085012</td>\n      <td>-0.308425</td>\n      <td>1.215517</td>\n      <td>-0.034646</td>\n      <td>-0.406166</td>\n      <td>-0.029924</td>\n      <td>2.199148</td>\n      <td>0.396785</td>\n      <td>-1.421322</td>\n      <td>-0.146525</td>\n      <td>-0.2173</td>\n      <td>-0.280123</td>\n      <td>0.259289</td>\n    </tr>\n    <tr>\n      <th>3</th>\n      <td>0.764421</td>\n      <td>0.815107</td>\n      <td>-0.895278</td>\n      <td>-0.078547</td>\n      <td>2.305602</td>\n      <td>-0.406166</td>\n      <td>0.723958</td>\n      <td>-0.900822</td>\n      <td>-1.938600</td>\n      <td>0.703570</td>\n      <td>-0.146525</td>\n      <td>-0.2173</td>\n      <td>1.578936</td>\n      <td>0.259289</td>\n    </tr>\n    <tr>\n      <th>4</th>\n      <td>1.425352</td>\n      <td>-1.885250</td>\n      <td>0.152608</td>\n      <td>-0.337360</td>\n      <td>1.135478</td>\n      <td>-0.406166</td>\n      <td>0.723958</td>\n      <td>2.199148</td>\n      <td>0.396785</td>\n      <td>-1.421322</td>\n      <td>-0.146525</td>\n      <td>-0.2173</td>\n      <td>-0.037637</td>\n      <td>0.259289</td>\n    </tr>\n    <tr>\n      <th>...</th>\n      <td>...</td>\n      <td>...</td>\n      <td>...</td>\n      <td>...</td>\n      <td>...</td>\n      <td>...</td>\n      <td>...</td>\n      <td>...</td>\n      <td>...</td>\n      <td>...</td>\n      <td>...</td>\n      <td>...</td>\n      <td>...</td>\n      <td>...</td>\n    </tr>\n    <tr>\n      <th>9757</th>\n      <td>-1.071501</td>\n      <td>-1.885250</td>\n      <td>2.580651</td>\n      <td>-2.666675</td>\n      <td>-1.594811</td>\n      <td>0.923492</td>\n      <td>0.221370</td>\n      <td>-0.280828</td>\n      <td>0.396785</td>\n      <td>0.703570</td>\n      <td>-0.146525</td>\n      <td>-0.2173</td>\n      <td>-0.037637</td>\n      <td>0.259289</td>\n    </tr>\n    <tr>\n      <th>9758</th>\n      <td>-1.512122</td>\n      <td>-0.085012</td>\n      <td>-0.823538</td>\n      <td>-2.149050</td>\n      <td>-0.814728</td>\n      <td>0.923492</td>\n      <td>0.472664</td>\n      <td>-0.280828</td>\n      <td>0.396785</td>\n      <td>-1.421322</td>\n      <td>-0.146525</td>\n      <td>-0.2173</td>\n      <td>-0.845924</td>\n      <td>0.259289</td>\n    </tr>\n    <tr>\n      <th>9759</th>\n      <td>-0.337132</td>\n      <td>-0.085012</td>\n      <td>-0.201876</td>\n      <td>-2.666675</td>\n      <td>-1.594811</td>\n      <td>-0.406166</td>\n      <td>-1.035099</td>\n      <td>-0.900822</td>\n      <td>0.396785</td>\n      <td>0.703570</td>\n      <td>-0.146525</td>\n      <td>-0.2173</td>\n      <td>-0.037637</td>\n      <td>0.259289</td>\n    </tr>\n    <tr>\n      <th>9760</th>\n      <td>-0.998064</td>\n      <td>-0.085012</td>\n      <td>0.699093</td>\n      <td>1.215517</td>\n      <td>-0.034646</td>\n      <td>0.923492</td>\n      <td>1.226546</td>\n      <td>-0.280828</td>\n      <td>0.396785</td>\n      <td>0.703570</td>\n      <td>-0.146525</td>\n      <td>-0.2173</td>\n      <td>-0.845924</td>\n      <td>0.259289</td>\n    </tr>\n    <tr>\n      <th>9761</th>\n      <td>0.764421</td>\n      <td>-0.085012</td>\n      <td>3.359447</td>\n      <td>0.180266</td>\n      <td>-0.424687</td>\n      <td>-0.406166</td>\n      <td>-1.035099</td>\n      <td>-0.900822</td>\n      <td>0.396785</td>\n      <td>0.703570</td>\n      <td>-0.146525</td>\n      <td>-0.2173</td>\n      <td>0.124020</td>\n      <td>0.259289</td>\n    </tr>\n  </tbody>\n</table>\n<p>9762 rows × 14 columns</p>\n</div>"
     },
     "execution_count": 235,
     "metadata": {},
     "output_type": "execute_result"
    }
   ],
   "source": [
    "X_test"
   ],
   "metadata": {
    "collapsed": false,
    "ExecuteTime": {
     "end_time": "2024-03-19T13:42:53.896002Z",
     "start_time": "2024-03-19T13:42:53.867862Z"
    }
   },
   "id": "4f10819294a77569",
   "execution_count": 235
  },
  {
   "cell_type": "code",
   "outputs": [
    {
     "name": "stdout",
     "output_type": "stream",
     "text": [
      "Accuracy: 0.8597623437820119\n"
     ]
    }
   ],
   "source": [
    "rf = RandomForestClassifier(n_estimators=100, random_state=42)\n",
    "rf.fit(X_train, y_train)\n",
    "y_pred = rf.predict(X_test)\n",
    "\n",
    "print(f'Accuracy: {accuracy_score(y_test, y_pred)}')"
   ],
   "metadata": {
    "collapsed": false,
    "ExecuteTime": {
     "end_time": "2024-03-19T13:42:57.719697Z",
     "start_time": "2024-03-19T13:42:53.967854Z"
    }
   },
   "id": "e0a4a4cef97eabe2",
   "execution_count": 236
  },
  {
   "cell_type": "code",
   "outputs": [
    {
     "data": {
      "text/plain": "array([0.1476186 , 0.10142834, 0.08042233, 0.07958796, 0.07456397,\n       0.0733667 , 0.07070457, 0.06752334, 0.06474505, 0.06094819,\n       0.05979889, 0.04926225, 0.04280906, 0.02722075])"
     },
     "execution_count": 237,
     "metadata": {},
     "output_type": "execute_result"
    }
   ],
   "source": [
    "# PCA\n",
    "pca = PCA(n_components=None)\n",
    "X_train = pca.fit_transform(X_train)\n",
    "pca.explained_variance_ratio_"
   ],
   "metadata": {
    "collapsed": false,
    "ExecuteTime": {
     "end_time": "2024-03-19T13:42:57.735224Z",
     "start_time": "2024-03-19T13:42:57.721702Z"
    }
   },
   "id": "2e34b114b3d1200a",
   "execution_count": 237
  },
  {
   "cell_type": "code",
   "outputs": [
    {
     "data": {
      "text/plain": "<Figure size 2000x700 with 1 Axes>",
      "image/png": "[encoded data removed]"
     },
     "metadata": {},
     "output_type": "display_data"
    }
   ],
   "source": [
    "plt.figure(figsize=(20, 7))\n",
    "plt.bar(range(1, len(pca.explained_variance_ratio_)+1), pca.explained_variance_ratio_, label='Explained Variance Ratio')\n",
    "plt.xlabel('Principal Components')\n",
    "plt.ylabel('Variance ratio')\n",
    "plt.title('Explained variance ratio of each Principal Component')\n",
    "plt.show()"
   ],
   "metadata": {
    "collapsed": false,
    "ExecuteTime": {
     "end_time": "2024-03-19T13:42:58.016954Z",
     "start_time": "2024-03-19T13:42:57.737226Z"
    }
   },
   "id": "1054631641c80419",
   "execution_count": 238
  },
  {
   "cell_type": "code",
   "outputs": [
    {
     "data": {
      "text/plain": "1.0000000000000002"
     },
     "execution_count": 239,
     "metadata": {},
     "output_type": "execute_result"
    }
   ],
   "source": [
    "pca.explained_variance_ratio_.sum()"
   ],
   "metadata": {
    "collapsed": false,
    "ExecuteTime": {
     "end_time": "2024-03-19T13:42:58.032830Z",
     "start_time": "2024-03-19T13:42:58.018956Z"
    }
   },
   "id": "f035e568563c6738",
   "execution_count": 239
  },
  {
   "cell_type": "code",
   "outputs": [],
   "source": [
    "feature_names = data.drop('income', axis=1).columns.tolist()\n",
    "mdi_importances = pd.Series(rf.feature_importances_, index=feature_names).sort_values(ascending=True)"
   ],
   "metadata": {
    "collapsed": false,
    "ExecuteTime": {
     "end_time": "2024-03-19T13:42:58.064558Z",
     "start_time": "2024-03-19T13:42:58.033828Z"
    }
   },
   "id": "22d54d7c35cb63b",
   "execution_count": 240
  },
  {
   "cell_type": "code",
   "outputs": [
    {
     "data": {
      "text/plain": "<Figure size 800x550 with 1 Axes>",
      "image/png": "[encoded data removed]"
     },
     "metadata": {},
     "output_type": "display_data"
    }
   ],
   "source": [
    "ax = mdi_importances.plot.barh()\n",
    "ax.set_title('Random Forest Feature Importances (MDI)')\n",
    "ax.figure.tight_layout()"
   ],
   "metadata": {
    "collapsed": false,
    "ExecuteTime": {
     "end_time": "2024-03-19T13:42:58.378789Z",
     "start_time": "2024-03-19T13:42:58.065544Z"
    }
   },
   "id": "c76f601b578cf6d3",
   "execution_count": 241
  },
  {
   "cell_type": "markdown",
   "source": [
    "with 13 features"
   ],
   "metadata": {
    "collapsed": false
   },
   "id": "302e29c8c3d7c98f"
  },
  {
   "cell_type": "code",
   "outputs": [],
   "source": [
    "X = data.drop(['race', 'income'], axis=1)\n",
    "y = data['income']\n",
    "\n",
    "X_train, X_test, y_train, y_test = train_test_split(X, y, test_size=0.3, random_state=42)"
   ],
   "metadata": {
    "collapsed": false,
    "ExecuteTime": {
     "end_time": "2024-03-19T13:42:58.409923Z",
     "start_time": "2024-03-19T13:42:58.380293Z"
    }
   },
   "id": "52c27a48ff9a353b",
   "execution_count": 242
  },
  {
   "cell_type": "code",
   "outputs": [],
   "source": [
    "categorical = ['workclass', 'education', 'marital.status', 'occupation', 'relationship', 'sex', 'native.country']\n",
    "\n",
    "for col in categorical:\n",
    "    le = LabelEncoder()\n",
    "    X_train[col] = le.fit_transform(X_train[col])\n",
    "    X_test[col] = le.transform(X_test[col])"
   ],
   "metadata": {
    "collapsed": false,
    "ExecuteTime": {
     "end_time": "2024-03-19T13:42:58.457162Z",
     "start_time": "2024-03-19T13:42:58.411070Z"
    }
   },
   "id": "57e70b4209d0a0a0",
   "execution_count": 243
  },
  {
   "cell_type": "code",
   "outputs": [],
   "source": [
    "scaler = StandardScaler()\n",
    "X_train = pd.DataFrame(scaler.fit_transform(X_train), columns=X_train.columns)\n",
    "X_test = pd.DataFrame(scaler.transform(X_test), columns=X_test.columns)"
   ],
   "metadata": {
    "collapsed": false,
    "ExecuteTime": {
     "end_time": "2024-03-19T13:42:58.488813Z",
     "start_time": "2024-03-19T13:42:58.458162Z"
    }
   },
   "id": "8753abbdad9a381d",
   "execution_count": 244
  },
  {
   "cell_type": "code",
   "outputs": [
    {
     "name": "stdout",
     "output_type": "stream",
     "text": [
      "Accuracy: 0.8557672608072117\n"
     ]
    }
   ],
   "source": [
    "rf = RandomForestClassifier(n_estimators=100, random_state=42)\n",
    "rf.fit(X_train, y_train)\n",
    "y_pred = rf.predict(X_test)\n",
    "\n",
    "print(f'Accuracy: {accuracy_score(y_test, y_pred)}')"
   ],
   "metadata": {
    "collapsed": false,
    "ExecuteTime": {
     "end_time": "2024-03-19T13:43:01.963820Z",
     "start_time": "2024-03-19T13:42:58.492310Z"
    }
   },
   "id": "112aeb4617ea1791",
   "execution_count": 245
  },
  {
   "cell_type": "markdown",
   "source": [
    "with 12 features"
   ],
   "metadata": {
    "collapsed": false
   },
   "id": "481b3ff5aec49c68"
  },
  {
   "cell_type": "code",
   "outputs": [],
   "source": [
    "X = data.drop(['income', 'race', 'sex'], axis=1)\n",
    "y = data['income']\n",
    "\n",
    "X_train, X_test, y_train, y_test = train_test_split(X, y, test_size=0.3, random_state=42)"
   ],
   "metadata": {
    "collapsed": false,
    "ExecuteTime": {
     "end_time": "2024-03-19T13:43:01.979862Z",
     "start_time": "2024-03-19T13:43:01.965821Z"
    }
   },
   "id": "23886b3930828dc4",
   "execution_count": 246
  },
  {
   "cell_type": "code",
   "outputs": [],
   "source": [
    "categorical = ['workclass', 'education', 'marital.status', 'occupation', 'relationship', 'native.country']\n",
    "\n",
    "for col in categorical:\n",
    "    le = LabelEncoder()\n",
    "    X_train[col] = le.fit_transform(X_train[col])\n",
    "    X_test[col] = le.transform(X_test[col])"
   ],
   "metadata": {
    "collapsed": false,
    "ExecuteTime": {
     "end_time": "2024-03-19T13:43:02.010066Z",
     "start_time": "2024-03-19T13:43:01.981379Z"
    }
   },
   "id": "a25f94060a8accf0",
   "execution_count": 247
  },
  {
   "cell_type": "code",
   "outputs": [],
   "source": [
    "scaler = StandardScaler()\n",
    "X_train = pd.DataFrame(scaler.fit_transform(X_train), columns=X_train.columns)\n",
    "X_test = pd.DataFrame(scaler.transform(X_test), columns=X_test.columns)"
   ],
   "metadata": {
    "collapsed": false,
    "ExecuteTime": {
     "end_time": "2024-03-19T13:43:02.041355Z",
     "start_time": "2024-03-19T13:43:02.011269Z"
    }
   },
   "id": "3f22f1e7b1f7bd9",
   "execution_count": 248
  },
  {
   "cell_type": "code",
   "outputs": [
    {
     "name": "stdout",
     "output_type": "stream",
     "text": [
      "Accuracy: 0.8575087072321246\n"
     ]
    }
   ],
   "source": [
    "rf = RandomForestClassifier(n_estimators=100, random_state=42)\n",
    "rf.fit(X_train, y_train)\n",
    "y_pred = rf.predict(X_test)\n",
    "\n",
    "print(f'Accuracy: {accuracy_score(y_test, y_pred)}')"
   ],
   "metadata": {
    "collapsed": false,
    "ExecuteTime": {
     "end_time": "2024-03-19T13:43:05.749011Z",
     "start_time": "2024-03-19T13:43:02.043360Z"
    }
   },
   "id": "edf4cbf4e496e684",
   "execution_count": 249
  },
  {
   "cell_type": "markdown",
   "source": [
    "with 11 features"
   ],
   "metadata": {
    "collapsed": false
   },
   "id": "8ce4341a33ce873a"
  },
  {
   "cell_type": "code",
   "outputs": [],
   "source": [
    "X = data.drop(['income', 'race', 'sex', 'native.country'], axis=1)\n",
    "y = data['income']\n",
    "\n",
    "X_train, X_test, y_train, y_test = train_test_split(X, y, test_size=0.3, random_state=42)"
   ],
   "metadata": {
    "collapsed": false,
    "ExecuteTime": {
     "end_time": "2024-03-19T13:43:05.764625Z",
     "start_time": "2024-03-19T13:43:05.749985Z"
    }
   },
   "id": "3421a04560466951",
   "execution_count": 250
  },
  {
   "cell_type": "code",
   "outputs": [],
   "source": [
    "categorical = ['workclass', 'education', 'marital.status', 'occupation', 'relationship']\n",
    "\n",
    "for col in categorical:\n",
    "    le = LabelEncoder()\n",
    "    X_train[col] = le.fit_transform(X_train[col])\n",
    "    X_test[col] = le.transform(X_test[col])"
   ],
   "metadata": {
    "collapsed": false,
    "ExecuteTime": {
     "end_time": "2024-03-19T13:43:05.796149Z",
     "start_time": "2024-03-19T13:43:05.765624Z"
    }
   },
   "id": "db4fbcb2714aba3e",
   "execution_count": 251
  },
  {
   "cell_type": "code",
   "outputs": [],
   "source": [
    "scaler = StandardScaler()\n",
    "X_train = pd.DataFrame(scaler.fit_transform(X_train), columns=X_train.columns)\n",
    "X_test = pd.DataFrame(scaler.transform(X_test), columns=X_test.columns)\n"
   ],
   "metadata": {
    "collapsed": false,
    "ExecuteTime": {
     "end_time": "2024-03-19T13:43:05.827730Z",
     "start_time": "2024-03-19T13:43:05.798132Z"
    }
   },
   "id": "3f0cd335f5686f02",
   "execution_count": 252
  },
  {
   "cell_type": "code",
   "outputs": [
    {
     "name": "stdout",
     "output_type": "stream",
     "text": [
      "Accuracy: 0.8563818889571809\n"
     ]
    }
   ],
   "source": [
    "rf = RandomForestClassifier(n_estimators=100, random_state=42)\n",
    "rf.fit(X_train, y_train)\n",
    "y_pred = rf.predict(X_test)\n",
    "\n",
    "print(f'Accuracy: {accuracy_score(y_test, y_pred)}')"
   ],
   "metadata": {
    "collapsed": false,
    "ExecuteTime": {
     "end_time": "2024-03-19T13:43:09.446450Z",
     "start_time": "2024-03-19T13:43:05.829730Z"
    }
   },
   "id": "5c81e131316cf8aa",
   "execution_count": 253
  },
  {
   "cell_type": "markdown",
   "source": [
    "with 10 features"
   ],
   "metadata": {
    "collapsed": false
   },
   "id": "88ff1e1728e3d707"
  },
  {
   "cell_type": "code",
   "outputs": [],
   "source": [
    "X = data.drop(['income', 'race', 'sex', 'native.country', 'education'], axis=1)\n",
    "y = data['income']\n",
    "\n",
    "X_train, X_test, y_train, y_test = train_test_split(X, y, test_size=0.3, random_state=42)"
   ],
   "metadata": {
    "collapsed": false,
    "ExecuteTime": {
     "end_time": "2024-03-19T14:04:09.326088Z",
     "start_time": "2024-03-19T14:04:09.312550Z"
    }
   },
   "id": "a2731c76867661f6",
   "execution_count": 266
  },
  {
   "cell_type": "code",
   "outputs": [],
   "source": [
    "categorical = ['workclass', 'marital.status', 'occupation', 'relationship']\n",
    "\n",
    "for col in categorical:\n",
    "    le = LabelEncoder()\n",
    "    X_train[col] = le.fit_transform(X_train[col])\n",
    "    X_test[col] = le.transform(X_test[col])"
   ],
   "metadata": {
    "collapsed": false,
    "ExecuteTime": {
     "end_time": "2024-03-19T14:04:09.700484Z",
     "start_time": "2024-03-19T14:04:09.664349Z"
    }
   },
   "id": "b650ccf57750dcb0",
   "execution_count": 267
  },
  {
   "cell_type": "code",
   "outputs": [],
   "source": [
    "scaler = StandardScaler()\n",
    "X_train = pd.DataFrame(scaler.fit_transform(X_train), columns=X_train.columns)\n",
    "X_test = pd.DataFrame(scaler.transform(X_test), columns=X_test.columns)\n"
   ],
   "metadata": {
    "collapsed": false,
    "ExecuteTime": {
     "end_time": "2024-03-19T14:04:10.247711Z",
     "start_time": "2024-03-19T14:04:10.223114Z"
    }
   },
   "id": "93bef37efb16eb0",
   "execution_count": 268
  },
  {
   "cell_type": "code",
   "outputs": [
    {
     "name": "stdout",
     "output_type": "stream",
     "text": [
      "              precision    recall  f1-score   support\n",
      "\n",
      "       <=50K       0.89      0.93      0.91      7456\n",
      "        >50K       0.74      0.63      0.68      2306\n",
      "\n",
      "    accuracy                           0.86      9762\n",
      "   macro avg       0.81      0.78      0.80      9762\n",
      "weighted avg       0.85      0.86      0.86      9762\n"
     ]
    }
   ],
   "source": [
    "print(classification_report(y_test, y_pred))"
   ],
   "metadata": {
    "collapsed": false,
    "ExecuteTime": {
     "end_time": "2024-03-19T14:04:36.672231Z",
     "start_time": "2024-03-19T14:04:36.451186Z"
    }
   },
   "id": "5b66c055c3fcbe72",
   "execution_count": 270
  },
  {
   "cell_type": "code",
   "outputs": [
    {
     "name": "stdout",
     "output_type": "stream",
     "text": [
      "Accuracy: 0.859659905757017\n"
     ]
    }
   ],
   "source": [
    "rf = RandomForestClassifier(n_estimators=100, random_state=42)\n",
    "rf.fit(X_train, y_train)\n",
    "y_pred = rf.predict(X_test)\n",
    "\n",
    "print(f'Accuracy: {accuracy_score(y_test, y_pred)}')"
   ],
   "metadata": {
    "collapsed": false,
    "ExecuteTime": {
     "end_time": "2024-03-19T14:04:14.684183Z",
     "start_time": "2024-03-19T14:04:10.761942Z"
    }
   },
   "id": "d5d06a1d6c7257db",
   "execution_count": 269
  },
  {
   "cell_type": "markdown",
   "source": [
    "with 9 features"
   ],
   "metadata": {
    "collapsed": false
   },
   "id": "ff8b1cb490db4c2b"
  },
  {
   "cell_type": "code",
   "outputs": [],
   "source": [
    "X = data.drop(['income', 'race', 'sex', 'native.country', 'education', 'capital.loss'], axis=1)\n",
    "y = data['income']\n",
    "\n",
    "X_train, X_test, y_train, y_test = train_test_split(X, y, test_size=0.3, random_state=42)"
   ],
   "metadata": {
    "collapsed": false,
    "ExecuteTime": {
     "end_time": "2024-03-19T13:43:13.399721Z",
     "start_time": "2024-03-19T13:43:13.385184Z"
    }
   },
   "id": "4ce2aca396eef1f",
   "execution_count": 258
  },
  {
   "cell_type": "code",
   "outputs": [],
   "source": [
    "categorical = ['workclass', 'marital.status', 'occupation', 'relationship']\n",
    "\n",
    "for col in categorical:\n",
    "    le = LabelEncoder()\n",
    "    X_train[col] = le.fit_transform(X_train[col])\n",
    "    X_test[col] = le.transform(X_test[col])"
   ],
   "metadata": {
    "collapsed": false,
    "ExecuteTime": {
     "end_time": "2024-03-19T13:43:13.431436Z",
     "start_time": "2024-03-19T13:43:13.401878Z"
    }
   },
   "id": "6cde1e9cb0cb12a0",
   "execution_count": 259
  },
  {
   "cell_type": "code",
   "outputs": [],
   "source": [
    "scaler = StandardScaler()\n",
    "X_train = pd.DataFrame(scaler.fit_transform(X_train), columns=X_train.columns)\n",
    "X_test = pd.DataFrame(scaler.transform(X_test), columns=X_test.columns)"
   ],
   "metadata": {
    "collapsed": false,
    "ExecuteTime": {
     "end_time": "2024-03-19T13:43:13.446979Z",
     "start_time": "2024-03-19T13:43:13.432437Z"
    }
   },
   "id": "d212a1986b86023b",
   "execution_count": 260
  },
  {
   "cell_type": "code",
   "outputs": [
    {
     "name": "stdout",
     "output_type": "stream",
     "text": [
      "Accuracy: 0.8491087891825445\n"
     ]
    }
   ],
   "source": [
    "rf = RandomForestClassifier(n_estimators=100, random_state=42)\n",
    "rf.fit(X_train, y_train)\n",
    "y_pred = rf.predict(X_test)\n",
    "\n",
    "print(f'Accuracy: {accuracy_score(y_test, y_pred)}')"
   ],
   "metadata": {
    "collapsed": false,
    "ExecuteTime": {
     "end_time": "2024-03-19T13:43:17.367727Z",
     "start_time": "2024-03-19T13:43:13.447960Z"
    }
   },
   "id": "8371d5d2a896557c",
   "execution_count": 261
  },
  {
   "cell_type": "markdown",
   "source": [
    "with 8 features"
   ],
   "metadata": {
    "collapsed": false
   },
   "id": "20dad26bdc8b6048"
  },
  {
   "cell_type": "code",
   "outputs": [],
   "source": [
    "X = data.drop(['income', 'race', 'sex', 'native.country', 'education', 'capital.loss', 'workclass'], axis=1)\n",
    "y = data['income']\n",
    "\n",
    "X_train, X_test, y_train, y_test = train_test_split(X, y, test_size=0.3, random_state=42)"
   ],
   "metadata": {
    "collapsed": false,
    "ExecuteTime": {
     "end_time": "2024-03-19T13:43:17.382871Z",
     "start_time": "2024-03-19T13:43:17.368639Z"
    }
   },
   "id": "42310dbc3a482417",
   "execution_count": 262
  },
  {
   "cell_type": "code",
   "outputs": [],
   "source": [
    "categorical = ['marital.status', 'occupation', 'relationship']\n",
    "\n",
    "for col in categorical:\n",
    "    le = LabelEncoder()\n",
    "    X_train[col] = le.fit_transform(X_train[col])\n",
    "    X_test[col] = le.transform(X_test[col])"
   ],
   "metadata": {
    "collapsed": false,
    "ExecuteTime": {
     "end_time": "2024-03-19T13:43:17.413974Z",
     "start_time": "2024-03-19T13:43:17.385846Z"
    }
   },
   "id": "ede89f448788af9",
   "execution_count": 263
  },
  {
   "cell_type": "code",
   "outputs": [],
   "source": [
    "scaler = StandardScaler()\n",
    "X_train = pd.DataFrame(scaler.fit_transform(X_train), columns=X_train.columns)\n",
    "X_test = pd.DataFrame(scaler.transform(X_test), columns=X_test.columns)"
   ],
   "metadata": {
    "collapsed": false,
    "ExecuteTime": {
     "end_time": "2024-03-19T13:43:17.430098Z",
     "start_time": "2024-03-19T13:43:17.414979Z"
    }
   },
   "id": "cea6b2de42e817f6",
   "execution_count": 264
  },
  {
   "cell_type": "code",
   "outputs": [
    {
     "name": "stdout",
     "output_type": "stream",
     "text": [
      "Accuracy: 0.8450112681827494\n"
     ]
    }
   ],
   "source": [
    "rf = RandomForestClassifier(n_estimators=100, random_state=42)\n",
    "rf.fit(X_train, y_train)\n",
    "y_pred = rf.predict(X_test)\n",
    "\n",
    "print(f'Accuracy: {accuracy_score(y_test, y_pred)}')"
   ],
   "metadata": {
    "collapsed": false,
    "ExecuteTime": {
     "end_time": "2024-03-19T13:43:20.706732Z",
     "start_time": "2024-03-19T13:43:17.432038Z"
    }
   },
   "id": "39227945c85a5a5a",
   "execution_count": 265
  },
  {
   "cell_type": "code",
   "outputs": [],
   "source": [],
   "metadata": {
    "collapsed": false,
    "ExecuteTime": {
     "end_time": "2024-03-19T13:43:20.722744Z",
     "start_time": "2024-03-19T13:43:20.708652Z"
    }
   },
   "id": "77ce0f7ede1a5450",
   "execution_count": 265
  }
 ],
 "metadata": {
  "kernelspec": {
   "display_name": "Python 3",
   "language": "python",
   "name": "python3"
  },
  "language_info": {
   "codemirror_mode": {
    "name": "ipython",
    "version": 2
   },
   "file_extension": ".py",
   "mimetype": "text/x-python",
   "name": "python",
   "nbconvert_exporter": "python",
   "pygments_lexer": "ipython2",
   "version": "2.7.6"
  }
 },
 "nbformat": 4,
 "nbformat_minor": 5
}
