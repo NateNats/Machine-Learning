{
 "cells": [
  {
   "cell_type": "code",
   "execution_count": 30,
   "id": "initial_id",
   "metadata": {
    "collapsed": true,
    "ExecuteTime": {
     "end_time": "2024-03-23T06:57:17.082762Z",
     "start_time": "2024-03-23T06:57:17.063700Z"
    }
   },
   "outputs": [],
   "source": [
    "import pandas as pd\n",
    "import numpy as np\n",
    "import seaborn as sns\n",
    "import matplotlib.pyplot as plt\n",
    "from sklearn.discriminant_analysis import LinearDiscriminantAnalysis as lda\n",
    "from sklearn.preprocessing import LabelEncoder\n",
    "from sklearn.model_selection import GridSearchCV, RepeatedStratifiedKFold"
   ]
  },
  {
   "cell_type": "code",
   "outputs": [
    {
     "data": {
      "text/plain": "                              status_id status_type status_published  \\\n0      246675545449582_1649696485147474       video   4/22/2018 6:00   \n1      246675545449582_1649426988507757       photo  4/21/2018 22:45   \n2      246675545449582_1648730588577397       video   4/21/2018 6:17   \n3      246675545449582_1648576705259452       photo   4/21/2018 2:29   \n4      246675545449582_1645700502213739       photo   4/18/2018 3:22   \n...                                 ...         ...              ...   \n7045  1050855161656896_1061863470556065       photo   9/24/2016 2:58   \n7046  1050855161656896_1061334757275603       photo  9/23/2016 11:19   \n7047  1050855161656896_1060126464063099       photo  9/21/2016 23:03   \n7048  1050855161656896_1058663487542730       photo   9/20/2016 0:43   \n7049  1050855161656896_1050858841656528       photo  9/10/2016 10:30   \n\n      num_reactions  num_comments  num_shares  num_likes  num_loves  num_wows  \\\n0               529           512         262        432         92         3   \n1               150             0           0        150          0         0   \n2               227           236          57        204         21         1   \n3               111             0           0        111          0         0   \n4               213             0           0        204          9         0   \n...             ...           ...         ...        ...        ...       ...   \n7045             89             0           0         89          0         0   \n7046             16             0           0         14          1         0   \n7047              2             0           0          1          1         0   \n7048            351            12          22        349          2         0   \n7049             17             0           0         17          0         0   \n\n      num_hahas  num_sads  num_angrys  Column1  Column2  Column3  Column4  \n0             1         1           0      NaN      NaN      NaN      NaN  \n1             0         0           0      NaN      NaN      NaN      NaN  \n2             1         0           0      NaN      NaN      NaN      NaN  \n3             0         0           0      NaN      NaN      NaN      NaN  \n4             0         0           0      NaN      NaN      NaN      NaN  \n...         ...       ...         ...      ...      ...      ...      ...  \n7045          0         0           0      NaN      NaN      NaN      NaN  \n7046          1         0           0      NaN      NaN      NaN      NaN  \n7047          0         0           0      NaN      NaN      NaN      NaN  \n7048          0         0           0      NaN      NaN      NaN      NaN  \n7049          0         0           0      NaN      NaN      NaN      NaN  \n\n[7050 rows x 16 columns]",
      "text/html": "<div>\n<style scoped>\n    .dataframe tbody tr th:only-of-type {\n        vertical-align: middle;\n    }\n\n    .dataframe tbody tr th {\n        vertical-align: top;\n    }\n\n    .dataframe thead th {\n        text-align: right;\n    }\n</style>\n<table border=\"1\" class=\"dataframe\">\n  <thead>\n    <tr style=\"text-align: right;\">\n      <th></th>\n      <th>status_id</th>\n      <th>status_type</th>\n      <th>status_published</th>\n      <th>num_reactions</th>\n      <th>num_comments</th>\n      <th>num_shares</th>\n      <th>num_likes</th>\n      <th>num_loves</th>\n      <th>num_wows</th>\n      <th>num_hahas</th>\n      <th>num_sads</th>\n      <th>num_angrys</th>\n      <th>Column1</th>\n      <th>Column2</th>\n      <th>Column3</th>\n      <th>Column4</th>\n    </tr>\n  </thead>\n  <tbody>\n    <tr>\n      <th>0</th>\n      <td>246675545449582_1649696485147474</td>\n      <td>video</td>\n      <td>4/22/2018 6:00</td>\n      <td>529</td>\n      <td>512</td>\n      <td>262</td>\n      <td>432</td>\n      <td>92</td>\n      <td>3</td>\n      <td>1</td>\n      <td>1</td>\n      <td>0</td>\n      <td>NaN</td>\n      <td>NaN</td>\n      <td>NaN</td>\n      <td>NaN</td>\n    </tr>\n    <tr>\n      <th>1</th>\n      <td>246675545449582_1649426988507757</td>\n      <td>photo</td>\n      <td>4/21/2018 22:45</td>\n      <td>150</td>\n      <td>0</td>\n      <td>0</td>\n      <td>150</td>\n      <td>0</td>\n      <td>0</td>\n      <td>0</td>\n      <td>0</td>\n      <td>0</td>\n      <td>NaN</td>\n      <td>NaN</td>\n      <td>NaN</td>\n      <td>NaN</td>\n    </tr>\n    <tr>\n      <th>2</th>\n      <td>246675545449582_1648730588577397</td>\n      <td>video</td>\n      <td>4/21/2018 6:17</td>\n      <td>227</td>\n      <td>236</td>\n      <td>57</td>\n      <td>204</td>\n      <td>21</td>\n      <td>1</td>\n      <td>1</td>\n      <td>0</td>\n      <td>0</td>\n      <td>NaN</td>\n      <td>NaN</td>\n      <td>NaN</td>\n      <td>NaN</td>\n    </tr>\n    <tr>\n      <th>3</th>\n      <td>246675545449582_1648576705259452</td>\n      <td>photo</td>\n      <td>4/21/2018 2:29</td>\n      <td>111</td>\n      <td>0</td>\n      <td>0</td>\n      <td>111</td>\n      <td>0</td>\n      <td>0</td>\n      <td>0</td>\n      <td>0</td>\n      <td>0</td>\n      <td>NaN</td>\n      <td>NaN</td>\n      <td>NaN</td>\n      <td>NaN</td>\n    </tr>\n    <tr>\n      <th>4</th>\n      <td>246675545449582_1645700502213739</td>\n      <td>photo</td>\n      <td>4/18/2018 3:22</td>\n      <td>213</td>\n      <td>0</td>\n      <td>0</td>\n      <td>204</td>\n      <td>9</td>\n      <td>0</td>\n      <td>0</td>\n      <td>0</td>\n      <td>0</td>\n      <td>NaN</td>\n      <td>NaN</td>\n      <td>NaN</td>\n      <td>NaN</td>\n    </tr>\n    <tr>\n      <th>...</th>\n      <td>...</td>\n      <td>...</td>\n      <td>...</td>\n      <td>...</td>\n      <td>...</td>\n      <td>...</td>\n      <td>...</td>\n      <td>...</td>\n      <td>...</td>\n      <td>...</td>\n      <td>...</td>\n      <td>...</td>\n      <td>...</td>\n      <td>...</td>\n      <td>...</td>\n      <td>...</td>\n    </tr>\n    <tr>\n      <th>7045</th>\n      <td>1050855161656896_1061863470556065</td>\n      <td>photo</td>\n      <td>9/24/2016 2:58</td>\n      <td>89</td>\n      <td>0</td>\n      <td>0</td>\n      <td>89</td>\n      <td>0</td>\n      <td>0</td>\n      <td>0</td>\n      <td>0</td>\n      <td>0</td>\n      <td>NaN</td>\n      <td>NaN</td>\n      <td>NaN</td>\n      <td>NaN</td>\n    </tr>\n    <tr>\n      <th>7046</th>\n      <td>1050855161656896_1061334757275603</td>\n      <td>photo</td>\n      <td>9/23/2016 11:19</td>\n      <td>16</td>\n      <td>0</td>\n      <td>0</td>\n      <td>14</td>\n      <td>1</td>\n      <td>0</td>\n      <td>1</td>\n      <td>0</td>\n      <td>0</td>\n      <td>NaN</td>\n      <td>NaN</td>\n      <td>NaN</td>\n      <td>NaN</td>\n    </tr>\n    <tr>\n      <th>7047</th>\n      <td>1050855161656896_1060126464063099</td>\n      <td>photo</td>\n      <td>9/21/2016 23:03</td>\n      <td>2</td>\n      <td>0</td>\n      <td>0</td>\n      <td>1</td>\n      <td>1</td>\n      <td>0</td>\n      <td>0</td>\n      <td>0</td>\n      <td>0</td>\n      <td>NaN</td>\n      <td>NaN</td>\n      <td>NaN</td>\n      <td>NaN</td>\n    </tr>\n    <tr>\n      <th>7048</th>\n      <td>1050855161656896_1058663487542730</td>\n      <td>photo</td>\n      <td>9/20/2016 0:43</td>\n      <td>351</td>\n      <td>12</td>\n      <td>22</td>\n      <td>349</td>\n      <td>2</td>\n      <td>0</td>\n      <td>0</td>\n      <td>0</td>\n      <td>0</td>\n      <td>NaN</td>\n      <td>NaN</td>\n      <td>NaN</td>\n      <td>NaN</td>\n    </tr>\n    <tr>\n      <th>7049</th>\n      <td>1050855161656896_1050858841656528</td>\n      <td>photo</td>\n      <td>9/10/2016 10:30</td>\n      <td>17</td>\n      <td>0</td>\n      <td>0</td>\n      <td>17</td>\n      <td>0</td>\n      <td>0</td>\n      <td>0</td>\n      <td>0</td>\n      <td>0</td>\n      <td>NaN</td>\n      <td>NaN</td>\n      <td>NaN</td>\n      <td>NaN</td>\n    </tr>\n  </tbody>\n</table>\n<p>7050 rows × 16 columns</p>\n</div>"
     },
     "execution_count": 2,
     "metadata": {},
     "output_type": "execute_result"
    }
   ],
   "source": [
    "data = pd.read_csv('Live.csv')\n",
    "data"
   ],
   "metadata": {
    "collapsed": false,
    "ExecuteTime": {
     "end_time": "2024-03-23T05:53:19.163127Z",
     "start_time": "2024-03-23T05:53:19.119130Z"
    }
   },
   "id": "f9828b36575783d5",
   "execution_count": 2
  },
  {
   "cell_type": "code",
   "outputs": [
    {
     "name": "stdout",
     "output_type": "stream",
     "text": [
      "<class 'pandas.core.frame.DataFrame'>\n",
      "RangeIndex: 7050 entries, 0 to 7049\n",
      "Data columns (total 16 columns):\n",
      " #   Column            Non-Null Count  Dtype  \n",
      "---  ------            --------------  -----  \n",
      " 0   status_id         7050 non-null   object \n",
      " 1   status_type       7050 non-null   object \n",
      " 2   status_published  7050 non-null   object \n",
      " 3   num_reactions     7050 non-null   int64  \n",
      " 4   num_comments      7050 non-null   int64  \n",
      " 5   num_shares        7050 non-null   int64  \n",
      " 6   num_likes         7050 non-null   int64  \n",
      " 7   num_loves         7050 non-null   int64  \n",
      " 8   num_wows          7050 non-null   int64  \n",
      " 9   num_hahas         7050 non-null   int64  \n",
      " 10  num_sads          7050 non-null   int64  \n",
      " 11  num_angrys        7050 non-null   int64  \n",
      " 12  Column1           0 non-null      float64\n",
      " 13  Column2           0 non-null      float64\n",
      " 14  Column3           0 non-null      float64\n",
      " 15  Column4           0 non-null      float64\n",
      "dtypes: float64(4), int64(9), object(3)\n",
      "memory usage: 881.4+ KB\n"
     ]
    }
   ],
   "source": [
    "data.info()"
   ],
   "metadata": {
    "collapsed": false,
    "ExecuteTime": {
     "end_time": "2024-03-23T05:53:19.179130Z",
     "start_time": "2024-03-23T05:53:19.164126Z"
    }
   },
   "id": "e9c0c20153613c5b",
   "execution_count": 3
  },
  {
   "cell_type": "code",
   "outputs": [
    {
     "data": {
      "text/plain": "                count        mean         std  min   25%   50%     75%  \\\nnum_reactions  7050.0  230.117163  462.625309  0.0  17.0  59.5  219.00   \nnum_comments   7050.0  224.356028  889.636820  0.0   0.0   4.0   23.00   \nnum_shares     7050.0   40.022553  131.599965  0.0   0.0   0.0    4.00   \nnum_likes      7050.0  215.043121  449.472357  0.0  17.0  58.0  184.75   \nnum_loves      7050.0   12.728652   39.972930  0.0   0.0   0.0    3.00   \nnum_wows       7050.0    1.289362    8.719650  0.0   0.0   0.0    0.00   \nnum_hahas      7050.0    0.696454    3.957183  0.0   0.0   0.0    0.00   \nnum_sads       7050.0    0.243688    1.597156  0.0   0.0   0.0    0.00   \nnum_angrys     7050.0    0.113191    0.726812  0.0   0.0   0.0    0.00   \nColumn1           0.0         NaN         NaN  NaN   NaN   NaN     NaN   \nColumn2           0.0         NaN         NaN  NaN   NaN   NaN     NaN   \nColumn3           0.0         NaN         NaN  NaN   NaN   NaN     NaN   \nColumn4           0.0         NaN         NaN  NaN   NaN   NaN     NaN   \n\n                   max  \nnum_reactions   4710.0  \nnum_comments   20990.0  \nnum_shares      3424.0  \nnum_likes       4710.0  \nnum_loves        657.0  \nnum_wows         278.0  \nnum_hahas        157.0  \nnum_sads          51.0  \nnum_angrys        31.0  \nColumn1            NaN  \nColumn2            NaN  \nColumn3            NaN  \nColumn4            NaN  ",
      "text/html": "<div>\n<style scoped>\n    .dataframe tbody tr th:only-of-type {\n        vertical-align: middle;\n    }\n\n    .dataframe tbody tr th {\n        vertical-align: top;\n    }\n\n    .dataframe thead th {\n        text-align: right;\n    }\n</style>\n<table border=\"1\" class=\"dataframe\">\n  <thead>\n    <tr style=\"text-align: right;\">\n      <th></th>\n      <th>count</th>\n      <th>mean</th>\n      <th>std</th>\n      <th>min</th>\n      <th>25%</th>\n      <th>50%</th>\n      <th>75%</th>\n      <th>max</th>\n    </tr>\n  </thead>\n  <tbody>\n    <tr>\n      <th>num_reactions</th>\n      <td>7050.0</td>\n      <td>230.117163</td>\n      <td>462.625309</td>\n      <td>0.0</td>\n      <td>17.0</td>\n      <td>59.5</td>\n      <td>219.00</td>\n      <td>4710.0</td>\n    </tr>\n    <tr>\n      <th>num_comments</th>\n      <td>7050.0</td>\n      <td>224.356028</td>\n      <td>889.636820</td>\n      <td>0.0</td>\n      <td>0.0</td>\n      <td>4.0</td>\n      <td>23.00</td>\n      <td>20990.0</td>\n    </tr>\n    <tr>\n      <th>num_shares</th>\n      <td>7050.0</td>\n      <td>40.022553</td>\n      <td>131.599965</td>\n      <td>0.0</td>\n      <td>0.0</td>\n      <td>0.0</td>\n      <td>4.00</td>\n      <td>3424.0</td>\n    </tr>\n    <tr>\n      <th>num_likes</th>\n      <td>7050.0</td>\n      <td>215.043121</td>\n      <td>449.472357</td>\n      <td>0.0</td>\n      <td>17.0</td>\n      <td>58.0</td>\n      <td>184.75</td>\n      <td>4710.0</td>\n    </tr>\n    <tr>\n      <th>num_loves</th>\n      <td>7050.0</td>\n      <td>12.728652</td>\n      <td>39.972930</td>\n      <td>0.0</td>\n      <td>0.0</td>\n      <td>0.0</td>\n      <td>3.00</td>\n      <td>657.0</td>\n    </tr>\n    <tr>\n      <th>num_wows</th>\n      <td>7050.0</td>\n      <td>1.289362</td>\n      <td>8.719650</td>\n      <td>0.0</td>\n      <td>0.0</td>\n      <td>0.0</td>\n      <td>0.00</td>\n      <td>278.0</td>\n    </tr>\n    <tr>\n      <th>num_hahas</th>\n      <td>7050.0</td>\n      <td>0.696454</td>\n      <td>3.957183</td>\n      <td>0.0</td>\n      <td>0.0</td>\n      <td>0.0</td>\n      <td>0.00</td>\n      <td>157.0</td>\n    </tr>\n    <tr>\n      <th>num_sads</th>\n      <td>7050.0</td>\n      <td>0.243688</td>\n      <td>1.597156</td>\n      <td>0.0</td>\n      <td>0.0</td>\n      <td>0.0</td>\n      <td>0.00</td>\n      <td>51.0</td>\n    </tr>\n    <tr>\n      <th>num_angrys</th>\n      <td>7050.0</td>\n      <td>0.113191</td>\n      <td>0.726812</td>\n      <td>0.0</td>\n      <td>0.0</td>\n      <td>0.0</td>\n      <td>0.00</td>\n      <td>31.0</td>\n    </tr>\n    <tr>\n      <th>Column1</th>\n      <td>0.0</td>\n      <td>NaN</td>\n      <td>NaN</td>\n      <td>NaN</td>\n      <td>NaN</td>\n      <td>NaN</td>\n      <td>NaN</td>\n      <td>NaN</td>\n    </tr>\n    <tr>\n      <th>Column2</th>\n      <td>0.0</td>\n      <td>NaN</td>\n      <td>NaN</td>\n      <td>NaN</td>\n      <td>NaN</td>\n      <td>NaN</td>\n      <td>NaN</td>\n      <td>NaN</td>\n    </tr>\n    <tr>\n      <th>Column3</th>\n      <td>0.0</td>\n      <td>NaN</td>\n      <td>NaN</td>\n      <td>NaN</td>\n      <td>NaN</td>\n      <td>NaN</td>\n      <td>NaN</td>\n      <td>NaN</td>\n    </tr>\n    <tr>\n      <th>Column4</th>\n      <td>0.0</td>\n      <td>NaN</td>\n      <td>NaN</td>\n      <td>NaN</td>\n      <td>NaN</td>\n      <td>NaN</td>\n      <td>NaN</td>\n      <td>NaN</td>\n    </tr>\n  </tbody>\n</table>\n</div>"
     },
     "execution_count": 4,
     "metadata": {},
     "output_type": "execute_result"
    }
   ],
   "source": [
    "data.describe().T"
   ],
   "metadata": {
    "collapsed": false,
    "ExecuteTime": {
     "end_time": "2024-03-23T05:53:19.210700Z",
     "start_time": "2024-03-23T05:53:19.181130Z"
    }
   },
   "id": "f86ec80aaf01d167",
   "execution_count": 4
  },
  {
   "cell_type": "code",
   "outputs": [
    {
     "data": {
      "text/plain": "status_id              0\nstatus_type            0\nstatus_published       0\nnum_reactions          0\nnum_comments           0\nnum_shares             0\nnum_likes              0\nnum_loves              0\nnum_wows               0\nnum_hahas              0\nnum_sads               0\nnum_angrys             0\nColumn1             7050\nColumn2             7050\nColumn3             7050\nColumn4             7050\ndtype: int64"
     },
     "execution_count": 5,
     "metadata": {},
     "output_type": "execute_result"
    }
   ],
   "source": [
    "data.isnull().sum()"
   ],
   "metadata": {
    "collapsed": false,
    "ExecuteTime": {
     "end_time": "2024-03-23T05:53:19.226705Z",
     "start_time": "2024-03-23T05:53:19.211682Z"
    }
   },
   "id": "c0bb49dcdc35f776",
   "execution_count": 5
  },
  {
   "cell_type": "code",
   "outputs": [
    {
     "data": {
      "text/plain": "status_type\nphoto     4288\nvideo     2334\nstatus     365\nlink        63\nName: count, dtype: int64"
     },
     "execution_count": 6,
     "metadata": {},
     "output_type": "execute_result"
    }
   ],
   "source": [
    "data['status_type'].value_counts()"
   ],
   "metadata": {
    "collapsed": false,
    "ExecuteTime": {
     "end_time": "2024-03-23T05:53:19.242682Z",
     "start_time": "2024-03-23T05:53:19.227681Z"
    }
   },
   "id": "fe2feb76e3e7a7be",
   "execution_count": 6
  },
  {
   "cell_type": "code",
   "outputs": [
    {
     "data": {
      "text/plain": "array(['246675545449582_1649696485147474',\n       '246675545449582_1649426988507757',\n       '246675545449582_1648730588577397', ...,\n       '1050855161656896_1060126464063099',\n       '1050855161656896_1058663487542730',\n       '1050855161656896_1050858841656528'], dtype=object)"
     },
     "execution_count": 7,
     "metadata": {},
     "output_type": "execute_result"
    }
   ],
   "source": [
    "data['status_id'].unique()"
   ],
   "metadata": {
    "collapsed": false,
    "ExecuteTime": {
     "end_time": "2024-03-23T05:53:19.258701Z",
     "start_time": "2024-03-23T05:53:19.243683Z"
    }
   },
   "id": "f0590e507301af7c",
   "execution_count": 7
  },
  {
   "cell_type": "code",
   "outputs": [
    {
     "data": {
      "text/plain": "6997"
     },
     "execution_count": 8,
     "metadata": {},
     "output_type": "execute_result"
    }
   ],
   "source": [
    "len(data['status_id'].unique())"
   ],
   "metadata": {
    "collapsed": false,
    "ExecuteTime": {
     "end_time": "2024-03-23T05:53:19.273702Z",
     "start_time": "2024-03-23T05:53:19.259681Z"
    }
   },
   "id": "cdbcca12cdffd312",
   "execution_count": 8
  },
  {
   "cell_type": "code",
   "outputs": [
    {
     "data": {
      "text/plain": "6913"
     },
     "execution_count": 9,
     "metadata": {},
     "output_type": "execute_result"
    }
   ],
   "source": [
    "len(data['status_published'].unique())"
   ],
   "metadata": {
    "collapsed": false,
    "ExecuteTime": {
     "end_time": "2024-03-23T05:53:19.288692Z",
     "start_time": "2024-03-23T05:53:19.275682Z"
    }
   },
   "id": "ef09caae43637700",
   "execution_count": 9
  },
  {
   "cell_type": "code",
   "outputs": [
    {
     "data": {
      "text/plain": "                              status_id status_type status_published  \\\n0      246675545449582_1649696485147474       video   4/22/2018 6:00   \n1      246675545449582_1649426988507757       photo  4/21/2018 22:45   \n2      246675545449582_1648730588577397       video   4/21/2018 6:17   \n3      246675545449582_1648576705259452       photo   4/21/2018 2:29   \n4      246675545449582_1645700502213739       photo   4/18/2018 3:22   \n...                                 ...         ...              ...   \n7045  1050855161656896_1061863470556065       photo   9/24/2016 2:58   \n7046  1050855161656896_1061334757275603       photo  9/23/2016 11:19   \n7047  1050855161656896_1060126464063099       photo  9/21/2016 23:03   \n7048  1050855161656896_1058663487542730       photo   9/20/2016 0:43   \n7049  1050855161656896_1050858841656528       photo  9/10/2016 10:30   \n\n      num_reactions  num_comments  num_shares  num_likes  num_loves  num_wows  \\\n0               529           512         262        432         92         3   \n1               150             0           0        150          0         0   \n2               227           236          57        204         21         1   \n3               111             0           0        111          0         0   \n4               213             0           0        204          9         0   \n...             ...           ...         ...        ...        ...       ...   \n7045             89             0           0         89          0         0   \n7046             16             0           0         14          1         0   \n7047              2             0           0          1          1         0   \n7048            351            12          22        349          2         0   \n7049             17             0           0         17          0         0   \n\n      num_hahas  num_sads  num_angrys  \n0             1         1           0  \n1             0         0           0  \n2             1         0           0  \n3             0         0           0  \n4             0         0           0  \n...         ...       ...         ...  \n7045          0         0           0  \n7046          1         0           0  \n7047          0         0           0  \n7048          0         0           0  \n7049          0         0           0  \n\n[7050 rows x 12 columns]",
      "text/html": "<div>\n<style scoped>\n    .dataframe tbody tr th:only-of-type {\n        vertical-align: middle;\n    }\n\n    .dataframe tbody tr th {\n        vertical-align: top;\n    }\n\n    .dataframe thead th {\n        text-align: right;\n    }\n</style>\n<table border=\"1\" class=\"dataframe\">\n  <thead>\n    <tr style=\"text-align: right;\">\n      <th></th>\n      <th>status_id</th>\n      <th>status_type</th>\n      <th>status_published</th>\n      <th>num_reactions</th>\n      <th>num_comments</th>\n      <th>num_shares</th>\n      <th>num_likes</th>\n      <th>num_loves</th>\n      <th>num_wows</th>\n      <th>num_hahas</th>\n      <th>num_sads</th>\n      <th>num_angrys</th>\n    </tr>\n  </thead>\n  <tbody>\n    <tr>\n      <th>0</th>\n      <td>246675545449582_1649696485147474</td>\n      <td>video</td>\n      <td>4/22/2018 6:00</td>\n      <td>529</td>\n      <td>512</td>\n      <td>262</td>\n      <td>432</td>\n      <td>92</td>\n      <td>3</td>\n      <td>1</td>\n      <td>1</td>\n      <td>0</td>\n    </tr>\n    <tr>\n      <th>1</th>\n      <td>246675545449582_1649426988507757</td>\n      <td>photo</td>\n      <td>4/21/2018 22:45</td>\n      <td>150</td>\n      <td>0</td>\n      <td>0</td>\n      <td>150</td>\n      <td>0</td>\n      <td>0</td>\n      <td>0</td>\n      <td>0</td>\n      <td>0</td>\n    </tr>\n    <tr>\n      <th>2</th>\n      <td>246675545449582_1648730588577397</td>\n      <td>video</td>\n      <td>4/21/2018 6:17</td>\n      <td>227</td>\n      <td>236</td>\n      <td>57</td>\n      <td>204</td>\n      <td>21</td>\n      <td>1</td>\n      <td>1</td>\n      <td>0</td>\n      <td>0</td>\n    </tr>\n    <tr>\n      <th>3</th>\n      <td>246675545449582_1648576705259452</td>\n      <td>photo</td>\n      <td>4/21/2018 2:29</td>\n      <td>111</td>\n      <td>0</td>\n      <td>0</td>\n      <td>111</td>\n      <td>0</td>\n      <td>0</td>\n      <td>0</td>\n      <td>0</td>\n      <td>0</td>\n    </tr>\n    <tr>\n      <th>4</th>\n      <td>246675545449582_1645700502213739</td>\n      <td>photo</td>\n      <td>4/18/2018 3:22</td>\n      <td>213</td>\n      <td>0</td>\n      <td>0</td>\n      <td>204</td>\n      <td>9</td>\n      <td>0</td>\n      <td>0</td>\n      <td>0</td>\n      <td>0</td>\n    </tr>\n    <tr>\n      <th>...</th>\n      <td>...</td>\n      <td>...</td>\n      <td>...</td>\n      <td>...</td>\n      <td>...</td>\n      <td>...</td>\n      <td>...</td>\n      <td>...</td>\n      <td>...</td>\n      <td>...</td>\n      <td>...</td>\n      <td>...</td>\n    </tr>\n    <tr>\n      <th>7045</th>\n      <td>1050855161656896_1061863470556065</td>\n      <td>photo</td>\n      <td>9/24/2016 2:58</td>\n      <td>89</td>\n      <td>0</td>\n      <td>0</td>\n      <td>89</td>\n      <td>0</td>\n      <td>0</td>\n      <td>0</td>\n      <td>0</td>\n      <td>0</td>\n    </tr>\n    <tr>\n      <th>7046</th>\n      <td>1050855161656896_1061334757275603</td>\n      <td>photo</td>\n      <td>9/23/2016 11:19</td>\n      <td>16</td>\n      <td>0</td>\n      <td>0</td>\n      <td>14</td>\n      <td>1</td>\n      <td>0</td>\n      <td>1</td>\n      <td>0</td>\n      <td>0</td>\n    </tr>\n    <tr>\n      <th>7047</th>\n      <td>1050855161656896_1060126464063099</td>\n      <td>photo</td>\n      <td>9/21/2016 23:03</td>\n      <td>2</td>\n      <td>0</td>\n      <td>0</td>\n      <td>1</td>\n      <td>1</td>\n      <td>0</td>\n      <td>0</td>\n      <td>0</td>\n      <td>0</td>\n    </tr>\n    <tr>\n      <th>7048</th>\n      <td>1050855161656896_1058663487542730</td>\n      <td>photo</td>\n      <td>9/20/2016 0:43</td>\n      <td>351</td>\n      <td>12</td>\n      <td>22</td>\n      <td>349</td>\n      <td>2</td>\n      <td>0</td>\n      <td>0</td>\n      <td>0</td>\n      <td>0</td>\n    </tr>\n    <tr>\n      <th>7049</th>\n      <td>1050855161656896_1050858841656528</td>\n      <td>photo</td>\n      <td>9/10/2016 10:30</td>\n      <td>17</td>\n      <td>0</td>\n      <td>0</td>\n      <td>17</td>\n      <td>0</td>\n      <td>0</td>\n      <td>0</td>\n      <td>0</td>\n      <td>0</td>\n    </tr>\n  </tbody>\n</table>\n<p>7050 rows × 12 columns</p>\n</div>"
     },
     "execution_count": 10,
     "metadata": {},
     "output_type": "execute_result"
    }
   ],
   "source": [
    "data.drop(['Column1', 'Column2', 'Column3', 'Column4'], axis=1, inplace=True)\n",
    "data"
   ],
   "metadata": {
    "collapsed": false,
    "ExecuteTime": {
     "end_time": "2024-03-23T05:53:19.304210Z",
     "start_time": "2024-03-23T05:53:19.289692Z"
    }
   },
   "id": "c9cdc823124c4e28",
   "execution_count": 10
  },
  {
   "cell_type": "code",
   "outputs": [
    {
     "data": {
      "text/plain": "     status_type  num_reactions  num_comments  num_shares  num_likes  \\\n0          video            529           512         262        432   \n1          photo            150             0           0        150   \n2          video            227           236          57        204   \n3          photo            111             0           0        111   \n4          photo            213             0           0        204   \n...          ...            ...           ...         ...        ...   \n7045       photo             89             0           0         89   \n7046       photo             16             0           0         14   \n7047       photo              2             0           0          1   \n7048       photo            351            12          22        349   \n7049       photo             17             0           0         17   \n\n      num_loves  num_wows  num_hahas  num_sads  num_angrys  \n0            92         3          1         1           0  \n1             0         0          0         0           0  \n2            21         1          1         0           0  \n3             0         0          0         0           0  \n4             9         0          0         0           0  \n...         ...       ...        ...       ...         ...  \n7045          0         0          0         0           0  \n7046          1         0          1         0           0  \n7047          1         0          0         0           0  \n7048          2         0          0         0           0  \n7049          0         0          0         0           0  \n\n[7050 rows x 10 columns]",
      "text/html": "<div>\n<style scoped>\n    .dataframe tbody tr th:only-of-type {\n        vertical-align: middle;\n    }\n\n    .dataframe tbody tr th {\n        vertical-align: top;\n    }\n\n    .dataframe thead th {\n        text-align: right;\n    }\n</style>\n<table border=\"1\" class=\"dataframe\">\n  <thead>\n    <tr style=\"text-align: right;\">\n      <th></th>\n      <th>status_type</th>\n      <th>num_reactions</th>\n      <th>num_comments</th>\n      <th>num_shares</th>\n      <th>num_likes</th>\n      <th>num_loves</th>\n      <th>num_wows</th>\n      <th>num_hahas</th>\n      <th>num_sads</th>\n      <th>num_angrys</th>\n    </tr>\n  </thead>\n  <tbody>\n    <tr>\n      <th>0</th>\n      <td>video</td>\n      <td>529</td>\n      <td>512</td>\n      <td>262</td>\n      <td>432</td>\n      <td>92</td>\n      <td>3</td>\n      <td>1</td>\n      <td>1</td>\n      <td>0</td>\n    </tr>\n    <tr>\n      <th>1</th>\n      <td>photo</td>\n      <td>150</td>\n      <td>0</td>\n      <td>0</td>\n      <td>150</td>\n      <td>0</td>\n      <td>0</td>\n      <td>0</td>\n      <td>0</td>\n      <td>0</td>\n    </tr>\n    <tr>\n      <th>2</th>\n      <td>video</td>\n      <td>227</td>\n      <td>236</td>\n      <td>57</td>\n      <td>204</td>\n      <td>21</td>\n      <td>1</td>\n      <td>1</td>\n      <td>0</td>\n      <td>0</td>\n    </tr>\n    <tr>\n      <th>3</th>\n      <td>photo</td>\n      <td>111</td>\n      <td>0</td>\n      <td>0</td>\n      <td>111</td>\n      <td>0</td>\n      <td>0</td>\n      <td>0</td>\n      <td>0</td>\n      <td>0</td>\n    </tr>\n    <tr>\n      <th>4</th>\n      <td>photo</td>\n      <td>213</td>\n      <td>0</td>\n      <td>0</td>\n      <td>204</td>\n      <td>9</td>\n      <td>0</td>\n      <td>0</td>\n      <td>0</td>\n      <td>0</td>\n    </tr>\n    <tr>\n      <th>...</th>\n      <td>...</td>\n      <td>...</td>\n      <td>...</td>\n      <td>...</td>\n      <td>...</td>\n      <td>...</td>\n      <td>...</td>\n      <td>...</td>\n      <td>...</td>\n      <td>...</td>\n    </tr>\n    <tr>\n      <th>7045</th>\n      <td>photo</td>\n      <td>89</td>\n      <td>0</td>\n      <td>0</td>\n      <td>89</td>\n      <td>0</td>\n      <td>0</td>\n      <td>0</td>\n      <td>0</td>\n      <td>0</td>\n    </tr>\n    <tr>\n      <th>7046</th>\n      <td>photo</td>\n      <td>16</td>\n      <td>0</td>\n      <td>0</td>\n      <td>14</td>\n      <td>1</td>\n      <td>0</td>\n      <td>1</td>\n      <td>0</td>\n      <td>0</td>\n    </tr>\n    <tr>\n      <th>7047</th>\n      <td>photo</td>\n      <td>2</td>\n      <td>0</td>\n      <td>0</td>\n      <td>1</td>\n      <td>1</td>\n      <td>0</td>\n      <td>0</td>\n      <td>0</td>\n      <td>0</td>\n    </tr>\n    <tr>\n      <th>7048</th>\n      <td>photo</td>\n      <td>351</td>\n      <td>12</td>\n      <td>22</td>\n      <td>349</td>\n      <td>2</td>\n      <td>0</td>\n      <td>0</td>\n      <td>0</td>\n      <td>0</td>\n    </tr>\n    <tr>\n      <th>7049</th>\n      <td>photo</td>\n      <td>17</td>\n      <td>0</td>\n      <td>0</td>\n      <td>17</td>\n      <td>0</td>\n      <td>0</td>\n      <td>0</td>\n      <td>0</td>\n      <td>0</td>\n    </tr>\n  </tbody>\n</table>\n<p>7050 rows × 10 columns</p>\n</div>"
     },
     "execution_count": 11,
     "metadata": {},
     "output_type": "execute_result"
    }
   ],
   "source": [
    "data.drop(['status_id', 'status_published'], axis=1, inplace=True)\n",
    "data"
   ],
   "metadata": {
    "collapsed": false,
    "ExecuteTime": {
     "end_time": "2024-03-23T05:53:19.320209Z",
     "start_time": "2024-03-23T05:53:19.306210Z"
    }
   },
   "id": "b61085137c88aee3",
   "execution_count": 11
  },
  {
   "cell_type": "code",
   "outputs": [
    {
     "data": {
      "text/plain": "status_type      object\nnum_reactions     int64\nnum_comments      int64\nnum_shares        int64\nnum_likes         int64\nnum_loves         int64\nnum_wows          int64\nnum_hahas         int64\nnum_sads          int64\nnum_angrys        int64\ndtype: object"
     },
     "execution_count": 12,
     "metadata": {},
     "output_type": "execute_result"
    }
   ],
   "source": [
    "data.dtypes"
   ],
   "metadata": {
    "collapsed": false,
    "ExecuteTime": {
     "end_time": "2024-03-23T05:53:19.336209Z",
     "start_time": "2024-03-23T05:53:19.321209Z"
    }
   },
   "id": "c8928f86ac73c394",
   "execution_count": 12
  },
  {
   "cell_type": "code",
   "outputs": [
    {
     "data": {
      "text/plain": "      status_type  num_reactions  num_comments  num_shares  num_likes  \\\n0               3            529           512         262        432   \n1               1            150             0           0        150   \n2               3            227           236          57        204   \n3               1            111             0           0        111   \n4               1            213             0           0        204   \n...           ...            ...           ...         ...        ...   \n7045            1             89             0           0         89   \n7046            1             16             0           0         14   \n7047            1              2             0           0          1   \n7048            1            351            12          22        349   \n7049            1             17             0           0         17   \n\n      num_loves  num_wows  num_hahas  num_sads  num_angrys  \n0            92         3          1         1           0  \n1             0         0          0         0           0  \n2            21         1          1         0           0  \n3             0         0          0         0           0  \n4             9         0          0         0           0  \n...         ...       ...        ...       ...         ...  \n7045          0         0          0         0           0  \n7046          1         0          1         0           0  \n7047          1         0          0         0           0  \n7048          2         0          0         0           0  \n7049          0         0          0         0           0  \n\n[7050 rows x 10 columns]",
      "text/html": "<div>\n<style scoped>\n    .dataframe tbody tr th:only-of-type {\n        vertical-align: middle;\n    }\n\n    .dataframe tbody tr th {\n        vertical-align: top;\n    }\n\n    .dataframe thead th {\n        text-align: right;\n    }\n</style>\n<table border=\"1\" class=\"dataframe\">\n  <thead>\n    <tr style=\"text-align: right;\">\n      <th></th>\n      <th>status_type</th>\n      <th>num_reactions</th>\n      <th>num_comments</th>\n      <th>num_shares</th>\n      <th>num_likes</th>\n      <th>num_loves</th>\n      <th>num_wows</th>\n      <th>num_hahas</th>\n      <th>num_sads</th>\n      <th>num_angrys</th>\n    </tr>\n  </thead>\n  <tbody>\n    <tr>\n      <th>0</th>\n      <td>3</td>\n      <td>529</td>\n      <td>512</td>\n      <td>262</td>\n      <td>432</td>\n      <td>92</td>\n      <td>3</td>\n      <td>1</td>\n      <td>1</td>\n      <td>0</td>\n    </tr>\n    <tr>\n      <th>1</th>\n      <td>1</td>\n      <td>150</td>\n      <td>0</td>\n      <td>0</td>\n      <td>150</td>\n      <td>0</td>\n      <td>0</td>\n      <td>0</td>\n      <td>0</td>\n      <td>0</td>\n    </tr>\n    <tr>\n      <th>2</th>\n      <td>3</td>\n      <td>227</td>\n      <td>236</td>\n      <td>57</td>\n      <td>204</td>\n      <td>21</td>\n      <td>1</td>\n      <td>1</td>\n      <td>0</td>\n      <td>0</td>\n    </tr>\n    <tr>\n      <th>3</th>\n      <td>1</td>\n      <td>111</td>\n      <td>0</td>\n      <td>0</td>\n      <td>111</td>\n      <td>0</td>\n      <td>0</td>\n      <td>0</td>\n      <td>0</td>\n      <td>0</td>\n    </tr>\n    <tr>\n      <th>4</th>\n      <td>1</td>\n      <td>213</td>\n      <td>0</td>\n      <td>0</td>\n      <td>204</td>\n      <td>9</td>\n      <td>0</td>\n      <td>0</td>\n      <td>0</td>\n      <td>0</td>\n    </tr>\n    <tr>\n      <th>...</th>\n      <td>...</td>\n      <td>...</td>\n      <td>...</td>\n      <td>...</td>\n      <td>...</td>\n      <td>...</td>\n      <td>...</td>\n      <td>...</td>\n      <td>...</td>\n      <td>...</td>\n    </tr>\n    <tr>\n      <th>7045</th>\n      <td>1</td>\n      <td>89</td>\n      <td>0</td>\n      <td>0</td>\n      <td>89</td>\n      <td>0</td>\n      <td>0</td>\n      <td>0</td>\n      <td>0</td>\n      <td>0</td>\n    </tr>\n    <tr>\n      <th>7046</th>\n      <td>1</td>\n      <td>16</td>\n      <td>0</td>\n      <td>0</td>\n      <td>14</td>\n      <td>1</td>\n      <td>0</td>\n      <td>1</td>\n      <td>0</td>\n      <td>0</td>\n    </tr>\n    <tr>\n      <th>7047</th>\n      <td>1</td>\n      <td>2</td>\n      <td>0</td>\n      <td>0</td>\n      <td>1</td>\n      <td>1</td>\n      <td>0</td>\n      <td>0</td>\n      <td>0</td>\n      <td>0</td>\n    </tr>\n    <tr>\n      <th>7048</th>\n      <td>1</td>\n      <td>351</td>\n      <td>12</td>\n      <td>22</td>\n      <td>349</td>\n      <td>2</td>\n      <td>0</td>\n      <td>0</td>\n      <td>0</td>\n      <td>0</td>\n    </tr>\n    <tr>\n      <th>7049</th>\n      <td>1</td>\n      <td>17</td>\n      <td>0</td>\n      <td>0</td>\n      <td>17</td>\n      <td>0</td>\n      <td>0</td>\n      <td>0</td>\n      <td>0</td>\n      <td>0</td>\n    </tr>\n  </tbody>\n</table>\n<p>7050 rows × 10 columns</p>\n</div>"
     },
     "execution_count": 13,
     "metadata": {},
     "output_type": "execute_result"
    }
   ],
   "source": [
    "le = LabelEncoder()\n",
    "data['status_type'] = le.fit_transform(data['status_type'])\n",
    "data"
   ],
   "metadata": {
    "collapsed": false,
    "ExecuteTime": {
     "end_time": "2024-03-23T05:53:19.352209Z",
     "start_time": "2024-03-23T05:53:19.337210Z"
    }
   },
   "id": "d2ebf6431145370f",
   "execution_count": 13
  },
  {
   "cell_type": "code",
   "outputs": [
    {
     "name": "stdout",
     "output_type": "stream",
     "text": [
      "<class 'pandas.core.frame.DataFrame'>\n",
      "RangeIndex: 7050 entries, 0 to 7049\n",
      "Data columns (total 10 columns):\n",
      " #   Column         Non-Null Count  Dtype\n",
      "---  ------         --------------  -----\n",
      " 0   status_type    7050 non-null   int64\n",
      " 1   num_reactions  7050 non-null   int64\n",
      " 2   num_comments   7050 non-null   int64\n",
      " 3   num_shares     7050 non-null   int64\n",
      " 4   num_likes      7050 non-null   int64\n",
      " 5   num_loves      7050 non-null   int64\n",
      " 6   num_wows       7050 non-null   int64\n",
      " 7   num_hahas      7050 non-null   int64\n",
      " 8   num_sads       7050 non-null   int64\n",
      " 9   num_angrys     7050 non-null   int64\n",
      "dtypes: int64(10)\n",
      "memory usage: 550.9 KB\n"
     ]
    }
   ],
   "source": [
    "data['status_type'] = data['status_type'].astype(np.int64)\n",
    "data.info()"
   ],
   "metadata": {
    "collapsed": false,
    "ExecuteTime": {
     "end_time": "2024-03-23T05:53:19.368207Z",
     "start_time": "2024-03-23T05:53:19.355210Z"
    }
   },
   "id": "bfea6a3fe7eef310",
   "execution_count": 14
  },
  {
   "cell_type": "code",
   "outputs": [],
   "source": [
    "X, y = data.drop('status_type', axis=1), data['status_type']"
   ],
   "metadata": {
    "collapsed": false,
    "ExecuteTime": {
     "end_time": "2024-03-23T05:53:19.383212Z",
     "start_time": "2024-03-23T05:53:19.369210Z"
    }
   },
   "id": "67fc27a4f7dfd445",
   "execution_count": 15
  },
  {
   "cell_type": "markdown",
   "source": [
    "Singular Value Decomposition"
   ],
   "metadata": {
    "collapsed": false
   },
   "id": "1931b7d7bddd83e7"
  },
  {
   "cell_type": "code",
   "outputs": [],
   "source": [
    "model = lda(solver='svd')\n",
    "model.fit(X, y)"
   ],
   "metadata": {
    "collapsed": false,
    "ExecuteTime": {
     "end_time": "2024-03-23T07:00:12.884362Z",
     "start_time": "2024-03-23T07:00:12.876333Z"
    }
   },
   "id": "36cc76f5923f373e",
   "execution_count": 33
  },
  {
   "cell_type": "code",
   "outputs": [
    {
     "data": {
      "text/plain": "array([[-2.70011711e-01, -1.42377355e-04, -3.90320555e-05,\n         2.70999572e-01,  2.60728448e-01,  2.68991241e-01,\n         2.69249565e-01,  2.24133191e-01,  2.15261991e-01],\n       [ 1.62521886e-01, -1.11173779e-04, -1.01799181e-03,\n        -1.62586716e-01, -1.69231167e-01, -1.49357037e-01,\n        -1.56058583e-01, -1.53579640e-01, -1.33801890e-01],\n       [-3.09967016e-01, -8.43135365e-05, -1.40927498e-03,\n         3.11257256e-01,  3.00926492e-01,  3.23519785e-01,\n         3.03402812e-01,  4.18889930e-01,  2.64664181e-01],\n       [-2.42821400e-01,  2.21275655e-04,  2.09168521e-03,\n         2.42712068e-01,  2.56811990e-01,  2.16543189e-01,\n         2.31994197e-01,  2.10597379e-01,  1.98619782e-01]])"
     },
     "execution_count": 18,
     "metadata": {},
     "output_type": "execute_result"
    }
   ],
   "source": [
    "model.coef_"
   ],
   "metadata": {
    "collapsed": false,
    "ExecuteTime": {
     "end_time": "2024-03-23T06:49:09.803594Z",
     "start_time": "2024-03-23T06:49:09.794064Z"
    }
   },
   "id": "21bc146a08d05581",
   "execution_count": 18
  },
  {
   "cell_type": "code",
   "outputs": [
    {
     "data": {
      "text/plain": "array([-4.91862   , -0.42219696, -3.31980414, -1.59518135])"
     },
     "execution_count": 19,
     "metadata": {},
     "output_type": "execute_result"
    }
   ],
   "source": [
    "model.intercept_"
   ],
   "metadata": {
    "collapsed": false,
    "ExecuteTime": {
     "end_time": "2024-03-23T06:50:07.626792Z",
     "start_time": "2024-03-23T06:50:07.611757Z"
    }
   },
   "id": "2c02c5d54e918d41",
   "execution_count": 19
  },
  {
   "cell_type": "code",
   "outputs": [],
   "source": [
    "U, S, V = np.linalg.svd(X)"
   ],
   "metadata": {
    "collapsed": false,
    "ExecuteTime": {
     "end_time": "2024-03-23T06:54:23.990359Z",
     "start_time": "2024-03-23T06:54:23.141169Z"
    }
   },
   "id": "16c9bce4184ecff7",
   "execution_count": 28
  },
  {
   "cell_type": "markdown",
   "source": [
    "Least Squares"
   ],
   "metadata": {
    "collapsed": false
   },
   "id": "b00592a9bca3260e"
  },
  {
   "cell_type": "code",
   "outputs": [],
   "source": [
    "X, y = data.drop('status_type', axis=1), data['status_type']"
   ],
   "metadata": {
    "collapsed": false,
    "ExecuteTime": {
     "end_time": "2024-03-23T07:01:09.388673Z",
     "start_time": "2024-03-23T07:01:09.377112Z"
    }
   },
   "id": "2839a9e0ab2d8313",
   "execution_count": 34
  },
  {
   "cell_type": "code",
   "outputs": [],
   "source": [
    "model = lda(solver='lsqr')\n",
    "cv = RepeatedStratifiedKFold(n_splits=10, n_repeats=3, random_state=1)\n",
    "grid = dict()\n",
    "grid['shrinkage'] = np.arange(0, 1, 0.01)"
   ],
   "metadata": {
    "collapsed": false,
    "ExecuteTime": {
     "end_time": "2024-03-23T07:02:03.325167Z",
     "start_time": "2024-03-23T07:02:03.309633Z"
    }
   },
   "id": "10e23bf298260133",
   "execution_count": 35
  },
  {
   "cell_type": "code",
   "outputs": [],
   "source": [
    "search  = GridSearchCV(model, grid, scoring='accuracy', cv=cv, n_jobs=-1)\n",
    "results = search.fit(X, y)"
   ],
   "metadata": {
    "collapsed": false,
    "ExecuteTime": {
     "end_time": "2024-03-23T07:02:19.792488Z",
     "start_time": "2024-03-23T07:02:14.654763Z"
    }
   },
   "id": "e8dbeea49e20ffa1",
   "execution_count": 36
  },
  {
   "cell_type": "code",
   "outputs": [
    {
     "name": "stdout",
     "output_type": "stream",
     "text": [
      "Mean accuracy: 0.7114893617021278\n"
     ]
    }
   ],
   "source": [
    "print(f'Mean accuracy: {results.best_score_}')"
   ],
   "metadata": {
    "collapsed": false,
    "ExecuteTime": {
     "end_time": "2024-03-23T07:02:45.389657Z",
     "start_time": "2024-03-23T07:02:45.373635Z"
    }
   },
   "id": "b870cc55c3f7f12c",
   "execution_count": 37
  },
  {
   "cell_type": "code",
   "outputs": [
    {
     "name": "stdout",
     "output_type": "stream",
     "text": [
      "Config: {'shrinkage': 0.0}\n"
     ]
    }
   ],
   "source": [
    "print(f'Config: {results.best_params_}')"
   ],
   "metadata": {
    "collapsed": false,
    "ExecuteTime": {
     "end_time": "2024-03-23T07:02:52.219241Z",
     "start_time": "2024-03-23T07:02:52.211705Z"
    }
   },
   "id": "5cbc5dda088a130d",
   "execution_count": 38
  },
  {
   "cell_type": "code",
   "outputs": [
    {
     "data": {
      "text/plain": "array([[-1.57517724e-02, -3.28916770e-05,  7.05039425e-04,\n         1.77203796e-02,  1.09710240e-02,  4.87473514e-03,\n         1.50024604e-02,  1.20876717e-02, -3.38135190e-03],\n       [ 4.17027379e-01, -1.67038641e-06, -2.74476085e-04,\n        -4.16112061e-01, -4.19232684e-01, -4.13711044e-01,\n        -4.10547140e-01, -3.65839592e-01, -3.52643402e-01],\n       [-5.57297602e-02,  2.52051044e-05, -6.65981385e-04,\n         5.80009182e-02,  5.11918889e-02,  5.94342359e-02,\n         4.91750967e-02,  2.06954975e-01,  4.60488838e-02],\n       [ 1.14539746e-02,  3.30967778e-04,  2.83696629e-03,\n        -1.05831845e-02,  7.05234242e-03, -4.76030920e-02,\n        -2.22740578e-02, -1.45582447e-03, -2.00330095e-02]])"
     },
     "execution_count": 39,
     "metadata": {},
     "output_type": "execute_result"
    }
   ],
   "source": [
    "results.best_estimator_.coef_"
   ],
   "metadata": {
    "collapsed": false,
    "ExecuteTime": {
     "end_time": "2024-03-23T07:02:59.682205Z",
     "start_time": "2024-03-23T07:02:59.666684Z"
    }
   },
   "id": "ea70f91f686e645d",
   "execution_count": 39
  },
  {
   "cell_type": "code",
   "outputs": [
    {
     "data": {
      "text/plain": "array([-5.08115307, -0.58457336, -3.48242688, -1.75787836])"
     },
     "execution_count": 40,
     "metadata": {},
     "output_type": "execute_result"
    }
   ],
   "source": [
    "results.best_estimator_.intercept_"
   ],
   "metadata": {
    "collapsed": false,
    "ExecuteTime": {
     "end_time": "2024-03-23T07:03:03.618955Z",
     "start_time": "2024-03-23T07:03:03.608096Z"
    }
   },
   "id": "7cee3c1c20c61c0a",
   "execution_count": 40
  },
  {
   "cell_type": "code",
   "outputs": [],
   "source": [],
   "metadata": {
    "collapsed": false
   },
   "id": "ada9a2869f95ea8a"
  }
 ],
 "metadata": {
  "kernelspec": {
   "display_name": "Python 3",
   "language": "python",
   "name": "python3"
  },
  "language_info": {
   "codemirror_mode": {
    "name": "ipython",
    "version": 2
   },
   "file_extension": ".py",
   "mimetype": "text/x-python",
   "name": "python",
   "nbconvert_exporter": "python",
   "pygments_lexer": "ipython2",
   "version": "2.7.6"
  }
 },
 "nbformat": 4,
 "nbformat_minor": 5
}
