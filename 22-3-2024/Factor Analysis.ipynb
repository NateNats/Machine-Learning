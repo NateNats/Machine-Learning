{
 "cells": [
  {
   "cell_type": "code",
   "execution_count": 23,
   "id": "initial_id",
   "metadata": {
    "collapsed": true,
    "ExecuteTime": {
     "end_time": "2024-03-23T07:26:06.353196Z",
     "start_time": "2024-03-23T07:26:06.343677Z"
    }
   },
   "outputs": [],
   "source": [
    "import pandas as pd\n",
    "import numpy as np\n",
    "import seaborn as sns\n",
    "import matplotlib.pyplot as plt\n",
    "from factor_analyzer import FactorAnalyzer\n",
    "from factor_analyzer.factor_analyzer import calculate_bartlett_sphericity, calculate_kmo\n",
    "from sklearn.preprocessing import LabelEncoder"
   ]
  },
  {
   "cell_type": "code",
   "outputs": [
    {
     "data": {
      "text/plain": "                              status_id status_type status_published  \\\n0      246675545449582_1649696485147474       video   4/22/2018 6:00   \n1      246675545449582_1649426988507757       photo  4/21/2018 22:45   \n2      246675545449582_1648730588577397       video   4/21/2018 6:17   \n3      246675545449582_1648576705259452       photo   4/21/2018 2:29   \n4      246675545449582_1645700502213739       photo   4/18/2018 3:22   \n...                                 ...         ...              ...   \n7045  1050855161656896_1061863470556065       photo   9/24/2016 2:58   \n7046  1050855161656896_1061334757275603       photo  9/23/2016 11:19   \n7047  1050855161656896_1060126464063099       photo  9/21/2016 23:03   \n7048  1050855161656896_1058663487542730       photo   9/20/2016 0:43   \n7049  1050855161656896_1050858841656528       photo  9/10/2016 10:30   \n\n      num_reactions  num_comments  num_shares  num_likes  num_loves  num_wows  \\\n0               529           512         262        432         92         3   \n1               150             0           0        150          0         0   \n2               227           236          57        204         21         1   \n3               111             0           0        111          0         0   \n4               213             0           0        204          9         0   \n...             ...           ...         ...        ...        ...       ...   \n7045             89             0           0         89          0         0   \n7046             16             0           0         14          1         0   \n7047              2             0           0          1          1         0   \n7048            351            12          22        349          2         0   \n7049             17             0           0         17          0         0   \n\n      num_hahas  num_sads  num_angrys  Column1  Column2  Column3  Column4  \n0             1         1           0      NaN      NaN      NaN      NaN  \n1             0         0           0      NaN      NaN      NaN      NaN  \n2             1         0           0      NaN      NaN      NaN      NaN  \n3             0         0           0      NaN      NaN      NaN      NaN  \n4             0         0           0      NaN      NaN      NaN      NaN  \n...         ...       ...         ...      ...      ...      ...      ...  \n7045          0         0           0      NaN      NaN      NaN      NaN  \n7046          1         0           0      NaN      NaN      NaN      NaN  \n7047          0         0           0      NaN      NaN      NaN      NaN  \n7048          0         0           0      NaN      NaN      NaN      NaN  \n7049          0         0           0      NaN      NaN      NaN      NaN  \n\n[7050 rows x 16 columns]",
      "text/html": "<div>\n<style scoped>\n    .dataframe tbody tr th:only-of-type {\n        vertical-align: middle;\n    }\n\n    .dataframe tbody tr th {\n        vertical-align: top;\n    }\n\n    .dataframe thead th {\n        text-align: right;\n    }\n</style>\n<table border=\"1\" class=\"dataframe\">\n  <thead>\n    <tr style=\"text-align: right;\">\n      <th></th>\n      <th>status_id</th>\n      <th>status_type</th>\n      <th>status_published</th>\n      <th>num_reactions</th>\n      <th>num_comments</th>\n      <th>num_shares</th>\n      <th>num_likes</th>\n      <th>num_loves</th>\n      <th>num_wows</th>\n      <th>num_hahas</th>\n      <th>num_sads</th>\n      <th>num_angrys</th>\n      <th>Column1</th>\n      <th>Column2</th>\n      <th>Column3</th>\n      <th>Column4</th>\n    </tr>\n  </thead>\n  <tbody>\n    <tr>\n      <th>0</th>\n      <td>246675545449582_1649696485147474</td>\n      <td>video</td>\n      <td>4/22/2018 6:00</td>\n      <td>529</td>\n      <td>512</td>\n      <td>262</td>\n      <td>432</td>\n      <td>92</td>\n      <td>3</td>\n      <td>1</td>\n      <td>1</td>\n      <td>0</td>\n      <td>NaN</td>\n      <td>NaN</td>\n      <td>NaN</td>\n      <td>NaN</td>\n    </tr>\n    <tr>\n      <th>1</th>\n      <td>246675545449582_1649426988507757</td>\n      <td>photo</td>\n      <td>4/21/2018 22:45</td>\n      <td>150</td>\n      <td>0</td>\n      <td>0</td>\n      <td>150</td>\n      <td>0</td>\n      <td>0</td>\n      <td>0</td>\n      <td>0</td>\n      <td>0</td>\n      <td>NaN</td>\n      <td>NaN</td>\n      <td>NaN</td>\n      <td>NaN</td>\n    </tr>\n    <tr>\n      <th>2</th>\n      <td>246675545449582_1648730588577397</td>\n      <td>video</td>\n      <td>4/21/2018 6:17</td>\n      <td>227</td>\n      <td>236</td>\n      <td>57</td>\n      <td>204</td>\n      <td>21</td>\n      <td>1</td>\n      <td>1</td>\n      <td>0</td>\n      <td>0</td>\n      <td>NaN</td>\n      <td>NaN</td>\n      <td>NaN</td>\n      <td>NaN</td>\n    </tr>\n    <tr>\n      <th>3</th>\n      <td>246675545449582_1648576705259452</td>\n      <td>photo</td>\n      <td>4/21/2018 2:29</td>\n      <td>111</td>\n      <td>0</td>\n      <td>0</td>\n      <td>111</td>\n      <td>0</td>\n      <td>0</td>\n      <td>0</td>\n      <td>0</td>\n      <td>0</td>\n      <td>NaN</td>\n      <td>NaN</td>\n      <td>NaN</td>\n      <td>NaN</td>\n    </tr>\n    <tr>\n      <th>4</th>\n      <td>246675545449582_1645700502213739</td>\n      <td>photo</td>\n      <td>4/18/2018 3:22</td>\n      <td>213</td>\n      <td>0</td>\n      <td>0</td>\n      <td>204</td>\n      <td>9</td>\n      <td>0</td>\n      <td>0</td>\n      <td>0</td>\n      <td>0</td>\n      <td>NaN</td>\n      <td>NaN</td>\n      <td>NaN</td>\n      <td>NaN</td>\n    </tr>\n    <tr>\n      <th>...</th>\n      <td>...</td>\n      <td>...</td>\n      <td>...</td>\n      <td>...</td>\n      <td>...</td>\n      <td>...</td>\n      <td>...</td>\n      <td>...</td>\n      <td>...</td>\n      <td>...</td>\n      <td>...</td>\n      <td>...</td>\n      <td>...</td>\n      <td>...</td>\n      <td>...</td>\n      <td>...</td>\n    </tr>\n    <tr>\n      <th>7045</th>\n      <td>1050855161656896_1061863470556065</td>\n      <td>photo</td>\n      <td>9/24/2016 2:58</td>\n      <td>89</td>\n      <td>0</td>\n      <td>0</td>\n      <td>89</td>\n      <td>0</td>\n      <td>0</td>\n      <td>0</td>\n      <td>0</td>\n      <td>0</td>\n      <td>NaN</td>\n      <td>NaN</td>\n      <td>NaN</td>\n      <td>NaN</td>\n    </tr>\n    <tr>\n      <th>7046</th>\n      <td>1050855161656896_1061334757275603</td>\n      <td>photo</td>\n      <td>9/23/2016 11:19</td>\n      <td>16</td>\n      <td>0</td>\n      <td>0</td>\n      <td>14</td>\n      <td>1</td>\n      <td>0</td>\n      <td>1</td>\n      <td>0</td>\n      <td>0</td>\n      <td>NaN</td>\n      <td>NaN</td>\n      <td>NaN</td>\n      <td>NaN</td>\n    </tr>\n    <tr>\n      <th>7047</th>\n      <td>1050855161656896_1060126464063099</td>\n      <td>photo</td>\n      <td>9/21/2016 23:03</td>\n      <td>2</td>\n      <td>0</td>\n      <td>0</td>\n      <td>1</td>\n      <td>1</td>\n      <td>0</td>\n      <td>0</td>\n      <td>0</td>\n      <td>0</td>\n      <td>NaN</td>\n      <td>NaN</td>\n      <td>NaN</td>\n      <td>NaN</td>\n    </tr>\n    <tr>\n      <th>7048</th>\n      <td>1050855161656896_1058663487542730</td>\n      <td>photo</td>\n      <td>9/20/2016 0:43</td>\n      <td>351</td>\n      <td>12</td>\n      <td>22</td>\n      <td>349</td>\n      <td>2</td>\n      <td>0</td>\n      <td>0</td>\n      <td>0</td>\n      <td>0</td>\n      <td>NaN</td>\n      <td>NaN</td>\n      <td>NaN</td>\n      <td>NaN</td>\n    </tr>\n    <tr>\n      <th>7049</th>\n      <td>1050855161656896_1050858841656528</td>\n      <td>photo</td>\n      <td>9/10/2016 10:30</td>\n      <td>17</td>\n      <td>0</td>\n      <td>0</td>\n      <td>17</td>\n      <td>0</td>\n      <td>0</td>\n      <td>0</td>\n      <td>0</td>\n      <td>0</td>\n      <td>NaN</td>\n      <td>NaN</td>\n      <td>NaN</td>\n      <td>NaN</td>\n    </tr>\n  </tbody>\n</table>\n<p>7050 rows × 16 columns</p>\n</div>"
     },
     "execution_count": 2,
     "metadata": {},
     "output_type": "execute_result"
    }
   ],
   "source": [
    "data = pd.read_csv('Live.csv')\n",
    "data"
   ],
   "metadata": {
    "collapsed": false,
    "ExecuteTime": {
     "end_time": "2024-03-23T07:19:44.008480Z",
     "start_time": "2024-03-23T07:19:43.951818Z"
    }
   },
   "id": "f9828b36575783d5",
   "execution_count": 2
  },
  {
   "cell_type": "code",
   "outputs": [
    {
     "name": "stdout",
     "output_type": "stream",
     "text": [
      "<class 'pandas.core.frame.DataFrame'>\n",
      "RangeIndex: 7050 entries, 0 to 7049\n",
      "Data columns (total 16 columns):\n",
      " #   Column            Non-Null Count  Dtype  \n",
      "---  ------            --------------  -----  \n",
      " 0   status_id         7050 non-null   object \n",
      " 1   status_type       7050 non-null   object \n",
      " 2   status_published  7050 non-null   object \n",
      " 3   num_reactions     7050 non-null   int64  \n",
      " 4   num_comments      7050 non-null   int64  \n",
      " 5   num_shares        7050 non-null   int64  \n",
      " 6   num_likes         7050 non-null   int64  \n",
      " 7   num_loves         7050 non-null   int64  \n",
      " 8   num_wows          7050 non-null   int64  \n",
      " 9   num_hahas         7050 non-null   int64  \n",
      " 10  num_sads          7050 non-null   int64  \n",
      " 11  num_angrys        7050 non-null   int64  \n",
      " 12  Column1           0 non-null      float64\n",
      " 13  Column2           0 non-null      float64\n",
      " 14  Column3           0 non-null      float64\n",
      " 15  Column4           0 non-null      float64\n",
      "dtypes: float64(4), int64(9), object(3)\n",
      "memory usage: 881.4+ KB\n"
     ]
    }
   ],
   "source": [
    "data.info()"
   ],
   "metadata": {
    "collapsed": false,
    "ExecuteTime": {
     "end_time": "2024-03-23T07:19:44.056134Z",
     "start_time": "2024-03-23T07:19:44.010479Z"
    }
   },
   "id": "e9c0c20153613c5b",
   "execution_count": 3
  },
  {
   "cell_type": "code",
   "outputs": [
    {
     "data": {
      "text/plain": "                count        mean         std  min   25%   50%     75%  \\\nnum_reactions  7050.0  230.117163  462.625309  0.0  17.0  59.5  219.00   \nnum_comments   7050.0  224.356028  889.636820  0.0   0.0   4.0   23.00   \nnum_shares     7050.0   40.022553  131.599965  0.0   0.0   0.0    4.00   \nnum_likes      7050.0  215.043121  449.472357  0.0  17.0  58.0  184.75   \nnum_loves      7050.0   12.728652   39.972930  0.0   0.0   0.0    3.00   \nnum_wows       7050.0    1.289362    8.719650  0.0   0.0   0.0    0.00   \nnum_hahas      7050.0    0.696454    3.957183  0.0   0.0   0.0    0.00   \nnum_sads       7050.0    0.243688    1.597156  0.0   0.0   0.0    0.00   \nnum_angrys     7050.0    0.113191    0.726812  0.0   0.0   0.0    0.00   \nColumn1           0.0         NaN         NaN  NaN   NaN   NaN     NaN   \nColumn2           0.0         NaN         NaN  NaN   NaN   NaN     NaN   \nColumn3           0.0         NaN         NaN  NaN   NaN   NaN     NaN   \nColumn4           0.0         NaN         NaN  NaN   NaN   NaN     NaN   \n\n                   max  \nnum_reactions   4710.0  \nnum_comments   20990.0  \nnum_shares      3424.0  \nnum_likes       4710.0  \nnum_loves        657.0  \nnum_wows         278.0  \nnum_hahas        157.0  \nnum_sads          51.0  \nnum_angrys        31.0  \nColumn1            NaN  \nColumn2            NaN  \nColumn3            NaN  \nColumn4            NaN  ",
      "text/html": "<div>\n<style scoped>\n    .dataframe tbody tr th:only-of-type {\n        vertical-align: middle;\n    }\n\n    .dataframe tbody tr th {\n        vertical-align: top;\n    }\n\n    .dataframe thead th {\n        text-align: right;\n    }\n</style>\n<table border=\"1\" class=\"dataframe\">\n  <thead>\n    <tr style=\"text-align: right;\">\n      <th></th>\n      <th>count</th>\n      <th>mean</th>\n      <th>std</th>\n      <th>min</th>\n      <th>25%</th>\n      <th>50%</th>\n      <th>75%</th>\n      <th>max</th>\n    </tr>\n  </thead>\n  <tbody>\n    <tr>\n      <th>num_reactions</th>\n      <td>7050.0</td>\n      <td>230.117163</td>\n      <td>462.625309</td>\n      <td>0.0</td>\n      <td>17.0</td>\n      <td>59.5</td>\n      <td>219.00</td>\n      <td>4710.0</td>\n    </tr>\n    <tr>\n      <th>num_comments</th>\n      <td>7050.0</td>\n      <td>224.356028</td>\n      <td>889.636820</td>\n      <td>0.0</td>\n      <td>0.0</td>\n      <td>4.0</td>\n      <td>23.00</td>\n      <td>20990.0</td>\n    </tr>\n    <tr>\n      <th>num_shares</th>\n      <td>7050.0</td>\n      <td>40.022553</td>\n      <td>131.599965</td>\n      <td>0.0</td>\n      <td>0.0</td>\n      <td>0.0</td>\n      <td>4.00</td>\n      <td>3424.0</td>\n    </tr>\n    <tr>\n      <th>num_likes</th>\n      <td>7050.0</td>\n      <td>215.043121</td>\n      <td>449.472357</td>\n      <td>0.0</td>\n      <td>17.0</td>\n      <td>58.0</td>\n      <td>184.75</td>\n      <td>4710.0</td>\n    </tr>\n    <tr>\n      <th>num_loves</th>\n      <td>7050.0</td>\n      <td>12.728652</td>\n      <td>39.972930</td>\n      <td>0.0</td>\n      <td>0.0</td>\n      <td>0.0</td>\n      <td>3.00</td>\n      <td>657.0</td>\n    </tr>\n    <tr>\n      <th>num_wows</th>\n      <td>7050.0</td>\n      <td>1.289362</td>\n      <td>8.719650</td>\n      <td>0.0</td>\n      <td>0.0</td>\n      <td>0.0</td>\n      <td>0.00</td>\n      <td>278.0</td>\n    </tr>\n    <tr>\n      <th>num_hahas</th>\n      <td>7050.0</td>\n      <td>0.696454</td>\n      <td>3.957183</td>\n      <td>0.0</td>\n      <td>0.0</td>\n      <td>0.0</td>\n      <td>0.00</td>\n      <td>157.0</td>\n    </tr>\n    <tr>\n      <th>num_sads</th>\n      <td>7050.0</td>\n      <td>0.243688</td>\n      <td>1.597156</td>\n      <td>0.0</td>\n      <td>0.0</td>\n      <td>0.0</td>\n      <td>0.00</td>\n      <td>51.0</td>\n    </tr>\n    <tr>\n      <th>num_angrys</th>\n      <td>7050.0</td>\n      <td>0.113191</td>\n      <td>0.726812</td>\n      <td>0.0</td>\n      <td>0.0</td>\n      <td>0.0</td>\n      <td>0.00</td>\n      <td>31.0</td>\n    </tr>\n    <tr>\n      <th>Column1</th>\n      <td>0.0</td>\n      <td>NaN</td>\n      <td>NaN</td>\n      <td>NaN</td>\n      <td>NaN</td>\n      <td>NaN</td>\n      <td>NaN</td>\n      <td>NaN</td>\n    </tr>\n    <tr>\n      <th>Column2</th>\n      <td>0.0</td>\n      <td>NaN</td>\n      <td>NaN</td>\n      <td>NaN</td>\n      <td>NaN</td>\n      <td>NaN</td>\n      <td>NaN</td>\n      <td>NaN</td>\n    </tr>\n    <tr>\n      <th>Column3</th>\n      <td>0.0</td>\n      <td>NaN</td>\n      <td>NaN</td>\n      <td>NaN</td>\n      <td>NaN</td>\n      <td>NaN</td>\n      <td>NaN</td>\n      <td>NaN</td>\n    </tr>\n    <tr>\n      <th>Column4</th>\n      <td>0.0</td>\n      <td>NaN</td>\n      <td>NaN</td>\n      <td>NaN</td>\n      <td>NaN</td>\n      <td>NaN</td>\n      <td>NaN</td>\n      <td>NaN</td>\n    </tr>\n  </tbody>\n</table>\n</div>"
     },
     "execution_count": 4,
     "metadata": {},
     "output_type": "execute_result"
    }
   ],
   "source": [
    "data.describe().T"
   ],
   "metadata": {
    "collapsed": false,
    "ExecuteTime": {
     "end_time": "2024-03-23T07:19:44.103700Z",
     "start_time": "2024-03-23T07:19:44.058065Z"
    }
   },
   "id": "f86ec80aaf01d167",
   "execution_count": 4
  },
  {
   "cell_type": "code",
   "outputs": [
    {
     "data": {
      "text/plain": "status_id              0\nstatus_type            0\nstatus_published       0\nnum_reactions          0\nnum_comments           0\nnum_shares             0\nnum_likes              0\nnum_loves              0\nnum_wows               0\nnum_hahas              0\nnum_sads               0\nnum_angrys             0\nColumn1             7050\nColumn2             7050\nColumn3             7050\nColumn4             7050\ndtype: int64"
     },
     "execution_count": 5,
     "metadata": {},
     "output_type": "execute_result"
    }
   ],
   "source": [
    "data.isnull().sum()"
   ],
   "metadata": {
    "collapsed": false,
    "ExecuteTime": {
     "end_time": "2024-03-23T07:19:44.119626Z",
     "start_time": "2024-03-23T07:19:44.104703Z"
    }
   },
   "id": "c0bb49dcdc35f776",
   "execution_count": 5
  },
  {
   "cell_type": "code",
   "outputs": [
    {
     "data": {
      "text/plain": "status_type\nphoto     4288\nvideo     2334\nstatus     365\nlink        63\nName: count, dtype: int64"
     },
     "execution_count": 6,
     "metadata": {},
     "output_type": "execute_result"
    }
   ],
   "source": [
    "data['status_type'].value_counts()"
   ],
   "metadata": {
    "collapsed": false,
    "ExecuteTime": {
     "end_time": "2024-03-23T07:19:44.135124Z",
     "start_time": "2024-03-23T07:19:44.120611Z"
    }
   },
   "id": "fe2feb76e3e7a7be",
   "execution_count": 6
  },
  {
   "cell_type": "code",
   "outputs": [
    {
     "data": {
      "text/plain": "array(['246675545449582_1649696485147474',\n       '246675545449582_1649426988507757',\n       '246675545449582_1648730588577397', ...,\n       '1050855161656896_1060126464063099',\n       '1050855161656896_1058663487542730',\n       '1050855161656896_1050858841656528'], dtype=object)"
     },
     "execution_count": 7,
     "metadata": {},
     "output_type": "execute_result"
    }
   ],
   "source": [
    "data['status_id'].unique()"
   ],
   "metadata": {
    "collapsed": false,
    "ExecuteTime": {
     "end_time": "2024-03-23T07:19:44.151158Z",
     "start_time": "2024-03-23T07:19:44.136628Z"
    }
   },
   "id": "f0590e507301af7c",
   "execution_count": 7
  },
  {
   "cell_type": "code",
   "outputs": [
    {
     "data": {
      "text/plain": "6997"
     },
     "execution_count": 8,
     "metadata": {},
     "output_type": "execute_result"
    }
   ],
   "source": [
    "len(data['status_id'].unique())"
   ],
   "metadata": {
    "collapsed": false,
    "ExecuteTime": {
     "end_time": "2024-03-23T07:19:44.166369Z",
     "start_time": "2024-03-23T07:19:44.154158Z"
    }
   },
   "id": "cdbcca12cdffd312",
   "execution_count": 8
  },
  {
   "cell_type": "code",
   "outputs": [
    {
     "data": {
      "text/plain": "6913"
     },
     "execution_count": 9,
     "metadata": {},
     "output_type": "execute_result"
    }
   ],
   "source": [
    "len(data['status_published'].unique())"
   ],
   "metadata": {
    "collapsed": false,
    "ExecuteTime": {
     "end_time": "2024-03-23T07:19:44.181768Z",
     "start_time": "2024-03-23T07:19:44.168298Z"
    }
   },
   "id": "ef09caae43637700",
   "execution_count": 9
  },
  {
   "cell_type": "code",
   "outputs": [
    {
     "data": {
      "text/plain": "                              status_id status_type status_published  \\\n0      246675545449582_1649696485147474       video   4/22/2018 6:00   \n1      246675545449582_1649426988507757       photo  4/21/2018 22:45   \n2      246675545449582_1648730588577397       video   4/21/2018 6:17   \n3      246675545449582_1648576705259452       photo   4/21/2018 2:29   \n4      246675545449582_1645700502213739       photo   4/18/2018 3:22   \n...                                 ...         ...              ...   \n7045  1050855161656896_1061863470556065       photo   9/24/2016 2:58   \n7046  1050855161656896_1061334757275603       photo  9/23/2016 11:19   \n7047  1050855161656896_1060126464063099       photo  9/21/2016 23:03   \n7048  1050855161656896_1058663487542730       photo   9/20/2016 0:43   \n7049  1050855161656896_1050858841656528       photo  9/10/2016 10:30   \n\n      num_reactions  num_comments  num_shares  num_likes  num_loves  num_wows  \\\n0               529           512         262        432         92         3   \n1               150             0           0        150          0         0   \n2               227           236          57        204         21         1   \n3               111             0           0        111          0         0   \n4               213             0           0        204          9         0   \n...             ...           ...         ...        ...        ...       ...   \n7045             89             0           0         89          0         0   \n7046             16             0           0         14          1         0   \n7047              2             0           0          1          1         0   \n7048            351            12          22        349          2         0   \n7049             17             0           0         17          0         0   \n\n      num_hahas  num_sads  num_angrys  \n0             1         1           0  \n1             0         0           0  \n2             1         0           0  \n3             0         0           0  \n4             0         0           0  \n...         ...       ...         ...  \n7045          0         0           0  \n7046          1         0           0  \n7047          0         0           0  \n7048          0         0           0  \n7049          0         0           0  \n\n[7050 rows x 12 columns]",
      "text/html": "<div>\n<style scoped>\n    .dataframe tbody tr th:only-of-type {\n        vertical-align: middle;\n    }\n\n    .dataframe tbody tr th {\n        vertical-align: top;\n    }\n\n    .dataframe thead th {\n        text-align: right;\n    }\n</style>\n<table border=\"1\" class=\"dataframe\">\n  <thead>\n    <tr style=\"text-align: right;\">\n      <th></th>\n      <th>status_id</th>\n      <th>status_type</th>\n      <th>status_published</th>\n      <th>num_reactions</th>\n      <th>num_comments</th>\n      <th>num_shares</th>\n      <th>num_likes</th>\n      <th>num_loves</th>\n      <th>num_wows</th>\n      <th>num_hahas</th>\n      <th>num_sads</th>\n      <th>num_angrys</th>\n    </tr>\n  </thead>\n  <tbody>\n    <tr>\n      <th>0</th>\n      <td>246675545449582_1649696485147474</td>\n      <td>video</td>\n      <td>4/22/2018 6:00</td>\n      <td>529</td>\n      <td>512</td>\n      <td>262</td>\n      <td>432</td>\n      <td>92</td>\n      <td>3</td>\n      <td>1</td>\n      <td>1</td>\n      <td>0</td>\n    </tr>\n    <tr>\n      <th>1</th>\n      <td>246675545449582_1649426988507757</td>\n      <td>photo</td>\n      <td>4/21/2018 22:45</td>\n      <td>150</td>\n      <td>0</td>\n      <td>0</td>\n      <td>150</td>\n      <td>0</td>\n      <td>0</td>\n      <td>0</td>\n      <td>0</td>\n      <td>0</td>\n    </tr>\n    <tr>\n      <th>2</th>\n      <td>246675545449582_1648730588577397</td>\n      <td>video</td>\n      <td>4/21/2018 6:17</td>\n      <td>227</td>\n      <td>236</td>\n      <td>57</td>\n      <td>204</td>\n      <td>21</td>\n      <td>1</td>\n      <td>1</td>\n      <td>0</td>\n      <td>0</td>\n    </tr>\n    <tr>\n      <th>3</th>\n      <td>246675545449582_1648576705259452</td>\n      <td>photo</td>\n      <td>4/21/2018 2:29</td>\n      <td>111</td>\n      <td>0</td>\n      <td>0</td>\n      <td>111</td>\n      <td>0</td>\n      <td>0</td>\n      <td>0</td>\n      <td>0</td>\n      <td>0</td>\n    </tr>\n    <tr>\n      <th>4</th>\n      <td>246675545449582_1645700502213739</td>\n      <td>photo</td>\n      <td>4/18/2018 3:22</td>\n      <td>213</td>\n      <td>0</td>\n      <td>0</td>\n      <td>204</td>\n      <td>9</td>\n      <td>0</td>\n      <td>0</td>\n      <td>0</td>\n      <td>0</td>\n    </tr>\n    <tr>\n      <th>...</th>\n      <td>...</td>\n      <td>...</td>\n      <td>...</td>\n      <td>...</td>\n      <td>...</td>\n      <td>...</td>\n      <td>...</td>\n      <td>...</td>\n      <td>...</td>\n      <td>...</td>\n      <td>...</td>\n      <td>...</td>\n    </tr>\n    <tr>\n      <th>7045</th>\n      <td>1050855161656896_1061863470556065</td>\n      <td>photo</td>\n      <td>9/24/2016 2:58</td>\n      <td>89</td>\n      <td>0</td>\n      <td>0</td>\n      <td>89</td>\n      <td>0</td>\n      <td>0</td>\n      <td>0</td>\n      <td>0</td>\n      <td>0</td>\n    </tr>\n    <tr>\n      <th>7046</th>\n      <td>1050855161656896_1061334757275603</td>\n      <td>photo</td>\n      <td>9/23/2016 11:19</td>\n      <td>16</td>\n      <td>0</td>\n      <td>0</td>\n      <td>14</td>\n      <td>1</td>\n      <td>0</td>\n      <td>1</td>\n      <td>0</td>\n      <td>0</td>\n    </tr>\n    <tr>\n      <th>7047</th>\n      <td>1050855161656896_1060126464063099</td>\n      <td>photo</td>\n      <td>9/21/2016 23:03</td>\n      <td>2</td>\n      <td>0</td>\n      <td>0</td>\n      <td>1</td>\n      <td>1</td>\n      <td>0</td>\n      <td>0</td>\n      <td>0</td>\n      <td>0</td>\n    </tr>\n    <tr>\n      <th>7048</th>\n      <td>1050855161656896_1058663487542730</td>\n      <td>photo</td>\n      <td>9/20/2016 0:43</td>\n      <td>351</td>\n      <td>12</td>\n      <td>22</td>\n      <td>349</td>\n      <td>2</td>\n      <td>0</td>\n      <td>0</td>\n      <td>0</td>\n      <td>0</td>\n    </tr>\n    <tr>\n      <th>7049</th>\n      <td>1050855161656896_1050858841656528</td>\n      <td>photo</td>\n      <td>9/10/2016 10:30</td>\n      <td>17</td>\n      <td>0</td>\n      <td>0</td>\n      <td>17</td>\n      <td>0</td>\n      <td>0</td>\n      <td>0</td>\n      <td>0</td>\n      <td>0</td>\n    </tr>\n  </tbody>\n</table>\n<p>7050 rows × 12 columns</p>\n</div>"
     },
     "execution_count": 10,
     "metadata": {},
     "output_type": "execute_result"
    }
   ],
   "source": [
    "data.drop(['Column1', 'Column2', 'Column3', 'Column4'], axis=1, inplace=True)\n",
    "data"
   ],
   "metadata": {
    "collapsed": false,
    "ExecuteTime": {
     "end_time": "2024-03-23T07:19:44.212314Z",
     "start_time": "2024-03-23T07:19:44.183771Z"
    }
   },
   "id": "c9cdc823124c4e28",
   "execution_count": 10
  },
  {
   "cell_type": "code",
   "outputs": [
    {
     "data": {
      "text/plain": "     status_type  num_reactions  num_comments  num_shares  num_likes  \\\n0          video            529           512         262        432   \n1          photo            150             0           0        150   \n2          video            227           236          57        204   \n3          photo            111             0           0        111   \n4          photo            213             0           0        204   \n...          ...            ...           ...         ...        ...   \n7045       photo             89             0           0         89   \n7046       photo             16             0           0         14   \n7047       photo              2             0           0          1   \n7048       photo            351            12          22        349   \n7049       photo             17             0           0         17   \n\n      num_loves  num_wows  num_hahas  num_sads  num_angrys  \n0            92         3          1         1           0  \n1             0         0          0         0           0  \n2            21         1          1         0           0  \n3             0         0          0         0           0  \n4             9         0          0         0           0  \n...         ...       ...        ...       ...         ...  \n7045          0         0          0         0           0  \n7046          1         0          1         0           0  \n7047          1         0          0         0           0  \n7048          2         0          0         0           0  \n7049          0         0          0         0           0  \n\n[7050 rows x 10 columns]",
      "text/html": "<div>\n<style scoped>\n    .dataframe tbody tr th:only-of-type {\n        vertical-align: middle;\n    }\n\n    .dataframe tbody tr th {\n        vertical-align: top;\n    }\n\n    .dataframe thead th {\n        text-align: right;\n    }\n</style>\n<table border=\"1\" class=\"dataframe\">\n  <thead>\n    <tr style=\"text-align: right;\">\n      <th></th>\n      <th>status_type</th>\n      <th>num_reactions</th>\n      <th>num_comments</th>\n      <th>num_shares</th>\n      <th>num_likes</th>\n      <th>num_loves</th>\n      <th>num_wows</th>\n      <th>num_hahas</th>\n      <th>num_sads</th>\n      <th>num_angrys</th>\n    </tr>\n  </thead>\n  <tbody>\n    <tr>\n      <th>0</th>\n      <td>video</td>\n      <td>529</td>\n      <td>512</td>\n      <td>262</td>\n      <td>432</td>\n      <td>92</td>\n      <td>3</td>\n      <td>1</td>\n      <td>1</td>\n      <td>0</td>\n    </tr>\n    <tr>\n      <th>1</th>\n      <td>photo</td>\n      <td>150</td>\n      <td>0</td>\n      <td>0</td>\n      <td>150</td>\n      <td>0</td>\n      <td>0</td>\n      <td>0</td>\n      <td>0</td>\n      <td>0</td>\n    </tr>\n    <tr>\n      <th>2</th>\n      <td>video</td>\n      <td>227</td>\n      <td>236</td>\n      <td>57</td>\n      <td>204</td>\n      <td>21</td>\n      <td>1</td>\n      <td>1</td>\n      <td>0</td>\n      <td>0</td>\n    </tr>\n    <tr>\n      <th>3</th>\n      <td>photo</td>\n      <td>111</td>\n      <td>0</td>\n      <td>0</td>\n      <td>111</td>\n      <td>0</td>\n      <td>0</td>\n      <td>0</td>\n      <td>0</td>\n      <td>0</td>\n    </tr>\n    <tr>\n      <th>4</th>\n      <td>photo</td>\n      <td>213</td>\n      <td>0</td>\n      <td>0</td>\n      <td>204</td>\n      <td>9</td>\n      <td>0</td>\n      <td>0</td>\n      <td>0</td>\n      <td>0</td>\n    </tr>\n    <tr>\n      <th>...</th>\n      <td>...</td>\n      <td>...</td>\n      <td>...</td>\n      <td>...</td>\n      <td>...</td>\n      <td>...</td>\n      <td>...</td>\n      <td>...</td>\n      <td>...</td>\n      <td>...</td>\n    </tr>\n    <tr>\n      <th>7045</th>\n      <td>photo</td>\n      <td>89</td>\n      <td>0</td>\n      <td>0</td>\n      <td>89</td>\n      <td>0</td>\n      <td>0</td>\n      <td>0</td>\n      <td>0</td>\n      <td>0</td>\n    </tr>\n    <tr>\n      <th>7046</th>\n      <td>photo</td>\n      <td>16</td>\n      <td>0</td>\n      <td>0</td>\n      <td>14</td>\n      <td>1</td>\n      <td>0</td>\n      <td>1</td>\n      <td>0</td>\n      <td>0</td>\n    </tr>\n    <tr>\n      <th>7047</th>\n      <td>photo</td>\n      <td>2</td>\n      <td>0</td>\n      <td>0</td>\n      <td>1</td>\n      <td>1</td>\n      <td>0</td>\n      <td>0</td>\n      <td>0</td>\n      <td>0</td>\n    </tr>\n    <tr>\n      <th>7048</th>\n      <td>photo</td>\n      <td>351</td>\n      <td>12</td>\n      <td>22</td>\n      <td>349</td>\n      <td>2</td>\n      <td>0</td>\n      <td>0</td>\n      <td>0</td>\n      <td>0</td>\n    </tr>\n    <tr>\n      <th>7049</th>\n      <td>photo</td>\n      <td>17</td>\n      <td>0</td>\n      <td>0</td>\n      <td>17</td>\n      <td>0</td>\n      <td>0</td>\n      <td>0</td>\n      <td>0</td>\n      <td>0</td>\n    </tr>\n  </tbody>\n</table>\n<p>7050 rows × 10 columns</p>\n</div>"
     },
     "execution_count": 11,
     "metadata": {},
     "output_type": "execute_result"
    }
   ],
   "source": [
    "data.drop(['status_id', 'status_published'], axis=1, inplace=True)\n",
    "data"
   ],
   "metadata": {
    "collapsed": false,
    "ExecuteTime": {
     "end_time": "2024-03-23T07:19:44.243244Z",
     "start_time": "2024-03-23T07:19:44.215324Z"
    }
   },
   "id": "b61085137c88aee3",
   "execution_count": 11
  },
  {
   "cell_type": "code",
   "outputs": [
    {
     "data": {
      "text/plain": "status_type      object\nnum_reactions     int64\nnum_comments      int64\nnum_shares        int64\nnum_likes         int64\nnum_loves         int64\nnum_wows          int64\nnum_hahas         int64\nnum_sads          int64\nnum_angrys        int64\ndtype: object"
     },
     "execution_count": 12,
     "metadata": {},
     "output_type": "execute_result"
    }
   ],
   "source": [
    "data.dtypes"
   ],
   "metadata": {
    "collapsed": false,
    "ExecuteTime": {
     "end_time": "2024-03-23T07:19:44.259026Z",
     "start_time": "2024-03-23T07:19:44.245245Z"
    }
   },
   "id": "c8928f86ac73c394",
   "execution_count": 12
  },
  {
   "cell_type": "code",
   "outputs": [
    {
     "data": {
      "text/plain": "      status_type  num_reactions  num_comments  num_shares  num_likes  \\\n0               3            529           512         262        432   \n1               1            150             0           0        150   \n2               3            227           236          57        204   \n3               1            111             0           0        111   \n4               1            213             0           0        204   \n...           ...            ...           ...         ...        ...   \n7045            1             89             0           0         89   \n7046            1             16             0           0         14   \n7047            1              2             0           0          1   \n7048            1            351            12          22        349   \n7049            1             17             0           0         17   \n\n      num_loves  num_wows  num_hahas  num_sads  num_angrys  \n0            92         3          1         1           0  \n1             0         0          0         0           0  \n2            21         1          1         0           0  \n3             0         0          0         0           0  \n4             9         0          0         0           0  \n...         ...       ...        ...       ...         ...  \n7045          0         0          0         0           0  \n7046          1         0          1         0           0  \n7047          1         0          0         0           0  \n7048          2         0          0         0           0  \n7049          0         0          0         0           0  \n\n[7050 rows x 10 columns]",
      "text/html": "<div>\n<style scoped>\n    .dataframe tbody tr th:only-of-type {\n        vertical-align: middle;\n    }\n\n    .dataframe tbody tr th {\n        vertical-align: top;\n    }\n\n    .dataframe thead th {\n        text-align: right;\n    }\n</style>\n<table border=\"1\" class=\"dataframe\">\n  <thead>\n    <tr style=\"text-align: right;\">\n      <th></th>\n      <th>status_type</th>\n      <th>num_reactions</th>\n      <th>num_comments</th>\n      <th>num_shares</th>\n      <th>num_likes</th>\n      <th>num_loves</th>\n      <th>num_wows</th>\n      <th>num_hahas</th>\n      <th>num_sads</th>\n      <th>num_angrys</th>\n    </tr>\n  </thead>\n  <tbody>\n    <tr>\n      <th>0</th>\n      <td>3</td>\n      <td>529</td>\n      <td>512</td>\n      <td>262</td>\n      <td>432</td>\n      <td>92</td>\n      <td>3</td>\n      <td>1</td>\n      <td>1</td>\n      <td>0</td>\n    </tr>\n    <tr>\n      <th>1</th>\n      <td>1</td>\n      <td>150</td>\n      <td>0</td>\n      <td>0</td>\n      <td>150</td>\n      <td>0</td>\n      <td>0</td>\n      <td>0</td>\n      <td>0</td>\n      <td>0</td>\n    </tr>\n    <tr>\n      <th>2</th>\n      <td>3</td>\n      <td>227</td>\n      <td>236</td>\n      <td>57</td>\n      <td>204</td>\n      <td>21</td>\n      <td>1</td>\n      <td>1</td>\n      <td>0</td>\n      <td>0</td>\n    </tr>\n    <tr>\n      <th>3</th>\n      <td>1</td>\n      <td>111</td>\n      <td>0</td>\n      <td>0</td>\n      <td>111</td>\n      <td>0</td>\n      <td>0</td>\n      <td>0</td>\n      <td>0</td>\n      <td>0</td>\n    </tr>\n    <tr>\n      <th>4</th>\n      <td>1</td>\n      <td>213</td>\n      <td>0</td>\n      <td>0</td>\n      <td>204</td>\n      <td>9</td>\n      <td>0</td>\n      <td>0</td>\n      <td>0</td>\n      <td>0</td>\n    </tr>\n    <tr>\n      <th>...</th>\n      <td>...</td>\n      <td>...</td>\n      <td>...</td>\n      <td>...</td>\n      <td>...</td>\n      <td>...</td>\n      <td>...</td>\n      <td>...</td>\n      <td>...</td>\n      <td>...</td>\n    </tr>\n    <tr>\n      <th>7045</th>\n      <td>1</td>\n      <td>89</td>\n      <td>0</td>\n      <td>0</td>\n      <td>89</td>\n      <td>0</td>\n      <td>0</td>\n      <td>0</td>\n      <td>0</td>\n      <td>0</td>\n    </tr>\n    <tr>\n      <th>7046</th>\n      <td>1</td>\n      <td>16</td>\n      <td>0</td>\n      <td>0</td>\n      <td>14</td>\n      <td>1</td>\n      <td>0</td>\n      <td>1</td>\n      <td>0</td>\n      <td>0</td>\n    </tr>\n    <tr>\n      <th>7047</th>\n      <td>1</td>\n      <td>2</td>\n      <td>0</td>\n      <td>0</td>\n      <td>1</td>\n      <td>1</td>\n      <td>0</td>\n      <td>0</td>\n      <td>0</td>\n      <td>0</td>\n    </tr>\n    <tr>\n      <th>7048</th>\n      <td>1</td>\n      <td>351</td>\n      <td>12</td>\n      <td>22</td>\n      <td>349</td>\n      <td>2</td>\n      <td>0</td>\n      <td>0</td>\n      <td>0</td>\n      <td>0</td>\n    </tr>\n    <tr>\n      <th>7049</th>\n      <td>1</td>\n      <td>17</td>\n      <td>0</td>\n      <td>0</td>\n      <td>17</td>\n      <td>0</td>\n      <td>0</td>\n      <td>0</td>\n      <td>0</td>\n      <td>0</td>\n    </tr>\n  </tbody>\n</table>\n<p>7050 rows × 10 columns</p>\n</div>"
     },
     "execution_count": 13,
     "metadata": {},
     "output_type": "execute_result"
    }
   ],
   "source": [
    "le = LabelEncoder()\n",
    "data['status_type'] = le.fit_transform(data['status_type'])\n",
    "data"
   ],
   "metadata": {
    "collapsed": false,
    "ExecuteTime": {
     "end_time": "2024-03-23T07:19:44.290757Z",
     "start_time": "2024-03-23T07:19:44.261028Z"
    }
   },
   "id": "d2ebf6431145370f",
   "execution_count": 13
  },
  {
   "cell_type": "code",
   "outputs": [
    {
     "name": "stdout",
     "output_type": "stream",
     "text": [
      "<class 'pandas.core.frame.DataFrame'>\n",
      "RangeIndex: 7050 entries, 0 to 7049\n",
      "Data columns (total 10 columns):\n",
      " #   Column         Non-Null Count  Dtype\n",
      "---  ------         --------------  -----\n",
      " 0   status_type    7050 non-null   int64\n",
      " 1   num_reactions  7050 non-null   int64\n",
      " 2   num_comments   7050 non-null   int64\n",
      " 3   num_shares     7050 non-null   int64\n",
      " 4   num_likes      7050 non-null   int64\n",
      " 5   num_loves      7050 non-null   int64\n",
      " 6   num_wows       7050 non-null   int64\n",
      " 7   num_hahas      7050 non-null   int64\n",
      " 8   num_sads       7050 non-null   int64\n",
      " 9   num_angrys     7050 non-null   int64\n",
      "dtypes: int64(10)\n",
      "memory usage: 550.9 KB\n"
     ]
    }
   ],
   "source": [
    "data['status_type'] = data['status_type'].astype(np.int64)\n",
    "data.info()"
   ],
   "metadata": {
    "collapsed": false,
    "ExecuteTime": {
     "end_time": "2024-03-23T07:19:44.306280Z",
     "start_time": "2024-03-23T07:19:44.292756Z"
    }
   },
   "id": "bfea6a3fe7eef310",
   "execution_count": 14
  },
  {
   "cell_type": "code",
   "outputs": [],
   "source": [
    "data.drop_duplicates(inplace=True)"
   ],
   "metadata": {
    "collapsed": false,
    "ExecuteTime": {
     "end_time": "2024-03-23T07:24:46.197752Z",
     "start_time": "2024-03-23T07:24:46.177668Z"
    }
   },
   "id": "cede7c2e37631b31",
   "execution_count": 17
  },
  {
   "cell_type": "code",
   "outputs": [],
   "source": [
    "X, y = data.drop('status_type', axis=1), data['status_type']"
   ],
   "metadata": {
    "collapsed": false,
    "ExecuteTime": {
     "end_time": "2024-03-23T07:24:50.021893Z",
     "start_time": "2024-03-23T07:24:50.008028Z"
    }
   },
   "id": "67fc27a4f7dfd445",
   "execution_count": 18
  },
  {
   "cell_type": "markdown",
   "source": [
    "Factor Analysis"
   ],
   "metadata": {
    "collapsed": false
   },
   "id": "1931b7d7bddd83e7"
  },
  {
   "cell_type": "code",
   "outputs": [
    {
     "data": {
      "text/plain": "(97627.45914392163, 0.0)"
     },
     "execution_count": 26,
     "metadata": {},
     "output_type": "execute_result"
    }
   ],
   "source": [
    "chi_square_value,p_value=calculate_bartlett_sphericity(X)\n",
    "chi_square_value, p_value"
   ],
   "metadata": {
    "collapsed": false,
    "ExecuteTime": {
     "end_time": "2024-03-23T07:26:38.486096Z",
     "start_time": "2024-03-23T07:26:38.468004Z"
    }
   },
   "id": "36cc76f5923f373e",
   "execution_count": 26
  },
  {
   "cell_type": "code",
   "outputs": [],
   "source": [
    "kmo_all,kmo_model=calculate_kmo(X)"
   ],
   "metadata": {
    "collapsed": false,
    "ExecuteTime": {
     "end_time": "2024-03-23T07:26:45.753Z",
     "start_time": "2024-03-23T07:26:45.745988Z"
    }
   },
   "id": "37cedbe70e227b84",
   "execution_count": 29
  },
  {
   "cell_type": "code",
   "outputs": [
    {
     "data": {
      "text/plain": "0.16680145476003536"
     },
     "execution_count": 30,
     "metadata": {},
     "output_type": "execute_result"
    }
   ],
   "source": [
    "kmo_model"
   ],
   "metadata": {
    "collapsed": false,
    "ExecuteTime": {
     "end_time": "2024-03-23T07:26:46.174314Z",
     "start_time": "2024-03-23T07:26:46.162790Z"
    }
   },
   "id": "15bf25bdcbe38827",
   "execution_count": 30
  },
  {
   "cell_type": "code",
   "outputs": [
    {
     "ename": "AttributeError",
     "evalue": "'FactorAnalyzer' object has no attribute 'analyze'",
     "output_type": "error",
     "traceback": [
      "\u001B[1;31m---------------------------------------------------------------------------\u001B[0m",
      "\u001B[1;31mAttributeError\u001B[0m                            Traceback (most recent call last)",
      "Cell \u001B[1;32mIn[31], line 2\u001B[0m\n\u001B[0;32m      1\u001B[0m fa \u001B[38;5;241m=\u001B[39m FactorAnalyzer()\n\u001B[1;32m----> 2\u001B[0m \u001B[43mfa\u001B[49m\u001B[38;5;241;43m.\u001B[39;49m\u001B[43manalyze\u001B[49m(X, \u001B[38;5;241m25\u001B[39m, rotation\u001B[38;5;241m=\u001B[39m\u001B[38;5;28;01mNone\u001B[39;00m)\n",
      "\u001B[1;31mAttributeError\u001B[0m: 'FactorAnalyzer' object has no attribute 'analyze'"
     ]
    }
   ],
   "source": [
    "fa = FactorAnalyzer()\n",
    "fa.analyze(X, 25, rotation=None)"
   ],
   "metadata": {
    "collapsed": false,
    "ExecuteTime": {
     "end_time": "2024-03-23T07:28:02.425155Z",
     "start_time": "2024-03-23T07:28:01.544141Z"
    }
   },
   "id": "340bad7fb5e9cd79",
   "execution_count": 31
  },
  {
   "cell_type": "code",
   "outputs": [
    {
     "ename": "AttributeError",
     "evalue": "'NoneType' object has no attribute 'copy'",
     "output_type": "error",
     "traceback": [
      "\u001B[1;31m---------------------------------------------------------------------------\u001B[0m",
      "\u001B[1;31mAttributeError\u001B[0m                            Traceback (most recent call last)",
      "Cell \u001B[1;32mIn[32], line 1\u001B[0m\n\u001B[1;32m----> 1\u001B[0m ev, v \u001B[38;5;241m=\u001B[39m \u001B[43mfa\u001B[49m\u001B[38;5;241;43m.\u001B[39;49m\u001B[43mget_eigenvalues\u001B[49m\u001B[43m(\u001B[49m\u001B[43m)\u001B[49m\n\u001B[0;32m      2\u001B[0m ev\n",
      "File \u001B[1;32m~\\Machine Learning\\sample_project_1\\env\\lib\\site-packages\\factor_analyzer\\factor_analyzer.py:827\u001B[0m, in \u001B[0;36mFactorAnalyzer.get_eigenvalues\u001B[1;34m(self)\u001B[0m\n\u001B[0;32m    825\u001B[0m \u001B[38;5;66;03m# meets all of our expected criteria\u001B[39;00m\n\u001B[0;32m    826\u001B[0m check_is_fitted(\u001B[38;5;28mself\u001B[39m, [\u001B[38;5;124m\"\u001B[39m\u001B[38;5;124mloadings_\u001B[39m\u001B[38;5;124m\"\u001B[39m, \u001B[38;5;124m\"\u001B[39m\u001B[38;5;124mcorr_\u001B[39m\u001B[38;5;124m\"\u001B[39m])\n\u001B[1;32m--> 827\u001B[0m corr_mtx \u001B[38;5;241m=\u001B[39m \u001B[38;5;28;43mself\u001B[39;49m\u001B[38;5;241;43m.\u001B[39;49m\u001B[43mcorr_\u001B[49m\u001B[38;5;241;43m.\u001B[39;49m\u001B[43mcopy\u001B[49m()\n\u001B[0;32m    829\u001B[0m e_values, _ \u001B[38;5;241m=\u001B[39m np\u001B[38;5;241m.\u001B[39mlinalg\u001B[38;5;241m.\u001B[39meigh(corr_mtx)\n\u001B[0;32m    830\u001B[0m e_values \u001B[38;5;241m=\u001B[39m e_values[::\u001B[38;5;241m-\u001B[39m\u001B[38;5;241m1\u001B[39m]\n",
      "\u001B[1;31mAttributeError\u001B[0m: 'NoneType' object has no attribute 'copy'"
     ]
    }
   ],
   "source": [
    "ev, v = fa.get_eigenvalues()\n",
    "ev"
   ],
   "metadata": {
    "collapsed": false,
    "ExecuteTime": {
     "end_time": "2024-03-23T07:29:04.664672Z",
     "start_time": "2024-03-23T07:29:04.557132Z"
    }
   },
   "id": "e6055f68f4afb710",
   "execution_count": 32
  },
  {
   "cell_type": "code",
   "outputs": [],
   "source": [],
   "metadata": {
    "collapsed": false
   },
   "id": "b224efab0f652ca5"
  }
 ],
 "metadata": {
  "kernelspec": {
   "display_name": "Python 3",
   "language": "python",
   "name": "python3"
  },
  "language_info": {
   "codemirror_mode": {
    "name": "ipython",
    "version": 2
   },
   "file_extension": ".py",
   "mimetype": "text/x-python",
   "name": "python",
   "nbconvert_exporter": "python",
   "pygments_lexer": "ipython2",
   "version": "2.7.6"
  }
 },
 "nbformat": 4,
 "nbformat_minor": 5
}
