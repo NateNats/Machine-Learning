{
 "cells": [
  {
   "cell_type": "code",
   "execution_count": 2,
   "id": "initial_id",
   "metadata": {
    "collapsed": true,
    "ExecuteTime": {
     "end_time": "2024-04-11T14:17:21.483474Z",
     "start_time": "2024-04-11T14:17:21.474475Z"
    }
   },
   "outputs": [],
   "source": [
    "import pandas as pd\n",
    "import numpy as np\n",
    "import matplotlib.pyplot as plt\n",
    "from sklearn.model_selection import train_test_split\n",
    "from sklearn.decomposition import PCA\n",
    "from sklearn.ensemble import RandomForestClassifier\n",
    "from sklearn.preprocessing import MinMaxScaler, StandardScaler\n",
    "from sklearn.svm import SVC\n",
    "from sklearn.metrics import precision_score, recall_score, f1_score, roc_auc_score, accuracy_score, confusion_matrix"
   ]
  },
  {
   "cell_type": "code",
   "outputs": [
    {
     "data": {
      "text/plain": "       Unnamed: 0  workclass  education  marital-status  occupation  \\\n0               0          4         12               0           0   \n1               1          6         12               1           1   \n2               2          2          8               4           2   \n3               3          2          6               1           2   \n4               4          2         12               1           3   \n...           ...        ...        ...             ...         ...   \n32533       32556          2         10               1          10   \n32534       32557          2          8               1           9   \n32535       32558          2          8               6           0   \n32536       32559          2          8               0           0   \n32537       32560          7          8               1           1   \n\n       relationship  race  sex  native-country  income  age  fnlwgt  \\\n0                 0     0    0              38       0   39   77516   \n1                 1     0    0              38       0   50   83311   \n2                 0     0    0              38       0   38  215646   \n3                 1     1    0              38       0   53  234721   \n4                 2     1    1               4       0   28  338409   \n...             ...   ...  ...             ...     ...  ...     ...   \n32533             2     0    1              38       0   27  257302   \n32534             1     0    0              38       1   40  154374   \n32535             4     0    1              38       0   58  151910   \n32536             3     0    0              38       0   22  201490   \n32537             2     0    1              38       1   52  287927   \n\n       capital-gain  capital-loss  hours-per-week  \n0              2174             0              40  \n1                 0             0              13  \n2                 0             0              40  \n3                 0             0              40  \n4                 0             0              40  \n...             ...           ...             ...  \n32533             0             0              38  \n32534             0             0              40  \n32535             0             0              40  \n32536             0             0              20  \n32537         15024             0              40  \n\n[32538 rows x 15 columns]",
      "text/html": "<div>\n<style scoped>\n    .dataframe tbody tr th:only-of-type {\n        vertical-align: middle;\n    }\n\n    .dataframe tbody tr th {\n        vertical-align: top;\n    }\n\n    .dataframe thead th {\n        text-align: right;\n    }\n</style>\n<table border=\"1\" class=\"dataframe\">\n  <thead>\n    <tr style=\"text-align: right;\">\n      <th></th>\n      <th>Unnamed: 0</th>\n      <th>workclass</th>\n      <th>education</th>\n      <th>marital-status</th>\n      <th>occupation</th>\n      <th>relationship</th>\n      <th>race</th>\n      <th>sex</th>\n      <th>native-country</th>\n      <th>income</th>\n      <th>age</th>\n      <th>fnlwgt</th>\n      <th>capital-gain</th>\n      <th>capital-loss</th>\n      <th>hours-per-week</th>\n    </tr>\n  </thead>\n  <tbody>\n    <tr>\n      <th>0</th>\n      <td>0</td>\n      <td>4</td>\n      <td>12</td>\n      <td>0</td>\n      <td>0</td>\n      <td>0</td>\n      <td>0</td>\n      <td>0</td>\n      <td>38</td>\n      <td>0</td>\n      <td>39</td>\n      <td>77516</td>\n      <td>2174</td>\n      <td>0</td>\n      <td>40</td>\n    </tr>\n    <tr>\n      <th>1</th>\n      <td>1</td>\n      <td>6</td>\n      <td>12</td>\n      <td>1</td>\n      <td>1</td>\n      <td>1</td>\n      <td>0</td>\n      <td>0</td>\n      <td>38</td>\n      <td>0</td>\n      <td>50</td>\n      <td>83311</td>\n      <td>0</td>\n      <td>0</td>\n      <td>13</td>\n    </tr>\n    <tr>\n      <th>2</th>\n      <td>2</td>\n      <td>2</td>\n      <td>8</td>\n      <td>4</td>\n      <td>2</td>\n      <td>0</td>\n      <td>0</td>\n      <td>0</td>\n      <td>38</td>\n      <td>0</td>\n      <td>38</td>\n      <td>215646</td>\n      <td>0</td>\n      <td>0</td>\n      <td>40</td>\n    </tr>\n    <tr>\n      <th>3</th>\n      <td>3</td>\n      <td>2</td>\n      <td>6</td>\n      <td>1</td>\n      <td>2</td>\n      <td>1</td>\n      <td>1</td>\n      <td>0</td>\n      <td>38</td>\n      <td>0</td>\n      <td>53</td>\n      <td>234721</td>\n      <td>0</td>\n      <td>0</td>\n      <td>40</td>\n    </tr>\n    <tr>\n      <th>4</th>\n      <td>4</td>\n      <td>2</td>\n      <td>12</td>\n      <td>1</td>\n      <td>3</td>\n      <td>2</td>\n      <td>1</td>\n      <td>1</td>\n      <td>4</td>\n      <td>0</td>\n      <td>28</td>\n      <td>338409</td>\n      <td>0</td>\n      <td>0</td>\n      <td>40</td>\n    </tr>\n    <tr>\n      <th>...</th>\n      <td>...</td>\n      <td>...</td>\n      <td>...</td>\n      <td>...</td>\n      <td>...</td>\n      <td>...</td>\n      <td>...</td>\n      <td>...</td>\n      <td>...</td>\n      <td>...</td>\n      <td>...</td>\n      <td>...</td>\n      <td>...</td>\n      <td>...</td>\n      <td>...</td>\n    </tr>\n    <tr>\n      <th>32533</th>\n      <td>32556</td>\n      <td>2</td>\n      <td>10</td>\n      <td>1</td>\n      <td>10</td>\n      <td>2</td>\n      <td>0</td>\n      <td>1</td>\n      <td>38</td>\n      <td>0</td>\n      <td>27</td>\n      <td>257302</td>\n      <td>0</td>\n      <td>0</td>\n      <td>38</td>\n    </tr>\n    <tr>\n      <th>32534</th>\n      <td>32557</td>\n      <td>2</td>\n      <td>8</td>\n      <td>1</td>\n      <td>9</td>\n      <td>1</td>\n      <td>0</td>\n      <td>0</td>\n      <td>38</td>\n      <td>1</td>\n      <td>40</td>\n      <td>154374</td>\n      <td>0</td>\n      <td>0</td>\n      <td>40</td>\n    </tr>\n    <tr>\n      <th>32535</th>\n      <td>32558</td>\n      <td>2</td>\n      <td>8</td>\n      <td>6</td>\n      <td>0</td>\n      <td>4</td>\n      <td>0</td>\n      <td>1</td>\n      <td>38</td>\n      <td>0</td>\n      <td>58</td>\n      <td>151910</td>\n      <td>0</td>\n      <td>0</td>\n      <td>40</td>\n    </tr>\n    <tr>\n      <th>32536</th>\n      <td>32559</td>\n      <td>2</td>\n      <td>8</td>\n      <td>0</td>\n      <td>0</td>\n      <td>3</td>\n      <td>0</td>\n      <td>0</td>\n      <td>38</td>\n      <td>0</td>\n      <td>22</td>\n      <td>201490</td>\n      <td>0</td>\n      <td>0</td>\n      <td>20</td>\n    </tr>\n    <tr>\n      <th>32537</th>\n      <td>32560</td>\n      <td>7</td>\n      <td>8</td>\n      <td>1</td>\n      <td>1</td>\n      <td>2</td>\n      <td>0</td>\n      <td>1</td>\n      <td>38</td>\n      <td>1</td>\n      <td>52</td>\n      <td>287927</td>\n      <td>15024</td>\n      <td>0</td>\n      <td>40</td>\n    </tr>\n  </tbody>\n</table>\n<p>32538 rows × 15 columns</p>\n</div>"
     },
     "execution_count": 3,
     "metadata": {},
     "output_type": "execute_result"
    }
   ],
   "source": [
    "data = pd.read_csv('new_income_evaluation.csv')\n",
    "data"
   ],
   "metadata": {
    "collapsed": false,
    "ExecuteTime": {
     "end_time": "2024-04-11T14:17:21.818739Z",
     "start_time": "2024-04-11T14:17:21.771599Z"
    }
   },
   "id": "4428b2bf146f83cf",
   "execution_count": 3
  },
  {
   "cell_type": "code",
   "outputs": [
    {
     "data": {
      "text/plain": "       workclass  education  marital-status  occupation  relationship  race  \\\n0              4         12               0           0             0     0   \n1              6         12               1           1             1     0   \n2              2          8               4           2             0     0   \n3              2          6               1           2             1     1   \n4              2         12               1           3             2     1   \n...          ...        ...             ...         ...           ...   ...   \n32533          2         10               1          10             2     0   \n32534          2          8               1           9             1     0   \n32535          2          8               6           0             4     0   \n32536          2          8               0           0             3     0   \n32537          7          8               1           1             2     0   \n\n       sex  native-country  income  age  fnlwgt  capital-gain  capital-loss  \\\n0        0              38       0   39   77516          2174             0   \n1        0              38       0   50   83311             0             0   \n2        0              38       0   38  215646             0             0   \n3        0              38       0   53  234721             0             0   \n4        1               4       0   28  338409             0             0   \n...    ...             ...     ...  ...     ...           ...           ...   \n32533    1              38       0   27  257302             0             0   \n32534    0              38       1   40  154374             0             0   \n32535    1              38       0   58  151910             0             0   \n32536    0              38       0   22  201490             0             0   \n32537    1              38       1   52  287927         15024             0   \n\n       hours-per-week  \n0                  40  \n1                  13  \n2                  40  \n3                  40  \n4                  40  \n...               ...  \n32533              38  \n32534              40  \n32535              40  \n32536              20  \n32537              40  \n\n[32538 rows x 14 columns]",
      "text/html": "<div>\n<style scoped>\n    .dataframe tbody tr th:only-of-type {\n        vertical-align: middle;\n    }\n\n    .dataframe tbody tr th {\n        vertical-align: top;\n    }\n\n    .dataframe thead th {\n        text-align: right;\n    }\n</style>\n<table border=\"1\" class=\"dataframe\">\n  <thead>\n    <tr style=\"text-align: right;\">\n      <th></th>\n      <th>workclass</th>\n      <th>education</th>\n      <th>marital-status</th>\n      <th>occupation</th>\n      <th>relationship</th>\n      <th>race</th>\n      <th>sex</th>\n      <th>native-country</th>\n      <th>income</th>\n      <th>age</th>\n      <th>fnlwgt</th>\n      <th>capital-gain</th>\n      <th>capital-loss</th>\n      <th>hours-per-week</th>\n    </tr>\n  </thead>\n  <tbody>\n    <tr>\n      <th>0</th>\n      <td>4</td>\n      <td>12</td>\n      <td>0</td>\n      <td>0</td>\n      <td>0</td>\n      <td>0</td>\n      <td>0</td>\n      <td>38</td>\n      <td>0</td>\n      <td>39</td>\n      <td>77516</td>\n      <td>2174</td>\n      <td>0</td>\n      <td>40</td>\n    </tr>\n    <tr>\n      <th>1</th>\n      <td>6</td>\n      <td>12</td>\n      <td>1</td>\n      <td>1</td>\n      <td>1</td>\n      <td>0</td>\n      <td>0</td>\n      <td>38</td>\n      <td>0</td>\n      <td>50</td>\n      <td>83311</td>\n      <td>0</td>\n      <td>0</td>\n      <td>13</td>\n    </tr>\n    <tr>\n      <th>2</th>\n      <td>2</td>\n      <td>8</td>\n      <td>4</td>\n      <td>2</td>\n      <td>0</td>\n      <td>0</td>\n      <td>0</td>\n      <td>38</td>\n      <td>0</td>\n      <td>38</td>\n      <td>215646</td>\n      <td>0</td>\n      <td>0</td>\n      <td>40</td>\n    </tr>\n    <tr>\n      <th>3</th>\n      <td>2</td>\n      <td>6</td>\n      <td>1</td>\n      <td>2</td>\n      <td>1</td>\n      <td>1</td>\n      <td>0</td>\n      <td>38</td>\n      <td>0</td>\n      <td>53</td>\n      <td>234721</td>\n      <td>0</td>\n      <td>0</td>\n      <td>40</td>\n    </tr>\n    <tr>\n      <th>4</th>\n      <td>2</td>\n      <td>12</td>\n      <td>1</td>\n      <td>3</td>\n      <td>2</td>\n      <td>1</td>\n      <td>1</td>\n      <td>4</td>\n      <td>0</td>\n      <td>28</td>\n      <td>338409</td>\n      <td>0</td>\n      <td>0</td>\n      <td>40</td>\n    </tr>\n    <tr>\n      <th>...</th>\n      <td>...</td>\n      <td>...</td>\n      <td>...</td>\n      <td>...</td>\n      <td>...</td>\n      <td>...</td>\n      <td>...</td>\n      <td>...</td>\n      <td>...</td>\n      <td>...</td>\n      <td>...</td>\n      <td>...</td>\n      <td>...</td>\n      <td>...</td>\n    </tr>\n    <tr>\n      <th>32533</th>\n      <td>2</td>\n      <td>10</td>\n      <td>1</td>\n      <td>10</td>\n      <td>2</td>\n      <td>0</td>\n      <td>1</td>\n      <td>38</td>\n      <td>0</td>\n      <td>27</td>\n      <td>257302</td>\n      <td>0</td>\n      <td>0</td>\n      <td>38</td>\n    </tr>\n    <tr>\n      <th>32534</th>\n      <td>2</td>\n      <td>8</td>\n      <td>1</td>\n      <td>9</td>\n      <td>1</td>\n      <td>0</td>\n      <td>0</td>\n      <td>38</td>\n      <td>1</td>\n      <td>40</td>\n      <td>154374</td>\n      <td>0</td>\n      <td>0</td>\n      <td>40</td>\n    </tr>\n    <tr>\n      <th>32535</th>\n      <td>2</td>\n      <td>8</td>\n      <td>6</td>\n      <td>0</td>\n      <td>4</td>\n      <td>0</td>\n      <td>1</td>\n      <td>38</td>\n      <td>0</td>\n      <td>58</td>\n      <td>151910</td>\n      <td>0</td>\n      <td>0</td>\n      <td>40</td>\n    </tr>\n    <tr>\n      <th>32536</th>\n      <td>2</td>\n      <td>8</td>\n      <td>0</td>\n      <td>0</td>\n      <td>3</td>\n      <td>0</td>\n      <td>0</td>\n      <td>38</td>\n      <td>0</td>\n      <td>22</td>\n      <td>201490</td>\n      <td>0</td>\n      <td>0</td>\n      <td>20</td>\n    </tr>\n    <tr>\n      <th>32537</th>\n      <td>7</td>\n      <td>8</td>\n      <td>1</td>\n      <td>1</td>\n      <td>2</td>\n      <td>0</td>\n      <td>1</td>\n      <td>38</td>\n      <td>1</td>\n      <td>52</td>\n      <td>287927</td>\n      <td>15024</td>\n      <td>0</td>\n      <td>40</td>\n    </tr>\n  </tbody>\n</table>\n<p>32538 rows × 14 columns</p>\n</div>"
     },
     "execution_count": 4,
     "metadata": {},
     "output_type": "execute_result"
    }
   ],
   "source": [
    "data.drop('Unnamed: 0', axis=1, inplace=True)\n",
    "data"
   ],
   "metadata": {
    "collapsed": false,
    "ExecuteTime": {
     "end_time": "2024-04-11T14:17:21.834761Z",
     "start_time": "2024-04-11T14:17:21.820740Z"
    }
   },
   "id": "80543809e61f6942",
   "execution_count": 4
  },
  {
   "cell_type": "code",
   "outputs": [
    {
     "data": {
      "text/plain": "0"
     },
     "execution_count": 5,
     "metadata": {},
     "output_type": "execute_result"
    }
   ],
   "source": [
    "data.duplicated().sum()"
   ],
   "metadata": {
    "collapsed": false,
    "ExecuteTime": {
     "end_time": "2024-04-11T14:17:21.850770Z",
     "start_time": "2024-04-11T14:17:21.835757Z"
    }
   },
   "id": "cac099db5f5c17ed",
   "execution_count": 5
  },
  {
   "cell_type": "code",
   "outputs": [],
   "source": [
    "X = data.drop('income', axis=1)\n",
    "y = data['income']"
   ],
   "metadata": {
    "collapsed": false,
    "ExecuteTime": {
     "end_time": "2024-04-11T14:17:21.866763Z",
     "start_time": "2024-04-11T14:17:21.853740Z"
    }
   },
   "id": "2592f30f2e4d847a",
   "execution_count": 6
  },
  {
   "cell_type": "code",
   "outputs": [
    {
     "data": {
      "text/plain": "(32538, 13)"
     },
     "execution_count": 7,
     "metadata": {},
     "output_type": "execute_result"
    }
   ],
   "source": [
    "X.shape"
   ],
   "metadata": {
    "collapsed": false,
    "ExecuteTime": {
     "end_time": "2024-04-11T14:17:21.898738Z",
     "start_time": "2024-04-11T14:17:21.890741Z"
    }
   },
   "id": "9afa6ddab7379114",
   "execution_count": 7
  },
  {
   "cell_type": "code",
   "outputs": [
    {
     "data": {
      "text/plain": "(32538,)"
     },
     "execution_count": 8,
     "metadata": {},
     "output_type": "execute_result"
    }
   ],
   "source": [
    "y.shape"
   ],
   "metadata": {
    "collapsed": false,
    "ExecuteTime": {
     "end_time": "2024-04-11T14:17:21.977739Z",
     "start_time": "2024-04-11T14:17:21.969742Z"
    }
   },
   "id": "ed360222a64b777d",
   "execution_count": 8
  },
  {
   "cell_type": "code",
   "outputs": [],
   "source": [
    "X_temp, X_test, y_temp, y_test = train_test_split(X, y, test_size=0.15, stratify=y)"
   ],
   "metadata": {
    "collapsed": false,
    "ExecuteTime": {
     "end_time": "2024-04-11T14:17:22.072738Z",
     "start_time": "2024-04-11T14:17:22.054741Z"
    }
   },
   "id": "a0a9f846104c379b",
   "execution_count": 9
  },
  {
   "cell_type": "code",
   "outputs": [
    {
     "name": "stdout",
     "output_type": "stream",
     "text": [
      "shape of X_temp: (27657, 13)\n",
      "shape of y_temp: (27657,)\n",
      "shape of X_test: (4881, 13)\n",
      "shape of y_test: (4881,)\n"
     ]
    }
   ],
   "source": [
    "print(f'shape of X_temp: {X_temp.shape}')\n",
    "print(f'shape of y_temp: {y_temp.shape}')\n",
    "print(f'shape of X_test: {X_test.shape}')\n",
    "print(f'shape of y_test: {y_test.shape}')"
   ],
   "metadata": {
    "collapsed": false,
    "ExecuteTime": {
     "end_time": "2024-04-11T14:17:22.183738Z",
     "start_time": "2024-04-11T14:17:22.169740Z"
    }
   },
   "id": "38fbb538d77ed64",
   "execution_count": 10
  },
  {
   "cell_type": "code",
   "outputs": [],
   "source": [
    "X_train, X_val, y_train, y_val = train_test_split(X_temp, y_temp, test_size=0.15, stratify=y_temp)"
   ],
   "metadata": {
    "collapsed": false,
    "ExecuteTime": {
     "end_time": "2024-04-11T14:17:22.215825Z",
     "start_time": "2024-04-11T14:17:22.200829Z"
    }
   },
   "id": "4f7479b2d9ef6cca",
   "execution_count": 11
  },
  {
   "cell_type": "code",
   "outputs": [
    {
     "name": "stdout",
     "output_type": "stream",
     "text": [
      "shape of X_train: (23508, 13)\n",
      "shape of y_val: (4149,)\n",
      "shape of X_train: (23508, 13)\n",
      "shape of y_val: (4149,)\n"
     ]
    }
   ],
   "source": [
    "print(f'shape of X_train: {X_train.shape}')\n",
    "print(f'shape of y_val: {y_val.shape}')\n",
    "print(f'shape of X_train: {X_train.shape}')\n",
    "print(f'shape of y_val: {y_val.shape}')"
   ],
   "metadata": {
    "collapsed": false,
    "ExecuteTime": {
     "end_time": "2024-04-11T14:17:22.262851Z",
     "start_time": "2024-04-11T14:17:22.248825Z"
    }
   },
   "id": "603fb63a11429548",
   "execution_count": 12
  },
  {
   "cell_type": "code",
   "outputs": [
    {
     "data": {
      "text/plain": "       workclass  education  marital-status  occupation  relationship  race  \\\n222            2          8               0           4             0     1   \n918            6          8               1           1             1     0   \n1040           2          8               0           4             0     0   \n1168           6         15               1           3             1     0   \n1935           2         12               1           1             1     0   \n...          ...        ...             ...         ...           ...   ...   \n32255          2          8               6           0             4     0   \n32345          3          3               1          11             1     0   \n32436          2         12               1           1             1     0   \n32471          3          8               0           4             0     0   \n32502          0         11               4           1             4     0   \n\n       sex  native-country  income  age  fnlwgt  capital-gain  capital-loss  \\\n222      0              38       0   90   51744             0          2206   \n918      0              38       0   81  136063             0             0   \n1040     1              38       0   90  137018             0             0   \n1168     0              38       0   88  206291             0             0   \n1935     0              38       0   90  221832             0             0   \n...    ...             ...     ...  ...     ...           ...           ...   \n32255    1              38       0   90  313749             0             0   \n32345    0              38       0   90  214594          2653             0   \n32436    0              30       0   85   98611             0             0   \n32471    0              38       0   82  403910             0             0   \n32502    1              34       0   81  120478             0             0   \n\n       hours-per-week  \n222                40  \n918                30  \n1040               40  \n1168               40  \n1935               45  \n...               ...  \n32255              25  \n32345              40  \n32436               3  \n32471               3  \n32502               1  \n\n[98 rows x 14 columns]",
      "text/html": "<div>\n<style scoped>\n    .dataframe tbody tr th:only-of-type {\n        vertical-align: middle;\n    }\n\n    .dataframe tbody tr th {\n        vertical-align: top;\n    }\n\n    .dataframe thead th {\n        text-align: right;\n    }\n</style>\n<table border=\"1\" class=\"dataframe\">\n  <thead>\n    <tr style=\"text-align: right;\">\n      <th></th>\n      <th>workclass</th>\n      <th>education</th>\n      <th>marital-status</th>\n      <th>occupation</th>\n      <th>relationship</th>\n      <th>race</th>\n      <th>sex</th>\n      <th>native-country</th>\n      <th>income</th>\n      <th>age</th>\n      <th>fnlwgt</th>\n      <th>capital-gain</th>\n      <th>capital-loss</th>\n      <th>hours-per-week</th>\n    </tr>\n  </thead>\n  <tbody>\n    <tr>\n      <th>222</th>\n      <td>2</td>\n      <td>8</td>\n      <td>0</td>\n      <td>4</td>\n      <td>0</td>\n      <td>1</td>\n      <td>0</td>\n      <td>38</td>\n      <td>0</td>\n      <td>90</td>\n      <td>51744</td>\n      <td>0</td>\n      <td>2206</td>\n      <td>40</td>\n    </tr>\n    <tr>\n      <th>918</th>\n      <td>6</td>\n      <td>8</td>\n      <td>1</td>\n      <td>1</td>\n      <td>1</td>\n      <td>0</td>\n      <td>0</td>\n      <td>38</td>\n      <td>0</td>\n      <td>81</td>\n      <td>136063</td>\n      <td>0</td>\n      <td>0</td>\n      <td>30</td>\n    </tr>\n    <tr>\n      <th>1040</th>\n      <td>2</td>\n      <td>8</td>\n      <td>0</td>\n      <td>4</td>\n      <td>0</td>\n      <td>0</td>\n      <td>1</td>\n      <td>38</td>\n      <td>0</td>\n      <td>90</td>\n      <td>137018</td>\n      <td>0</td>\n      <td>0</td>\n      <td>40</td>\n    </tr>\n    <tr>\n      <th>1168</th>\n      <td>6</td>\n      <td>15</td>\n      <td>1</td>\n      <td>3</td>\n      <td>1</td>\n      <td>0</td>\n      <td>0</td>\n      <td>38</td>\n      <td>0</td>\n      <td>88</td>\n      <td>206291</td>\n      <td>0</td>\n      <td>0</td>\n      <td>40</td>\n    </tr>\n    <tr>\n      <th>1935</th>\n      <td>2</td>\n      <td>12</td>\n      <td>1</td>\n      <td>1</td>\n      <td>1</td>\n      <td>0</td>\n      <td>0</td>\n      <td>38</td>\n      <td>0</td>\n      <td>90</td>\n      <td>221832</td>\n      <td>0</td>\n      <td>0</td>\n      <td>45</td>\n    </tr>\n    <tr>\n      <th>...</th>\n      <td>...</td>\n      <td>...</td>\n      <td>...</td>\n      <td>...</td>\n      <td>...</td>\n      <td>...</td>\n      <td>...</td>\n      <td>...</td>\n      <td>...</td>\n      <td>...</td>\n      <td>...</td>\n      <td>...</td>\n      <td>...</td>\n      <td>...</td>\n    </tr>\n    <tr>\n      <th>32255</th>\n      <td>2</td>\n      <td>8</td>\n      <td>6</td>\n      <td>0</td>\n      <td>4</td>\n      <td>0</td>\n      <td>1</td>\n      <td>38</td>\n      <td>0</td>\n      <td>90</td>\n      <td>313749</td>\n      <td>0</td>\n      <td>0</td>\n      <td>25</td>\n    </tr>\n    <tr>\n      <th>32345</th>\n      <td>3</td>\n      <td>3</td>\n      <td>1</td>\n      <td>11</td>\n      <td>1</td>\n      <td>0</td>\n      <td>0</td>\n      <td>38</td>\n      <td>0</td>\n      <td>90</td>\n      <td>214594</td>\n      <td>2653</td>\n      <td>0</td>\n      <td>40</td>\n    </tr>\n    <tr>\n      <th>32436</th>\n      <td>2</td>\n      <td>12</td>\n      <td>1</td>\n      <td>1</td>\n      <td>1</td>\n      <td>0</td>\n      <td>0</td>\n      <td>30</td>\n      <td>0</td>\n      <td>85</td>\n      <td>98611</td>\n      <td>0</td>\n      <td>0</td>\n      <td>3</td>\n    </tr>\n    <tr>\n      <th>32471</th>\n      <td>3</td>\n      <td>8</td>\n      <td>0</td>\n      <td>4</td>\n      <td>0</td>\n      <td>0</td>\n      <td>0</td>\n      <td>38</td>\n      <td>0</td>\n      <td>82</td>\n      <td>403910</td>\n      <td>0</td>\n      <td>0</td>\n      <td>3</td>\n    </tr>\n    <tr>\n      <th>32502</th>\n      <td>0</td>\n      <td>11</td>\n      <td>4</td>\n      <td>1</td>\n      <td>4</td>\n      <td>0</td>\n      <td>1</td>\n      <td>34</td>\n      <td>0</td>\n      <td>81</td>\n      <td>120478</td>\n      <td>0</td>\n      <td>0</td>\n      <td>1</td>\n    </tr>\n  </tbody>\n</table>\n<p>98 rows × 14 columns</p>\n</div>"
     },
     "execution_count": 13,
     "metadata": {},
     "output_type": "execute_result"
    }
   ],
   "source": [
    "df = data.loc[data['age']>80]\n",
    "df"
   ],
   "metadata": {
    "collapsed": false,
    "ExecuteTime": {
     "end_time": "2024-04-11T14:17:22.294849Z",
     "start_time": "2024-04-11T14:17:22.281828Z"
    }
   },
   "id": "80837e741589cf3f",
   "execution_count": 13
  },
  {
   "cell_type": "code",
   "outputs": [],
   "source": [
    "scaler_m = MinMaxScaler()\n",
    "X_train_norm = X_train.copy()\n",
    "X_test_norm = X_test.copy()\n",
    "X_val_norm = X_val.copy()"
   ],
   "metadata": {
    "collapsed": false,
    "ExecuteTime": {
     "end_time": "2024-04-11T14:17:22.310826Z",
     "start_time": "2024-04-11T14:17:22.299826Z"
    }
   },
   "id": "6370642a7038bfa8",
   "execution_count": 14
  },
  {
   "cell_type": "code",
   "outputs": [],
   "source": [
    "X_train_norm = pd.DataFrame(scaler_m.fit_transform(X_train_norm), index=X_train_norm.index, columns=X_train_norm.columns)\n",
    "X_test_norm = pd.DataFrame(scaler_m.fit_transform(X_test_norm), index=X_test_norm.index, columns=X_test_norm.columns)\n",
    "X_val_norm = pd.DataFrame(scaler_m.transform(X_val_norm), index=X_val_norm.index, columns=X_val_norm.columns)"
   ],
   "metadata": {
    "collapsed": false,
    "ExecuteTime": {
     "end_time": "2024-04-11T14:17:22.342833Z",
     "start_time": "2024-04-11T14:17:22.320842Z"
    }
   },
   "id": "d814760374cb14de",
   "execution_count": 15
  },
  {
   "cell_type": "code",
   "outputs": [
    {
     "data": {
      "text/plain": "       workclass  education  marital-status  occupation  relationship  race  \\\n30733   0.285714   0.600000        0.166667    0.076923           0.2   0.0   \n11958   0.714286   0.800000        0.166667    0.230769           0.2   0.0   \n13190   1.000000   0.666667        0.166667    0.076923           0.4   0.0   \n19503   0.285714   0.400000        0.166667    0.153846           0.2   0.5   \n29204   0.285714   0.600000        0.666667    0.000000           0.0   0.0   \n20221   0.285714   0.800000        0.166667    0.461538           0.2   0.5   \n13898   0.285714   0.600000        0.666667    0.000000           0.0   0.0   \n27781   0.857143   0.533333        1.000000    0.000000           0.8   0.0   \n30701   0.285714   0.533333        0.000000    0.307692           0.8   0.0   \n21717   0.285714   0.533333        0.000000    0.000000           0.0   0.0   \n\n       sex  native-country       age    fnlwgt  capital-gain  capital-loss  \\\n30733  0.0           0.950  0.561644  0.164770           0.0      0.000000   \n11958  0.0           0.950  0.465753  0.016576           0.0      0.000000   \n13190  1.0           0.950  0.397260  0.123965           0.0      0.000000   \n19503  0.0           0.975  0.178082  0.130989           0.0      0.379017   \n29204  1.0           0.950  0.301370  0.142366           0.0      0.000000   \n20221  0.0           0.725  0.246575  0.139482           0.0      0.000000   \n13898  1.0           0.950  0.301370  0.046584           0.0      0.000000   \n27781  1.0           0.950  0.602740  0.114530           0.0      0.000000   \n30701  0.0           0.625  0.082192  0.268136           0.0      0.000000   \n21717  0.0           0.950  0.109589  0.147607           0.0      0.000000   \n\n       hours-per-week  \n30733        0.397959  \n11958        0.397959  \n13190        0.397959  \n19503        0.397959  \n29204        0.397959  \n20221        0.397959  \n13898        0.602041  \n27781        0.193878  \n30701        0.346939  \n21717        0.397959  ",
      "text/html": "<div>\n<style scoped>\n    .dataframe tbody tr th:only-of-type {\n        vertical-align: middle;\n    }\n\n    .dataframe tbody tr th {\n        vertical-align: top;\n    }\n\n    .dataframe thead th {\n        text-align: right;\n    }\n</style>\n<table border=\"1\" class=\"dataframe\">\n  <thead>\n    <tr style=\"text-align: right;\">\n      <th></th>\n      <th>workclass</th>\n      <th>education</th>\n      <th>marital-status</th>\n      <th>occupation</th>\n      <th>relationship</th>\n      <th>race</th>\n      <th>sex</th>\n      <th>native-country</th>\n      <th>age</th>\n      <th>fnlwgt</th>\n      <th>capital-gain</th>\n      <th>capital-loss</th>\n      <th>hours-per-week</th>\n    </tr>\n  </thead>\n  <tbody>\n    <tr>\n      <th>30733</th>\n      <td>0.285714</td>\n      <td>0.600000</td>\n      <td>0.166667</td>\n      <td>0.076923</td>\n      <td>0.2</td>\n      <td>0.0</td>\n      <td>0.0</td>\n      <td>0.950</td>\n      <td>0.561644</td>\n      <td>0.164770</td>\n      <td>0.0</td>\n      <td>0.000000</td>\n      <td>0.397959</td>\n    </tr>\n    <tr>\n      <th>11958</th>\n      <td>0.714286</td>\n      <td>0.800000</td>\n      <td>0.166667</td>\n      <td>0.230769</td>\n      <td>0.2</td>\n      <td>0.0</td>\n      <td>0.0</td>\n      <td>0.950</td>\n      <td>0.465753</td>\n      <td>0.016576</td>\n      <td>0.0</td>\n      <td>0.000000</td>\n      <td>0.397959</td>\n    </tr>\n    <tr>\n      <th>13190</th>\n      <td>1.000000</td>\n      <td>0.666667</td>\n      <td>0.166667</td>\n      <td>0.076923</td>\n      <td>0.4</td>\n      <td>0.0</td>\n      <td>1.0</td>\n      <td>0.950</td>\n      <td>0.397260</td>\n      <td>0.123965</td>\n      <td>0.0</td>\n      <td>0.000000</td>\n      <td>0.397959</td>\n    </tr>\n    <tr>\n      <th>19503</th>\n      <td>0.285714</td>\n      <td>0.400000</td>\n      <td>0.166667</td>\n      <td>0.153846</td>\n      <td>0.2</td>\n      <td>0.5</td>\n      <td>0.0</td>\n      <td>0.975</td>\n      <td>0.178082</td>\n      <td>0.130989</td>\n      <td>0.0</td>\n      <td>0.379017</td>\n      <td>0.397959</td>\n    </tr>\n    <tr>\n      <th>29204</th>\n      <td>0.285714</td>\n      <td>0.600000</td>\n      <td>0.666667</td>\n      <td>0.000000</td>\n      <td>0.0</td>\n      <td>0.0</td>\n      <td>1.0</td>\n      <td>0.950</td>\n      <td>0.301370</td>\n      <td>0.142366</td>\n      <td>0.0</td>\n      <td>0.000000</td>\n      <td>0.397959</td>\n    </tr>\n    <tr>\n      <th>20221</th>\n      <td>0.285714</td>\n      <td>0.800000</td>\n      <td>0.166667</td>\n      <td>0.461538</td>\n      <td>0.2</td>\n      <td>0.5</td>\n      <td>0.0</td>\n      <td>0.725</td>\n      <td>0.246575</td>\n      <td>0.139482</td>\n      <td>0.0</td>\n      <td>0.000000</td>\n      <td>0.397959</td>\n    </tr>\n    <tr>\n      <th>13898</th>\n      <td>0.285714</td>\n      <td>0.600000</td>\n      <td>0.666667</td>\n      <td>0.000000</td>\n      <td>0.0</td>\n      <td>0.0</td>\n      <td>1.0</td>\n      <td>0.950</td>\n      <td>0.301370</td>\n      <td>0.046584</td>\n      <td>0.0</td>\n      <td>0.000000</td>\n      <td>0.602041</td>\n    </tr>\n    <tr>\n      <th>27781</th>\n      <td>0.857143</td>\n      <td>0.533333</td>\n      <td>1.000000</td>\n      <td>0.000000</td>\n      <td>0.8</td>\n      <td>0.0</td>\n      <td>1.0</td>\n      <td>0.950</td>\n      <td>0.602740</td>\n      <td>0.114530</td>\n      <td>0.0</td>\n      <td>0.000000</td>\n      <td>0.193878</td>\n    </tr>\n    <tr>\n      <th>30701</th>\n      <td>0.285714</td>\n      <td>0.533333</td>\n      <td>0.000000</td>\n      <td>0.307692</td>\n      <td>0.8</td>\n      <td>0.0</td>\n      <td>0.0</td>\n      <td>0.625</td>\n      <td>0.082192</td>\n      <td>0.268136</td>\n      <td>0.0</td>\n      <td>0.000000</td>\n      <td>0.346939</td>\n    </tr>\n    <tr>\n      <th>21717</th>\n      <td>0.285714</td>\n      <td>0.533333</td>\n      <td>0.000000</td>\n      <td>0.000000</td>\n      <td>0.0</td>\n      <td>0.0</td>\n      <td>0.0</td>\n      <td>0.950</td>\n      <td>0.109589</td>\n      <td>0.147607</td>\n      <td>0.0</td>\n      <td>0.000000</td>\n      <td>0.397959</td>\n    </tr>\n  </tbody>\n</table>\n</div>"
     },
     "execution_count": 16,
     "metadata": {},
     "output_type": "execute_result"
    }
   ],
   "source": [
    "X_train_norm.head(10)"
   ],
   "metadata": {
    "collapsed": false,
    "ExecuteTime": {
     "end_time": "2024-04-11T14:17:22.374020Z",
     "start_time": "2024-04-11T14:17:22.359020Z"
    }
   },
   "id": "468fe1d8b0ed6e61",
   "execution_count": 16
  },
  {
   "cell_type": "code",
   "outputs": [
    {
     "data": {
      "text/plain": "       workclass  education  marital-status  occupation  relationship  race  \\\n20995   0.285714   0.600000        0.166667    0.076923           0.2  0.00   \n17498   0.714286   0.800000        0.166667    0.307692           0.2  0.00   \n32295   0.714286   0.600000        0.666667    0.000000           0.0  0.00   \n11426   0.857143   0.600000        0.166667    0.461538           0.2  0.00   \n21534   0.857143   0.733333        0.166667    0.307692           0.4  0.00   \n22010   0.285714   0.533333        0.000000    0.769231           1.0  0.50   \n15530   0.285714   0.600000        0.000000    0.076923           0.0  0.25   \n28886   0.285714   0.600000        0.666667    0.692308           0.8  0.00   \n9237    0.285714   0.533333        0.000000    0.000000           0.6  0.00   \n24402   0.428571   0.533333        0.166667    0.307692           0.2  0.25   \n\n       sex  native-country       age    fnlwgt  capital-gain  capital-loss  \\\n20995  0.0           0.950  0.219178  0.112106           0.0           0.0   \n17498  0.0           0.950  0.835616  0.073842           0.0           0.0   \n32295  1.0           0.950  0.630137  0.106459           0.0           0.0   \n11426  0.0           0.950  0.315068  0.016284           0.0           0.0   \n21534  1.0           0.950  0.109589  0.094726           0.0           0.0   \n22010  0.0           0.975  0.082192  0.152659           0.0           0.0   \n15530  0.0           0.625  0.054795  0.109379           0.0           0.0   \n28886  1.0           0.950  0.205479  0.060088           0.0           0.0   \n9237   1.0           0.950  0.123288  0.233287           0.0           0.0   \n24402  0.0           0.950  0.452055  0.186726           0.0           0.0   \n\n       hours-per-week  \n20995        0.448980  \n17498        0.020408  \n32295        0.040816  \n11426        0.602041  \n21534        0.448980  \n22010        0.397959  \n15530        0.479592  \n28886        0.397959  \n9237         0.397959  \n24402        0.397959  ",
      "text/html": "<div>\n<style scoped>\n    .dataframe tbody tr th:only-of-type {\n        vertical-align: middle;\n    }\n\n    .dataframe tbody tr th {\n        vertical-align: top;\n    }\n\n    .dataframe thead th {\n        text-align: right;\n    }\n</style>\n<table border=\"1\" class=\"dataframe\">\n  <thead>\n    <tr style=\"text-align: right;\">\n      <th></th>\n      <th>workclass</th>\n      <th>education</th>\n      <th>marital-status</th>\n      <th>occupation</th>\n      <th>relationship</th>\n      <th>race</th>\n      <th>sex</th>\n      <th>native-country</th>\n      <th>age</th>\n      <th>fnlwgt</th>\n      <th>capital-gain</th>\n      <th>capital-loss</th>\n      <th>hours-per-week</th>\n    </tr>\n  </thead>\n  <tbody>\n    <tr>\n      <th>20995</th>\n      <td>0.285714</td>\n      <td>0.600000</td>\n      <td>0.166667</td>\n      <td>0.076923</td>\n      <td>0.2</td>\n      <td>0.00</td>\n      <td>0.0</td>\n      <td>0.950</td>\n      <td>0.219178</td>\n      <td>0.112106</td>\n      <td>0.0</td>\n      <td>0.0</td>\n      <td>0.448980</td>\n    </tr>\n    <tr>\n      <th>17498</th>\n      <td>0.714286</td>\n      <td>0.800000</td>\n      <td>0.166667</td>\n      <td>0.307692</td>\n      <td>0.2</td>\n      <td>0.00</td>\n      <td>0.0</td>\n      <td>0.950</td>\n      <td>0.835616</td>\n      <td>0.073842</td>\n      <td>0.0</td>\n      <td>0.0</td>\n      <td>0.020408</td>\n    </tr>\n    <tr>\n      <th>32295</th>\n      <td>0.714286</td>\n      <td>0.600000</td>\n      <td>0.666667</td>\n      <td>0.000000</td>\n      <td>0.0</td>\n      <td>0.00</td>\n      <td>1.0</td>\n      <td>0.950</td>\n      <td>0.630137</td>\n      <td>0.106459</td>\n      <td>0.0</td>\n      <td>0.0</td>\n      <td>0.040816</td>\n    </tr>\n    <tr>\n      <th>11426</th>\n      <td>0.857143</td>\n      <td>0.600000</td>\n      <td>0.166667</td>\n      <td>0.461538</td>\n      <td>0.2</td>\n      <td>0.00</td>\n      <td>0.0</td>\n      <td>0.950</td>\n      <td>0.315068</td>\n      <td>0.016284</td>\n      <td>0.0</td>\n      <td>0.0</td>\n      <td>0.602041</td>\n    </tr>\n    <tr>\n      <th>21534</th>\n      <td>0.857143</td>\n      <td>0.733333</td>\n      <td>0.166667</td>\n      <td>0.307692</td>\n      <td>0.4</td>\n      <td>0.00</td>\n      <td>1.0</td>\n      <td>0.950</td>\n      <td>0.109589</td>\n      <td>0.094726</td>\n      <td>0.0</td>\n      <td>0.0</td>\n      <td>0.448980</td>\n    </tr>\n    <tr>\n      <th>22010</th>\n      <td>0.285714</td>\n      <td>0.533333</td>\n      <td>0.000000</td>\n      <td>0.769231</td>\n      <td>1.0</td>\n      <td>0.50</td>\n      <td>0.0</td>\n      <td>0.975</td>\n      <td>0.082192</td>\n      <td>0.152659</td>\n      <td>0.0</td>\n      <td>0.0</td>\n      <td>0.397959</td>\n    </tr>\n    <tr>\n      <th>15530</th>\n      <td>0.285714</td>\n      <td>0.600000</td>\n      <td>0.000000</td>\n      <td>0.076923</td>\n      <td>0.0</td>\n      <td>0.25</td>\n      <td>0.0</td>\n      <td>0.625</td>\n      <td>0.054795</td>\n      <td>0.109379</td>\n      <td>0.0</td>\n      <td>0.0</td>\n      <td>0.479592</td>\n    </tr>\n    <tr>\n      <th>28886</th>\n      <td>0.285714</td>\n      <td>0.600000</td>\n      <td>0.666667</td>\n      <td>0.692308</td>\n      <td>0.8</td>\n      <td>0.00</td>\n      <td>1.0</td>\n      <td>0.950</td>\n      <td>0.205479</td>\n      <td>0.060088</td>\n      <td>0.0</td>\n      <td>0.0</td>\n      <td>0.397959</td>\n    </tr>\n    <tr>\n      <th>9237</th>\n      <td>0.285714</td>\n      <td>0.533333</td>\n      <td>0.000000</td>\n      <td>0.000000</td>\n      <td>0.6</td>\n      <td>0.00</td>\n      <td>1.0</td>\n      <td>0.950</td>\n      <td>0.123288</td>\n      <td>0.233287</td>\n      <td>0.0</td>\n      <td>0.0</td>\n      <td>0.397959</td>\n    </tr>\n    <tr>\n      <th>24402</th>\n      <td>0.428571</td>\n      <td>0.533333</td>\n      <td>0.166667</td>\n      <td>0.307692</td>\n      <td>0.2</td>\n      <td>0.25</td>\n      <td>0.0</td>\n      <td>0.950</td>\n      <td>0.452055</td>\n      <td>0.186726</td>\n      <td>0.0</td>\n      <td>0.0</td>\n      <td>0.397959</td>\n    </tr>\n  </tbody>\n</table>\n</div>"
     },
     "execution_count": 17,
     "metadata": {},
     "output_type": "execute_result"
    }
   ],
   "source": [
    "X_val_norm.head(10)"
   ],
   "metadata": {
    "collapsed": false,
    "ExecuteTime": {
     "end_time": "2024-04-11T14:17:22.422020Z",
     "start_time": "2024-04-11T14:17:22.405023Z"
    }
   },
   "id": "2b1f7f50e0574311",
   "execution_count": 17
  },
  {
   "cell_type": "code",
   "outputs": [],
   "source": [
    "scaler_s = StandardScaler()\n",
    "X_train_s = X_train.copy()\n",
    "X_test_s = X_test.copy()\n",
    "X_val_s = X_val.copy()"
   ],
   "metadata": {
    "collapsed": false,
    "ExecuteTime": {
     "end_time": "2024-04-11T14:17:22.486077Z",
     "start_time": "2024-04-11T14:17:22.467085Z"
    }
   },
   "id": "29a11a20bdcd4e16",
   "execution_count": 18
  },
  {
   "cell_type": "code",
   "outputs": [],
   "source": [
    "X_train_s = pd.DataFrame(scaler_s.fit_transform(X_train_s), index=X_train_s.index, columns=X_train_s.columns)\n",
    "X_test_s = pd.DataFrame(scaler_s.fit_transform(X_test_s), index=X_test_s.index, columns=X_test_s.columns)\n",
    "X_val_s = pd.DataFrame(scaler_s.fit_transform(X_val_s), index=X_val_s.index, columns=X_val_s.columns)"
   ],
   "metadata": {
    "collapsed": false,
    "ExecuteTime": {
     "end_time": "2024-04-11T14:17:22.582077Z",
     "start_time": "2024-04-11T14:17:22.558058Z"
    }
   },
   "id": "5793de28f903a571",
   "execution_count": 19
  },
  {
   "cell_type": "code",
   "outputs": [],
   "source": [
    "def SVCClass(X_train, X_val, X_test, y_train, y_val, y_test):\n",
    "    \n",
    "    svc = SVC()\n",
    "\n",
    "    accuracy = []\n",
    "    precision = []\n",
    "    recall = []\n",
    "    f1 = []\n",
    "    roc = []\n",
    "    \n",
    "    index = ['X_test', 'X_val']\n",
    "    \n",
    "    data_type = [X_test, X_val]\n",
    "    target_type = [y_test, y_val]\n",
    "    columns = ['Accuracy', 'Precision', 'Recall', 'F1 Score', 'ROC AUC']\n",
    "\n",
    "    result = pd.DataFrame(columns=columns, index=index)\n",
    "\n",
    "    for i in range(0, len(data_type)):\n",
    "        predict = svc.fit(X_train, y_train).predict(data_type[i])\n",
    "\n",
    "        accuracy.append(accuracy_score(target_type[i], predict))\n",
    "        precision.append(precision_score(target_type[i], predict))\n",
    "        recall.append(recall_score(target_type[i], predict, average='weighted'))\n",
    "        f1.append(f1_score(target_type[i], predict, average='weighted'))\n",
    "        roc.append(roc_auc_score(target_type[i], predict, average='weighted'))\n",
    "    \n",
    "    result['Accuracy'] = accuracy\n",
    "    result['Precision'] = precision\n",
    "    result['Recall'] = recall\n",
    "    result['F1 Score'] = f1\n",
    "    result['ROC AUC'] = roc\n",
    "\n",
    "    return result.sort_values('F1 Score', ascending=False)"
   ],
   "metadata": {
    "collapsed": false,
    "ExecuteTime": {
     "end_time": "2024-04-11T14:17:22.661058Z",
     "start_time": "2024-04-11T14:17:22.649059Z"
    }
   },
   "id": "7b7b84238bc59954",
   "execution_count": 20
  },
  {
   "cell_type": "code",
   "outputs": [
    {
     "data": {
      "text/plain": "        Accuracy  Precision    Recall  F1 Score   ROC AUC\nX_test  0.845728   0.770807  0.845728  0.834063  0.731796\nX_val   0.844782   0.782540  0.844782  0.831472  0.724747",
      "text/html": "<div>\n<style scoped>\n    .dataframe tbody tr th:only-of-type {\n        vertical-align: middle;\n    }\n\n    .dataframe tbody tr th {\n        vertical-align: top;\n    }\n\n    .dataframe thead th {\n        text-align: right;\n    }\n</style>\n<table border=\"1\" class=\"dataframe\">\n  <thead>\n    <tr style=\"text-align: right;\">\n      <th></th>\n      <th>Accuracy</th>\n      <th>Precision</th>\n      <th>Recall</th>\n      <th>F1 Score</th>\n      <th>ROC AUC</th>\n    </tr>\n  </thead>\n  <tbody>\n    <tr>\n      <th>X_test</th>\n      <td>0.845728</td>\n      <td>0.770807</td>\n      <td>0.845728</td>\n      <td>0.834063</td>\n      <td>0.731796</td>\n    </tr>\n    <tr>\n      <th>X_val</th>\n      <td>0.844782</td>\n      <td>0.782540</td>\n      <td>0.844782</td>\n      <td>0.831472</td>\n      <td>0.724747</td>\n    </tr>\n  </tbody>\n</table>\n</div>"
     },
     "execution_count": 21,
     "metadata": {},
     "output_type": "execute_result"
    }
   ],
   "source": [
    "SVCClass(X_train_norm, X_val_norm, X_test_norm, y_train, y_val, y_test)"
   ],
   "metadata": {
    "collapsed": false,
    "ExecuteTime": {
     "end_time": "2024-04-11T14:17:46.359139Z",
     "start_time": "2024-04-11T14:17:22.689067Z"
    }
   },
   "id": "1be40bae0ed1a778",
   "execution_count": 21
  },
  {
   "cell_type": "code",
   "outputs": [
    {
     "data": {
      "text/plain": "        Accuracy  Precision    Recall  F1 Score   ROC AUC\nX_test  0.849826   0.788036  0.849826  0.838023  0.735656\nX_val   0.848879   0.790047  0.848879  0.836514  0.732565",
      "text/html": "<div>\n<style scoped>\n    .dataframe tbody tr th:only-of-type {\n        vertical-align: middle;\n    }\n\n    .dataframe tbody tr th {\n        vertical-align: top;\n    }\n\n    .dataframe thead th {\n        text-align: right;\n    }\n</style>\n<table border=\"1\" class=\"dataframe\">\n  <thead>\n    <tr style=\"text-align: right;\">\n      <th></th>\n      <th>Accuracy</th>\n      <th>Precision</th>\n      <th>Recall</th>\n      <th>F1 Score</th>\n      <th>ROC AUC</th>\n    </tr>\n  </thead>\n  <tbody>\n    <tr>\n      <th>X_test</th>\n      <td>0.849826</td>\n      <td>0.788036</td>\n      <td>0.849826</td>\n      <td>0.838023</td>\n      <td>0.735656</td>\n    </tr>\n    <tr>\n      <th>X_val</th>\n      <td>0.848879</td>\n      <td>0.790047</td>\n      <td>0.848879</td>\n      <td>0.836514</td>\n      <td>0.732565</td>\n    </tr>\n  </tbody>\n</table>\n</div>"
     },
     "execution_count": 22,
     "metadata": {},
     "output_type": "execute_result"
    }
   ],
   "source": [
    "SVCClass(X_train_s, X_val_s, X_test_s, y_train, y_val, y_test)"
   ],
   "metadata": {
    "collapsed": false,
    "ExecuteTime": {
     "end_time": "2024-04-11T14:18:10.010859Z",
     "start_time": "2024-04-11T14:17:46.361060Z"
    }
   },
   "id": "41f70230d270a828",
   "execution_count": 22
  },
  {
   "cell_type": "code",
   "outputs": [
    {
     "data": {
      "text/plain": "array([9.95526636e-01, 4.45862921e-03, 1.46990498e-05, 1.67070153e-08,\n       1.31840523e-08, 3.96421731e-09, 9.55579071e-10, 5.11655467e-10,\n       2.20871003e-10, 1.98370755e-10, 1.53793361e-10, 3.42935686e-11,\n       1.55709126e-11])"
     },
     "execution_count": 23,
     "metadata": {},
     "output_type": "execute_result"
    }
   ],
   "source": [
    "pca = PCA(n_components=None)\n",
    "X_train_pca = pca.fit_transform(X_train)\n",
    "pca.explained_variance_ratio_"
   ],
   "metadata": {
    "collapsed": false,
    "ExecuteTime": {
     "end_time": "2024-04-11T14:18:10.042860Z",
     "start_time": "2024-04-11T14:18:10.011857Z"
    }
   },
   "id": "a3b8a7d6a73bb741",
   "execution_count": 23
  },
  {
   "cell_type": "code",
   "outputs": [
    {
     "data": {
      "text/plain": "1.0000000000000002"
     },
     "execution_count": 24,
     "metadata": {},
     "output_type": "execute_result"
    }
   ],
   "source": [
    "pca.explained_variance_ratio_.sum()"
   ],
   "metadata": {
    "collapsed": false,
    "ExecuteTime": {
     "end_time": "2024-04-11T14:18:10.058860Z",
     "start_time": "2024-04-11T14:18:10.045858Z"
    }
   },
   "id": "49814043aab9aae8",
   "execution_count": 24
  },
  {
   "cell_type": "code",
   "outputs": [
    {
     "data": {
      "text/plain": "[<matplotlib.lines.Line2D at 0x1da5252a380>]"
     },
     "execution_count": 25,
     "metadata": {},
     "output_type": "execute_result"
    },
    {
     "data": {
      "text/plain": "<Figure size 640x480 with 1 Axes>",
      "image/png": "[encoded data removed]"
     },
     "metadata": {},
     "output_type": "display_data"
    }
   ],
   "source": [
    "plt.plot(np.cumsum(pca.explained_variance_ratio_))"
   ],
   "metadata": {
    "collapsed": false,
    "ExecuteTime": {
     "end_time": "2024-04-11T14:18:10.278857Z",
     "start_time": "2024-04-11T14:18:10.059857Z"
    }
   },
   "id": "88c574be5c1d0f97",
   "execution_count": 25
  },
  {
   "cell_type": "code",
   "outputs": [
    {
     "data": {
      "text/plain": "<Figure size 1200x600 with 1 Axes>",
      "image/png": "[encoded data removed]"
     },
     "metadata": {},
     "output_type": "display_data"
    }
   ],
   "source": [
    "plt.figure(figsize=(12, 6))\n",
    "plt.bar(range(1, len(pca.explained_variance_ratio_)+1), pca.explained_variance_ratio_, label='explained Variance Ratio')\n",
    "plt.xlabel('Principal Components')\n",
    "plt.title('Explained variance ratio of each Principal Component')\n",
    "plt.show()"
   ],
   "metadata": {
    "collapsed": false,
    "ExecuteTime": {
     "end_time": "2024-04-11T14:18:10.530859Z",
     "start_time": "2024-04-11T14:18:10.279860Z"
    }
   },
   "id": "9e46e791e1f66dc6",
   "execution_count": 26
  },
  {
   "cell_type": "code",
   "outputs": [
    {
     "name": "stdout",
     "output_type": "stream",
     "text": [
      "Eigenvectors: [[-6.85713856e-07  1.48230564e-05 -1.38094943e-04 -2.29766824e-02\n",
      "   5.03323163e-03  4.93998044e-03 -1.57781263e-02 -7.79446259e-02\n",
      "  -3.32690732e-01  9.35809287e-01  8.00323732e-02  5.42528176e-03\n",
      "   1.52231737e-02  3.08165255e-03]\n",
      " [-1.10056475e-06  4.48519460e-05 -5.30410181e-04 -9.93535473e-03\n",
      "   2.80322219e-02  3.15490106e-02 -3.94568213e-01 -9.01919747e-01\n",
      "   1.52588738e-01 -2.32912339e-02 -5.69741498e-02  3.42154725e-03\n",
      "   1.18622076e-02 -4.18602275e-02]\n",
      " [-3.33474955e-07 -1.19661278e-06  2.13052344e-05 -4.44717328e-02\n",
      "  -1.43816970e-02  2.74654683e-03 -4.02311797e-03  1.04625743e-01\n",
      "   8.29477297e-01  2.63937052e-01  4.69480739e-01 -1.09287193e-02\n",
      "  -9.27927526e-02 -2.77614620e-03]\n",
      " [ 3.17934095e-07 -1.75175576e-05  1.80734903e-04 -3.97823898e-03\n",
      "   1.46956811e-03 -1.60631998e-02  9.17705419e-01 -3.90114219e-01\n",
      "   6.52843301e-02  7.58376828e-03 -2.09154179e-02 -7.70286299e-04\n",
      "   2.05829448e-02  1.30519184e-02]\n",
      " [ 2.35064695e-07 -8.58144655e-06  1.85016647e-04  2.61012508e-02\n",
      "  -1.33427008e-02 -6.96501112e-03  5.05871173e-04  1.15876680e-01\n",
      "   4.01195897e-01  2.29224697e-01 -8.74987281e-01 -4.84668568e-02\n",
      "  -6.24347625e-02 -1.76777408e-02]\n",
      " [ 3.82763376e-09 -6.79988799e-07  2.72199312e-05  2.06868033e-03\n",
      "  -1.01416596e-03 -1.65849459e-02  2.13437275e-03  6.69282561e-03\n",
      "   2.34005428e-02  7.48585547e-03 -3.68812916e-02  9.96425876e-01\n",
      "  -6.78202147e-02  1.55666319e-02]\n",
      " [-1.20703683e-07 -3.08673995e-06  5.53854734e-05  4.65411329e-03\n",
      "  -7.48298784e-03  2.46213218e-04 -2.48639839e-02  2.15281633e-02\n",
      "   1.03416666e-01  2.35760070e-02 -1.88818136e-02  5.15049539e-02\n",
      "   9.01810897e-01  4.13905289e-01]\n",
      " [-3.87064651e-06  2.47792421e-06 -8.12468916e-05  3.27554178e-03\n",
      "   1.36901108e-03  9.99188072e-01  2.73956753e-02  2.33221011e-02\n",
      "  -1.11207726e-03 -2.68729795e-03 -6.80965456e-03  1.61301686e-02\n",
      "  -1.04271994e-03  2.11187036e-04]\n",
      " [-3.84657821e-08  1.29273362e-05 -1.67297516e-04 -7.79050241e-03\n",
      "   4.85331134e-03  1.49304099e-03 -2.00087154e-02 -4.29430509e-02\n",
      "  -3.00450798e-02 -1.01052763e-02 -9.20561837e-03 -4.13383482e-02\n",
      "  -4.10743099e-01  9.08933838e-01]\n",
      " [-9.87589814e-06  1.43443952e-04 -2.01531048e-03 -9.61573601e-01\n",
      "  -2.68735951e-01  3.09708869e-03 -1.66049698e-03  2.83570941e-03\n",
      "  -2.32671501e-02 -2.67277150e-02 -4.24091204e-02  1.50562834e-03\n",
      "   7.24563060e-03 -4.86781223e-03]\n",
      " [ 9.99999999e-01 -3.03461073e-05 -3.91436085e-05 -1.00336192e-05\n",
      "  -5.31820105e-07  3.93652705e-06 -6.18145315e-07 -7.11136374e-07\n",
      "  -9.60789492e-08  3.66370599e-07 -1.22553912e-07  9.67383868e-08\n",
      "   1.82496684e-07 -1.47588333e-08]\n",
      " [ 3.02801246e-05  9.99998481e-01 -1.73059015e-03  1.78265072e-04\n",
      "  -9.10998352e-05 -4.75735588e-06  3.37417389e-05  3.25884747e-05\n",
      "   6.65866513e-06 -5.80034644e-06  2.22284370e-06  3.27694171e-07\n",
      "   4.99610598e-06 -7.78568998e-06]\n",
      " [-3.91713915e-05 -1.73114501e-03 -9.99994763e-01  2.41597886e-03\n",
      "  -1.14768913e-03 -1.06953650e-04  3.63894678e-04  3.88400718e-04\n",
      "   1.10349276e-04 -2.68092803e-06 -2.35577304e-05  1.87441513e-05\n",
      "   6.96430775e-05 -9.49583455e-05]\n",
      " [-2.21040843e-06  1.31041351e-04 -1.73496648e-03 -2.68275053e-01\n",
      "   9.62548207e-01 -1.55527415e-03  9.52699836e-03  3.15891784e-02\n",
      "   9.63675596e-03 -4.32187508e-03 -1.58114830e-02  1.09417383e-03\n",
      "   8.32647443e-03 -1.81176291e-03]]\n",
      "Eigenvalues: [1.11418889e+10 5.45804282e+07 1.62307361e+05 1.86448928e+02\n",
      " 1.48445135e+02 4.36982443e+01 1.06270366e+01 5.68936131e+00\n",
      " 2.47527858e+00 2.20917202e+00 1.70846077e+00 3.78308877e-01\n",
      " 1.81226928e-01 1.27964822e-01]\n"
     ]
    }
   ],
   "source": [
    "eig_vals, eig_vecs = np.linalg.eig(np.cov(data.T))\n",
    "\n",
    "print(f'Eigenvectors: {eig_vecs}')\n",
    "print(f'Eigenvalues: {eig_vals}')"
   ],
   "metadata": {
    "collapsed": false,
    "ExecuteTime": {
     "end_time": "2024-04-11T14:18:10.546856Z",
     "start_time": "2024-04-11T14:18:10.531857Z"
    }
   },
   "id": "f8a3b71ac1a1a20f",
   "execution_count": 27
  },
  {
   "cell_type": "code",
   "outputs": [
    {
     "name": "stdout",
     "output_type": "stream",
     "text": [
      "[(11141888910.073261, array([-6.85713856e-07, -1.10056475e-06, -3.33474955e-07,  3.17934095e-07,\n",
      "        2.35064695e-07,  3.82763376e-09, -1.20703683e-07, -3.87064651e-06,\n",
      "       -3.84657821e-08, -9.87589814e-06,  9.99999999e-01,  3.02801246e-05,\n",
      "       -3.91713915e-05, -2.21040843e-06])), (54580428.24336238, array([ 1.48230564e-05,  4.48519460e-05, -1.19661278e-06, -1.75175576e-05,\n",
      "       -8.58144655e-06, -6.79988799e-07, -3.08673995e-06,  2.47792421e-06,\n",
      "        1.29273362e-05,  1.43443952e-04, -3.03461073e-05,  9.99998481e-01,\n",
      "       -1.73114501e-03,  1.31041351e-04])), (162307.36096831594, array([-1.38094943e-04, -5.30410181e-04,  2.13052344e-05,  1.80734903e-04,\n",
      "        1.85016647e-04,  2.72199312e-05,  5.53854734e-05, -8.12468916e-05,\n",
      "       -1.67297516e-04, -2.01531048e-03, -3.91436085e-05, -1.73059015e-03,\n",
      "       -9.99994763e-01, -1.73496648e-03])), (186.44892817667395, array([-2.29766824e-02, -9.93535473e-03, -4.44717328e-02, -3.97823898e-03,\n",
      "        2.61012508e-02,  2.06868033e-03,  4.65411329e-03,  3.27554178e-03,\n",
      "       -7.79050241e-03, -9.61573601e-01, -1.00336192e-05,  1.78265072e-04,\n",
      "        2.41597886e-03, -2.68275053e-01])), (148.4451352239503, array([ 5.03323163e-03,  2.80322219e-02, -1.43816970e-02,  1.46956811e-03,\n",
      "       -1.33427008e-02, -1.01416596e-03, -7.48298784e-03,  1.36901108e-03,\n",
      "        4.85331134e-03, -2.68735951e-01, -5.31820105e-07, -9.10998352e-05,\n",
      "       -1.14768913e-03,  9.62548207e-01])), (43.698244336473664, array([ 4.93998044e-03,  3.15490106e-02,  2.74654683e-03, -1.60631998e-02,\n",
      "       -6.96501112e-03, -1.65849459e-02,  2.46213218e-04,  9.99188072e-01,\n",
      "        1.49304099e-03,  3.09708869e-03,  3.93652705e-06, -4.75735588e-06,\n",
      "       -1.06953650e-04, -1.55527415e-03])), (10.62703661374144, array([-1.57781263e-02, -3.94568213e-01, -4.02311797e-03,  9.17705419e-01,\n",
      "        5.05871173e-04,  2.13437275e-03, -2.48639839e-02,  2.73956753e-02,\n",
      "       -2.00087154e-02, -1.66049698e-03, -6.18145315e-07,  3.37417389e-05,\n",
      "        3.63894678e-04,  9.52699836e-03])), (5.689361311367156, array([-7.79446259e-02, -9.01919747e-01,  1.04625743e-01, -3.90114219e-01,\n",
      "        1.15876680e-01,  6.69282561e-03,  2.15281633e-02,  2.33221011e-02,\n",
      "       -4.29430509e-02,  2.83570941e-03, -7.11136374e-07,  3.25884747e-05,\n",
      "        3.88400718e-04,  3.15891784e-02])), (2.4752785801686836, array([-3.32690732e-01,  1.52588738e-01,  8.29477297e-01,  6.52843301e-02,\n",
      "        4.01195897e-01,  2.34005428e-02,  1.03416666e-01, -1.11207726e-03,\n",
      "       -3.00450798e-02, -2.32671501e-02, -9.60789492e-08,  6.65866513e-06,\n",
      "        1.10349276e-04,  9.63675596e-03])), (2.2091720225126994, array([ 9.35809287e-01, -2.32912339e-02,  2.63937052e-01,  7.58376828e-03,\n",
      "        2.29224697e-01,  7.48585547e-03,  2.35760070e-02, -2.68729795e-03,\n",
      "       -1.01052763e-02, -2.67277150e-02,  3.66370599e-07, -5.80034644e-06,\n",
      "       -2.68092803e-06, -4.32187508e-03])), (1.708460770708057, array([ 8.00323732e-02, -5.69741498e-02,  4.69480739e-01, -2.09154179e-02,\n",
      "       -8.74987281e-01, -3.68812916e-02, -1.88818136e-02, -6.80965456e-03,\n",
      "       -9.20561837e-03, -4.24091204e-02, -1.22553912e-07,  2.22284370e-06,\n",
      "       -2.35577304e-05, -1.58114830e-02])), (0.37830887727462303, array([ 5.42528176e-03,  3.42154725e-03, -1.09287193e-02, -7.70286299e-04,\n",
      "       -4.84668568e-02,  9.96425876e-01,  5.15049539e-02,  1.61301686e-02,\n",
      "       -4.13383482e-02,  1.50562834e-03,  9.67383868e-08,  3.27694171e-07,\n",
      "        1.87441513e-05,  1.09417383e-03])), (0.18122692835090867, array([ 1.52231737e-02,  1.18622076e-02, -9.27927526e-02,  2.05829448e-02,\n",
      "       -6.24347625e-02, -6.78202147e-02,  9.01810897e-01, -1.04271994e-03,\n",
      "       -4.10743099e-01,  7.24563060e-03,  1.82496684e-07,  4.99610598e-06,\n",
      "        6.96430775e-05,  8.32647443e-03])), (0.1279648219321769, array([ 3.08165255e-03, -4.18602275e-02, -2.77614620e-03,  1.30519184e-02,\n",
      "       -1.76777408e-02,  1.55666319e-02,  4.13905289e-01,  2.11187036e-04,\n",
      "        9.08933838e-01, -4.86781223e-03, -1.47588333e-08, -7.78568998e-06,\n",
      "       -9.49583455e-05, -1.81176291e-03]))]\n"
     ]
    }
   ],
   "source": [
    "eig_pairs = [(np.abs(eig_vals[i]), eig_vecs[:,i]) for i in range(len(eig_vals))]\n",
    "print(eig_pairs)"
   ],
   "metadata": {
    "collapsed": false,
    "ExecuteTime": {
     "end_time": "2024-04-11T14:18:10.561856Z",
     "start_time": "2024-04-11T14:18:10.548857Z"
    }
   },
   "id": "22ec4e18cd9c551d",
   "execution_count": 28
  },
  {
   "cell_type": "code",
   "outputs": [
    {
     "name": "stdout",
     "output_type": "stream",
     "text": [
      "Variance captured by each component is [99.5110749611098, 0.48747183984434433, 0.0014496087776872113, 1.6652233223608386e-06, 1.3258016749321073e-06, 3.902802570490833e-07, 9.491279670975732e-08, 5.081314887500277e-08, 2.2107349510378104e-08, 1.9730683415403243e-08, 1.5258702469052623e-08, 3.3787738639983236e-09, 1.6185842990944313e-09, 1.1428867304685946e-09]\n",
      "Cumulative variance captured as we travel each component [ 99.51107496  99.9985468   99.99999641  99.99999807  99.9999994\n",
      "  99.99999979  99.99999989  99.99999994  99.99999996  99.99999998\n",
      "  99.99999999 100.         100.         100.        ]\n"
     ]
    }
   ],
   "source": [
    "total = sum(eig_vals)\n",
    "var_exp = [(i/total)*100 for i in (eig_vals)]\n",
    "cum_var_exp = np.cumsum(var_exp)\n",
    "\n",
    "print(f'Variance captured by each component is {var_exp}')\n",
    "print(f'Cumulative variance captured as we travel each component {cum_var_exp}')"
   ],
   "metadata": {
    "collapsed": false,
    "ExecuteTime": {
     "end_time": "2024-04-11T14:18:10.577857Z",
     "start_time": "2024-04-11T14:18:10.563856Z"
    }
   },
   "id": "3d08cd9e1a3604c1",
   "execution_count": 29
  },
  {
   "cell_type": "code",
   "outputs": [
    {
     "data": {
      "text/plain": "<Figure size 2000x700 with 1 Axes>",
      "image/png": "[encoded data removed]"
     },
     "metadata": {},
     "output_type": "display_data"
    }
   ],
   "source": [
    "plt.figure(figsize=(20, 7))\n",
    "plt.bar(range(1, len(cum_var_exp)+1), cum_var_exp, label='Explained Variance Ratio')\n",
    "plt.xlabel('Principal Components')\n",
    "plt.ylabel('Variance ratio')\n",
    "plt.title('Explained variance ratio of each Principal Component')\n",
    "plt.show()"
   ],
   "metadata": {
    "collapsed": false,
    "ExecuteTime": {
     "end_time": "2024-04-11T14:18:10.846871Z",
     "start_time": "2024-04-11T14:18:10.581858Z"
    }
   },
   "id": "36f68a942b020d53",
   "execution_count": 30
  },
  {
   "cell_type": "code",
   "outputs": [
    {
     "data": {
      "text/plain": "RandomForestClassifier()",
      "text/html": "<style>#sk-container-id-1 {color: black;}#sk-container-id-1 pre{padding: 0;}#sk-container-id-1 div.sk-toggleable {background-color: white;}#sk-container-id-1 label.sk-toggleable__label {cursor: pointer;display: block;width: 100%;margin-bottom: 0;padding: 0.3em;box-sizing: border-box;text-align: center;}#sk-container-id-1 label.sk-toggleable__label-arrow:before {content: \"▸\";float: left;margin-right: 0.25em;color: #696969;}#sk-container-id-1 label.sk-toggleable__label-arrow:hover:before {color: black;}#sk-container-id-1 div.sk-estimator:hover label.sk-toggleable__label-arrow:before {color: black;}#sk-container-id-1 div.sk-toggleable__content {max-height: 0;max-width: 0;overflow: hidden;text-align: left;background-color: #f0f8ff;}#sk-container-id-1 div.sk-toggleable__content pre {margin: 0.2em;color: black;border-radius: 0.25em;background-color: #f0f8ff;}#sk-container-id-1 input.sk-toggleable__control:checked~div.sk-toggleable__content {max-height: 200px;max-width: 100%;overflow: auto;}#sk-container-id-1 input.sk-toggleable__control:checked~label.sk-toggleable__label-arrow:before {content: \"▾\";}#sk-container-id-1 div.sk-estimator input.sk-toggleable__control:checked~label.sk-toggleable__label {background-color: #d4ebff;}#sk-container-id-1 div.sk-label input.sk-toggleable__control:checked~label.sk-toggleable__label {background-color: #d4ebff;}#sk-container-id-1 input.sk-hidden--visually {border: 0;clip: rect(1px 1px 1px 1px);clip: rect(1px, 1px, 1px, 1px);height: 1px;margin: -1px;overflow: hidden;padding: 0;position: absolute;width: 1px;}#sk-container-id-1 div.sk-estimator {font-family: monospace;background-color: #f0f8ff;border: 1px dotted black;border-radius: 0.25em;box-sizing: border-box;margin-bottom: 0.5em;}#sk-container-id-1 div.sk-estimator:hover {background-color: #d4ebff;}#sk-container-id-1 div.sk-parallel-item::after {content: \"\";width: 100%;border-bottom: 1px solid gray;flex-grow: 1;}#sk-container-id-1 div.sk-label:hover label.sk-toggleable__label {background-color: #d4ebff;}#sk-container-id-1 div.sk-serial::before {content: \"\";position: absolute;border-left: 1px solid gray;box-sizing: border-box;top: 0;bottom: 0;left: 50%;z-index: 0;}#sk-container-id-1 div.sk-serial {display: flex;flex-direction: column;align-items: center;background-color: white;padding-right: 0.2em;padding-left: 0.2em;position: relative;}#sk-container-id-1 div.sk-item {position: relative;z-index: 1;}#sk-container-id-1 div.sk-parallel {display: flex;align-items: stretch;justify-content: center;background-color: white;position: relative;}#sk-container-id-1 div.sk-item::before, #sk-container-id-1 div.sk-parallel-item::before {content: \"\";position: absolute;border-left: 1px solid gray;box-sizing: border-box;top: 0;bottom: 0;left: 50%;z-index: -1;}#sk-container-id-1 div.sk-parallel-item {display: flex;flex-direction: column;z-index: 1;position: relative;background-color: white;}#sk-container-id-1 div.sk-parallel-item:first-child::after {align-self: flex-end;width: 50%;}#sk-container-id-1 div.sk-parallel-item:last-child::after {align-self: flex-start;width: 50%;}#sk-container-id-1 div.sk-parallel-item:only-child::after {width: 0;}#sk-container-id-1 div.sk-dashed-wrapped {border: 1px dashed gray;margin: 0 0.4em 0.5em 0.4em;box-sizing: border-box;padding-bottom: 0.4em;background-color: white;}#sk-container-id-1 div.sk-label label {font-family: monospace;font-weight: bold;display: inline-block;line-height: 1.2em;}#sk-container-id-1 div.sk-label-container {text-align: center;}#sk-container-id-1 div.sk-container {/* jupyter's `normalize.less` sets `[hidden] { display: none; }` but bootstrap.min.css set `[hidden] { display: none !important; }` so we also need the `!important` here to be able to override the default hidden behavior on the sphinx rendered scikit-learn.org. See: https://github.com/scikit-learn/scikit-learn/issues/21755 */display: inline-block !important;position: relative;}#sk-container-id-1 div.sk-text-repr-fallback {display: none;}</style><div id=\"sk-container-id-1\" class=\"sk-top-container\"><div class=\"sk-text-repr-fallback\"><pre>RandomForestClassifier()</pre><b>In a Jupyter environment, please rerun this cell to show the HTML representation or trust the notebook. <br />On GitHub, the HTML representation is unable to render, please try loading this page with nbviewer.org.</b></div><div class=\"sk-container\" hidden><div class=\"sk-item\"><div class=\"sk-estimator sk-toggleable\"><input class=\"sk-toggleable__control sk-hidden--visually\" id=\"sk-estimator-id-1\" type=\"checkbox\" checked><label for=\"sk-estimator-id-1\" class=\"sk-toggleable__label sk-toggleable__label-arrow\">RandomForestClassifier</label><div class=\"sk-toggleable__content\"><pre>RandomForestClassifier()</pre></div></div></div></div></div>"
     },
     "execution_count": 31,
     "metadata": {},
     "output_type": "execute_result"
    }
   ],
   "source": [
    "rf = RandomForestClassifier()\n",
    "rf.fit(X_train, y_train)"
   ],
   "metadata": {
    "collapsed": false,
    "ExecuteTime": {
     "end_time": "2024-04-11T14:18:14.630951Z",
     "start_time": "2024-04-11T14:18:10.848857Z"
    }
   },
   "id": "df97ea0721f74d43",
   "execution_count": 31
  },
  {
   "cell_type": "code",
   "outputs": [
    {
     "data": {
      "text/plain": "<Figure size 640x480 with 1 Axes>",
      "image/png": "[encoded data removed]"
     },
     "metadata": {},
     "output_type": "display_data"
    }
   ],
   "source": [
    "feature_names = data.drop('income', axis=1).columns.tolist()\n",
    "mdi_importances = pd.Series(rf.feature_importances_, index=feature_names).sort_values(ascending=True)\n",
    "ax = mdi_importances.plot.barh()\n",
    "ax.set_title('Random Forest Feature Importances (MDI)')\n",
    "ax.figure.tight_layout()"
   ],
   "metadata": {
    "collapsed": false,
    "ExecuteTime": {
     "end_time": "2024-04-11T14:18:14.962874Z",
     "start_time": "2024-04-11T14:18:14.632860Z"
    }
   },
   "id": "6b11ba86479541b",
   "execution_count": 32
  },
  {
   "cell_type": "markdown",
   "source": [
    "**With 12 features**"
   ],
   "metadata": {
    "collapsed": false
   },
   "id": "1c4dff0ead1e16d2"
  },
  {
   "cell_type": "code",
   "outputs": [],
   "source": [
    "X = data.drop(['income', 'race'], axis=1)\n",
    "y = data['income']"
   ],
   "metadata": {
    "collapsed": false,
    "ExecuteTime": {
     "end_time": "2024-04-11T14:18:14.978859Z",
     "start_time": "2024-04-11T14:18:14.963860Z"
    }
   },
   "id": "50476e933981413a",
   "execution_count": 33
  },
  {
   "cell_type": "code",
   "outputs": [],
   "source": [
    "X_temp, X_test, y_temp, y_test = train_test_split(X, y, test_size=0.15, stratify=y)"
   ],
   "metadata": {
    "collapsed": false,
    "ExecuteTime": {
     "end_time": "2024-04-11T14:18:15.010940Z",
     "start_time": "2024-04-11T14:18:14.979861Z"
    }
   },
   "id": "24768c48d0ab6241",
   "execution_count": 34
  },
  {
   "cell_type": "code",
   "outputs": [],
   "source": [
    "X_train, X_val, y_train, y_val = train_test_split(X_temp, y_temp, test_size=0.15, stratify=y_temp)"
   ],
   "metadata": {
    "collapsed": false,
    "ExecuteTime": {
     "end_time": "2024-04-11T14:18:15.026858Z",
     "start_time": "2024-04-11T14:18:15.012861Z"
    }
   },
   "id": "a91f25ccea3ce28e",
   "execution_count": 35
  },
  {
   "cell_type": "code",
   "outputs": [
    {
     "name": "stdout",
     "output_type": "stream",
     "text": [
      "shape of X_train: (23508, 12)\n",
      "shape of y_val: (4149,)\n",
      "shape of X_train: (23508, 12)\n",
      "shape of y_val: (4149,)\n"
     ]
    }
   ],
   "source": [
    "print(f'shape of X_train: {X_train.shape}')\n",
    "print(f'shape of y_val: {y_val.shape}')\n",
    "print(f'shape of X_train: {X_train.shape}')\n",
    "print(f'shape of y_val: {y_val.shape}')"
   ],
   "metadata": {
    "collapsed": false,
    "ExecuteTime": {
     "end_time": "2024-04-11T14:18:15.041941Z",
     "start_time": "2024-04-11T14:18:15.027857Z"
    }
   },
   "id": "f3cba20151ebf40c",
   "execution_count": 36
  },
  {
   "cell_type": "code",
   "outputs": [],
   "source": [
    "scaler_m = MinMaxScaler()\n",
    "X_train_norm = X_train.copy()\n",
    "X_test_norm = X_test.copy()\n",
    "X_val_norm = X_val.copy()\n",
    "\n",
    "X_train_norm = pd.DataFrame(scaler_m.fit_transform(X_train_norm), index=X_train_norm.index, columns=X_train_norm.columns)\n",
    "X_test_norm = pd.DataFrame(scaler_m.fit_transform(X_test_norm), index=X_test_norm.index, columns=X_test_norm.columns)\n",
    "X_val_norm = pd.DataFrame(scaler_m.transform(X_val_norm), index=X_val_norm.index, columns=X_val_norm.columns)"
   ],
   "metadata": {
    "collapsed": false,
    "ExecuteTime": {
     "end_time": "2024-04-11T14:18:15.057900Z",
     "start_time": "2024-04-11T14:18:15.042860Z"
    }
   },
   "id": "4bb73fe2c8a52cf5",
   "execution_count": 37
  },
  {
   "cell_type": "code",
   "outputs": [],
   "source": [
    "scaler_s = StandardScaler()\n",
    "X_train_s = X_train.copy()\n",
    "X_test_s = X_test.copy()\n",
    "X_val_s = X_val.copy()\n",
    "\n",
    "X_train_s = pd.DataFrame(scaler_s.fit_transform(X_train_s), index=X_train_s.index, columns=X_train_s.columns)\n",
    "X_test_s = pd.DataFrame(scaler_s.fit_transform(X_test_s), index=X_test_s.index, columns=X_test_s.columns)\n",
    "X_val_s = pd.DataFrame(scaler_s.fit_transform(X_val_s), index=X_val_s.index, columns=X_val_s.columns)"
   ],
   "metadata": {
    "collapsed": false,
    "ExecuteTime": {
     "end_time": "2024-04-11T14:18:15.089874Z",
     "start_time": "2024-04-11T14:18:15.058859Z"
    }
   },
   "id": "ee18f85e4683f41",
   "execution_count": 38
  },
  {
   "cell_type": "code",
   "outputs": [
    {
     "data": {
      "text/plain": "        Accuracy  Precision    Recall  F1 Score   ROC AUC\nX_test  0.842860   0.739742  0.842860  0.833634  0.738323\nX_val   0.840685   0.734440  0.840685  0.831234  0.735014",
      "text/html": "<div>\n<style scoped>\n    .dataframe tbody tr th:only-of-type {\n        vertical-align: middle;\n    }\n\n    .dataframe tbody tr th {\n        vertical-align: top;\n    }\n\n    .dataframe thead th {\n        text-align: right;\n    }\n</style>\n<table border=\"1\" class=\"dataframe\">\n  <thead>\n    <tr style=\"text-align: right;\">\n      <th></th>\n      <th>Accuracy</th>\n      <th>Precision</th>\n      <th>Recall</th>\n      <th>F1 Score</th>\n      <th>ROC AUC</th>\n    </tr>\n  </thead>\n  <tbody>\n    <tr>\n      <th>X_test</th>\n      <td>0.842860</td>\n      <td>0.739742</td>\n      <td>0.842860</td>\n      <td>0.833634</td>\n      <td>0.738323</td>\n    </tr>\n    <tr>\n      <th>X_val</th>\n      <td>0.840685</td>\n      <td>0.734440</td>\n      <td>0.840685</td>\n      <td>0.831234</td>\n      <td>0.735014</td>\n    </tr>\n  </tbody>\n</table>\n</div>"
     },
     "execution_count": 39,
     "metadata": {},
     "output_type": "execute_result"
    }
   ],
   "source": [
    "SVCClass(X_train_norm, X_val_norm, X_test_norm, y_train, y_val, y_test)"
   ],
   "metadata": {
    "collapsed": false,
    "ExecuteTime": {
     "end_time": "2024-04-11T14:18:36.691499Z",
     "start_time": "2024-04-11T14:18:15.090860Z"
    }
   },
   "id": "df838d63262e2eef",
   "execution_count": 39
  },
  {
   "cell_type": "markdown",
   "source": [
    "**with 11 features**"
   ],
   "metadata": {
    "collapsed": false
   },
   "id": "8c84092daa9745a1"
  },
  {
   "cell_type": "code",
   "outputs": [],
   "source": [
    "X = data.drop(['income', 'race', 'native-country'], axis=1)\n",
    "y = data['income']\n",
    "\n",
    "X_temp, X_test, y_temp, y_test = train_test_split(X, y, test_size=0.15, stratify=y)\n",
    "X_train, X_val, y_train, y_val = train_test_split(X_temp, y_temp, test_size=0.15, stratify=y_temp)"
   ],
   "metadata": {
    "collapsed": false,
    "ExecuteTime": {
     "end_time": "2024-04-11T14:18:36.723500Z",
     "start_time": "2024-04-11T14:18:36.693482Z"
    }
   },
   "id": "a8af9bb1521fe9d9",
   "execution_count": 40
  },
  {
   "cell_type": "code",
   "outputs": [
    {
     "name": "stdout",
     "output_type": "stream",
     "text": [
      "shape of X_train: (23508, 11)\n",
      "shape of y_val: (4149,)\n",
      "shape of X_train: (23508, 11)\n",
      "shape of y_val: (4149,)\n"
     ]
    }
   ],
   "source": [
    "print(f'shape of X_train: {X_train.shape}')\n",
    "print(f'shape of y_val: {y_val.shape}')\n",
    "print(f'shape of X_train: {X_train.shape}')\n",
    "print(f'shape of y_val: {y_val.shape}')"
   ],
   "metadata": {
    "collapsed": false,
    "ExecuteTime": {
     "end_time": "2024-04-11T14:18:36.739482Z",
     "start_time": "2024-04-11T14:18:36.724486Z"
    }
   },
   "id": "de7dbf69f1e737fc",
   "execution_count": 41
  },
  {
   "cell_type": "code",
   "outputs": [],
   "source": [
    "scaler_m = MinMaxScaler()\n",
    "X_train_norm = X_train.copy()\n",
    "X_test_norm = X_test.copy()\n",
    "X_val_norm = X_val.copy()\n",
    "\n",
    "X_train_norm = pd.DataFrame(scaler_m.fit_transform(X_train_norm), index=X_train_norm.index, columns=X_train_norm.columns)\n",
    "X_test_norm = pd.DataFrame(scaler_m.fit_transform(X_test_norm), index=X_test_norm.index, columns=X_test_norm.columns)\n",
    "X_val_norm = pd.DataFrame(scaler_m.transform(X_val_norm), index=X_val_norm.index, columns=X_val_norm.columns)\n",
    "\n",
    "scaler_s = StandardScaler()\n",
    "X_train_s = X_train.copy()\n",
    "X_test_s = X_test.copy()\n",
    "X_val_s = X_val.copy()\n",
    "\n",
    "X_train_s = pd.DataFrame(scaler_s.fit_transform(X_train_s), index=X_train_s.index, columns=X_train_s.columns)\n",
    "X_test_s = pd.DataFrame(scaler_s.fit_transform(X_test_s), index=X_test_s.index, columns=X_test_s.columns)\n",
    "X_val_s = pd.DataFrame(scaler_s.fit_transform(X_val_s), index=X_val_s.index, columns=X_val_s.columns)"
   ],
   "metadata": {
    "collapsed": false,
    "ExecuteTime": {
     "end_time": "2024-04-11T14:18:36.771485Z",
     "start_time": "2024-04-11T14:18:36.740484Z"
    }
   },
   "id": "524cd03852ba5fa0",
   "execution_count": 42
  },
  {
   "cell_type": "code",
   "outputs": [
    {
     "data": {
      "text/plain": "        Accuracy  Precision    Recall  F1 Score   ROC AUC\nX_test  0.843270   0.759798  0.843270  0.831802  0.729886\nX_val   0.839238   0.743777  0.839238  0.827950  0.726213",
      "text/html": "<div>\n<style scoped>\n    .dataframe tbody tr th:only-of-type {\n        vertical-align: middle;\n    }\n\n    .dataframe tbody tr th {\n        vertical-align: top;\n    }\n\n    .dataframe thead th {\n        text-align: right;\n    }\n</style>\n<table border=\"1\" class=\"dataframe\">\n  <thead>\n    <tr style=\"text-align: right;\">\n      <th></th>\n      <th>Accuracy</th>\n      <th>Precision</th>\n      <th>Recall</th>\n      <th>F1 Score</th>\n      <th>ROC AUC</th>\n    </tr>\n  </thead>\n  <tbody>\n    <tr>\n      <th>X_test</th>\n      <td>0.843270</td>\n      <td>0.759798</td>\n      <td>0.843270</td>\n      <td>0.831802</td>\n      <td>0.729886</td>\n    </tr>\n    <tr>\n      <th>X_val</th>\n      <td>0.839238</td>\n      <td>0.743777</td>\n      <td>0.839238</td>\n      <td>0.827950</td>\n      <td>0.726213</td>\n    </tr>\n  </tbody>\n</table>\n</div>"
     },
     "execution_count": 43,
     "metadata": {},
     "output_type": "execute_result"
    }
   ],
   "source": [
    "SVCClass(X_train_norm, X_val_norm, X_test_norm, y_train, y_val, y_test)"
   ],
   "metadata": {
    "collapsed": false,
    "ExecuteTime": {
     "end_time": "2024-04-11T14:18:59.094499Z",
     "start_time": "2024-04-11T14:18:36.773486Z"
    }
   },
   "id": "67251604c2d2622f",
   "execution_count": 43
  },
  {
   "cell_type": "markdown",
   "source": [
    "**with 10 features**"
   ],
   "metadata": {
    "collapsed": false
   },
   "id": "a4b9182cb052e10a"
  },
  {
   "cell_type": "code",
   "outputs": [],
   "source": [
    "X = data.drop(['income', 'race', 'native-country', 'sex'], axis=1)\n",
    "y = data['income']\n",
    "\n",
    "X_temp, X_test, y_temp, y_test = train_test_split(X, y, test_size=0.15, stratify=y)\n",
    "X_train, X_val, y_train, y_val = train_test_split(X_temp, y_temp, test_size=0.15, stratify=y_temp)"
   ],
   "metadata": {
    "collapsed": false,
    "ExecuteTime": {
     "end_time": "2024-04-11T14:18:59.126482Z",
     "start_time": "2024-04-11T14:18:59.095485Z"
    }
   },
   "id": "7a437095411d3439",
   "execution_count": 44
  },
  {
   "cell_type": "code",
   "outputs": [
    {
     "name": "stdout",
     "output_type": "stream",
     "text": [
      "shape of X_train: (23508, 10)\n",
      "shape of y_val: (4149,)\n",
      "shape of X_train: (23508, 10)\n",
      "shape of y_val: (4149,)\n"
     ]
    }
   ],
   "source": [
    "print(f'shape of X_train: {X_train.shape}')\n",
    "print(f'shape of y_val: {y_val.shape}')\n",
    "print(f'shape of X_train: {X_train.shape}')\n",
    "print(f'shape of y_val: {y_val.shape}')"
   ],
   "metadata": {
    "collapsed": false,
    "ExecuteTime": {
     "end_time": "2024-04-11T14:18:59.142481Z",
     "start_time": "2024-04-11T14:18:59.127485Z"
    }
   },
   "id": "c45464f283dd5741",
   "execution_count": 45
  },
  {
   "cell_type": "code",
   "outputs": [],
   "source": [
    "scaler_m = MinMaxScaler()\n",
    "X_train_norm = X_train.copy()\n",
    "X_test_norm = X_test.copy()\n",
    "X_val_norm = X_val.copy()\n",
    "\n",
    "X_train_norm = pd.DataFrame(scaler_m.fit_transform(X_train_norm), index=X_train_norm.index, columns=X_train_norm.columns)\n",
    "X_test_norm = pd.DataFrame(scaler_m.fit_transform(X_test_norm), index=X_test_norm.index, columns=X_test_norm.columns)\n",
    "X_val_norm = pd.DataFrame(scaler_m.transform(X_val_norm), index=X_val_norm.index, columns=X_val_norm.columns)\n",
    "\n",
    "scaler_s = StandardScaler()\n",
    "X_train_s = X_train.copy()\n",
    "X_test_s = X_test.copy()\n",
    "X_val_s = X_val.copy()\n",
    "\n",
    "X_train_s = pd.DataFrame(scaler_s.fit_transform(X_train_s), index=X_train_s.index, columns=X_train_s.columns)\n",
    "X_test_s = pd.DataFrame(scaler_s.fit_transform(X_test_s), index=X_test_s.index, columns=X_test_s.columns)\n",
    "X_val_s = pd.DataFrame(scaler_s.fit_transform(X_val_s), index=X_val_s.index, columns=X_val_s.columns)"
   ],
   "metadata": {
    "collapsed": false,
    "ExecuteTime": {
     "end_time": "2024-04-11T14:18:59.174502Z",
     "start_time": "2024-04-11T14:18:59.143483Z"
    }
   },
   "id": "ed98ac294219796f",
   "execution_count": 46
  },
  {
   "cell_type": "code",
   "outputs": [
    {
     "data": {
      "text/plain": "        Accuracy  Precision    Recall  F1 Score  ROC AUC\nX_test  0.844499   0.753341  0.844499  0.834305  0.73621\nX_val   0.835382   0.728058  0.835382  0.824373  0.72299",
      "text/html": "<div>\n<style scoped>\n    .dataframe tbody tr th:only-of-type {\n        vertical-align: middle;\n    }\n\n    .dataframe tbody tr th {\n        vertical-align: top;\n    }\n\n    .dataframe thead th {\n        text-align: right;\n    }\n</style>\n<table border=\"1\" class=\"dataframe\">\n  <thead>\n    <tr style=\"text-align: right;\">\n      <th></th>\n      <th>Accuracy</th>\n      <th>Precision</th>\n      <th>Recall</th>\n      <th>F1 Score</th>\n      <th>ROC AUC</th>\n    </tr>\n  </thead>\n  <tbody>\n    <tr>\n      <th>X_test</th>\n      <td>0.844499</td>\n      <td>0.753341</td>\n      <td>0.844499</td>\n      <td>0.834305</td>\n      <td>0.73621</td>\n    </tr>\n    <tr>\n      <th>X_val</th>\n      <td>0.835382</td>\n      <td>0.728058</td>\n      <td>0.835382</td>\n      <td>0.824373</td>\n      <td>0.72299</td>\n    </tr>\n  </tbody>\n</table>\n</div>"
     },
     "execution_count": 47,
     "metadata": {},
     "output_type": "execute_result"
    }
   ],
   "source": [
    "SVCClass(X_train_norm, X_val_norm, X_test_norm, y_train, y_val, y_test)"
   ],
   "metadata": {
    "collapsed": false,
    "ExecuteTime": {
     "end_time": "2024-04-11T14:19:19.910484Z",
     "start_time": "2024-04-11T14:18:59.176483Z"
    }
   },
   "id": "9b407e638b1ee60f",
   "execution_count": 47
  },
  {
   "cell_type": "markdown",
   "source": [
    "**with 9 features**"
   ],
   "metadata": {
    "collapsed": false
   },
   "id": "18142a28aa992e83"
  },
  {
   "cell_type": "code",
   "outputs": [
    {
     "name": "stdout",
     "output_type": "stream",
     "text": [
      "shape of X_train: (23508, 9)\n",
      "shape of y_val: (4149,)\n",
      "shape of X_train: (23508, 9)\n",
      "shape of y_val: (4149,)\n"
     ]
    }
   ],
   "source": [
    "X = data.drop(['income', 'race', 'native-country', 'sex', 'capital-loss'], axis=1)\n",
    "y = data['income']\n",
    "\n",
    "X_temp, X_test, y_temp, y_test = train_test_split(X, y, test_size=0.15, stratify=y)\n",
    "X_train, X_val, y_train, y_val = train_test_split(X_temp, y_temp, test_size=0.15, stratify=y_temp)\n",
    "\n",
    "print(f'shape of X_train: {X_train.shape}')\n",
    "print(f'shape of y_val: {y_val.shape}')\n",
    "print(f'shape of X_train: {X_train.shape}')\n",
    "print(f'shape of y_val: {y_val.shape}')"
   ],
   "metadata": {
    "collapsed": false,
    "ExecuteTime": {
     "end_time": "2024-04-11T14:19:19.942483Z",
     "start_time": "2024-04-11T14:19:19.915482Z"
    }
   },
   "id": "51a02acfc63cd1da",
   "execution_count": 48
  },
  {
   "cell_type": "code",
   "outputs": [],
   "source": [
    "scaler_m = MinMaxScaler()\n",
    "X_train_norm = X_train.copy()\n",
    "X_test_norm = X_test.copy()\n",
    "X_val_norm = X_val.copy()\n",
    "\n",
    "X_train_norm = pd.DataFrame(scaler_m.fit_transform(X_train_norm), index=X_train_norm.index, columns=X_train_norm.columns)\n",
    "X_test_norm = pd.DataFrame(scaler_m.fit_transform(X_test_norm), index=X_test_norm.index, columns=X_test_norm.columns)\n",
    "X_val_norm = pd.DataFrame(scaler_m.transform(X_val_norm), index=X_val_norm.index, columns=X_val_norm.columns)\n",
    "\n",
    "scaler_s = StandardScaler()\n",
    "X_train_s = X_train.copy()\n",
    "X_test_s = X_test.copy()\n",
    "X_val_s = X_val.copy()\n",
    "\n",
    "X_train_s = pd.DataFrame(scaler_s.fit_transform(X_train_s), index=X_train_s.index, columns=X_train_s.columns)\n",
    "X_test_s = pd.DataFrame(scaler_s.fit_transform(X_test_s), index=X_test_s.index, columns=X_test_s.columns)\n",
    "X_val_s = pd.DataFrame(scaler_s.fit_transform(X_val_s), index=X_val_s.index, columns=X_val_s.columns)"
   ],
   "metadata": {
    "collapsed": false,
    "ExecuteTime": {
     "end_time": "2024-04-11T14:19:19.974483Z",
     "start_time": "2024-04-11T14:19:19.945483Z"
    }
   },
   "id": "bf56f31c5ae7ce40",
   "execution_count": 49
  },
  {
   "cell_type": "code",
   "outputs": [
    {
     "data": {
      "text/plain": "        Accuracy  Precision    Recall  F1 Score   ROC AUC\nX_test  0.851465   0.770060  0.851465  0.842139  0.747473\nX_val   0.841890   0.748555  0.841890  0.831185  0.731372",
      "text/html": "<div>\n<style scoped>\n    .dataframe tbody tr th:only-of-type {\n        vertical-align: middle;\n    }\n\n    .dataframe tbody tr th {\n        vertical-align: top;\n    }\n\n    .dataframe thead th {\n        text-align: right;\n    }\n</style>\n<table border=\"1\" class=\"dataframe\">\n  <thead>\n    <tr style=\"text-align: right;\">\n      <th></th>\n      <th>Accuracy</th>\n      <th>Precision</th>\n      <th>Recall</th>\n      <th>F1 Score</th>\n      <th>ROC AUC</th>\n    </tr>\n  </thead>\n  <tbody>\n    <tr>\n      <th>X_test</th>\n      <td>0.851465</td>\n      <td>0.770060</td>\n      <td>0.851465</td>\n      <td>0.842139</td>\n      <td>0.747473</td>\n    </tr>\n    <tr>\n      <th>X_val</th>\n      <td>0.841890</td>\n      <td>0.748555</td>\n      <td>0.841890</td>\n      <td>0.831185</td>\n      <td>0.731372</td>\n    </tr>\n  </tbody>\n</table>\n</div>"
     },
     "execution_count": 50,
     "metadata": {},
     "output_type": "execute_result"
    }
   ],
   "source": [
    "SVCClass(X_train_norm, X_val_norm, X_test_norm, y_train, y_val, y_test)"
   ],
   "metadata": {
    "collapsed": false,
    "ExecuteTime": {
     "end_time": "2024-04-11T14:19:41.736577Z",
     "start_time": "2024-04-11T14:19:19.975482Z"
    }
   },
   "id": "e24122ff827e9348",
   "execution_count": 50
  },
  {
   "cell_type": "markdown",
   "source": [
    "**PCA dengan 10 features memiliki score yang lebih tinggi dibandingkan dengan score lain**"
   ],
   "metadata": {
    "collapsed": false
   },
   "id": "fc5372672ea0c5c5"
  },
  {
   "cell_type": "code",
   "outputs": [],
   "source": [
    "X = data.drop(['income', 'race'], axis=1)\n",
    "y = data['income']\n",
    "\n",
    "X_temp, X_test, y_temp, y_test = train_test_split(X, y, test_size=0.15, stratify=y)\n",
    "X_train, X_val, y_train, y_val = train_test_split(X_temp, y_temp, test_size=0.15, stratify=y_temp)\n",
    "\n",
    "scaler_m = MinMaxScaler()\n",
    "X_train_norm = X_train.copy()\n",
    "X_test_norm = X_test.copy()\n",
    "X_val_norm = X_val.copy()\n",
    "\n",
    "X_train_norm = pd.DataFrame(scaler_m.fit_transform(X_train_norm), index=X_train_norm.index, columns=X_train_norm.columns)\n",
    "X_test_norm = pd.DataFrame(scaler_m.fit_transform(X_test_norm), index=X_test_norm.index, columns=X_test_norm.columns)\n",
    "X_val_norm = pd.DataFrame(scaler_m.transform(X_val_norm), index=X_val_norm.index, columns=X_val_norm.columns)"
   ],
   "metadata": {
    "collapsed": false,
    "ExecuteTime": {
     "end_time": "2024-04-11T14:19:41.783516Z",
     "start_time": "2024-04-11T14:19:41.738499Z"
    }
   },
   "id": "5e293fa3113fdece",
   "execution_count": 51
  },
  {
   "cell_type": "code",
   "outputs": [
    {
     "data": {
      "text/plain": "        Accuracy  Precision    Recall  F1 Score   ROC AUC\nX_test  0.843475   0.754321  0.843475  0.832735  0.732923\nX_val   0.830562   0.713669  0.830562  0.819230  0.716403",
      "text/html": "<div>\n<style scoped>\n    .dataframe tbody tr th:only-of-type {\n        vertical-align: middle;\n    }\n\n    .dataframe tbody tr th {\n        vertical-align: top;\n    }\n\n    .dataframe thead th {\n        text-align: right;\n    }\n</style>\n<table border=\"1\" class=\"dataframe\">\n  <thead>\n    <tr style=\"text-align: right;\">\n      <th></th>\n      <th>Accuracy</th>\n      <th>Precision</th>\n      <th>Recall</th>\n      <th>F1 Score</th>\n      <th>ROC AUC</th>\n    </tr>\n  </thead>\n  <tbody>\n    <tr>\n      <th>X_test</th>\n      <td>0.843475</td>\n      <td>0.754321</td>\n      <td>0.843475</td>\n      <td>0.832735</td>\n      <td>0.732923</td>\n    </tr>\n    <tr>\n      <th>X_val</th>\n      <td>0.830562</td>\n      <td>0.713669</td>\n      <td>0.830562</td>\n      <td>0.819230</td>\n      <td>0.716403</td>\n    </tr>\n  </tbody>\n</table>\n</div>"
     },
     "execution_count": 52,
     "metadata": {},
     "output_type": "execute_result"
    }
   ],
   "source": [
    "SVCClass(X_train_norm, X_val_norm, X_test_norm, y_train, y_val, y_test)"
   ],
   "metadata": {
    "collapsed": false,
    "ExecuteTime": {
     "end_time": "2024-04-11T14:20:03.480549Z",
     "start_time": "2024-04-11T14:19:41.784486Z"
    }
   },
   "id": "475fdba4dc4b26f9",
   "execution_count": 52
  },
  {
   "cell_type": "markdown",
   "source": [
    "**Hyperparameter untuk SVM**"
   ],
   "metadata": {
    "collapsed": false
   },
   "id": "4e6ab189cd3a67c2"
  },
  {
   "cell_type": "code",
   "outputs": [
    {
     "name": "stdout",
     "output_type": "stream",
     "text": [
      "{'C': 1.0, 'break_ties': False, 'cache_size': 200, 'class_weight': None, 'coef0': 0.0, 'decision_function_shape': 'ovr', 'degree': 3, 'gamma': 'scale', 'kernel': 'rbf', 'max_iter': -1, 'probability': False, 'random_state': None, 'shrinking': True, 'tol': 0.001, 'verbose': False}\n"
     ]
    }
   ],
   "source": [
    "svc = SVC()\n",
    "print(svc.get_params())"
   ],
   "metadata": {
    "collapsed": false,
    "ExecuteTime": {
     "end_time": "2024-04-11T14:20:03.496555Z",
     "start_time": "2024-04-11T14:20:03.481532Z"
    }
   },
   "id": "fd6e3776a232b20f",
   "execution_count": 53
  },
  {
   "cell_type": "code",
   "outputs": [],
   "source": [
    "#from skopt import BayesSearchCV\n",
    "\n",
    "#search_space = {'C': (1e-6, 1e+6, 'log-uniform'),\n",
    "#                'gamma': (1e-6, 1e+1, 'log-uniform'),\n",
    "#                'degree': (1, 5),\n",
    "#                'kernel': ['linear', 'rbf']}\n",
    "\n",
    "#opt = BayesSearchCV(svc, search_space, n_iter=50, cv=3, n_jobs=-1)"
   ],
   "metadata": {
    "collapsed": false,
    "ExecuteTime": {
     "end_time": "2024-04-11T14:20:03.512547Z",
     "start_time": "2024-04-11T14:20:03.498533Z"
    }
   },
   "id": "5367fb03118c16",
   "execution_count": 54
  },
  {
   "cell_type": "code",
   "outputs": [],
   "source": [
    "#opt.fit(X_train_norm, y_train)"
   ],
   "metadata": {
    "collapsed": false,
    "is_executing": true,
    "ExecuteTime": {
     "start_time": "2024-04-11T14:20:03.513536Z"
    }
   },
   "id": "9f24aabae3a0a067",
   "execution_count": null
  },
  {
   "cell_type": "code",
   "outputs": [],
   "source": [
    "#print(\"Best parameters found: \", opt.best_params_)"
   ],
   "metadata": {
    "collapsed": false,
    "is_executing": true
   },
   "id": "1f43b7a8350f2aa0"
  },
  {
   "cell_type": "code",
   "outputs": [],
   "source": [
    "#predict = opt.predict(X_test_norm)\n",
    "#print(f'Accuracy: {accuracy_score(y_test, predict)}')"
   ],
   "metadata": {
    "collapsed": false,
    "is_executing": true
   },
   "id": "8b197a12bfd06311",
   "execution_count": null
  },
  {
   "cell_type": "code",
   "outputs": [],
   "source": [
    "#print(f'ROC AUC: {roc_auc_score(y_test, predict)}')"
   ],
   "metadata": {
    "collapsed": false,
    "is_executing": true
   },
   "id": "339b9e8eab212788",
   "execution_count": null
  },
  {
   "cell_type": "code",
   "outputs": [],
   "source": [
    "#confusion_matrix(y_test, predict)"
   ],
   "metadata": {
    "collapsed": false,
    "is_executing": true
   },
   "id": "5876f6764e01e1ac",
   "execution_count": null
  },
  {
   "cell_type": "code",
   "outputs": [],
   "source": [
    "#from sklearn.metrics import ConfusionMatrixDisplay\n",
    "\n",
    "#cm = confusion_matrix(y_test, predict)\n",
    "#cmd = ConfusionMatrixDisplay(cm, display_labels=['Class 0', 'Class 1'])\n",
    "#cmd.plot()"
   ],
   "metadata": {
    "collapsed": false,
    "is_executing": true
   },
   "id": "c14026eb5d298cd0",
   "execution_count": null
  },
  {
   "cell_type": "code",
   "outputs": [],
   "source": [],
   "metadata": {
    "collapsed": false,
    "is_executing": true
   },
   "id": "2420f52e2e4c61b4",
   "execution_count": null
  }
 ],
 "metadata": {
  "kernelspec": {
   "display_name": "Python 3",
   "language": "python",
   "name": "python3"
  },
  "language_info": {
   "codemirror_mode": {
    "name": "ipython",
    "version": 2
   },
   "file_extension": ".py",
   "mimetype": "text/x-python",
   "name": "python",
   "nbconvert_exporter": "python",
   "pygments_lexer": "ipython2",
   "version": "2.7.6"
  }
 },
 "nbformat": 4,
 "nbformat_minor": 5
}
