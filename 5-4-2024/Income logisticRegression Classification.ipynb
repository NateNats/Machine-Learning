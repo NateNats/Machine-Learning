{
 "cells": [
  {
   "cell_type": "code",
   "execution_count": 1,
   "id": "initial_id",
   "metadata": {
    "collapsed": true,
    "ExecuteTime": {
     "end_time": "2024-04-12T05:48:12.517302Z",
     "start_time": "2024-04-12T05:48:12.252320Z"
    }
   },
   "outputs": [],
   "source": [
    "import pandas as pd\n",
    "from sklearn.linear_model import LogisticRegression\n",
    "import numpy as np\n",
    "import matplotlib.pyplot as plt\n",
    "from sklearn.model_selection import train_test_split, GridSearchCV\n",
    "from sklearn.preprocessing import MinMaxScaler, StandardScaler\n",
    "from sklearn.metrics import precision_score, recall_score, f1_score, roc_auc_score, accuracy_score, confusion_matrix, roc_curve"
   ]
  },
  {
   "cell_type": "code",
   "outputs": [
    {
     "data": {
      "text/plain": "       Unnamed: 0  workclass  education  marital-status  occupation  \\\n0               0          4         12               0           0   \n1               1          6         12               1           1   \n2               2          2          8               4           2   \n3               3          2          6               1           2   \n4               4          2         12               1           3   \n...           ...        ...        ...             ...         ...   \n32533       32556          2         10               1          10   \n32534       32557          2          8               1           9   \n32535       32558          2          8               6           0   \n32536       32559          2          8               0           0   \n32537       32560          7          8               1           1   \n\n       relationship  race  sex  native-country  income  age  fnlwgt  \\\n0                 0     0    0              38       0   39   77516   \n1                 1     0    0              38       0   50   83311   \n2                 0     0    0              38       0   38  215646   \n3                 1     1    0              38       0   53  234721   \n4                 2     1    1               4       0   28  338409   \n...             ...   ...  ...             ...     ...  ...     ...   \n32533             2     0    1              38       0   27  257302   \n32534             1     0    0              38       1   40  154374   \n32535             4     0    1              38       0   58  151910   \n32536             3     0    0              38       0   22  201490   \n32537             2     0    1              38       1   52  287927   \n\n       capital-gain  capital-loss  hours-per-week  \n0              2174             0              40  \n1                 0             0              13  \n2                 0             0              40  \n3                 0             0              40  \n4                 0             0              40  \n...             ...           ...             ...  \n32533             0             0              38  \n32534             0             0              40  \n32535             0             0              40  \n32536             0             0              20  \n32537         15024             0              40  \n\n[32538 rows x 15 columns]",
      "text/html": "<div>\n<style scoped>\n    .dataframe tbody tr th:only-of-type {\n        vertical-align: middle;\n    }\n\n    .dataframe tbody tr th {\n        vertical-align: top;\n    }\n\n    .dataframe thead th {\n        text-align: right;\n    }\n</style>\n<table border=\"1\" class=\"dataframe\">\n  <thead>\n    <tr style=\"text-align: right;\">\n      <th></th>\n      <th>Unnamed: 0</th>\n      <th>workclass</th>\n      <th>education</th>\n      <th>marital-status</th>\n      <th>occupation</th>\n      <th>relationship</th>\n      <th>race</th>\n      <th>sex</th>\n      <th>native-country</th>\n      <th>income</th>\n      <th>age</th>\n      <th>fnlwgt</th>\n      <th>capital-gain</th>\n      <th>capital-loss</th>\n      <th>hours-per-week</th>\n    </tr>\n  </thead>\n  <tbody>\n    <tr>\n      <th>0</th>\n      <td>0</td>\n      <td>4</td>\n      <td>12</td>\n      <td>0</td>\n      <td>0</td>\n      <td>0</td>\n      <td>0</td>\n      <td>0</td>\n      <td>38</td>\n      <td>0</td>\n      <td>39</td>\n      <td>77516</td>\n      <td>2174</td>\n      <td>0</td>\n      <td>40</td>\n    </tr>\n    <tr>\n      <th>1</th>\n      <td>1</td>\n      <td>6</td>\n      <td>12</td>\n      <td>1</td>\n      <td>1</td>\n      <td>1</td>\n      <td>0</td>\n      <td>0</td>\n      <td>38</td>\n      <td>0</td>\n      <td>50</td>\n      <td>83311</td>\n      <td>0</td>\n      <td>0</td>\n      <td>13</td>\n    </tr>\n    <tr>\n      <th>2</th>\n      <td>2</td>\n      <td>2</td>\n      <td>8</td>\n      <td>4</td>\n      <td>2</td>\n      <td>0</td>\n      <td>0</td>\n      <td>0</td>\n      <td>38</td>\n      <td>0</td>\n      <td>38</td>\n      <td>215646</td>\n      <td>0</td>\n      <td>0</td>\n      <td>40</td>\n    </tr>\n    <tr>\n      <th>3</th>\n      <td>3</td>\n      <td>2</td>\n      <td>6</td>\n      <td>1</td>\n      <td>2</td>\n      <td>1</td>\n      <td>1</td>\n      <td>0</td>\n      <td>38</td>\n      <td>0</td>\n      <td>53</td>\n      <td>234721</td>\n      <td>0</td>\n      <td>0</td>\n      <td>40</td>\n    </tr>\n    <tr>\n      <th>4</th>\n      <td>4</td>\n      <td>2</td>\n      <td>12</td>\n      <td>1</td>\n      <td>3</td>\n      <td>2</td>\n      <td>1</td>\n      <td>1</td>\n      <td>4</td>\n      <td>0</td>\n      <td>28</td>\n      <td>338409</td>\n      <td>0</td>\n      <td>0</td>\n      <td>40</td>\n    </tr>\n    <tr>\n      <th>...</th>\n      <td>...</td>\n      <td>...</td>\n      <td>...</td>\n      <td>...</td>\n      <td>...</td>\n      <td>...</td>\n      <td>...</td>\n      <td>...</td>\n      <td>...</td>\n      <td>...</td>\n      <td>...</td>\n      <td>...</td>\n      <td>...</td>\n      <td>...</td>\n      <td>...</td>\n    </tr>\n    <tr>\n      <th>32533</th>\n      <td>32556</td>\n      <td>2</td>\n      <td>10</td>\n      <td>1</td>\n      <td>10</td>\n      <td>2</td>\n      <td>0</td>\n      <td>1</td>\n      <td>38</td>\n      <td>0</td>\n      <td>27</td>\n      <td>257302</td>\n      <td>0</td>\n      <td>0</td>\n      <td>38</td>\n    </tr>\n    <tr>\n      <th>32534</th>\n      <td>32557</td>\n      <td>2</td>\n      <td>8</td>\n      <td>1</td>\n      <td>9</td>\n      <td>1</td>\n      <td>0</td>\n      <td>0</td>\n      <td>38</td>\n      <td>1</td>\n      <td>40</td>\n      <td>154374</td>\n      <td>0</td>\n      <td>0</td>\n      <td>40</td>\n    </tr>\n    <tr>\n      <th>32535</th>\n      <td>32558</td>\n      <td>2</td>\n      <td>8</td>\n      <td>6</td>\n      <td>0</td>\n      <td>4</td>\n      <td>0</td>\n      <td>1</td>\n      <td>38</td>\n      <td>0</td>\n      <td>58</td>\n      <td>151910</td>\n      <td>0</td>\n      <td>0</td>\n      <td>40</td>\n    </tr>\n    <tr>\n      <th>32536</th>\n      <td>32559</td>\n      <td>2</td>\n      <td>8</td>\n      <td>0</td>\n      <td>0</td>\n      <td>3</td>\n      <td>0</td>\n      <td>0</td>\n      <td>38</td>\n      <td>0</td>\n      <td>22</td>\n      <td>201490</td>\n      <td>0</td>\n      <td>0</td>\n      <td>20</td>\n    </tr>\n    <tr>\n      <th>32537</th>\n      <td>32560</td>\n      <td>7</td>\n      <td>8</td>\n      <td>1</td>\n      <td>1</td>\n      <td>2</td>\n      <td>0</td>\n      <td>1</td>\n      <td>38</td>\n      <td>1</td>\n      <td>52</td>\n      <td>287927</td>\n      <td>15024</td>\n      <td>0</td>\n      <td>40</td>\n    </tr>\n  </tbody>\n</table>\n<p>32538 rows × 15 columns</p>\n</div>"
     },
     "execution_count": 2,
     "metadata": {},
     "output_type": "execute_result"
    }
   ],
   "source": [
    "data = pd.read_csv('new_income_evaluation.csv')\n",
    "data"
   ],
   "metadata": {
    "collapsed": false,
    "ExecuteTime": {
     "end_time": "2024-04-12T05:48:12.579352Z",
     "start_time": "2024-04-12T05:48:12.518298Z"
    }
   },
   "id": "b7e9e0cc706bbed9",
   "execution_count": 2
  },
  {
   "cell_type": "code",
   "outputs": [
    {
     "data": {
      "text/plain": "       workclass  education  marital-status  occupation  relationship  race  \\\n0              4         12               0           0             0     0   \n1              6         12               1           1             1     0   \n2              2          8               4           2             0     0   \n3              2          6               1           2             1     1   \n4              2         12               1           3             2     1   \n...          ...        ...             ...         ...           ...   ...   \n32533          2         10               1          10             2     0   \n32534          2          8               1           9             1     0   \n32535          2          8               6           0             4     0   \n32536          2          8               0           0             3     0   \n32537          7          8               1           1             2     0   \n\n       sex  native-country  income  age  fnlwgt  capital-gain  capital-loss  \\\n0        0              38       0   39   77516          2174             0   \n1        0              38       0   50   83311             0             0   \n2        0              38       0   38  215646             0             0   \n3        0              38       0   53  234721             0             0   \n4        1               4       0   28  338409             0             0   \n...    ...             ...     ...  ...     ...           ...           ...   \n32533    1              38       0   27  257302             0             0   \n32534    0              38       1   40  154374             0             0   \n32535    1              38       0   58  151910             0             0   \n32536    0              38       0   22  201490             0             0   \n32537    1              38       1   52  287927         15024             0   \n\n       hours-per-week  \n0                  40  \n1                  13  \n2                  40  \n3                  40  \n4                  40  \n...               ...  \n32533              38  \n32534              40  \n32535              40  \n32536              20  \n32537              40  \n\n[32538 rows x 14 columns]",
      "text/html": "<div>\n<style scoped>\n    .dataframe tbody tr th:only-of-type {\n        vertical-align: middle;\n    }\n\n    .dataframe tbody tr th {\n        vertical-align: top;\n    }\n\n    .dataframe thead th {\n        text-align: right;\n    }\n</style>\n<table border=\"1\" class=\"dataframe\">\n  <thead>\n    <tr style=\"text-align: right;\">\n      <th></th>\n      <th>workclass</th>\n      <th>education</th>\n      <th>marital-status</th>\n      <th>occupation</th>\n      <th>relationship</th>\n      <th>race</th>\n      <th>sex</th>\n      <th>native-country</th>\n      <th>income</th>\n      <th>age</th>\n      <th>fnlwgt</th>\n      <th>capital-gain</th>\n      <th>capital-loss</th>\n      <th>hours-per-week</th>\n    </tr>\n  </thead>\n  <tbody>\n    <tr>\n      <th>0</th>\n      <td>4</td>\n      <td>12</td>\n      <td>0</td>\n      <td>0</td>\n      <td>0</td>\n      <td>0</td>\n      <td>0</td>\n      <td>38</td>\n      <td>0</td>\n      <td>39</td>\n      <td>77516</td>\n      <td>2174</td>\n      <td>0</td>\n      <td>40</td>\n    </tr>\n    <tr>\n      <th>1</th>\n      <td>6</td>\n      <td>12</td>\n      <td>1</td>\n      <td>1</td>\n      <td>1</td>\n      <td>0</td>\n      <td>0</td>\n      <td>38</td>\n      <td>0</td>\n      <td>50</td>\n      <td>83311</td>\n      <td>0</td>\n      <td>0</td>\n      <td>13</td>\n    </tr>\n    <tr>\n      <th>2</th>\n      <td>2</td>\n      <td>8</td>\n      <td>4</td>\n      <td>2</td>\n      <td>0</td>\n      <td>0</td>\n      <td>0</td>\n      <td>38</td>\n      <td>0</td>\n      <td>38</td>\n      <td>215646</td>\n      <td>0</td>\n      <td>0</td>\n      <td>40</td>\n    </tr>\n    <tr>\n      <th>3</th>\n      <td>2</td>\n      <td>6</td>\n      <td>1</td>\n      <td>2</td>\n      <td>1</td>\n      <td>1</td>\n      <td>0</td>\n      <td>38</td>\n      <td>0</td>\n      <td>53</td>\n      <td>234721</td>\n      <td>0</td>\n      <td>0</td>\n      <td>40</td>\n    </tr>\n    <tr>\n      <th>4</th>\n      <td>2</td>\n      <td>12</td>\n      <td>1</td>\n      <td>3</td>\n      <td>2</td>\n      <td>1</td>\n      <td>1</td>\n      <td>4</td>\n      <td>0</td>\n      <td>28</td>\n      <td>338409</td>\n      <td>0</td>\n      <td>0</td>\n      <td>40</td>\n    </tr>\n    <tr>\n      <th>...</th>\n      <td>...</td>\n      <td>...</td>\n      <td>...</td>\n      <td>...</td>\n      <td>...</td>\n      <td>...</td>\n      <td>...</td>\n      <td>...</td>\n      <td>...</td>\n      <td>...</td>\n      <td>...</td>\n      <td>...</td>\n      <td>...</td>\n      <td>...</td>\n    </tr>\n    <tr>\n      <th>32533</th>\n      <td>2</td>\n      <td>10</td>\n      <td>1</td>\n      <td>10</td>\n      <td>2</td>\n      <td>0</td>\n      <td>1</td>\n      <td>38</td>\n      <td>0</td>\n      <td>27</td>\n      <td>257302</td>\n      <td>0</td>\n      <td>0</td>\n      <td>38</td>\n    </tr>\n    <tr>\n      <th>32534</th>\n      <td>2</td>\n      <td>8</td>\n      <td>1</td>\n      <td>9</td>\n      <td>1</td>\n      <td>0</td>\n      <td>0</td>\n      <td>38</td>\n      <td>1</td>\n      <td>40</td>\n      <td>154374</td>\n      <td>0</td>\n      <td>0</td>\n      <td>40</td>\n    </tr>\n    <tr>\n      <th>32535</th>\n      <td>2</td>\n      <td>8</td>\n      <td>6</td>\n      <td>0</td>\n      <td>4</td>\n      <td>0</td>\n      <td>1</td>\n      <td>38</td>\n      <td>0</td>\n      <td>58</td>\n      <td>151910</td>\n      <td>0</td>\n      <td>0</td>\n      <td>40</td>\n    </tr>\n    <tr>\n      <th>32536</th>\n      <td>2</td>\n      <td>8</td>\n      <td>0</td>\n      <td>0</td>\n      <td>3</td>\n      <td>0</td>\n      <td>0</td>\n      <td>38</td>\n      <td>0</td>\n      <td>22</td>\n      <td>201490</td>\n      <td>0</td>\n      <td>0</td>\n      <td>20</td>\n    </tr>\n    <tr>\n      <th>32537</th>\n      <td>7</td>\n      <td>8</td>\n      <td>1</td>\n      <td>1</td>\n      <td>2</td>\n      <td>0</td>\n      <td>1</td>\n      <td>38</td>\n      <td>1</td>\n      <td>52</td>\n      <td>287927</td>\n      <td>15024</td>\n      <td>0</td>\n      <td>40</td>\n    </tr>\n  </tbody>\n</table>\n<p>32538 rows × 14 columns</p>\n</div>"
     },
     "execution_count": 3,
     "metadata": {},
     "output_type": "execute_result"
    }
   ],
   "source": [
    "data.drop('Unnamed: 0', axis=1, inplace=True)\n",
    "data"
   ],
   "metadata": {
    "collapsed": false,
    "ExecuteTime": {
     "end_time": "2024-04-12T05:48:12.610545Z",
     "start_time": "2024-04-12T05:48:12.580352Z"
    }
   },
   "id": "256f3aae93c5243f",
   "execution_count": 3
  },
  {
   "cell_type": "code",
   "outputs": [],
   "source": [
    "X = data.drop('income', axis=1)\n",
    "y = data['income']"
   ],
   "metadata": {
    "collapsed": false,
    "ExecuteTime": {
     "end_time": "2024-04-12T05:48:12.626244Z",
     "start_time": "2024-04-12T05:48:12.611544Z"
    }
   },
   "id": "c12df3d2deef00a",
   "execution_count": 4
  },
  {
   "cell_type": "code",
   "outputs": [],
   "source": [
    "def shapeInfo(X1, X2, y1, y2):\n",
    "    data_type = [X1, X2, y1, y2]\n",
    "    shape = []\n",
    "    frame = pd.DataFrame(columns=['shape'], index=['X1', 'X2', 'y1', 'y2'])\n",
    "\n",
    "    for i in range(0, len(data_type)):\n",
    "        shape.append(data_type[i].shape)\n",
    "\n",
    "    frame['shape'] = shape\n",
    "\n",
    "    return frame"
   ],
   "metadata": {
    "collapsed": false,
    "ExecuteTime": {
     "end_time": "2024-04-12T05:48:12.641791Z",
     "start_time": "2024-04-12T05:48:12.627244Z"
    }
   },
   "id": "e308cf002e3379b1",
   "execution_count": 5
  },
  {
   "cell_type": "code",
   "outputs": [],
   "source": [
    "X_temp, X_test, y_temp, y_test = train_test_split(X, y, test_size=0.15, stratify=y)"
   ],
   "metadata": {
    "collapsed": false,
    "ExecuteTime": {
     "end_time": "2024-04-12T05:48:12.673419Z",
     "start_time": "2024-04-12T05:48:12.644309Z"
    }
   },
   "id": "68aebc9493e2801b",
   "execution_count": 6
  },
  {
   "cell_type": "code",
   "outputs": [],
   "source": [
    "X_train, X_val, y_train, y_val = train_test_split(X_temp, y_temp, test_size=0.15, stratify=y_temp)"
   ],
   "metadata": {
    "collapsed": false,
    "ExecuteTime": {
     "end_time": "2024-04-12T05:48:12.704174Z",
     "start_time": "2024-04-12T05:48:12.675429Z"
    }
   },
   "id": "b3890b7d95a9712f",
   "execution_count": 7
  },
  {
   "cell_type": "code",
   "outputs": [
    {
     "data": {
      "text/plain": "          shape\nX1  (27657, 13)\nX2   (4881, 13)\ny1     (27657,)\ny2      (4881,)",
      "text/html": "<div>\n<style scoped>\n    .dataframe tbody tr th:only-of-type {\n        vertical-align: middle;\n    }\n\n    .dataframe tbody tr th {\n        vertical-align: top;\n    }\n\n    .dataframe thead th {\n        text-align: right;\n    }\n</style>\n<table border=\"1\" class=\"dataframe\">\n  <thead>\n    <tr style=\"text-align: right;\">\n      <th></th>\n      <th>shape</th>\n    </tr>\n  </thead>\n  <tbody>\n    <tr>\n      <th>X1</th>\n      <td>(27657, 13)</td>\n    </tr>\n    <tr>\n      <th>X2</th>\n      <td>(4881, 13)</td>\n    </tr>\n    <tr>\n      <th>y1</th>\n      <td>(27657,)</td>\n    </tr>\n    <tr>\n      <th>y2</th>\n      <td>(4881,)</td>\n    </tr>\n  </tbody>\n</table>\n</div>"
     },
     "execution_count": 8,
     "metadata": {},
     "output_type": "execute_result"
    }
   ],
   "source": [
    "shapeInfo(X_temp, X_test, y_temp, y_test)"
   ],
   "metadata": {
    "collapsed": false,
    "ExecuteTime": {
     "end_time": "2024-04-12T05:48:12.720201Z",
     "start_time": "2024-04-12T05:48:12.707167Z"
    }
   },
   "id": "4fa85773dc80d08",
   "execution_count": 8
  },
  {
   "cell_type": "code",
   "outputs": [
    {
     "data": {
      "text/plain": "          shape\nX1  (23508, 13)\nX2   (4149, 13)\ny1     (23508,)\ny2      (4149,)",
      "text/html": "<div>\n<style scoped>\n    .dataframe tbody tr th:only-of-type {\n        vertical-align: middle;\n    }\n\n    .dataframe tbody tr th {\n        vertical-align: top;\n    }\n\n    .dataframe thead th {\n        text-align: right;\n    }\n</style>\n<table border=\"1\" class=\"dataframe\">\n  <thead>\n    <tr style=\"text-align: right;\">\n      <th></th>\n      <th>shape</th>\n    </tr>\n  </thead>\n  <tbody>\n    <tr>\n      <th>X1</th>\n      <td>(23508, 13)</td>\n    </tr>\n    <tr>\n      <th>X2</th>\n      <td>(4149, 13)</td>\n    </tr>\n    <tr>\n      <th>y1</th>\n      <td>(23508,)</td>\n    </tr>\n    <tr>\n      <th>y2</th>\n      <td>(4149,)</td>\n    </tr>\n  </tbody>\n</table>\n</div>"
     },
     "execution_count": 9,
     "metadata": {},
     "output_type": "execute_result"
    }
   ],
   "source": [
    "shapeInfo(X_train, X_val, y_train, y_val)"
   ],
   "metadata": {
    "collapsed": false,
    "ExecuteTime": {
     "end_time": "2024-04-12T05:48:12.736317Z",
     "start_time": "2024-04-12T05:48:12.721706Z"
    }
   },
   "id": "553559763ea8ffcd",
   "execution_count": 9
  },
  {
   "cell_type": "code",
   "outputs": [],
   "source": [
    "scaler_m = MinMaxScaler()\n",
    "X_train_norm = X_train.copy()\n",
    "X_test_norm = X_test.copy()\n",
    "X_val_norm = X_val.copy()"
   ],
   "metadata": {
    "collapsed": false,
    "ExecuteTime": {
     "end_time": "2024-04-12T05:48:12.751840Z",
     "start_time": "2024-04-12T05:48:12.737319Z"
    }
   },
   "id": "9da6f613e2b713f4",
   "execution_count": 10
  },
  {
   "cell_type": "code",
   "outputs": [],
   "source": [
    "X_train_norm = pd.DataFrame(scaler_m.fit_transform(X_train_norm), index=X_train_norm.index, columns=X_train_norm.columns)\n",
    "X_test_norm = pd.DataFrame(scaler_m.fit_transform(X_test_norm), index=X_test_norm.index, columns=X_test_norm.columns)\n",
    "X_val_norm = pd.DataFrame(scaler_m.transform(X_val_norm), index=X_val_norm.index, columns=X_val_norm.columns)"
   ],
   "metadata": {
    "collapsed": false,
    "ExecuteTime": {
     "end_time": "2024-04-12T05:48:12.767277Z",
     "start_time": "2024-04-12T05:48:12.753512Z"
    }
   },
   "id": "cc7afeb2e58992f4",
   "execution_count": 11
  },
  {
   "cell_type": "code",
   "outputs": [],
   "source": [
    "scaler_s = StandardScaler()\n",
    "X_train_s = X_train.copy()\n",
    "X_test_s = X_test.copy()\n",
    "X_val_s = X_val.copy()"
   ],
   "metadata": {
    "collapsed": false,
    "ExecuteTime": {
     "end_time": "2024-04-12T05:48:12.782884Z",
     "start_time": "2024-04-12T05:48:12.768261Z"
    }
   },
   "id": "379b2077c2a8f6b2",
   "execution_count": 12
  },
  {
   "cell_type": "code",
   "outputs": [],
   "source": [
    "X_train_s = pd.DataFrame(scaler_s.fit_transform(X_train_s), index=X_train_s.index, columns=X_train_s.columns)\n",
    "X_test_s = pd.DataFrame(scaler_s.fit_transform(X_test_s), index=X_test_s.index, columns=X_test_s.columns)\n",
    "X_val_s = pd.DataFrame(scaler_s.fit_transform(X_val_s), index=X_val_s.index, columns=X_val_s.columns)"
   ],
   "metadata": {
    "collapsed": false,
    "ExecuteTime": {
     "end_time": "2024-04-12T05:48:12.814489Z",
     "start_time": "2024-04-12T05:48:12.784890Z"
    }
   },
   "id": "33c2dd3f237d23fd",
   "execution_count": 13
  },
  {
   "cell_type": "code",
   "outputs": [],
   "source": [
    "def LogClass(X_train, X_val, X_test, y_train, y_val, y_test):\n",
    "\n",
    "    log = LogisticRegression(penalty='l2', C=100)\n",
    "\n",
    "    accuracy = []\n",
    "    precision = []\n",
    "    recall = []\n",
    "    f1 = []\n",
    "    roc = []\n",
    "\n",
    "    index = ['X_test', 'X_val']\n",
    "\n",
    "    data_type = [X_test, X_val]\n",
    "    target_type = [y_test, y_val]\n",
    "    columns = ['Accuracy', 'Precision', 'Recall', 'F1 Score', 'ROC AUC']\n",
    "\n",
    "    result = pd.DataFrame(columns=columns, index=index)\n",
    "\n",
    "    for i in range(0, len(data_type)):\n",
    "        predict = log.fit(X_train, y_train).predict(data_type[i])\n",
    "\n",
    "        accuracy.append(accuracy_score(target_type[i], predict))\n",
    "        precision.append(precision_score(target_type[i], predict))\n",
    "        recall.append(recall_score(target_type[i], predict, average='weighted'))\n",
    "        f1.append(f1_score(target_type[i], predict, average='weighted'))\n",
    "        roc.append(roc_auc_score(target_type[i], predict, average='weighted'))\n",
    "\n",
    "    result['Accuracy'] = accuracy\n",
    "    result['Precision'] = precision\n",
    "    result['Recall'] = recall\n",
    "    result['F1 Score'] = f1\n",
    "    result['ROC AUC'] = roc\n",
    "\n",
    "    return result.sort_values('F1 Score', ascending=False)"
   ],
   "metadata": {
    "collapsed": false,
    "ExecuteTime": {
     "end_time": "2024-04-12T05:48:12.830501Z",
     "start_time": "2024-04-12T05:48:12.816490Z"
    }
   },
   "id": "5c9fc2cae5b3f75b",
   "execution_count": 14
  },
  {
   "cell_type": "code",
   "outputs": [
    {
     "data": {
      "text/plain": "        Accuracy  Precision    Recall  F1 Score   ROC AUC\nX_test  0.827494   0.708229  0.827494  0.815330  0.709918\nX_val   0.820439   0.696456  0.820439  0.806068  0.694720",
      "text/html": "<div>\n<style scoped>\n    .dataframe tbody tr th:only-of-type {\n        vertical-align: middle;\n    }\n\n    .dataframe tbody tr th {\n        vertical-align: top;\n    }\n\n    .dataframe thead th {\n        text-align: right;\n    }\n</style>\n<table border=\"1\" class=\"dataframe\">\n  <thead>\n    <tr style=\"text-align: right;\">\n      <th></th>\n      <th>Accuracy</th>\n      <th>Precision</th>\n      <th>Recall</th>\n      <th>F1 Score</th>\n      <th>ROC AUC</th>\n    </tr>\n  </thead>\n  <tbody>\n    <tr>\n      <th>X_test</th>\n      <td>0.827494</td>\n      <td>0.708229</td>\n      <td>0.827494</td>\n      <td>0.815330</td>\n      <td>0.709918</td>\n    </tr>\n    <tr>\n      <th>X_val</th>\n      <td>0.820439</td>\n      <td>0.696456</td>\n      <td>0.820439</td>\n      <td>0.806068</td>\n      <td>0.694720</td>\n    </tr>\n  </tbody>\n</table>\n</div>"
     },
     "execution_count": 15,
     "metadata": {},
     "output_type": "execute_result"
    }
   ],
   "source": [
    "LogClass(X_train_norm, X_val_norm, X_test_norm, y_train, y_val, y_test)"
   ],
   "metadata": {
    "collapsed": false,
    "ExecuteTime": {
     "end_time": "2024-04-12T05:48:13.051422Z",
     "start_time": "2024-04-12T05:48:12.832214Z"
    }
   },
   "id": "d939f026f01d07e8",
   "execution_count": 15
  },
  {
   "cell_type": "code",
   "outputs": [
    {
     "data": {
      "text/plain": "        Accuracy  Precision    Recall  F1 Score   ROC AUC\nX_test  0.825241   0.727145  0.825241  0.808868  0.693632\nX_val   0.822367   0.711755  0.822367  0.806642  0.692578",
      "text/html": "<div>\n<style scoped>\n    .dataframe tbody tr th:only-of-type {\n        vertical-align: middle;\n    }\n\n    .dataframe tbody tr th {\n        vertical-align: top;\n    }\n\n    .dataframe thead th {\n        text-align: right;\n    }\n</style>\n<table border=\"1\" class=\"dataframe\">\n  <thead>\n    <tr style=\"text-align: right;\">\n      <th></th>\n      <th>Accuracy</th>\n      <th>Precision</th>\n      <th>Recall</th>\n      <th>F1 Score</th>\n      <th>ROC AUC</th>\n    </tr>\n  </thead>\n  <tbody>\n    <tr>\n      <th>X_test</th>\n      <td>0.825241</td>\n      <td>0.727145</td>\n      <td>0.825241</td>\n      <td>0.808868</td>\n      <td>0.693632</td>\n    </tr>\n    <tr>\n      <th>X_val</th>\n      <td>0.822367</td>\n      <td>0.711755</td>\n      <td>0.822367</td>\n      <td>0.806642</td>\n      <td>0.692578</td>\n    </tr>\n  </tbody>\n</table>\n</div>"
     },
     "execution_count": 16,
     "metadata": {},
     "output_type": "execute_result"
    }
   ],
   "source": [
    "LogClass(X_train_s, X_val_s, X_test_s, y_train, y_val, y_test)"
   ],
   "metadata": {
    "collapsed": false,
    "ExecuteTime": {
     "end_time": "2024-04-12T05:48:13.144423Z",
     "start_time": "2024-04-12T05:48:13.052934Z"
    }
   },
   "id": "2caf2df98c75f974",
   "execution_count": 16
  },
  {
   "cell_type": "code",
   "outputs": [],
   "source": [
    "model = LogisticRegression(penalty='l2', C=100)\n",
    "model.fit(X_train_s, y_train)\n",
    "y_score_prob = model.predict_proba(X_test_s)[:,1]\n",
    "y_score = model.predict(X_test_s)"
   ],
   "metadata": {
    "collapsed": false,
    "ExecuteTime": {
     "end_time": "2024-04-12T05:48:13.191556Z",
     "start_time": "2024-04-12T05:48:13.147425Z"
    }
   },
   "id": "c97b06ea753f9341",
   "execution_count": 17
  },
  {
   "cell_type": "code",
   "outputs": [
    {
     "data": {
      "text/plain": "array([0, 0, 0, ..., 0, 0, 0], dtype=int64)"
     },
     "execution_count": 18,
     "metadata": {},
     "output_type": "execute_result"
    }
   ],
   "source": [
    "y_score"
   ],
   "metadata": {
    "collapsed": false,
    "ExecuteTime": {
     "end_time": "2024-04-12T05:48:13.207205Z",
     "start_time": "2024-04-12T05:48:13.193575Z"
    }
   },
   "id": "ace86235c5ee8595",
   "execution_count": 18
  },
  {
   "cell_type": "code",
   "outputs": [
    {
     "data": {
      "text/plain": "array([0.47627851, 0.44556404, 0.18408537, ..., 0.45282519, 0.32889125,\n       0.08091231])"
     },
     "execution_count": 19,
     "metadata": {},
     "output_type": "execute_result"
    }
   ],
   "source": [
    "y_score_prob"
   ],
   "metadata": {
    "collapsed": false,
    "ExecuteTime": {
     "end_time": "2024-04-12T05:48:13.222292Z",
     "start_time": "2024-04-12T05:48:13.209201Z"
    }
   },
   "id": "e8c4d3dbe54643f7",
   "execution_count": 19
  },
  {
   "cell_type": "code",
   "outputs": [],
   "source": [
    "def plot_roc_curve(y_test, y_score_prob):\n",
    "    false_positive_rate, true_positive_rate, treshold = roc_curve(y_test, y_score_prob)\n",
    "    print('roc_auc_score: ', roc_auc_score(y_test, y_score_prob))\n",
    "    plt.plot(false_positive_rate, true_positive_rate, label='ROC Curve')\n",
    "    plt.xlabel('False positive rate')\n",
    "    plt.ylabel('true positive rate')\n",
    "    plt.title('Receiver Operating Characteristic Curve')\n",
    "    plt.legend()\n",
    "    plt.show()"
   ],
   "metadata": {
    "collapsed": false,
    "ExecuteTime": {
     "end_time": "2024-04-12T05:48:13.237616Z",
     "start_time": "2024-04-12T05:48:13.223831Z"
    }
   },
   "id": "f5daa73aa0f1d6f8",
   "execution_count": 20
  },
  {
   "cell_type": "code",
   "outputs": [
    {
     "name": "stdout",
     "output_type": "stream",
     "text": [
      "roc_auc_score:  0.8518365510846714\n"
     ]
    },
    {
     "data": {
      "text/plain": "<Figure size 640x480 with 1 Axes>",
      "image/png": "[encoded data removed]"
     },
     "metadata": {},
     "output_type": "display_data"
    }
   ],
   "source": [
    "plot_roc_curve(y_test, y_score_prob)"
   ],
   "metadata": {
    "collapsed": false,
    "ExecuteTime": {
     "end_time": "2024-04-12T05:48:13.537827Z",
     "start_time": "2024-04-12T05:48:13.239613Z"
    }
   },
   "id": "93973bc6b9e16420",
   "execution_count": 21
  },
  {
   "cell_type": "code",
   "outputs": [
    {
     "data": {
      "text/plain": "<Figure size 640x480 with 1 Axes>",
      "image/png": "[encoded data removed]"
     },
     "metadata": {},
     "output_type": "display_data"
    }
   ],
   "source": [
    "plt.hist(y_score_prob, bins=10, edgecolor='k')\n",
    "plt.xlabel('Probability')\n",
    "plt.ylabel('Frequency')\n",
    "plt.title('Distribution of Predicted Probabilities')\n",
    "plt.show()"
   ],
   "metadata": {
    "collapsed": false,
    "ExecuteTime": {
     "end_time": "2024-04-12T05:48:13.788455Z",
     "start_time": "2024-04-12T05:48:13.539828Z"
    }
   },
   "id": "2e9c1fc327071df9",
   "execution_count": 22
  },
  {
   "cell_type": "code",
   "outputs": [
    {
     "data": {
      "text/plain": "array([       inf, 1.        , 0.96921375, ..., 0.00357104, 0.00354247,\n       0.00207724])"
     },
     "execution_count": 23,
     "metadata": {},
     "output_type": "execute_result"
    }
   ],
   "source": [
    "model = LogisticRegression(penalty='l2', C=100)\n",
    "model.fit(X_train_s, y_train)\n",
    "y_score = model.predict_proba(X_test_s)[:,1]\n",
    "\n",
    "fpr, tpr, thresholds = roc_curve(y_test, y_score)\n",
    "thresholds"
   ],
   "metadata": {
    "collapsed": false,
    "ExecuteTime": {
     "end_time": "2024-04-12T05:48:13.835137Z",
     "start_time": "2024-04-12T05:48:13.790454Z"
    }
   },
   "id": "c079cabf39f2cf29",
   "execution_count": 23
  },
  {
   "cell_type": "markdown",
   "source": [
    "**Linear Discriminant Analysis**"
   ],
   "metadata": {
    "collapsed": false
   },
   "id": "58908fb7356e52a"
  },
  {
   "cell_type": "code",
   "outputs": [],
   "source": [
    "X = data.drop('income', axis=1).values\n",
    "y = data['income'].values"
   ],
   "metadata": {
    "collapsed": false,
    "ExecuteTime": {
     "end_time": "2024-04-12T05:55:16.383737Z",
     "start_time": "2024-04-12T05:55:16.370722Z"
    }
   },
   "id": "2933a4d57f6429fd",
   "execution_count": 29
  },
  {
   "cell_type": "code",
   "outputs": [],
   "source": [
    "X_train, X_test, y_train, y_test = train_test_split(X, y, test_size=0.3, stratify=y)"
   ],
   "metadata": {
    "collapsed": false,
    "ExecuteTime": {
     "end_time": "2024-04-12T05:55:37.385941Z",
     "start_time": "2024-04-12T05:55:37.366730Z"
    }
   },
   "id": "6b4eec158cc020fd",
   "execution_count": 30
  },
  {
   "cell_type": "code",
   "outputs": [],
   "source": [
    "from sklearn.discriminant_analysis import LinearDiscriminantAnalysis\n",
    "\n",
    "lda = LinearDiscriminantAnalysis(n_components=1)\n",
    "X_train_lda = lda.fit_transform(X_train, y_train)\n",
    "X_test_lda = lda.transform(X_test)"
   ],
   "metadata": {
    "collapsed": false,
    "ExecuteTime": {
     "end_time": "2024-04-12T05:57:48.431385Z",
     "start_time": "2024-04-12T05:57:48.397707Z"
    }
   },
   "id": "77fd4aad53d04168",
   "execution_count": 36
  },
  {
   "cell_type": "code",
   "outputs": [
    {
     "data": {
      "text/plain": "LogisticRegression(C=100)",
      "text/html": "<style>#sk-container-id-1 {color: black;}#sk-container-id-1 pre{padding: 0;}#sk-container-id-1 div.sk-toggleable {background-color: white;}#sk-container-id-1 label.sk-toggleable__label {cursor: pointer;display: block;width: 100%;margin-bottom: 0;padding: 0.3em;box-sizing: border-box;text-align: center;}#sk-container-id-1 label.sk-toggleable__label-arrow:before {content: \"▸\";float: left;margin-right: 0.25em;color: #696969;}#sk-container-id-1 label.sk-toggleable__label-arrow:hover:before {color: black;}#sk-container-id-1 div.sk-estimator:hover label.sk-toggleable__label-arrow:before {color: black;}#sk-container-id-1 div.sk-toggleable__content {max-height: 0;max-width: 0;overflow: hidden;text-align: left;background-color: #f0f8ff;}#sk-container-id-1 div.sk-toggleable__content pre {margin: 0.2em;color: black;border-radius: 0.25em;background-color: #f0f8ff;}#sk-container-id-1 input.sk-toggleable__control:checked~div.sk-toggleable__content {max-height: 200px;max-width: 100%;overflow: auto;}#sk-container-id-1 input.sk-toggleable__control:checked~label.sk-toggleable__label-arrow:before {content: \"▾\";}#sk-container-id-1 div.sk-estimator input.sk-toggleable__control:checked~label.sk-toggleable__label {background-color: #d4ebff;}#sk-container-id-1 div.sk-label input.sk-toggleable__control:checked~label.sk-toggleable__label {background-color: #d4ebff;}#sk-container-id-1 input.sk-hidden--visually {border: 0;clip: rect(1px 1px 1px 1px);clip: rect(1px, 1px, 1px, 1px);height: 1px;margin: -1px;overflow: hidden;padding: 0;position: absolute;width: 1px;}#sk-container-id-1 div.sk-estimator {font-family: monospace;background-color: #f0f8ff;border: 1px dotted black;border-radius: 0.25em;box-sizing: border-box;margin-bottom: 0.5em;}#sk-container-id-1 div.sk-estimator:hover {background-color: #d4ebff;}#sk-container-id-1 div.sk-parallel-item::after {content: \"\";width: 100%;border-bottom: 1px solid gray;flex-grow: 1;}#sk-container-id-1 div.sk-label:hover label.sk-toggleable__label {background-color: #d4ebff;}#sk-container-id-1 div.sk-serial::before {content: \"\";position: absolute;border-left: 1px solid gray;box-sizing: border-box;top: 0;bottom: 0;left: 50%;z-index: 0;}#sk-container-id-1 div.sk-serial {display: flex;flex-direction: column;align-items: center;background-color: white;padding-right: 0.2em;padding-left: 0.2em;position: relative;}#sk-container-id-1 div.sk-item {position: relative;z-index: 1;}#sk-container-id-1 div.sk-parallel {display: flex;align-items: stretch;justify-content: center;background-color: white;position: relative;}#sk-container-id-1 div.sk-item::before, #sk-container-id-1 div.sk-parallel-item::before {content: \"\";position: absolute;border-left: 1px solid gray;box-sizing: border-box;top: 0;bottom: 0;left: 50%;z-index: -1;}#sk-container-id-1 div.sk-parallel-item {display: flex;flex-direction: column;z-index: 1;position: relative;background-color: white;}#sk-container-id-1 div.sk-parallel-item:first-child::after {align-self: flex-end;width: 50%;}#sk-container-id-1 div.sk-parallel-item:last-child::after {align-self: flex-start;width: 50%;}#sk-container-id-1 div.sk-parallel-item:only-child::after {width: 0;}#sk-container-id-1 div.sk-dashed-wrapped {border: 1px dashed gray;margin: 0 0.4em 0.5em 0.4em;box-sizing: border-box;padding-bottom: 0.4em;background-color: white;}#sk-container-id-1 div.sk-label label {font-family: monospace;font-weight: bold;display: inline-block;line-height: 1.2em;}#sk-container-id-1 div.sk-label-container {text-align: center;}#sk-container-id-1 div.sk-container {/* jupyter's `normalize.less` sets `[hidden] { display: none; }` but bootstrap.min.css set `[hidden] { display: none !important; }` so we also need the `!important` here to be able to override the default hidden behavior on the sphinx rendered scikit-learn.org. See: https://github.com/scikit-learn/scikit-learn/issues/21755 */display: inline-block !important;position: relative;}#sk-container-id-1 div.sk-text-repr-fallback {display: none;}</style><div id=\"sk-container-id-1\" class=\"sk-top-container\"><div class=\"sk-text-repr-fallback\"><pre>LogisticRegression(C=100)</pre><b>In a Jupyter environment, please rerun this cell to show the HTML representation or trust the notebook. <br />On GitHub, the HTML representation is unable to render, please try loading this page with nbviewer.org.</b></div><div class=\"sk-container\" hidden><div class=\"sk-item\"><div class=\"sk-estimator sk-toggleable\"><input class=\"sk-toggleable__control sk-hidden--visually\" id=\"sk-estimator-id-1\" type=\"checkbox\" checked><label for=\"sk-estimator-id-1\" class=\"sk-toggleable__label sk-toggleable__label-arrow\">LogisticRegression</label><div class=\"sk-toggleable__content\"><pre>LogisticRegression(C=100)</pre></div></div></div></div></div>"
     },
     "execution_count": 37,
     "metadata": {},
     "output_type": "execute_result"
    }
   ],
   "source": [
    "model = LogisticRegression(penalty='l2', C=100)\n",
    "model.fit(X_train_lda, y_train)"
   ],
   "metadata": {
    "collapsed": false,
    "ExecuteTime": {
     "end_time": "2024-04-12T05:58:02.598452Z",
     "start_time": "2024-04-12T05:58:02.570654Z"
    }
   },
   "id": "f5531620d28b269d",
   "execution_count": 37
  },
  {
   "cell_type": "code",
   "outputs": [],
   "source": [
    "y_pred_lda = model.predict(X_test_lda)"
   ],
   "metadata": {
    "collapsed": false,
    "ExecuteTime": {
     "end_time": "2024-04-12T05:58:18.331962Z",
     "start_time": "2024-04-12T05:58:18.318330Z"
    }
   },
   "id": "c3b794a130420d42",
   "execution_count": 38
  },
  {
   "cell_type": "code",
   "outputs": [
    {
     "data": {
      "text/plain": "0.8100799016594961"
     },
     "execution_count": 39,
     "metadata": {},
     "output_type": "execute_result"
    }
   ],
   "source": [
    "accuracy_score(y_test, y_pred_lda)"
   ],
   "metadata": {
    "collapsed": false,
    "ExecuteTime": {
     "end_time": "2024-04-12T05:58:20.401512Z",
     "start_time": "2024-04-12T05:58:20.394001Z"
    }
   },
   "id": "dcd90ab0bb801b6a",
   "execution_count": 39
  }
 ],
 "metadata": {
  "kernelspec": {
   "display_name": "Python 3",
   "language": "python",
   "name": "python3"
  },
  "language_info": {
   "codemirror_mode": {
    "name": "ipython",
    "version": 2
   },
   "file_extension": ".py",
   "mimetype": "text/x-python",
   "name": "python",
   "nbconvert_exporter": "python",
   "pygments_lexer": "ipython2",
   "version": "2.7.6"
  }
 },
 "nbformat": 4,
 "nbformat_minor": 5
}
