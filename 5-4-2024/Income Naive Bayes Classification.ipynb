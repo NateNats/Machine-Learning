{
 "cells": [
  {
   "cell_type": "code",
   "execution_count": 130,
   "id": "initial_id",
   "metadata": {
    "collapsed": true,
    "ExecuteTime": {
     "end_time": "2024-04-10T13:43:07.476038Z",
     "start_time": "2024-04-10T13:43:07.460019Z"
    }
   },
   "outputs": [],
   "source": [
    "import pandas as pd\n",
    "import numpy as np\n",
    "import matplotlib.pyplot as plt\n",
    "from sklearn.model_selection import train_test_split\n",
    "from sklearn.preprocessing import MinMaxScaler, StandardScaler\n",
    "from sklearn.naive_bayes import GaussianNB\n",
    "from sklearn.model_selection import GridSearchCV, cross_val_score\n",
    "from sklearn.metrics import precision_score, recall_score, f1_score, roc_auc_score, accuracy_score, confusion_matrix"
   ]
  },
  {
   "cell_type": "code",
   "outputs": [
    {
     "data": {
      "text/plain": "       Unnamed: 0  workclass  education  marital-status  occupation  \\\n0               0          4         12               0           0   \n1               1          6         12               1           1   \n2               2          2          8               4           2   \n3               3          2          6               1           2   \n4               4          2         12               1           3   \n...           ...        ...        ...             ...         ...   \n32533       32556          2         10               1          10   \n32534       32557          2          8               1           9   \n32535       32558          2          8               6           0   \n32536       32559          2          8               0           0   \n32537       32560          7          8               1           1   \n\n       relationship  race  sex  native-country  income  age  fnlwgt  \\\n0                 0     0    0              38       0   39   77516   \n1                 1     0    0              38       0   50   83311   \n2                 0     0    0              38       0   38  215646   \n3                 1     1    0              38       0   53  234721   \n4                 2     1    1               4       0   28  338409   \n...             ...   ...  ...             ...     ...  ...     ...   \n32533             2     0    1              38       0   27  257302   \n32534             1     0    0              38       1   40  154374   \n32535             4     0    1              38       0   58  151910   \n32536             3     0    0              38       0   22  201490   \n32537             2     0    1              38       1   52  287927   \n\n       capital-gain  capital-loss  hours-per-week  \n0              2174             0              40  \n1                 0             0              13  \n2                 0             0              40  \n3                 0             0              40  \n4                 0             0              40  \n...             ...           ...             ...  \n32533             0             0              38  \n32534             0             0              40  \n32535             0             0              40  \n32536             0             0              20  \n32537         15024             0              40  \n\n[32538 rows x 15 columns]",
      "text/html": "<div>\n<style scoped>\n    .dataframe tbody tr th:only-of-type {\n        vertical-align: middle;\n    }\n\n    .dataframe tbody tr th {\n        vertical-align: top;\n    }\n\n    .dataframe thead th {\n        text-align: right;\n    }\n</style>\n<table border=\"1\" class=\"dataframe\">\n  <thead>\n    <tr style=\"text-align: right;\">\n      <th></th>\n      <th>Unnamed: 0</th>\n      <th>workclass</th>\n      <th>education</th>\n      <th>marital-status</th>\n      <th>occupation</th>\n      <th>relationship</th>\n      <th>race</th>\n      <th>sex</th>\n      <th>native-country</th>\n      <th>income</th>\n      <th>age</th>\n      <th>fnlwgt</th>\n      <th>capital-gain</th>\n      <th>capital-loss</th>\n      <th>hours-per-week</th>\n    </tr>\n  </thead>\n  <tbody>\n    <tr>\n      <th>0</th>\n      <td>0</td>\n      <td>4</td>\n      <td>12</td>\n      <td>0</td>\n      <td>0</td>\n      <td>0</td>\n      <td>0</td>\n      <td>0</td>\n      <td>38</td>\n      <td>0</td>\n      <td>39</td>\n      <td>77516</td>\n      <td>2174</td>\n      <td>0</td>\n      <td>40</td>\n    </tr>\n    <tr>\n      <th>1</th>\n      <td>1</td>\n      <td>6</td>\n      <td>12</td>\n      <td>1</td>\n      <td>1</td>\n      <td>1</td>\n      <td>0</td>\n      <td>0</td>\n      <td>38</td>\n      <td>0</td>\n      <td>50</td>\n      <td>83311</td>\n      <td>0</td>\n      <td>0</td>\n      <td>13</td>\n    </tr>\n    <tr>\n      <th>2</th>\n      <td>2</td>\n      <td>2</td>\n      <td>8</td>\n      <td>4</td>\n      <td>2</td>\n      <td>0</td>\n      <td>0</td>\n      <td>0</td>\n      <td>38</td>\n      <td>0</td>\n      <td>38</td>\n      <td>215646</td>\n      <td>0</td>\n      <td>0</td>\n      <td>40</td>\n    </tr>\n    <tr>\n      <th>3</th>\n      <td>3</td>\n      <td>2</td>\n      <td>6</td>\n      <td>1</td>\n      <td>2</td>\n      <td>1</td>\n      <td>1</td>\n      <td>0</td>\n      <td>38</td>\n      <td>0</td>\n      <td>53</td>\n      <td>234721</td>\n      <td>0</td>\n      <td>0</td>\n      <td>40</td>\n    </tr>\n    <tr>\n      <th>4</th>\n      <td>4</td>\n      <td>2</td>\n      <td>12</td>\n      <td>1</td>\n      <td>3</td>\n      <td>2</td>\n      <td>1</td>\n      <td>1</td>\n      <td>4</td>\n      <td>0</td>\n      <td>28</td>\n      <td>338409</td>\n      <td>0</td>\n      <td>0</td>\n      <td>40</td>\n    </tr>\n    <tr>\n      <th>...</th>\n      <td>...</td>\n      <td>...</td>\n      <td>...</td>\n      <td>...</td>\n      <td>...</td>\n      <td>...</td>\n      <td>...</td>\n      <td>...</td>\n      <td>...</td>\n      <td>...</td>\n      <td>...</td>\n      <td>...</td>\n      <td>...</td>\n      <td>...</td>\n      <td>...</td>\n    </tr>\n    <tr>\n      <th>32533</th>\n      <td>32556</td>\n      <td>2</td>\n      <td>10</td>\n      <td>1</td>\n      <td>10</td>\n      <td>2</td>\n      <td>0</td>\n      <td>1</td>\n      <td>38</td>\n      <td>0</td>\n      <td>27</td>\n      <td>257302</td>\n      <td>0</td>\n      <td>0</td>\n      <td>38</td>\n    </tr>\n    <tr>\n      <th>32534</th>\n      <td>32557</td>\n      <td>2</td>\n      <td>8</td>\n      <td>1</td>\n      <td>9</td>\n      <td>1</td>\n      <td>0</td>\n      <td>0</td>\n      <td>38</td>\n      <td>1</td>\n      <td>40</td>\n      <td>154374</td>\n      <td>0</td>\n      <td>0</td>\n      <td>40</td>\n    </tr>\n    <tr>\n      <th>32535</th>\n      <td>32558</td>\n      <td>2</td>\n      <td>8</td>\n      <td>6</td>\n      <td>0</td>\n      <td>4</td>\n      <td>0</td>\n      <td>1</td>\n      <td>38</td>\n      <td>0</td>\n      <td>58</td>\n      <td>151910</td>\n      <td>0</td>\n      <td>0</td>\n      <td>40</td>\n    </tr>\n    <tr>\n      <th>32536</th>\n      <td>32559</td>\n      <td>2</td>\n      <td>8</td>\n      <td>0</td>\n      <td>0</td>\n      <td>3</td>\n      <td>0</td>\n      <td>0</td>\n      <td>38</td>\n      <td>0</td>\n      <td>22</td>\n      <td>201490</td>\n      <td>0</td>\n      <td>0</td>\n      <td>20</td>\n    </tr>\n    <tr>\n      <th>32537</th>\n      <td>32560</td>\n      <td>7</td>\n      <td>8</td>\n      <td>1</td>\n      <td>1</td>\n      <td>2</td>\n      <td>0</td>\n      <td>1</td>\n      <td>38</td>\n      <td>1</td>\n      <td>52</td>\n      <td>287927</td>\n      <td>15024</td>\n      <td>0</td>\n      <td>40</td>\n    </tr>\n  </tbody>\n</table>\n<p>32538 rows × 15 columns</p>\n</div>"
     },
     "execution_count": 131,
     "metadata": {},
     "output_type": "execute_result"
    }
   ],
   "source": [
    "data = pd.read_csv('new_income_evaluation.csv')\n",
    "data"
   ],
   "metadata": {
    "collapsed": false,
    "ExecuteTime": {
     "end_time": "2024-04-10T13:43:07.538018Z",
     "start_time": "2024-04-10T13:43:07.501018Z"
    }
   },
   "id": "4b059d4f2296efb9",
   "execution_count": 131
  },
  {
   "cell_type": "code",
   "outputs": [
    {
     "data": {
      "text/plain": "       workclass  education  marital-status  occupation  relationship  race  \\\n0              4         12               0           0             0     0   \n1              6         12               1           1             1     0   \n2              2          8               4           2             0     0   \n3              2          6               1           2             1     1   \n4              2         12               1           3             2     1   \n...          ...        ...             ...         ...           ...   ...   \n32533          2         10               1          10             2     0   \n32534          2          8               1           9             1     0   \n32535          2          8               6           0             4     0   \n32536          2          8               0           0             3     0   \n32537          7          8               1           1             2     0   \n\n       sex  native-country  income  age  fnlwgt  capital-gain  capital-loss  \\\n0        0              38       0   39   77516          2174             0   \n1        0              38       0   50   83311             0             0   \n2        0              38       0   38  215646             0             0   \n3        0              38       0   53  234721             0             0   \n4        1               4       0   28  338409             0             0   \n...    ...             ...     ...  ...     ...           ...           ...   \n32533    1              38       0   27  257302             0             0   \n32534    0              38       1   40  154374             0             0   \n32535    1              38       0   58  151910             0             0   \n32536    0              38       0   22  201490             0             0   \n32537    1              38       1   52  287927         15024             0   \n\n       hours-per-week  \n0                  40  \n1                  13  \n2                  40  \n3                  40  \n4                  40  \n...               ...  \n32533              38  \n32534              40  \n32535              40  \n32536              20  \n32537              40  \n\n[32538 rows x 14 columns]",
      "text/html": "<div>\n<style scoped>\n    .dataframe tbody tr th:only-of-type {\n        vertical-align: middle;\n    }\n\n    .dataframe tbody tr th {\n        vertical-align: top;\n    }\n\n    .dataframe thead th {\n        text-align: right;\n    }\n</style>\n<table border=\"1\" class=\"dataframe\">\n  <thead>\n    <tr style=\"text-align: right;\">\n      <th></th>\n      <th>workclass</th>\n      <th>education</th>\n      <th>marital-status</th>\n      <th>occupation</th>\n      <th>relationship</th>\n      <th>race</th>\n      <th>sex</th>\n      <th>native-country</th>\n      <th>income</th>\n      <th>age</th>\n      <th>fnlwgt</th>\n      <th>capital-gain</th>\n      <th>capital-loss</th>\n      <th>hours-per-week</th>\n    </tr>\n  </thead>\n  <tbody>\n    <tr>\n      <th>0</th>\n      <td>4</td>\n      <td>12</td>\n      <td>0</td>\n      <td>0</td>\n      <td>0</td>\n      <td>0</td>\n      <td>0</td>\n      <td>38</td>\n      <td>0</td>\n      <td>39</td>\n      <td>77516</td>\n      <td>2174</td>\n      <td>0</td>\n      <td>40</td>\n    </tr>\n    <tr>\n      <th>1</th>\n      <td>6</td>\n      <td>12</td>\n      <td>1</td>\n      <td>1</td>\n      <td>1</td>\n      <td>0</td>\n      <td>0</td>\n      <td>38</td>\n      <td>0</td>\n      <td>50</td>\n      <td>83311</td>\n      <td>0</td>\n      <td>0</td>\n      <td>13</td>\n    </tr>\n    <tr>\n      <th>2</th>\n      <td>2</td>\n      <td>8</td>\n      <td>4</td>\n      <td>2</td>\n      <td>0</td>\n      <td>0</td>\n      <td>0</td>\n      <td>38</td>\n      <td>0</td>\n      <td>38</td>\n      <td>215646</td>\n      <td>0</td>\n      <td>0</td>\n      <td>40</td>\n    </tr>\n    <tr>\n      <th>3</th>\n      <td>2</td>\n      <td>6</td>\n      <td>1</td>\n      <td>2</td>\n      <td>1</td>\n      <td>1</td>\n      <td>0</td>\n      <td>38</td>\n      <td>0</td>\n      <td>53</td>\n      <td>234721</td>\n      <td>0</td>\n      <td>0</td>\n      <td>40</td>\n    </tr>\n    <tr>\n      <th>4</th>\n      <td>2</td>\n      <td>12</td>\n      <td>1</td>\n      <td>3</td>\n      <td>2</td>\n      <td>1</td>\n      <td>1</td>\n      <td>4</td>\n      <td>0</td>\n      <td>28</td>\n      <td>338409</td>\n      <td>0</td>\n      <td>0</td>\n      <td>40</td>\n    </tr>\n    <tr>\n      <th>...</th>\n      <td>...</td>\n      <td>...</td>\n      <td>...</td>\n      <td>...</td>\n      <td>...</td>\n      <td>...</td>\n      <td>...</td>\n      <td>...</td>\n      <td>...</td>\n      <td>...</td>\n      <td>...</td>\n      <td>...</td>\n      <td>...</td>\n      <td>...</td>\n    </tr>\n    <tr>\n      <th>32533</th>\n      <td>2</td>\n      <td>10</td>\n      <td>1</td>\n      <td>10</td>\n      <td>2</td>\n      <td>0</td>\n      <td>1</td>\n      <td>38</td>\n      <td>0</td>\n      <td>27</td>\n      <td>257302</td>\n      <td>0</td>\n      <td>0</td>\n      <td>38</td>\n    </tr>\n    <tr>\n      <th>32534</th>\n      <td>2</td>\n      <td>8</td>\n      <td>1</td>\n      <td>9</td>\n      <td>1</td>\n      <td>0</td>\n      <td>0</td>\n      <td>38</td>\n      <td>1</td>\n      <td>40</td>\n      <td>154374</td>\n      <td>0</td>\n      <td>0</td>\n      <td>40</td>\n    </tr>\n    <tr>\n      <th>32535</th>\n      <td>2</td>\n      <td>8</td>\n      <td>6</td>\n      <td>0</td>\n      <td>4</td>\n      <td>0</td>\n      <td>1</td>\n      <td>38</td>\n      <td>0</td>\n      <td>58</td>\n      <td>151910</td>\n      <td>0</td>\n      <td>0</td>\n      <td>40</td>\n    </tr>\n    <tr>\n      <th>32536</th>\n      <td>2</td>\n      <td>8</td>\n      <td>0</td>\n      <td>0</td>\n      <td>3</td>\n      <td>0</td>\n      <td>0</td>\n      <td>38</td>\n      <td>0</td>\n      <td>22</td>\n      <td>201490</td>\n      <td>0</td>\n      <td>0</td>\n      <td>20</td>\n    </tr>\n    <tr>\n      <th>32537</th>\n      <td>7</td>\n      <td>8</td>\n      <td>1</td>\n      <td>1</td>\n      <td>2</td>\n      <td>0</td>\n      <td>1</td>\n      <td>38</td>\n      <td>1</td>\n      <td>52</td>\n      <td>287927</td>\n      <td>15024</td>\n      <td>0</td>\n      <td>40</td>\n    </tr>\n  </tbody>\n</table>\n<p>32538 rows × 14 columns</p>\n</div>"
     },
     "execution_count": 132,
     "metadata": {},
     "output_type": "execute_result"
    }
   ],
   "source": [
    "data.drop('Unnamed: 0', axis=1, inplace=True)\n",
    "data"
   ],
   "metadata": {
    "collapsed": false,
    "ExecuteTime": {
     "end_time": "2024-04-10T13:43:07.602018Z",
     "start_time": "2024-04-10T13:43:07.574019Z"
    }
   },
   "id": "639e147e4e45a646",
   "execution_count": 132
  },
  {
   "cell_type": "code",
   "outputs": [],
   "source": [
    "X = data.drop('income', axis=1)\n",
    "y = data['income']"
   ],
   "metadata": {
    "collapsed": false,
    "ExecuteTime": {
     "end_time": "2024-04-10T13:43:07.618019Z",
     "start_time": "2024-04-10T13:43:07.604030Z"
    }
   },
   "id": "8c213c3012c25bed",
   "execution_count": 133
  },
  {
   "cell_type": "code",
   "outputs": [],
   "source": [
    "X_temp, X_test, y_temp, y_test = train_test_split(X, y, test_size=0.15, stratify=y)"
   ],
   "metadata": {
    "collapsed": false,
    "ExecuteTime": {
     "end_time": "2024-04-10T13:43:07.666020Z",
     "start_time": "2024-04-10T13:43:07.640018Z"
    }
   },
   "id": "153eb925edc172da",
   "execution_count": 134
  },
  {
   "cell_type": "code",
   "outputs": [],
   "source": [
    "def shapeInfo(X1, X2, y1, y2):\n",
    "    data_type = [X1, X2, y1, y2]\n",
    "    shape = []\n",
    "    frame = pd.DataFrame(columns=['shape'], index=['X1', 'X2', 'y1', 'y2'])\n",
    "\n",
    "    for i in range(0, len(data_type)):\n",
    "        shape.append(data_type[i].shape)\n",
    "\n",
    "    frame['shape'] = shape\n",
    "    \n",
    "    return frame"
   ],
   "metadata": {
    "collapsed": false,
    "ExecuteTime": {
     "end_time": "2024-04-10T13:43:07.730018Z",
     "start_time": "2024-04-10T13:43:07.711020Z"
    }
   },
   "id": "542b9ca6d0d6a264",
   "execution_count": 135
  },
  {
   "cell_type": "code",
   "outputs": [
    {
     "data": {
      "text/plain": "          shape\nX1  (27657, 13)\nX2   (4881, 13)\ny1     (27657,)\ny2      (4881,)",
      "text/html": "<div>\n<style scoped>\n    .dataframe tbody tr th:only-of-type {\n        vertical-align: middle;\n    }\n\n    .dataframe tbody tr th {\n        vertical-align: top;\n    }\n\n    .dataframe thead th {\n        text-align: right;\n    }\n</style>\n<table border=\"1\" class=\"dataframe\">\n  <thead>\n    <tr style=\"text-align: right;\">\n      <th></th>\n      <th>shape</th>\n    </tr>\n  </thead>\n  <tbody>\n    <tr>\n      <th>X1</th>\n      <td>(27657, 13)</td>\n    </tr>\n    <tr>\n      <th>X2</th>\n      <td>(4881, 13)</td>\n    </tr>\n    <tr>\n      <th>y1</th>\n      <td>(27657,)</td>\n    </tr>\n    <tr>\n      <th>y2</th>\n      <td>(4881,)</td>\n    </tr>\n  </tbody>\n</table>\n</div>"
     },
     "execution_count": 136,
     "metadata": {},
     "output_type": "execute_result"
    }
   ],
   "source": [
    "shapeInfo(X_temp, X_test, y_temp, y_test)"
   ],
   "metadata": {
    "collapsed": false,
    "ExecuteTime": {
     "end_time": "2024-04-10T13:43:07.793020Z",
     "start_time": "2024-04-10T13:43:07.772023Z"
    }
   },
   "id": "3104ea7ed21a2afe",
   "execution_count": 136
  },
  {
   "cell_type": "code",
   "outputs": [],
   "source": [
    "X_train, X_val, y_train, y_val = train_test_split(X_temp, y_temp, test_size=0.15, stratify=y_temp)"
   ],
   "metadata": {
    "collapsed": false,
    "ExecuteTime": {
     "end_time": "2024-04-10T13:43:07.841018Z",
     "start_time": "2024-04-10T13:43:07.815018Z"
    }
   },
   "id": "f4601ca76e4412c",
   "execution_count": 137
  },
  {
   "cell_type": "code",
   "outputs": [
    {
     "data": {
      "text/plain": "          shape\nX1  (23508, 13)\nX2   (4149, 13)\ny1     (23508,)\ny2      (4149,)",
      "text/html": "<div>\n<style scoped>\n    .dataframe tbody tr th:only-of-type {\n        vertical-align: middle;\n    }\n\n    .dataframe tbody tr th {\n        vertical-align: top;\n    }\n\n    .dataframe thead th {\n        text-align: right;\n    }\n</style>\n<table border=\"1\" class=\"dataframe\">\n  <thead>\n    <tr style=\"text-align: right;\">\n      <th></th>\n      <th>shape</th>\n    </tr>\n  </thead>\n  <tbody>\n    <tr>\n      <th>X1</th>\n      <td>(23508, 13)</td>\n    </tr>\n    <tr>\n      <th>X2</th>\n      <td>(4149, 13)</td>\n    </tr>\n    <tr>\n      <th>y1</th>\n      <td>(23508,)</td>\n    </tr>\n    <tr>\n      <th>y2</th>\n      <td>(4149,)</td>\n    </tr>\n  </tbody>\n</table>\n</div>"
     },
     "execution_count": 138,
     "metadata": {},
     "output_type": "execute_result"
    }
   ],
   "source": [
    "shapeInfo(X_train, X_val, y_train, y_val)"
   ],
   "metadata": {
    "collapsed": false,
    "ExecuteTime": {
     "end_time": "2024-04-10T13:43:07.857019Z",
     "start_time": "2024-04-10T13:43:07.843019Z"
    }
   },
   "id": "f2756c0a7605e7f6",
   "execution_count": 138
  },
  {
   "cell_type": "code",
   "outputs": [],
   "source": [
    "scaler_m = MinMaxScaler()\n",
    "X_train_norm = X_train.copy()\n",
    "X_test_norm = X_test.copy()\n",
    "X_val_norm = X_val.copy()"
   ],
   "metadata": {
    "collapsed": false,
    "ExecuteTime": {
     "end_time": "2024-04-10T13:43:07.873019Z",
     "start_time": "2024-04-10T13:43:07.858019Z"
    }
   },
   "id": "a05d9beb3bb6990",
   "execution_count": 139
  },
  {
   "cell_type": "code",
   "outputs": [],
   "source": [
    "X_train_norm = pd.DataFrame(scaler_m.fit_transform(X_train_norm), index=X_train_norm.index, columns=X_train_norm.columns)\n",
    "X_test_norm = pd.DataFrame(scaler_m.fit_transform(X_test_norm), index=X_test_norm.index, columns=X_test_norm.columns)\n",
    "X_val_norm = pd.DataFrame(scaler_m.transform(X_val_norm), index=X_val_norm.index, columns=X_val_norm.columns)"
   ],
   "metadata": {
    "collapsed": false,
    "ExecuteTime": {
     "end_time": "2024-04-10T13:43:07.889019Z",
     "start_time": "2024-04-10T13:43:07.875019Z"
    }
   },
   "id": "3cfaef3f907da1d6",
   "execution_count": 140
  },
  {
   "cell_type": "code",
   "outputs": [],
   "source": [
    "scaler_s = StandardScaler()\n",
    "X_train_s = X_train.copy()\n",
    "X_test_s = X_test.copy()\n",
    "X_val_s = X_val.copy()"
   ],
   "metadata": {
    "collapsed": false,
    "ExecuteTime": {
     "end_time": "2024-04-10T13:43:07.905020Z",
     "start_time": "2024-04-10T13:43:07.890019Z"
    }
   },
   "id": "ca1359db26fb875b",
   "execution_count": 141
  },
  {
   "cell_type": "code",
   "outputs": [],
   "source": [
    "X_train_s = pd.DataFrame(scaler_s.fit_transform(X_train_s), index=X_train_s.index, columns=X_train_s.columns)\n",
    "X_test_s = pd.DataFrame(scaler_s.fit_transform(X_test_s), index=X_test_s.index, columns=X_test_s.columns)\n",
    "X_val_s = pd.DataFrame(scaler_s.fit_transform(X_val_s), index=X_val_s.index, columns=X_val_s.columns)"
   ],
   "metadata": {
    "collapsed": false,
    "ExecuteTime": {
     "end_time": "2024-04-10T13:43:07.937019Z",
     "start_time": "2024-04-10T13:43:07.907018Z"
    }
   },
   "id": "bd9376bc6aa9dac1",
   "execution_count": 142
  },
  {
   "cell_type": "code",
   "outputs": [],
   "source": [
    "def NaiveClass(X_train, X_val, X_test, y_train, y_val, y_test):\n",
    "\n",
    "    naive = GaussianNB()\n",
    "\n",
    "    accuracy = []\n",
    "    precision = []\n",
    "    recall = []\n",
    "    f1 = []\n",
    "    roc = []\n",
    "\n",
    "    index = ['X_test', 'X_val']\n",
    "\n",
    "    data_type = [X_test, X_val]\n",
    "    target_type = [y_test, y_val]\n",
    "    columns = ['Accuracy', 'Precision', 'Recall', 'F1 Score', 'ROC AUC']\n",
    "\n",
    "    result = pd.DataFrame(columns=columns, index=index)\n",
    "\n",
    "    for i in range(0, len(data_type)):\n",
    "        predict = naive.fit(X_train, y_train).predict(data_type[i])\n",
    "\n",
    "        accuracy.append(accuracy_score(target_type[i], predict))\n",
    "        precision.append(precision_score(target_type[i], predict))\n",
    "        recall.append(recall_score(target_type[i], predict, average='weighted'))\n",
    "        f1.append(f1_score(target_type[i], predict, average='weighted'))\n",
    "        roc.append(roc_auc_score(target_type[i], predict, average='weighted'))\n",
    "\n",
    "    result['Accuracy'] = accuracy\n",
    "    result['Precision'] = precision\n",
    "    result['Recall'] = recall\n",
    "    result['F1 Score'] = f1\n",
    "    result['ROC AUC'] = roc\n",
    "\n",
    "    return result.sort_values('F1 Score', ascending=False)"
   ],
   "metadata": {
    "collapsed": false,
    "ExecuteTime": {
     "end_time": "2024-04-10T13:43:07.953018Z",
     "start_time": "2024-04-10T13:43:07.938018Z"
    }
   },
   "id": "2fcc9ff384bced41",
   "execution_count": 143
  },
  {
   "cell_type": "markdown",
   "source": [
    "**Prediction on X validation and test Minmax dataset**"
   ],
   "metadata": {
    "collapsed": false
   },
   "id": "afef2fe93ea57512"
  },
  {
   "cell_type": "code",
   "outputs": [
    {
     "data": {
      "text/plain": "        Accuracy  Precision    Recall  F1 Score   ROC AUC\nX_test  0.811719   0.694992  0.811719  0.791335  0.667602\nX_val   0.801880   0.666045  0.801880  0.778753  0.650078",
      "text/html": "<div>\n<style scoped>\n    .dataframe tbody tr th:only-of-type {\n        vertical-align: middle;\n    }\n\n    .dataframe tbody tr th {\n        vertical-align: top;\n    }\n\n    .dataframe thead th {\n        text-align: right;\n    }\n</style>\n<table border=\"1\" class=\"dataframe\">\n  <thead>\n    <tr style=\"text-align: right;\">\n      <th></th>\n      <th>Accuracy</th>\n      <th>Precision</th>\n      <th>Recall</th>\n      <th>F1 Score</th>\n      <th>ROC AUC</th>\n    </tr>\n  </thead>\n  <tbody>\n    <tr>\n      <th>X_test</th>\n      <td>0.811719</td>\n      <td>0.694992</td>\n      <td>0.811719</td>\n      <td>0.791335</td>\n      <td>0.667602</td>\n    </tr>\n    <tr>\n      <th>X_val</th>\n      <td>0.801880</td>\n      <td>0.666045</td>\n      <td>0.801880</td>\n      <td>0.778753</td>\n      <td>0.650078</td>\n    </tr>\n  </tbody>\n</table>\n</div>"
     },
     "execution_count": 144,
     "metadata": {},
     "output_type": "execute_result"
    }
   ],
   "source": [
    "NaiveClass(X_train_norm, X_val_norm, X_test_norm, y_train, y_val, y_test)"
   ],
   "metadata": {
    "collapsed": false,
    "ExecuteTime": {
     "end_time": "2024-04-10T13:43:08.016017Z",
     "start_time": "2024-04-10T13:43:07.957019Z"
    }
   },
   "id": "463dd754574fce76",
   "execution_count": 144
  },
  {
   "cell_type": "markdown",
   "source": [
    "**Prediction on X validation and test Standard scaler dataset**"
   ],
   "metadata": {
    "collapsed": false
   },
   "id": "bd1e19fa94b50751"
  },
  {
   "cell_type": "code",
   "outputs": [
    {
     "data": {
      "text/plain": "        Accuracy  Precision    Recall  F1 Score   ROC AUC\nX_test  0.818685   0.732057  0.818685  0.797334  0.672481\nX_val   0.802362   0.667910  0.802362  0.779291  0.650737",
      "text/html": "<div>\n<style scoped>\n    .dataframe tbody tr th:only-of-type {\n        vertical-align: middle;\n    }\n\n    .dataframe tbody tr th {\n        vertical-align: top;\n    }\n\n    .dataframe thead th {\n        text-align: right;\n    }\n</style>\n<table border=\"1\" class=\"dataframe\">\n  <thead>\n    <tr style=\"text-align: right;\">\n      <th></th>\n      <th>Accuracy</th>\n      <th>Precision</th>\n      <th>Recall</th>\n      <th>F1 Score</th>\n      <th>ROC AUC</th>\n    </tr>\n  </thead>\n  <tbody>\n    <tr>\n      <th>X_test</th>\n      <td>0.818685</td>\n      <td>0.732057</td>\n      <td>0.818685</td>\n      <td>0.797334</td>\n      <td>0.672481</td>\n    </tr>\n    <tr>\n      <th>X_val</th>\n      <td>0.802362</td>\n      <td>0.667910</td>\n      <td>0.802362</td>\n      <td>0.779291</td>\n      <td>0.650737</td>\n    </tr>\n  </tbody>\n</table>\n</div>"
     },
     "execution_count": 145,
     "metadata": {},
     "output_type": "execute_result"
    }
   ],
   "source": [
    "NaiveClass(X_train_s, X_val_s, X_test_s, y_train, y_val, y_test)"
   ],
   "metadata": {
    "collapsed": false,
    "ExecuteTime": {
     "end_time": "2024-04-10T13:43:08.064019Z",
     "start_time": "2024-04-10T13:43:08.018018Z"
    }
   },
   "id": "a46fd7d17b6609b",
   "execution_count": 145
  },
  {
   "cell_type": "markdown",
   "source": [
    "**Menggunakan StandardScaler dataset karena score X_test dan X_val lebih tinggi daripada versi MinMax**"
   ],
   "metadata": {
    "collapsed": false
   },
   "id": "7a3d8a59017e9f2a"
  },
  {
   "cell_type": "code",
   "outputs": [
    {
     "data": {
      "text/plain": "       workclass  education  marital-status  occupation  relationship  \\\n0       0.778911   1.122195       -0.836671   -1.396730     -1.073307   \n1       2.075223   1.122195       -0.227941   -1.078342     -0.377624   \n2      -0.517401  -0.423779        1.598247   -0.759953     -1.073307   \n3      -0.517401  -1.196767       -0.227941   -0.759953     -0.377624   \n4      -0.517401   1.122195       -0.227941   -0.441564      0.318058   \n...          ...        ...             ...         ...           ...   \n32533  -0.517401   0.349208       -0.227941    1.787157      0.318058   \n32534  -0.517401  -0.423779       -0.227941    1.468769     -0.377624   \n32535  -0.517401  -0.423779        2.815706   -1.396730      1.709423   \n32536  -0.517401  -0.423779       -0.836671   -1.396730      1.013741   \n32537   2.723379  -0.423779       -0.227941   -1.078342      0.318058   \n\n           race       sex  native-country       age    fnlwgt  capital-gain  \\\n0     -0.353453 -0.703003        0.287299  0.030410 -1.063569      0.148298   \n1     -0.353453 -0.703003        0.287299  0.837000 -1.008668     -0.145973   \n2     -0.353453 -0.703003        0.287299 -0.042917  0.245056     -0.145973   \n3      1.240318 -0.703003        0.287299  1.056980  0.425770     -0.145973   \n4      1.240318  1.422468       -4.849623 -0.776181  1.408096     -0.145973   \n...         ...       ...             ...       ...       ...           ...   \n32533 -0.353453  1.422468        0.287299 -0.849508  0.639700     -0.145973   \n32534 -0.353453 -0.703003        0.287299  0.103736 -0.335427     -0.145973   \n32535 -0.353453  1.422468        0.287299  1.423612 -0.358770     -0.145973   \n32536 -0.353453 -0.703003        0.287299 -1.216140  0.110944     -0.145973   \n32537 -0.353453  1.422468        0.287299  0.983653  0.929837      1.887668   \n\n       capital-loss  hours-per-week  \n0          -0.21674       -0.035663  \n1          -0.21674       -2.222516  \n2          -0.21674       -0.035663  \n3          -0.21674       -0.035663  \n4          -0.21674       -0.035663  \n...             ...             ...  \n32533      -0.21674       -0.197652  \n32534      -0.21674       -0.035663  \n32535      -0.21674       -0.035663  \n32536      -0.21674       -1.655554  \n32537      -0.21674       -0.035663  \n\n[32538 rows x 13 columns]",
      "text/html": "<div>\n<style scoped>\n    .dataframe tbody tr th:only-of-type {\n        vertical-align: middle;\n    }\n\n    .dataframe tbody tr th {\n        vertical-align: top;\n    }\n\n    .dataframe thead th {\n        text-align: right;\n    }\n</style>\n<table border=\"1\" class=\"dataframe\">\n  <thead>\n    <tr style=\"text-align: right;\">\n      <th></th>\n      <th>workclass</th>\n      <th>education</th>\n      <th>marital-status</th>\n      <th>occupation</th>\n      <th>relationship</th>\n      <th>race</th>\n      <th>sex</th>\n      <th>native-country</th>\n      <th>age</th>\n      <th>fnlwgt</th>\n      <th>capital-gain</th>\n      <th>capital-loss</th>\n      <th>hours-per-week</th>\n    </tr>\n  </thead>\n  <tbody>\n    <tr>\n      <th>0</th>\n      <td>0.778911</td>\n      <td>1.122195</td>\n      <td>-0.836671</td>\n      <td>-1.396730</td>\n      <td>-1.073307</td>\n      <td>-0.353453</td>\n      <td>-0.703003</td>\n      <td>0.287299</td>\n      <td>0.030410</td>\n      <td>-1.063569</td>\n      <td>0.148298</td>\n      <td>-0.21674</td>\n      <td>-0.035663</td>\n    </tr>\n    <tr>\n      <th>1</th>\n      <td>2.075223</td>\n      <td>1.122195</td>\n      <td>-0.227941</td>\n      <td>-1.078342</td>\n      <td>-0.377624</td>\n      <td>-0.353453</td>\n      <td>-0.703003</td>\n      <td>0.287299</td>\n      <td>0.837000</td>\n      <td>-1.008668</td>\n      <td>-0.145973</td>\n      <td>-0.21674</td>\n      <td>-2.222516</td>\n    </tr>\n    <tr>\n      <th>2</th>\n      <td>-0.517401</td>\n      <td>-0.423779</td>\n      <td>1.598247</td>\n      <td>-0.759953</td>\n      <td>-1.073307</td>\n      <td>-0.353453</td>\n      <td>-0.703003</td>\n      <td>0.287299</td>\n      <td>-0.042917</td>\n      <td>0.245056</td>\n      <td>-0.145973</td>\n      <td>-0.21674</td>\n      <td>-0.035663</td>\n    </tr>\n    <tr>\n      <th>3</th>\n      <td>-0.517401</td>\n      <td>-1.196767</td>\n      <td>-0.227941</td>\n      <td>-0.759953</td>\n      <td>-0.377624</td>\n      <td>1.240318</td>\n      <td>-0.703003</td>\n      <td>0.287299</td>\n      <td>1.056980</td>\n      <td>0.425770</td>\n      <td>-0.145973</td>\n      <td>-0.21674</td>\n      <td>-0.035663</td>\n    </tr>\n    <tr>\n      <th>4</th>\n      <td>-0.517401</td>\n      <td>1.122195</td>\n      <td>-0.227941</td>\n      <td>-0.441564</td>\n      <td>0.318058</td>\n      <td>1.240318</td>\n      <td>1.422468</td>\n      <td>-4.849623</td>\n      <td>-0.776181</td>\n      <td>1.408096</td>\n      <td>-0.145973</td>\n      <td>-0.21674</td>\n      <td>-0.035663</td>\n    </tr>\n    <tr>\n      <th>...</th>\n      <td>...</td>\n      <td>...</td>\n      <td>...</td>\n      <td>...</td>\n      <td>...</td>\n      <td>...</td>\n      <td>...</td>\n      <td>...</td>\n      <td>...</td>\n      <td>...</td>\n      <td>...</td>\n      <td>...</td>\n      <td>...</td>\n    </tr>\n    <tr>\n      <th>32533</th>\n      <td>-0.517401</td>\n      <td>0.349208</td>\n      <td>-0.227941</td>\n      <td>1.787157</td>\n      <td>0.318058</td>\n      <td>-0.353453</td>\n      <td>1.422468</td>\n      <td>0.287299</td>\n      <td>-0.849508</td>\n      <td>0.639700</td>\n      <td>-0.145973</td>\n      <td>-0.21674</td>\n      <td>-0.197652</td>\n    </tr>\n    <tr>\n      <th>32534</th>\n      <td>-0.517401</td>\n      <td>-0.423779</td>\n      <td>-0.227941</td>\n      <td>1.468769</td>\n      <td>-0.377624</td>\n      <td>-0.353453</td>\n      <td>-0.703003</td>\n      <td>0.287299</td>\n      <td>0.103736</td>\n      <td>-0.335427</td>\n      <td>-0.145973</td>\n      <td>-0.21674</td>\n      <td>-0.035663</td>\n    </tr>\n    <tr>\n      <th>32535</th>\n      <td>-0.517401</td>\n      <td>-0.423779</td>\n      <td>2.815706</td>\n      <td>-1.396730</td>\n      <td>1.709423</td>\n      <td>-0.353453</td>\n      <td>1.422468</td>\n      <td>0.287299</td>\n      <td>1.423612</td>\n      <td>-0.358770</td>\n      <td>-0.145973</td>\n      <td>-0.21674</td>\n      <td>-0.035663</td>\n    </tr>\n    <tr>\n      <th>32536</th>\n      <td>-0.517401</td>\n      <td>-0.423779</td>\n      <td>-0.836671</td>\n      <td>-1.396730</td>\n      <td>1.013741</td>\n      <td>-0.353453</td>\n      <td>-0.703003</td>\n      <td>0.287299</td>\n      <td>-1.216140</td>\n      <td>0.110944</td>\n      <td>-0.145973</td>\n      <td>-0.21674</td>\n      <td>-1.655554</td>\n    </tr>\n    <tr>\n      <th>32537</th>\n      <td>2.723379</td>\n      <td>-0.423779</td>\n      <td>-0.227941</td>\n      <td>-1.078342</td>\n      <td>0.318058</td>\n      <td>-0.353453</td>\n      <td>1.422468</td>\n      <td>0.287299</td>\n      <td>0.983653</td>\n      <td>0.929837</td>\n      <td>1.887668</td>\n      <td>-0.21674</td>\n      <td>-0.035663</td>\n    </tr>\n  </tbody>\n</table>\n<p>32538 rows × 13 columns</p>\n</div>"
     },
     "execution_count": 146,
     "metadata": {},
     "output_type": "execute_result"
    }
   ],
   "source": [
    "scaler = StandardScaler()\n",
    "x_scaled = pd.DataFrame(scaler.fit_transform(X), columns=X.columns)\n",
    "x_scaled"
   ],
   "metadata": {
    "collapsed": false,
    "ExecuteTime": {
     "end_time": "2024-04-10T13:43:08.096017Z",
     "start_time": "2024-04-10T13:43:08.066019Z"
    }
   },
   "id": "4ae383294350c0dd",
   "execution_count": 146
  },
  {
   "cell_type": "markdown",
   "source": [
    "**Hyperparameter Tuning**"
   ],
   "metadata": {
    "collapsed": false
   },
   "id": "ad38c74630d09833"
  },
  {
   "cell_type": "code",
   "outputs": [],
   "source": [
    "from sklearn.model_selection import RepeatedStratifiedKFold\n",
    "\n",
    "cv_method = RepeatedStratifiedKFold(n_splits=5,\n",
    "                                    n_repeats=3,\n",
    "                                    random_state=999)"
   ],
   "metadata": {
    "collapsed": false,
    "ExecuteTime": {
     "end_time": "2024-04-10T13:43:08.127018Z",
     "start_time": "2024-04-10T13:43:08.112020Z"
    }
   },
   "id": "a2ca8f2845f237fe",
   "execution_count": 147
  },
  {
   "cell_type": "code",
   "outputs": [
    {
     "data": {
      "text/plain": "(23508,)"
     },
     "execution_count": 148,
     "metadata": {},
     "output_type": "execute_result"
    }
   ],
   "source": [
    "y_train.shape"
   ],
   "metadata": {
    "collapsed": false,
    "ExecuteTime": {
     "end_time": "2024-04-10T13:43:08.143018Z",
     "start_time": "2024-04-10T13:43:08.132024Z"
    }
   },
   "id": "d71d5be39fab9224",
   "execution_count": 148
  },
  {
   "cell_type": "code",
   "outputs": [
    {
     "data": {
      "text/plain": "(23508, 13)"
     },
     "execution_count": 149,
     "metadata": {},
     "output_type": "execute_result"
    }
   ],
   "source": [
    "X_train_s.shape"
   ],
   "metadata": {
    "collapsed": false,
    "ExecuteTime": {
     "end_time": "2024-04-10T13:43:08.175019Z",
     "start_time": "2024-04-10T13:43:08.168022Z"
    }
   },
   "id": "5a9a8da7b209b98b",
   "execution_count": 149
  },
  {
   "cell_type": "code",
   "outputs": [],
   "source": [
    "model = GaussianNB().fit(X_train_s,y_train)"
   ],
   "metadata": {
    "collapsed": false,
    "ExecuteTime": {
     "end_time": "2024-04-10T13:43:08.286248Z",
     "start_time": "2024-04-10T13:43:08.273232Z"
    }
   },
   "id": "662f6dde2e29c102",
   "execution_count": 150
  },
  {
   "cell_type": "code",
   "outputs": [
    {
     "name": "stdout",
     "output_type": "stream",
     "text": [
      "Fitting 15 folds for each of 100 candidates, totalling 1500 fits\n"
     ]
    },
    {
     "data": {
      "text/plain": "GridSearchCV(cv=RepeatedStratifiedKFold(n_repeats=3, n_splits=5, random_state=999),\n             estimator=GaussianNB(),\n             param_grid={'var_smoothing': array([1.00000000e+00, 8.11130831e-01, 6.57933225e-01, 5.33669923e-01,\n       4.32876128e-01, 3.51119173e-01, 2.84803587e-01, 2.31012970e-01,\n       1.87381742e-01, 1.51991108e-01, 1.23284674e-01, 1.00000000e-01,\n       8.11130831e-02, 6.57933225e-02, 5...\n       1.23284674e-07, 1.00000000e-07, 8.11130831e-08, 6.57933225e-08,\n       5.33669923e-08, 4.32876128e-08, 3.51119173e-08, 2.84803587e-08,\n       2.31012970e-08, 1.87381742e-08, 1.51991108e-08, 1.23284674e-08,\n       1.00000000e-08, 8.11130831e-09, 6.57933225e-09, 5.33669923e-09,\n       4.32876128e-09, 3.51119173e-09, 2.84803587e-09, 2.31012970e-09,\n       1.87381742e-09, 1.51991108e-09, 1.23284674e-09, 1.00000000e-09])},\n             scoring='accuracy', verbose=1)",
      "text/html": "<style>#sk-container-id-6 {color: black;}#sk-container-id-6 pre{padding: 0;}#sk-container-id-6 div.sk-toggleable {background-color: white;}#sk-container-id-6 label.sk-toggleable__label {cursor: pointer;display: block;width: 100%;margin-bottom: 0;padding: 0.3em;box-sizing: border-box;text-align: center;}#sk-container-id-6 label.sk-toggleable__label-arrow:before {content: \"▸\";float: left;margin-right: 0.25em;color: #696969;}#sk-container-id-6 label.sk-toggleable__label-arrow:hover:before {color: black;}#sk-container-id-6 div.sk-estimator:hover label.sk-toggleable__label-arrow:before {color: black;}#sk-container-id-6 div.sk-toggleable__content {max-height: 0;max-width: 0;overflow: hidden;text-align: left;background-color: #f0f8ff;}#sk-container-id-6 div.sk-toggleable__content pre {margin: 0.2em;color: black;border-radius: 0.25em;background-color: #f0f8ff;}#sk-container-id-6 input.sk-toggleable__control:checked~div.sk-toggleable__content {max-height: 200px;max-width: 100%;overflow: auto;}#sk-container-id-6 input.sk-toggleable__control:checked~label.sk-toggleable__label-arrow:before {content: \"▾\";}#sk-container-id-6 div.sk-estimator input.sk-toggleable__control:checked~label.sk-toggleable__label {background-color: #d4ebff;}#sk-container-id-6 div.sk-label input.sk-toggleable__control:checked~label.sk-toggleable__label {background-color: #d4ebff;}#sk-container-id-6 input.sk-hidden--visually {border: 0;clip: rect(1px 1px 1px 1px);clip: rect(1px, 1px, 1px, 1px);height: 1px;margin: -1px;overflow: hidden;padding: 0;position: absolute;width: 1px;}#sk-container-id-6 div.sk-estimator {font-family: monospace;background-color: #f0f8ff;border: 1px dotted black;border-radius: 0.25em;box-sizing: border-box;margin-bottom: 0.5em;}#sk-container-id-6 div.sk-estimator:hover {background-color: #d4ebff;}#sk-container-id-6 div.sk-parallel-item::after {content: \"\";width: 100%;border-bottom: 1px solid gray;flex-grow: 1;}#sk-container-id-6 div.sk-label:hover label.sk-toggleable__label {background-color: #d4ebff;}#sk-container-id-6 div.sk-serial::before {content: \"\";position: absolute;border-left: 1px solid gray;box-sizing: border-box;top: 0;bottom: 0;left: 50%;z-index: 0;}#sk-container-id-6 div.sk-serial {display: flex;flex-direction: column;align-items: center;background-color: white;padding-right: 0.2em;padding-left: 0.2em;position: relative;}#sk-container-id-6 div.sk-item {position: relative;z-index: 1;}#sk-container-id-6 div.sk-parallel {display: flex;align-items: stretch;justify-content: center;background-color: white;position: relative;}#sk-container-id-6 div.sk-item::before, #sk-container-id-6 div.sk-parallel-item::before {content: \"\";position: absolute;border-left: 1px solid gray;box-sizing: border-box;top: 0;bottom: 0;left: 50%;z-index: -1;}#sk-container-id-6 div.sk-parallel-item {display: flex;flex-direction: column;z-index: 1;position: relative;background-color: white;}#sk-container-id-6 div.sk-parallel-item:first-child::after {align-self: flex-end;width: 50%;}#sk-container-id-6 div.sk-parallel-item:last-child::after {align-self: flex-start;width: 50%;}#sk-container-id-6 div.sk-parallel-item:only-child::after {width: 0;}#sk-container-id-6 div.sk-dashed-wrapped {border: 1px dashed gray;margin: 0 0.4em 0.5em 0.4em;box-sizing: border-box;padding-bottom: 0.4em;background-color: white;}#sk-container-id-6 div.sk-label label {font-family: monospace;font-weight: bold;display: inline-block;line-height: 1.2em;}#sk-container-id-6 div.sk-label-container {text-align: center;}#sk-container-id-6 div.sk-container {/* jupyter's `normalize.less` sets `[hidden] { display: none; }` but bootstrap.min.css set `[hidden] { display: none !important; }` so we also need the `!important` here to be able to override the default hidden behavior on the sphinx rendered scikit-learn.org. See: https://github.com/scikit-learn/scikit-learn/issues/21755 */display: inline-block !important;position: relative;}#sk-container-id-6 div.sk-text-repr-fallback {display: none;}</style><div id=\"sk-container-id-6\" class=\"sk-top-container\"><div class=\"sk-text-repr-fallback\"><pre>GridSearchCV(cv=RepeatedStratifiedKFold(n_repeats=3, n_splits=5, random_state=999),\n             estimator=GaussianNB(),\n             param_grid={&#x27;var_smoothing&#x27;: array([1.00000000e+00, 8.11130831e-01, 6.57933225e-01, 5.33669923e-01,\n       4.32876128e-01, 3.51119173e-01, 2.84803587e-01, 2.31012970e-01,\n       1.87381742e-01, 1.51991108e-01, 1.23284674e-01, 1.00000000e-01,\n       8.11130831e-02, 6.57933225e-02, 5...\n       1.23284674e-07, 1.00000000e-07, 8.11130831e-08, 6.57933225e-08,\n       5.33669923e-08, 4.32876128e-08, 3.51119173e-08, 2.84803587e-08,\n       2.31012970e-08, 1.87381742e-08, 1.51991108e-08, 1.23284674e-08,\n       1.00000000e-08, 8.11130831e-09, 6.57933225e-09, 5.33669923e-09,\n       4.32876128e-09, 3.51119173e-09, 2.84803587e-09, 2.31012970e-09,\n       1.87381742e-09, 1.51991108e-09, 1.23284674e-09, 1.00000000e-09])},\n             scoring=&#x27;accuracy&#x27;, verbose=1)</pre><b>In a Jupyter environment, please rerun this cell to show the HTML representation or trust the notebook. <br />On GitHub, the HTML representation is unable to render, please try loading this page with nbviewer.org.</b></div><div class=\"sk-container\" hidden><div class=\"sk-item sk-dashed-wrapped\"><div class=\"sk-label-container\"><div class=\"sk-label sk-toggleable\"><input class=\"sk-toggleable__control sk-hidden--visually\" id=\"sk-estimator-id-12\" type=\"checkbox\" ><label for=\"sk-estimator-id-12\" class=\"sk-toggleable__label sk-toggleable__label-arrow\">GridSearchCV</label><div class=\"sk-toggleable__content\"><pre>GridSearchCV(cv=RepeatedStratifiedKFold(n_repeats=3, n_splits=5, random_state=999),\n             estimator=GaussianNB(),\n             param_grid={&#x27;var_smoothing&#x27;: array([1.00000000e+00, 8.11130831e-01, 6.57933225e-01, 5.33669923e-01,\n       4.32876128e-01, 3.51119173e-01, 2.84803587e-01, 2.31012970e-01,\n       1.87381742e-01, 1.51991108e-01, 1.23284674e-01, 1.00000000e-01,\n       8.11130831e-02, 6.57933225e-02, 5...\n       1.23284674e-07, 1.00000000e-07, 8.11130831e-08, 6.57933225e-08,\n       5.33669923e-08, 4.32876128e-08, 3.51119173e-08, 2.84803587e-08,\n       2.31012970e-08, 1.87381742e-08, 1.51991108e-08, 1.23284674e-08,\n       1.00000000e-08, 8.11130831e-09, 6.57933225e-09, 5.33669923e-09,\n       4.32876128e-09, 3.51119173e-09, 2.84803587e-09, 2.31012970e-09,\n       1.87381742e-09, 1.51991108e-09, 1.23284674e-09, 1.00000000e-09])},\n             scoring=&#x27;accuracy&#x27;, verbose=1)</pre></div></div></div><div class=\"sk-parallel\"><div class=\"sk-parallel-item\"><div class=\"sk-item\"><div class=\"sk-label-container\"><div class=\"sk-label sk-toggleable\"><input class=\"sk-toggleable__control sk-hidden--visually\" id=\"sk-estimator-id-13\" type=\"checkbox\" ><label for=\"sk-estimator-id-13\" class=\"sk-toggleable__label sk-toggleable__label-arrow\">estimator: GaussianNB</label><div class=\"sk-toggleable__content\"><pre>GaussianNB()</pre></div></div></div><div class=\"sk-serial\"><div class=\"sk-item\"><div class=\"sk-estimator sk-toggleable\"><input class=\"sk-toggleable__control sk-hidden--visually\" id=\"sk-estimator-id-14\" type=\"checkbox\" ><label for=\"sk-estimator-id-14\" class=\"sk-toggleable__label sk-toggleable__label-arrow\">GaussianNB</label><div class=\"sk-toggleable__content\"><pre>GaussianNB()</pre></div></div></div></div></div></div></div></div></div></div>"
     },
     "execution_count": 151,
     "metadata": {},
     "output_type": "execute_result"
    }
   ],
   "source": [
    "from sklearn.preprocessing import PowerTransformer\n",
    "\n",
    "params = {'var_smoothing': np.logspace(0, -9, num=100)}\n",
    "gs_nb = GridSearchCV(estimator=model, param_grid=params, cv=cv_method, verbose=1, scoring='accuracy')\n",
    "data_transformed = PowerTransformer().fit_transform(X_test)\n",
    "gs_nb.fit(data_transformed, y_test)"
   ],
   "metadata": {
    "collapsed": false,
    "ExecuteTime": {
     "end_time": "2024-04-10T13:43:12.575228Z",
     "start_time": "2024-04-10T13:43:08.378229Z"
    }
   },
   "id": "2077e3222e3bcff",
   "execution_count": 151
  },
  {
   "cell_type": "code",
   "outputs": [
    {
     "data": {
      "text/plain": "{'var_smoothing': 0.3511191734215131}"
     },
     "execution_count": 152,
     "metadata": {},
     "output_type": "execute_result"
    }
   ],
   "source": [
    "gs_nb.best_params_"
   ],
   "metadata": {
    "collapsed": false,
    "ExecuteTime": {
     "end_time": "2024-04-10T13:43:12.591227Z",
     "start_time": "2024-04-10T13:43:12.576228Z"
    }
   },
   "id": "43e14b84fb325778",
   "execution_count": 152
  },
  {
   "cell_type": "code",
   "outputs": [
    {
     "data": {
      "text/plain": "GaussianNB(var_smoothing=0.3511191734215131)",
      "text/html": "<style>#sk-container-id-7 {color: black;}#sk-container-id-7 pre{padding: 0;}#sk-container-id-7 div.sk-toggleable {background-color: white;}#sk-container-id-7 label.sk-toggleable__label {cursor: pointer;display: block;width: 100%;margin-bottom: 0;padding: 0.3em;box-sizing: border-box;text-align: center;}#sk-container-id-7 label.sk-toggleable__label-arrow:before {content: \"▸\";float: left;margin-right: 0.25em;color: #696969;}#sk-container-id-7 label.sk-toggleable__label-arrow:hover:before {color: black;}#sk-container-id-7 div.sk-estimator:hover label.sk-toggleable__label-arrow:before {color: black;}#sk-container-id-7 div.sk-toggleable__content {max-height: 0;max-width: 0;overflow: hidden;text-align: left;background-color: #f0f8ff;}#sk-container-id-7 div.sk-toggleable__content pre {margin: 0.2em;color: black;border-radius: 0.25em;background-color: #f0f8ff;}#sk-container-id-7 input.sk-toggleable__control:checked~div.sk-toggleable__content {max-height: 200px;max-width: 100%;overflow: auto;}#sk-container-id-7 input.sk-toggleable__control:checked~label.sk-toggleable__label-arrow:before {content: \"▾\";}#sk-container-id-7 div.sk-estimator input.sk-toggleable__control:checked~label.sk-toggleable__label {background-color: #d4ebff;}#sk-container-id-7 div.sk-label input.sk-toggleable__control:checked~label.sk-toggleable__label {background-color: #d4ebff;}#sk-container-id-7 input.sk-hidden--visually {border: 0;clip: rect(1px 1px 1px 1px);clip: rect(1px, 1px, 1px, 1px);height: 1px;margin: -1px;overflow: hidden;padding: 0;position: absolute;width: 1px;}#sk-container-id-7 div.sk-estimator {font-family: monospace;background-color: #f0f8ff;border: 1px dotted black;border-radius: 0.25em;box-sizing: border-box;margin-bottom: 0.5em;}#sk-container-id-7 div.sk-estimator:hover {background-color: #d4ebff;}#sk-container-id-7 div.sk-parallel-item::after {content: \"\";width: 100%;border-bottom: 1px solid gray;flex-grow: 1;}#sk-container-id-7 div.sk-label:hover label.sk-toggleable__label {background-color: #d4ebff;}#sk-container-id-7 div.sk-serial::before {content: \"\";position: absolute;border-left: 1px solid gray;box-sizing: border-box;top: 0;bottom: 0;left: 50%;z-index: 0;}#sk-container-id-7 div.sk-serial {display: flex;flex-direction: column;align-items: center;background-color: white;padding-right: 0.2em;padding-left: 0.2em;position: relative;}#sk-container-id-7 div.sk-item {position: relative;z-index: 1;}#sk-container-id-7 div.sk-parallel {display: flex;align-items: stretch;justify-content: center;background-color: white;position: relative;}#sk-container-id-7 div.sk-item::before, #sk-container-id-7 div.sk-parallel-item::before {content: \"\";position: absolute;border-left: 1px solid gray;box-sizing: border-box;top: 0;bottom: 0;left: 50%;z-index: -1;}#sk-container-id-7 div.sk-parallel-item {display: flex;flex-direction: column;z-index: 1;position: relative;background-color: white;}#sk-container-id-7 div.sk-parallel-item:first-child::after {align-self: flex-end;width: 50%;}#sk-container-id-7 div.sk-parallel-item:last-child::after {align-self: flex-start;width: 50%;}#sk-container-id-7 div.sk-parallel-item:only-child::after {width: 0;}#sk-container-id-7 div.sk-dashed-wrapped {border: 1px dashed gray;margin: 0 0.4em 0.5em 0.4em;box-sizing: border-box;padding-bottom: 0.4em;background-color: white;}#sk-container-id-7 div.sk-label label {font-family: monospace;font-weight: bold;display: inline-block;line-height: 1.2em;}#sk-container-id-7 div.sk-label-container {text-align: center;}#sk-container-id-7 div.sk-container {/* jupyter's `normalize.less` sets `[hidden] { display: none; }` but bootstrap.min.css set `[hidden] { display: none !important; }` so we also need the `!important` here to be able to override the default hidden behavior on the sphinx rendered scikit-learn.org. See: https://github.com/scikit-learn/scikit-learn/issues/21755 */display: inline-block !important;position: relative;}#sk-container-id-7 div.sk-text-repr-fallback {display: none;}</style><div id=\"sk-container-id-7\" class=\"sk-top-container\"><div class=\"sk-text-repr-fallback\"><pre>GaussianNB(var_smoothing=0.3511191734215131)</pre><b>In a Jupyter environment, please rerun this cell to show the HTML representation or trust the notebook. <br />On GitHub, the HTML representation is unable to render, please try loading this page with nbviewer.org.</b></div><div class=\"sk-container\" hidden><div class=\"sk-item\"><div class=\"sk-estimator sk-toggleable\"><input class=\"sk-toggleable__control sk-hidden--visually\" id=\"sk-estimator-id-15\" type=\"checkbox\" checked><label for=\"sk-estimator-id-15\" class=\"sk-toggleable__label sk-toggleable__label-arrow\">GaussianNB</label><div class=\"sk-toggleable__content\"><pre>GaussianNB(var_smoothing=0.3511191734215131)</pre></div></div></div></div></div>"
     },
     "execution_count": 153,
     "metadata": {},
     "output_type": "execute_result"
    }
   ],
   "source": [
    "gs_nb.best_estimator_"
   ],
   "metadata": {
    "collapsed": false,
    "ExecuteTime": {
     "end_time": "2024-04-10T13:43:12.607253Z",
     "start_time": "2024-04-10T13:43:12.592231Z"
    }
   },
   "id": "e04fa697458fa22a",
   "execution_count": 153
  },
  {
   "cell_type": "code",
   "outputs": [
    {
     "data": {
      "text/plain": "0.8163637990726601"
     },
     "execution_count": 154,
     "metadata": {},
     "output_type": "execute_result"
    }
   ],
   "source": [
    "gs_nb.best_score_"
   ],
   "metadata": {
    "collapsed": false,
    "ExecuteTime": {
     "end_time": "2024-04-10T13:43:12.623228Z",
     "start_time": "2024-04-10T13:43:12.610230Z"
    }
   },
   "id": "507e061127f7fa5",
   "execution_count": 154
  },
  {
   "cell_type": "code",
   "outputs": [],
   "source": [
    "results_nb = pd.DataFrame(gs_nb.cv_results_['params'])\n",
    "results_nb['test_score'] = gs_nb.cv_results_['mean_test_score']"
   ],
   "metadata": {
    "collapsed": false,
    "ExecuteTime": {
     "end_time": "2024-04-10T13:43:12.639229Z",
     "start_time": "2024-04-10T13:43:12.624231Z"
    }
   },
   "id": "f21e98f8ed5f9f6",
   "execution_count": 155
  },
  {
   "cell_type": "code",
   "outputs": [
    {
     "data": {
      "text/plain": "<Figure size 640x480 with 1 Axes>",
      "image/png": "[encoded data removed]"
     },
     "metadata": {},
     "output_type": "display_data"
    }
   ],
   "source": [
    "plt.plot(results_nb['var_smoothing'], results_nb['test_score'], marker = '.')\n",
    "plt.xlabel('Var. Smoothing')\n",
    "plt.ylabel(\"Mean CV Score\")\n",
    "plt.title(\"NB Performance Comparison\")\n",
    "plt.show()"
   ],
   "metadata": {
    "collapsed": false,
    "ExecuteTime": {
     "end_time": "2024-04-10T13:43:12.844234Z",
     "start_time": "2024-04-10T13:43:12.641229Z"
    }
   },
   "id": "506a5d728c7c04bc",
   "execution_count": 156
  },
  {
   "cell_type": "code",
   "outputs": [
    {
     "name": "stdout",
     "output_type": "stream",
     "text": [
      "accuracy score on X test standar scaler dataset: 0.8190944478590453\n"
     ]
    }
   ],
   "source": [
    "pred = gs_nb.predict(data_transformed)\n",
    "print(f'accuracy score on X test standar scaler dataset: {accuracy_score(y_test, pred)}')"
   ],
   "metadata": {
    "collapsed": false,
    "ExecuteTime": {
     "end_time": "2024-04-10T13:43:12.860243Z",
     "start_time": "2024-04-10T13:43:12.845230Z"
    }
   },
   "id": "2fe921b3aa65f667",
   "execution_count": 157
  },
  {
   "cell_type": "markdown",
   "source": [
    "**Membuat ulang model dengan menggunakan var smoothing**"
   ],
   "metadata": {
    "collapsed": false
   },
   "id": "439136502c316b80"
  },
  {
   "cell_type": "code",
   "outputs": [],
   "source": [
    "def NaiveClass(X_train, X_val, X_test, y_train, y_val, y_test):\n",
    "\n",
    "    naive = GaussianNB(var_smoothing= 0.043287)\n",
    "\n",
    "    accuracy = []\n",
    "    precision = []\n",
    "    recall = []\n",
    "    f1 = []\n",
    "    roc = []\n",
    "\n",
    "    index = ['X_test', 'X_val']\n",
    "\n",
    "    data_type = [X_test, X_val]\n",
    "    target_type = [y_test, y_val]\n",
    "    columns = ['Accuracy', 'Precision', 'Recall', 'F1 Score', 'ROC AUC']\n",
    "\n",
    "    result = pd.DataFrame(columns=columns, index=index)\n",
    "\n",
    "    for i in range(0, len(data_type)):\n",
    "        predict = naive.fit(X_train, y_train).predict(data_type[i])\n",
    "\n",
    "        accuracy.append(accuracy_score(target_type[i], predict))\n",
    "        precision.append(precision_score(target_type[i], predict))\n",
    "        recall.append(recall_score(target_type[i], predict, average='weighted'))\n",
    "        f1.append(f1_score(target_type[i], predict, average='weighted'))\n",
    "        roc.append(roc_auc_score(target_type[i], predict, average='weighted'))\n",
    "\n",
    "    result['Accuracy'] = accuracy\n",
    "    result['Precision'] = precision\n",
    "    result['Recall'] = recall\n",
    "    result['F1 Score'] = f1\n",
    "    result['ROC AUC'] = roc\n",
    "\n",
    "    return result.sort_values('F1 Score', ascending=False)"
   ],
   "metadata": {
    "collapsed": false,
    "ExecuteTime": {
     "end_time": "2024-04-10T13:43:12.875227Z",
     "start_time": "2024-04-10T13:43:12.862231Z"
    }
   },
   "id": "7ed0ad1590886074",
   "execution_count": 158
  },
  {
   "cell_type": "code",
   "outputs": [
    {
     "data": {
      "text/plain": "        Accuracy  Precision    Recall  F1 Score   ROC AUC\nX_test  0.814177   0.621719  0.814177  0.812167  0.735682\nX_val   0.805736   0.607778  0.805736  0.802142  0.717450",
      "text/html": "<div>\n<style scoped>\n    .dataframe tbody tr th:only-of-type {\n        vertical-align: middle;\n    }\n\n    .dataframe tbody tr th {\n        vertical-align: top;\n    }\n\n    .dataframe thead th {\n        text-align: right;\n    }\n</style>\n<table border=\"1\" class=\"dataframe\">\n  <thead>\n    <tr style=\"text-align: right;\">\n      <th></th>\n      <th>Accuracy</th>\n      <th>Precision</th>\n      <th>Recall</th>\n      <th>F1 Score</th>\n      <th>ROC AUC</th>\n    </tr>\n  </thead>\n  <tbody>\n    <tr>\n      <th>X_test</th>\n      <td>0.814177</td>\n      <td>0.621719</td>\n      <td>0.814177</td>\n      <td>0.812167</td>\n      <td>0.735682</td>\n    </tr>\n    <tr>\n      <th>X_val</th>\n      <td>0.805736</td>\n      <td>0.607778</td>\n      <td>0.805736</td>\n      <td>0.802142</td>\n      <td>0.717450</td>\n    </tr>\n  </tbody>\n</table>\n</div>"
     },
     "execution_count": 159,
     "metadata": {},
     "output_type": "execute_result"
    }
   ],
   "source": [
    "NaiveClass(X_train_norm, X_val_norm, X_test_norm, y_train, y_val, y_test)"
   ],
   "metadata": {
    "collapsed": false,
    "ExecuteTime": {
     "end_time": "2024-04-10T13:43:12.937245Z",
     "start_time": "2024-04-10T13:43:12.876228Z"
    }
   },
   "id": "a51a798b6a8cb46f",
   "execution_count": 159
  },
  {
   "cell_type": "code",
   "outputs": [
    {
     "data": {
      "text/plain": "        Accuracy  Precision    Recall  F1 Score   ROC AUC\nX_test  0.826470   0.752688  0.826470  0.807278  0.686606\nX_val   0.816582   0.716878  0.816582  0.796137  0.672730",
      "text/html": "<div>\n<style scoped>\n    .dataframe tbody tr th:only-of-type {\n        vertical-align: middle;\n    }\n\n    .dataframe tbody tr th {\n        vertical-align: top;\n    }\n\n    .dataframe thead th {\n        text-align: right;\n    }\n</style>\n<table border=\"1\" class=\"dataframe\">\n  <thead>\n    <tr style=\"text-align: right;\">\n      <th></th>\n      <th>Accuracy</th>\n      <th>Precision</th>\n      <th>Recall</th>\n      <th>F1 Score</th>\n      <th>ROC AUC</th>\n    </tr>\n  </thead>\n  <tbody>\n    <tr>\n      <th>X_test</th>\n      <td>0.826470</td>\n      <td>0.752688</td>\n      <td>0.826470</td>\n      <td>0.807278</td>\n      <td>0.686606</td>\n    </tr>\n    <tr>\n      <th>X_val</th>\n      <td>0.816582</td>\n      <td>0.716878</td>\n      <td>0.816582</td>\n      <td>0.796137</td>\n      <td>0.672730</td>\n    </tr>\n  </tbody>\n</table>\n</div>"
     },
     "execution_count": 160,
     "metadata": {},
     "output_type": "execute_result"
    }
   ],
   "source": [
    "NaiveClass(X_train_s, X_val_s, X_test_s, y_train, y_val, y_test)"
   ],
   "metadata": {
    "collapsed": false,
    "ExecuteTime": {
     "end_time": "2024-04-10T13:43:12.983230Z",
     "start_time": "2024-04-10T13:43:12.939228Z"
    }
   },
   "id": "6595a31815c40718",
   "execution_count": 160
  },
  {
   "cell_type": "markdown",
   "source": [
    "**Berdasarkan hasil akurasi yang didapatkan menggunakan minmax dan standar scaler, didapatkan perbedaan antara skor X_test dan X_val, dimana score validasi kurang dari test, namun perbedaan tidaklah jauh. Dari perbedaan tersebut, data tersebut overfitting, namun overfitting disini tidaklah besar, sehingga tidak perlu khawatir untuk melakukan perubahan data lagi.**"
   ],
   "metadata": {
    "collapsed": false
   },
   "id": "5e1a55f661f68670"
  },
  {
   "cell_type": "code",
   "outputs": [],
   "source": [],
   "metadata": {
    "collapsed": false,
    "ExecuteTime": {
     "end_time": "2024-04-10T13:43:12.999230Z",
     "start_time": "2024-04-10T13:43:12.984229Z"
    }
   },
   "id": "3e879bd1e0671f42",
   "execution_count": 160
  }
 ],
 "metadata": {
  "kernelspec": {
   "display_name": "Python 3",
   "language": "python",
   "name": "python3"
  },
  "language_info": {
   "codemirror_mode": {
    "name": "ipython",
    "version": 2
   },
   "file_extension": ".py",
   "mimetype": "text/x-python",
   "name": "python",
   "nbconvert_exporter": "python",
   "pygments_lexer": "ipython2",
   "version": "2.7.6"
  }
 },
 "nbformat": 4,
 "nbformat_minor": 5
}
