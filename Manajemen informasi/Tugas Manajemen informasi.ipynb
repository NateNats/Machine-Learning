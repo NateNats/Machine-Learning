{
 "cells": [
  {
   "cell_type": "code",
   "execution_count": 2,
   "id": "initial_id",
   "metadata": {
    "collapsed": true,
    "ExecuteTime": {
     "end_time": "2024-03-27T12:49:20.908689Z",
     "start_time": "2024-03-27T12:49:20.893632Z"
    }
   },
   "outputs": [],
   "source": [
    "import pandas as pd"
   ]
  },
  {
   "cell_type": "code",
   "outputs": [
    {
     "data": {
      "text/plain": "            id                              original_title  \\\n0       760161                          Orphan: First Kill   \n1       760741                                       Beast   \n2       882598                                       Smile   \n3       756999                             The Black Phone   \n4       772450                                  Presencias   \n...        ...                                         ...   \n32535  1032201                             Catch a Butcher   \n32536  1032667  Shaye Saint John: The Triggers Compilation   \n32537  1032890                Welcome to the Occult Forest   \n32538  1033052                                The Mean One   \n32539  1033095                              Secret Formula   \n\n                                            title original_language  \\\n0                              Orphan: First Kill                en   \n1                                           Beast                en   \n2                                           Smile                en   \n3                                 The Black Phone                en   \n4                                       Presences                es   \n...                                           ...               ...   \n32535                             Catch a Butcher                en   \n32536  Shaye Saint John: The Triggers Compilation                en   \n32537                Welcome to the Occult Forest                en   \n32538                                The Mean One                en   \n32539                              Secret Formula                en   \n\n                                                overview  \\\n0      After escaping from an Estonian psychiatric fa...   \n1      A recently widowed man and his two teenage dau...   \n2      After witnessing a bizarre, traumatic incident...   \n3      Finney Blake, a shy but clever 13-year-old boy...   \n4      A man who loses his wife and goes to seclude h...   \n...                                                  ...   \n32535  In a maternity ward in nineteenth-century Indi...   \n32536  A bizarre mix of early Tod Hayne's and Phyllis...   \n32537  A washed up horror film director named Kôji Ku...   \n32538  The Mean One is a hairy, green-skinned grump i...   \n32539                                                NaN   \n\n                                                 tagline release_date  \\\n0       There's always been something wrong with Esther.   2022-07-27   \n1                                      Fight for family.   2022-08-11   \n2                        Once you see it, it’s too late.   2022-09-23   \n3                               Never talk to strangers.   2022-06-22   \n4                                                    NaN   2022-09-07   \n...                                                  ...          ...   \n32535                                                NaN   2021-11-20   \n32536  \"Just keep in mind, that you'll be trying to s...   2006-10-30   \n32537  Murders, crimes, laughter, psychics, superhero...   2022-07-22   \n32538                                                NaN   2022-12-15   \n32539                                                NaN   2020-12-06   \n\n                            poster_path  popularity  vote_count  vote_average  \\\n0      /pHkKbIRoCe7zIFvqan9LFSaQAde.jpg    5088.584         902           6.9   \n1      /xIGr7UHsKf0URWmyyd5qFMAq4d8.jpg    2172.338         584           7.1   \n2      /hiaeZKzwsk4y4atFhmncO5KRxeT.jpg    1863.628         114           6.8   \n3      /lr11mCT85T1JanlgjMuhs9nMht4.jpg    1071.398        2736           7.9   \n4      /dgDT3uol3mdvwEg0jt1ble3l9hw.jpg    1020.995          83           7.0   \n...                                 ...         ...         ...           ...   \n32535  /4LHrYpe6bjiT8Wvkzl3269LIUZl.jpg       0.600           0           0.0   \n32536  /j1vWwxnTsoKjZFwJODiNHNS8GFK.jpg       0.600           0           0.0   \n32537  /ngFyxdliPZrG3Qra7tW3LbWksFd.jpg       0.600           0           0.0   \n32538                               NaN       0.000           0           0.0   \n32539  /5GTTNqHwXfqqnBPrZAv0DVoWfjr.jpg       0.000           0           0.0   \n\n         budget    revenue  runtime           status  adult  \\\n0             0    9572765       99         Released  False   \n1             0   56000000       93         Released  False   \n2      17000000   45000000      115         Released  False   \n3      18800000  161000000      103         Released  False   \n4             0          0        0         Released  False   \n...         ...        ...      ...              ...    ...   \n32535         0          0       11         Released  False   \n32536         0          0       92         Released  False   \n32537         0          0      141         Released  False   \n32538         0          0        0  Post Production  False   \n32539         0          0        0         Released  False   \n\n                          backdrop_path                genre_names  \\\n0      /5GA3vV1aWWHTSDO5eno8V5zDo8r.jpg           Horror, Thriller   \n1      /2k9tBql5GYH328Krj66tDT9LtFZ.jpg   Adventure, Drama, Horror   \n2      /mVNPfpydornVe4H4UCIk7WevWjf.jpg  Horror, Mystery, Thriller   \n3      /AfvIjhDu9p64jKcmohS4hsPG95Q.jpg           Horror, Thriller   \n4      /ojfzhdwRemcDt1I6pao6vVLw9AA.jpg                     Horror   \n...                                 ...                        ...   \n32535                               NaN                     Horror   \n32536                               NaN            Fantasy, Horror   \n32537  /s8Kpai084gCgQlsT3bpaEYuJmDc.jpg      Comedy, Drama, Horror   \n32538                               NaN                     Horror   \n32539                               NaN          Animation, Horror   \n\n       collection    collection_name  \n0        760193.0  Orphan Collection  \n1             NaN                NaN  \n2             NaN                NaN  \n3             NaN                NaN  \n4             NaN                NaN  \n...           ...                ...  \n32535         NaN                NaN  \n32536         NaN                NaN  \n32537         NaN                NaN  \n32538         NaN                NaN  \n32539         NaN                NaN  \n\n[32540 rows x 20 columns]",
      "text/html": "<div>\n<style scoped>\n    .dataframe tbody tr th:only-of-type {\n        vertical-align: middle;\n    }\n\n    .dataframe tbody tr th {\n        vertical-align: top;\n    }\n\n    .dataframe thead th {\n        text-align: right;\n    }\n</style>\n<table border=\"1\" class=\"dataframe\">\n  <thead>\n    <tr style=\"text-align: right;\">\n      <th></th>\n      <th>id</th>\n      <th>original_title</th>\n      <th>title</th>\n      <th>original_language</th>\n      <th>overview</th>\n      <th>tagline</th>\n      <th>release_date</th>\n      <th>poster_path</th>\n      <th>popularity</th>\n      <th>vote_count</th>\n      <th>vote_average</th>\n      <th>budget</th>\n      <th>revenue</th>\n      <th>runtime</th>\n      <th>status</th>\n      <th>adult</th>\n      <th>backdrop_path</th>\n      <th>genre_names</th>\n      <th>collection</th>\n      <th>collection_name</th>\n    </tr>\n  </thead>\n  <tbody>\n    <tr>\n      <th>0</th>\n      <td>760161</td>\n      <td>Orphan: First Kill</td>\n      <td>Orphan: First Kill</td>\n      <td>en</td>\n      <td>After escaping from an Estonian psychiatric fa...</td>\n      <td>There's always been something wrong with Esther.</td>\n      <td>2022-07-27</td>\n      <td>/pHkKbIRoCe7zIFvqan9LFSaQAde.jpg</td>\n      <td>5088.584</td>\n      <td>902</td>\n      <td>6.9</td>\n      <td>0</td>\n      <td>9572765</td>\n      <td>99</td>\n      <td>Released</td>\n      <td>False</td>\n      <td>/5GA3vV1aWWHTSDO5eno8V5zDo8r.jpg</td>\n      <td>Horror, Thriller</td>\n      <td>760193.0</td>\n      <td>Orphan Collection</td>\n    </tr>\n    <tr>\n      <th>1</th>\n      <td>760741</td>\n      <td>Beast</td>\n      <td>Beast</td>\n      <td>en</td>\n      <td>A recently widowed man and his two teenage dau...</td>\n      <td>Fight for family.</td>\n      <td>2022-08-11</td>\n      <td>/xIGr7UHsKf0URWmyyd5qFMAq4d8.jpg</td>\n      <td>2172.338</td>\n      <td>584</td>\n      <td>7.1</td>\n      <td>0</td>\n      <td>56000000</td>\n      <td>93</td>\n      <td>Released</td>\n      <td>False</td>\n      <td>/2k9tBql5GYH328Krj66tDT9LtFZ.jpg</td>\n      <td>Adventure, Drama, Horror</td>\n      <td>NaN</td>\n      <td>NaN</td>\n    </tr>\n    <tr>\n      <th>2</th>\n      <td>882598</td>\n      <td>Smile</td>\n      <td>Smile</td>\n      <td>en</td>\n      <td>After witnessing a bizarre, traumatic incident...</td>\n      <td>Once you see it, it’s too late.</td>\n      <td>2022-09-23</td>\n      <td>/hiaeZKzwsk4y4atFhmncO5KRxeT.jpg</td>\n      <td>1863.628</td>\n      <td>114</td>\n      <td>6.8</td>\n      <td>17000000</td>\n      <td>45000000</td>\n      <td>115</td>\n      <td>Released</td>\n      <td>False</td>\n      <td>/mVNPfpydornVe4H4UCIk7WevWjf.jpg</td>\n      <td>Horror, Mystery, Thriller</td>\n      <td>NaN</td>\n      <td>NaN</td>\n    </tr>\n    <tr>\n      <th>3</th>\n      <td>756999</td>\n      <td>The Black Phone</td>\n      <td>The Black Phone</td>\n      <td>en</td>\n      <td>Finney Blake, a shy but clever 13-year-old boy...</td>\n      <td>Never talk to strangers.</td>\n      <td>2022-06-22</td>\n      <td>/lr11mCT85T1JanlgjMuhs9nMht4.jpg</td>\n      <td>1071.398</td>\n      <td>2736</td>\n      <td>7.9</td>\n      <td>18800000</td>\n      <td>161000000</td>\n      <td>103</td>\n      <td>Released</td>\n      <td>False</td>\n      <td>/AfvIjhDu9p64jKcmohS4hsPG95Q.jpg</td>\n      <td>Horror, Thriller</td>\n      <td>NaN</td>\n      <td>NaN</td>\n    </tr>\n    <tr>\n      <th>4</th>\n      <td>772450</td>\n      <td>Presencias</td>\n      <td>Presences</td>\n      <td>es</td>\n      <td>A man who loses his wife and goes to seclude h...</td>\n      <td>NaN</td>\n      <td>2022-09-07</td>\n      <td>/dgDT3uol3mdvwEg0jt1ble3l9hw.jpg</td>\n      <td>1020.995</td>\n      <td>83</td>\n      <td>7.0</td>\n      <td>0</td>\n      <td>0</td>\n      <td>0</td>\n      <td>Released</td>\n      <td>False</td>\n      <td>/ojfzhdwRemcDt1I6pao6vVLw9AA.jpg</td>\n      <td>Horror</td>\n      <td>NaN</td>\n      <td>NaN</td>\n    </tr>\n    <tr>\n      <th>...</th>\n      <td>...</td>\n      <td>...</td>\n      <td>...</td>\n      <td>...</td>\n      <td>...</td>\n      <td>...</td>\n      <td>...</td>\n      <td>...</td>\n      <td>...</td>\n      <td>...</td>\n      <td>...</td>\n      <td>...</td>\n      <td>...</td>\n      <td>...</td>\n      <td>...</td>\n      <td>...</td>\n      <td>...</td>\n      <td>...</td>\n      <td>...</td>\n      <td>...</td>\n    </tr>\n    <tr>\n      <th>32535</th>\n      <td>1032201</td>\n      <td>Catch a Butcher</td>\n      <td>Catch a Butcher</td>\n      <td>en</td>\n      <td>In a maternity ward in nineteenth-century Indi...</td>\n      <td>NaN</td>\n      <td>2021-11-20</td>\n      <td>/4LHrYpe6bjiT8Wvkzl3269LIUZl.jpg</td>\n      <td>0.600</td>\n      <td>0</td>\n      <td>0.0</td>\n      <td>0</td>\n      <td>0</td>\n      <td>11</td>\n      <td>Released</td>\n      <td>False</td>\n      <td>NaN</td>\n      <td>Horror</td>\n      <td>NaN</td>\n      <td>NaN</td>\n    </tr>\n    <tr>\n      <th>32536</th>\n      <td>1032667</td>\n      <td>Shaye Saint John: The Triggers Compilation</td>\n      <td>Shaye Saint John: The Triggers Compilation</td>\n      <td>en</td>\n      <td>A bizarre mix of early Tod Hayne's and Phyllis...</td>\n      <td>\"Just keep in mind, that you'll be trying to s...</td>\n      <td>2006-10-30</td>\n      <td>/j1vWwxnTsoKjZFwJODiNHNS8GFK.jpg</td>\n      <td>0.600</td>\n      <td>0</td>\n      <td>0.0</td>\n      <td>0</td>\n      <td>0</td>\n      <td>92</td>\n      <td>Released</td>\n      <td>False</td>\n      <td>NaN</td>\n      <td>Fantasy, Horror</td>\n      <td>NaN</td>\n      <td>NaN</td>\n    </tr>\n    <tr>\n      <th>32537</th>\n      <td>1032890</td>\n      <td>Welcome to the Occult Forest</td>\n      <td>Welcome to the Occult Forest</td>\n      <td>en</td>\n      <td>A washed up horror film director named Kôji Ku...</td>\n      <td>Murders, crimes, laughter, psychics, superhero...</td>\n      <td>2022-07-22</td>\n      <td>/ngFyxdliPZrG3Qra7tW3LbWksFd.jpg</td>\n      <td>0.600</td>\n      <td>0</td>\n      <td>0.0</td>\n      <td>0</td>\n      <td>0</td>\n      <td>141</td>\n      <td>Released</td>\n      <td>False</td>\n      <td>/s8Kpai084gCgQlsT3bpaEYuJmDc.jpg</td>\n      <td>Comedy, Drama, Horror</td>\n      <td>NaN</td>\n      <td>NaN</td>\n    </tr>\n    <tr>\n      <th>32538</th>\n      <td>1033052</td>\n      <td>The Mean One</td>\n      <td>The Mean One</td>\n      <td>en</td>\n      <td>The Mean One is a hairy, green-skinned grump i...</td>\n      <td>NaN</td>\n      <td>2022-12-15</td>\n      <td>NaN</td>\n      <td>0.000</td>\n      <td>0</td>\n      <td>0.0</td>\n      <td>0</td>\n      <td>0</td>\n      <td>0</td>\n      <td>Post Production</td>\n      <td>False</td>\n      <td>NaN</td>\n      <td>Horror</td>\n      <td>NaN</td>\n      <td>NaN</td>\n    </tr>\n    <tr>\n      <th>32539</th>\n      <td>1033095</td>\n      <td>Secret Formula</td>\n      <td>Secret Formula</td>\n      <td>en</td>\n      <td>NaN</td>\n      <td>NaN</td>\n      <td>2020-12-06</td>\n      <td>/5GTTNqHwXfqqnBPrZAv0DVoWfjr.jpg</td>\n      <td>0.000</td>\n      <td>0</td>\n      <td>0.0</td>\n      <td>0</td>\n      <td>0</td>\n      <td>0</td>\n      <td>Released</td>\n      <td>False</td>\n      <td>NaN</td>\n      <td>Animation, Horror</td>\n      <td>NaN</td>\n      <td>NaN</td>\n    </tr>\n  </tbody>\n</table>\n<p>32540 rows × 20 columns</p>\n</div>"
     },
     "execution_count": 13,
     "metadata": {},
     "output_type": "execute_result"
    }
   ],
   "source": [
    "data = pd.read_csv('horror_movies.csv')\n",
    "data"
   ],
   "metadata": {
    "collapsed": false,
    "ExecuteTime": {
     "end_time": "2024-03-27T12:51:34.200282Z",
     "start_time": "2024-03-27T12:51:33.930487Z"
    }
   },
   "id": "4c5a0fc853f845eb",
   "execution_count": 13
  },
  {
   "cell_type": "code",
   "outputs": [
    {
     "name": "stdout",
     "output_type": "stream",
     "text": [
      "<class 'pandas.core.frame.DataFrame'>\n",
      "RangeIndex: 32540 entries, 0 to 32539\n",
      "Data columns (total 20 columns):\n",
      " #   Column             Non-Null Count  Dtype  \n",
      "---  ------             --------------  -----  \n",
      " 0   id                 32540 non-null  int64  \n",
      " 1   original_title     32540 non-null  object \n",
      " 2   title              32540 non-null  object \n",
      " 3   original_language  32540 non-null  object \n",
      " 4   overview           31254 non-null  object \n",
      " 5   tagline            12706 non-null  object \n",
      " 6   release_date       32540 non-null  object \n",
      " 7   poster_path        28066 non-null  object \n",
      " 8   popularity         32540 non-null  float64\n",
      " 9   vote_count         32540 non-null  int64  \n",
      " 10  vote_average       32540 non-null  float64\n",
      " 11  budget             32540 non-null  int64  \n",
      " 12  revenue            32540 non-null  int64  \n",
      " 13  runtime            32540 non-null  int64  \n",
      " 14  status             32540 non-null  object \n",
      " 15  adult              32540 non-null  bool   \n",
      " 16  backdrop_path      13545 non-null  object \n",
      " 17  genre_names        32540 non-null  object \n",
      " 18  collection         2306 non-null   float64\n",
      " 19  collection_name    2306 non-null   object \n",
      "dtypes: bool(1), float64(3), int64(5), object(11)\n",
      "memory usage: 4.7+ MB\n"
     ]
    }
   ],
   "source": [
    "data.info()"
   ],
   "metadata": {
    "collapsed": false,
    "ExecuteTime": {
     "end_time": "2024-03-27T12:51:35.029831Z",
     "start_time": "2024-03-27T12:51:34.996265Z"
    }
   },
   "id": "13eaeddd9fa9ee2f",
   "execution_count": 14
  },
  {
   "cell_type": "code",
   "outputs": [
    {
     "data": {
      "text/plain": "id                       0\noriginal_title           0\ntitle                    0\noriginal_language        0\noverview              1286\ntagline              19834\nrelease_date             0\nposter_path           4474\npopularity               0\nvote_count               0\nvote_average             0\nbudget                   0\nrevenue                  0\nruntime                  0\nstatus                   0\nadult                    0\nbackdrop_path        18995\ngenre_names              0\ncollection           30234\ncollection_name      30234\ndtype: int64"
     },
     "execution_count": 15,
     "metadata": {},
     "output_type": "execute_result"
    }
   ],
   "source": [
    "data.isnull().sum()"
   ],
   "metadata": {
    "collapsed": false,
    "ExecuteTime": {
     "end_time": "2024-03-27T12:51:36.566295Z",
     "start_time": "2024-03-27T12:51:36.534211Z"
    }
   },
   "id": "388b4e969a10847c",
   "execution_count": 15
  },
  {
   "cell_type": "code",
   "outputs": [
    {
     "data": {
      "text/plain": "(32540, 20)"
     },
     "execution_count": 16,
     "metadata": {},
     "output_type": "execute_result"
    }
   ],
   "source": [
    "data.shape"
   ],
   "metadata": {
    "collapsed": false,
    "ExecuteTime": {
     "end_time": "2024-03-27T12:51:37.751257Z",
     "start_time": "2024-03-27T12:51:37.743731Z"
    }
   },
   "id": "9fe3c158e2161947",
   "execution_count": 16
  },
  {
   "cell_type": "code",
   "outputs": [
    {
     "data": {
      "text/plain": "                                   original_title  \\\n0                              Orphan: First Kill   \n1                                           Beast   \n2                                           Smile   \n3                                 The Black Phone   \n4                                      Presencias   \n...                                           ...   \n32535                             Catch a Butcher   \n32536  Shaye Saint John: The Triggers Compilation   \n32537                Welcome to the Occult Forest   \n32538                                The Mean One   \n32539                              Secret Formula   \n\n                                            title original_language  \\\n0                              Orphan: First Kill                en   \n1                                           Beast                en   \n2                                           Smile                en   \n3                                 The Black Phone                en   \n4                                       Presences                es   \n...                                           ...               ...   \n32535                             Catch a Butcher                en   \n32536  Shaye Saint John: The Triggers Compilation                en   \n32537                Welcome to the Occult Forest                en   \n32538                                The Mean One                en   \n32539                              Secret Formula                en   \n\n      release_date  popularity  vote_count  vote_average    budget    revenue  \\\n0       2022-07-27    5088.584         902           6.9         0    9572765   \n1       2022-08-11    2172.338         584           7.1         0   56000000   \n2       2022-09-23    1863.628         114           6.8  17000000   45000000   \n3       2022-06-22    1071.398        2736           7.9  18800000  161000000   \n4       2022-09-07    1020.995          83           7.0         0          0   \n...            ...         ...         ...           ...       ...        ...   \n32535   2021-11-20       0.600           0           0.0         0          0   \n32536   2006-10-30       0.600           0           0.0         0          0   \n32537   2022-07-22       0.600           0           0.0         0          0   \n32538   2022-12-15       0.000           0           0.0         0          0   \n32539   2020-12-06       0.000           0           0.0         0          0   \n\n       runtime           status  adult                genre_names  \n0           99         Released  False           Horror, Thriller  \n1           93         Released  False   Adventure, Drama, Horror  \n2          115         Released  False  Horror, Mystery, Thriller  \n3          103         Released  False           Horror, Thriller  \n4            0         Released  False                     Horror  \n...        ...              ...    ...                        ...  \n32535       11         Released  False                     Horror  \n32536       92         Released  False            Fantasy, Horror  \n32537      141         Released  False      Comedy, Drama, Horror  \n32538        0  Post Production  False                     Horror  \n32539        0         Released  False          Animation, Horror  \n\n[32540 rows x 13 columns]",
      "text/html": "<div>\n<style scoped>\n    .dataframe tbody tr th:only-of-type {\n        vertical-align: middle;\n    }\n\n    .dataframe tbody tr th {\n        vertical-align: top;\n    }\n\n    .dataframe thead th {\n        text-align: right;\n    }\n</style>\n<table border=\"1\" class=\"dataframe\">\n  <thead>\n    <tr style=\"text-align: right;\">\n      <th></th>\n      <th>original_title</th>\n      <th>title</th>\n      <th>original_language</th>\n      <th>release_date</th>\n      <th>popularity</th>\n      <th>vote_count</th>\n      <th>vote_average</th>\n      <th>budget</th>\n      <th>revenue</th>\n      <th>runtime</th>\n      <th>status</th>\n      <th>adult</th>\n      <th>genre_names</th>\n    </tr>\n  </thead>\n  <tbody>\n    <tr>\n      <th>0</th>\n      <td>Orphan: First Kill</td>\n      <td>Orphan: First Kill</td>\n      <td>en</td>\n      <td>2022-07-27</td>\n      <td>5088.584</td>\n      <td>902</td>\n      <td>6.9</td>\n      <td>0</td>\n      <td>9572765</td>\n      <td>99</td>\n      <td>Released</td>\n      <td>False</td>\n      <td>Horror, Thriller</td>\n    </tr>\n    <tr>\n      <th>1</th>\n      <td>Beast</td>\n      <td>Beast</td>\n      <td>en</td>\n      <td>2022-08-11</td>\n      <td>2172.338</td>\n      <td>584</td>\n      <td>7.1</td>\n      <td>0</td>\n      <td>56000000</td>\n      <td>93</td>\n      <td>Released</td>\n      <td>False</td>\n      <td>Adventure, Drama, Horror</td>\n    </tr>\n    <tr>\n      <th>2</th>\n      <td>Smile</td>\n      <td>Smile</td>\n      <td>en</td>\n      <td>2022-09-23</td>\n      <td>1863.628</td>\n      <td>114</td>\n      <td>6.8</td>\n      <td>17000000</td>\n      <td>45000000</td>\n      <td>115</td>\n      <td>Released</td>\n      <td>False</td>\n      <td>Horror, Mystery, Thriller</td>\n    </tr>\n    <tr>\n      <th>3</th>\n      <td>The Black Phone</td>\n      <td>The Black Phone</td>\n      <td>en</td>\n      <td>2022-06-22</td>\n      <td>1071.398</td>\n      <td>2736</td>\n      <td>7.9</td>\n      <td>18800000</td>\n      <td>161000000</td>\n      <td>103</td>\n      <td>Released</td>\n      <td>False</td>\n      <td>Horror, Thriller</td>\n    </tr>\n    <tr>\n      <th>4</th>\n      <td>Presencias</td>\n      <td>Presences</td>\n      <td>es</td>\n      <td>2022-09-07</td>\n      <td>1020.995</td>\n      <td>83</td>\n      <td>7.0</td>\n      <td>0</td>\n      <td>0</td>\n      <td>0</td>\n      <td>Released</td>\n      <td>False</td>\n      <td>Horror</td>\n    </tr>\n    <tr>\n      <th>...</th>\n      <td>...</td>\n      <td>...</td>\n      <td>...</td>\n      <td>...</td>\n      <td>...</td>\n      <td>...</td>\n      <td>...</td>\n      <td>...</td>\n      <td>...</td>\n      <td>...</td>\n      <td>...</td>\n      <td>...</td>\n      <td>...</td>\n    </tr>\n    <tr>\n      <th>32535</th>\n      <td>Catch a Butcher</td>\n      <td>Catch a Butcher</td>\n      <td>en</td>\n      <td>2021-11-20</td>\n      <td>0.600</td>\n      <td>0</td>\n      <td>0.0</td>\n      <td>0</td>\n      <td>0</td>\n      <td>11</td>\n      <td>Released</td>\n      <td>False</td>\n      <td>Horror</td>\n    </tr>\n    <tr>\n      <th>32536</th>\n      <td>Shaye Saint John: The Triggers Compilation</td>\n      <td>Shaye Saint John: The Triggers Compilation</td>\n      <td>en</td>\n      <td>2006-10-30</td>\n      <td>0.600</td>\n      <td>0</td>\n      <td>0.0</td>\n      <td>0</td>\n      <td>0</td>\n      <td>92</td>\n      <td>Released</td>\n      <td>False</td>\n      <td>Fantasy, Horror</td>\n    </tr>\n    <tr>\n      <th>32537</th>\n      <td>Welcome to the Occult Forest</td>\n      <td>Welcome to the Occult Forest</td>\n      <td>en</td>\n      <td>2022-07-22</td>\n      <td>0.600</td>\n      <td>0</td>\n      <td>0.0</td>\n      <td>0</td>\n      <td>0</td>\n      <td>141</td>\n      <td>Released</td>\n      <td>False</td>\n      <td>Comedy, Drama, Horror</td>\n    </tr>\n    <tr>\n      <th>32538</th>\n      <td>The Mean One</td>\n      <td>The Mean One</td>\n      <td>en</td>\n      <td>2022-12-15</td>\n      <td>0.000</td>\n      <td>0</td>\n      <td>0.0</td>\n      <td>0</td>\n      <td>0</td>\n      <td>0</td>\n      <td>Post Production</td>\n      <td>False</td>\n      <td>Horror</td>\n    </tr>\n    <tr>\n      <th>32539</th>\n      <td>Secret Formula</td>\n      <td>Secret Formula</td>\n      <td>en</td>\n      <td>2020-12-06</td>\n      <td>0.000</td>\n      <td>0</td>\n      <td>0.0</td>\n      <td>0</td>\n      <td>0</td>\n      <td>0</td>\n      <td>Released</td>\n      <td>False</td>\n      <td>Animation, Horror</td>\n    </tr>\n  </tbody>\n</table>\n<p>32540 rows × 13 columns</p>\n</div>"
     },
     "execution_count": 17,
     "metadata": {},
     "output_type": "execute_result"
    }
   ],
   "source": [
    "data.drop(['id', 'collection', 'collection_name', 'tagline', 'poster_path', 'overview', 'backdrop_path'], axis=1, inplace=True)\n",
    "data"
   ],
   "metadata": {
    "collapsed": false,
    "ExecuteTime": {
     "end_time": "2024-03-27T12:52:23.739085Z",
     "start_time": "2024-03-27T12:52:23.701644Z"
    }
   },
   "id": "254e16b72f7fd6ff",
   "execution_count": 17
  },
  {
   "cell_type": "code",
   "outputs": [
    {
     "data": {
      "text/plain": "array(['en', 'es', 'zh', 'it', 'ru', 'ja', 'eo', 'fr', 'pl', 'ko', 'th',\n       'de', 'pt', 'tr', 'sv', 'no', 'fi', 'sr', 'mk', 'hi', 'da', 'ca',\n       'nl', 'cn', 'id', 'nb', 'is', 'tl', 'fa', 'eu', 'hu', 'bn', 'cs',\n       'ta', 'lv', 'et', 'he', 'ml', 'uk', 'te', 'ar', 'lo', 'cy', 'sh',\n       'el', 'mr', 'ms', 'kn', 'sl', 'xx', 'vi', 'gl', 'as', 'bg', 'km',\n       'af', 'ro', 'hr', 'xh', 'sk', 'ga', 'my', 'ur', 'mn', 'tw', 'sq',\n       'az', 'cr', 'ne', 'lt', 'mh', 'bs', 'fo', 'si', 'kl', 'jv', 'ig',\n       'so', 'lb', 'bo', 'kk', 'pa', 'dv', 'yi', 'gv', 'mt', 'mg', 'gu',\n       'sn', 'ky', 'su', 'ss', 'ps', 'la', 'lg', 'to', 'am'], dtype=object)"
     },
     "execution_count": 18,
     "metadata": {},
     "output_type": "execute_result"
    }
   ],
   "source": [
    "data['original_language'].unique()"
   ],
   "metadata": {
    "collapsed": false,
    "ExecuteTime": {
     "end_time": "2024-03-27T12:52:46.707675Z",
     "start_time": "2024-03-27T12:52:46.695881Z"
    }
   },
   "id": "c4187bf2c69dec26",
   "execution_count": 18
  },
  {
   "cell_type": "code",
   "outputs": [],
   "source": [
    "sample = data.sample(frac=0.07, random_state=42)"
   ],
   "metadata": {
    "collapsed": false,
    "ExecuteTime": {
     "end_time": "2024-03-27T14:08:31.722644Z",
     "start_time": "2024-03-27T14:08:31.695539Z"
    }
   },
   "id": "12c5413598631a00",
   "execution_count": 23
  },
  {
   "cell_type": "code",
   "outputs": [
    {
     "data": {
      "text/plain": "                                  original_title  \\\n29523                              Semangat Ular   \n12735                      Una notte al cimitero   \n16470                                        Box   \n9737           I, Zombie: The Chronicles of Pain   \n16764  Rotkäppchen: The Blood of Red Riding Hood   \n...                                          ...   \n21583          A Key of Ice in a Field of Lilacs   \n19879                                        陰陽界   \n19886                              The Boogeyman   \n30290                      There Can Only Be One   \n1715                        Planet of the Sharks   \n\n                                           title original_language  \\\n29523                              Semangat Ular                en   \n12735                      Graveyard Disturbance                it   \n16470                                        Box                ja   \n9737           I, Zombie: The Chronicles of Pain                en   \n16764  Rotkäppchen: The Blood of Red Riding Hood                en   \n...                                          ...               ...   \n21583          A Key of Ice in a Field of Lilacs                en   \n19879                        Blood Reincarnation                zh   \n19886                              The Boogeyman                en   \n30290                      There Can Only Be One                en   \n1715                        Planet of the Sharks                en   \n\n      release_date  popularity  vote_count  vote_average  budget  revenue  \\\n29523   1972-01-01       0.600           0           0.0       0        0   \n12735   1987-01-01       1.273          18           4.3       0        0   \n16470   2004-08-20       0.809           5           8.2       0        0   \n9737    1998-01-01       1.781          14           5.0       0        0   \n16764   2009-10-13       0.750           3           4.3  250000        0   \n...            ...         ...         ...           ...     ...      ...   \n21583   2012-11-30       0.600           0           0.0       0        0   \n19879   1974-10-03       0.600           2           5.5       0        0   \n19886   2010-08-05       0.600          10           5.2       0        0   \n30290   2019-05-28       0.600           0           0.0       0        0   \n1715    2016-07-27      11.088          57           3.8       5        6   \n\n       runtime    status  adult                      genre_names  \n29523       91  Released  False                           Horror  \n12735       90  Released  False         Comedy, Horror, TV Movie  \n16470       41  Released  False                           Horror  \n9737        79  Released  False                    Drama, Horror  \n16764      105  Released  False  Drama, Fantasy, Horror, Mystery  \n...        ...       ...    ...                              ...  \n21583        3  Released  False                 Horror, Thriller  \n19879       98  Released  False                           Horror  \n19886       27  Released  False                           Horror  \n30290        4  Released  False                           Horror  \n1715        85  Released  False  Action, Horror, Science Fiction  \n\n[2278 rows x 13 columns]",
      "text/html": "<div>\n<style scoped>\n    .dataframe tbody tr th:only-of-type {\n        vertical-align: middle;\n    }\n\n    .dataframe tbody tr th {\n        vertical-align: top;\n    }\n\n    .dataframe thead th {\n        text-align: right;\n    }\n</style>\n<table border=\"1\" class=\"dataframe\">\n  <thead>\n    <tr style=\"text-align: right;\">\n      <th></th>\n      <th>original_title</th>\n      <th>title</th>\n      <th>original_language</th>\n      <th>release_date</th>\n      <th>popularity</th>\n      <th>vote_count</th>\n      <th>vote_average</th>\n      <th>budget</th>\n      <th>revenue</th>\n      <th>runtime</th>\n      <th>status</th>\n      <th>adult</th>\n      <th>genre_names</th>\n    </tr>\n  </thead>\n  <tbody>\n    <tr>\n      <th>29523</th>\n      <td>Semangat Ular</td>\n      <td>Semangat Ular</td>\n      <td>en</td>\n      <td>1972-01-01</td>\n      <td>0.600</td>\n      <td>0</td>\n      <td>0.0</td>\n      <td>0</td>\n      <td>0</td>\n      <td>91</td>\n      <td>Released</td>\n      <td>False</td>\n      <td>Horror</td>\n    </tr>\n    <tr>\n      <th>12735</th>\n      <td>Una notte al cimitero</td>\n      <td>Graveyard Disturbance</td>\n      <td>it</td>\n      <td>1987-01-01</td>\n      <td>1.273</td>\n      <td>18</td>\n      <td>4.3</td>\n      <td>0</td>\n      <td>0</td>\n      <td>90</td>\n      <td>Released</td>\n      <td>False</td>\n      <td>Comedy, Horror, TV Movie</td>\n    </tr>\n    <tr>\n      <th>16470</th>\n      <td>Box</td>\n      <td>Box</td>\n      <td>ja</td>\n      <td>2004-08-20</td>\n      <td>0.809</td>\n      <td>5</td>\n      <td>8.2</td>\n      <td>0</td>\n      <td>0</td>\n      <td>41</td>\n      <td>Released</td>\n      <td>False</td>\n      <td>Horror</td>\n    </tr>\n    <tr>\n      <th>9737</th>\n      <td>I, Zombie: The Chronicles of Pain</td>\n      <td>I, Zombie: The Chronicles of Pain</td>\n      <td>en</td>\n      <td>1998-01-01</td>\n      <td>1.781</td>\n      <td>14</td>\n      <td>5.0</td>\n      <td>0</td>\n      <td>0</td>\n      <td>79</td>\n      <td>Released</td>\n      <td>False</td>\n      <td>Drama, Horror</td>\n    </tr>\n    <tr>\n      <th>16764</th>\n      <td>Rotkäppchen: The Blood of Red Riding Hood</td>\n      <td>Rotkäppchen: The Blood of Red Riding Hood</td>\n      <td>en</td>\n      <td>2009-10-13</td>\n      <td>0.750</td>\n      <td>3</td>\n      <td>4.3</td>\n      <td>250000</td>\n      <td>0</td>\n      <td>105</td>\n      <td>Released</td>\n      <td>False</td>\n      <td>Drama, Fantasy, Horror, Mystery</td>\n    </tr>\n    <tr>\n      <th>...</th>\n      <td>...</td>\n      <td>...</td>\n      <td>...</td>\n      <td>...</td>\n      <td>...</td>\n      <td>...</td>\n      <td>...</td>\n      <td>...</td>\n      <td>...</td>\n      <td>...</td>\n      <td>...</td>\n      <td>...</td>\n      <td>...</td>\n    </tr>\n    <tr>\n      <th>21583</th>\n      <td>A Key of Ice in a Field of Lilacs</td>\n      <td>A Key of Ice in a Field of Lilacs</td>\n      <td>en</td>\n      <td>2012-11-30</td>\n      <td>0.600</td>\n      <td>0</td>\n      <td>0.0</td>\n      <td>0</td>\n      <td>0</td>\n      <td>3</td>\n      <td>Released</td>\n      <td>False</td>\n      <td>Horror, Thriller</td>\n    </tr>\n    <tr>\n      <th>19879</th>\n      <td>陰陽界</td>\n      <td>Blood Reincarnation</td>\n      <td>zh</td>\n      <td>1974-10-03</td>\n      <td>0.600</td>\n      <td>2</td>\n      <td>5.5</td>\n      <td>0</td>\n      <td>0</td>\n      <td>98</td>\n      <td>Released</td>\n      <td>False</td>\n      <td>Horror</td>\n    </tr>\n    <tr>\n      <th>19886</th>\n      <td>The Boogeyman</td>\n      <td>The Boogeyman</td>\n      <td>en</td>\n      <td>2010-08-05</td>\n      <td>0.600</td>\n      <td>10</td>\n      <td>5.2</td>\n      <td>0</td>\n      <td>0</td>\n      <td>27</td>\n      <td>Released</td>\n      <td>False</td>\n      <td>Horror</td>\n    </tr>\n    <tr>\n      <th>30290</th>\n      <td>There Can Only Be One</td>\n      <td>There Can Only Be One</td>\n      <td>en</td>\n      <td>2019-05-28</td>\n      <td>0.600</td>\n      <td>0</td>\n      <td>0.0</td>\n      <td>0</td>\n      <td>0</td>\n      <td>4</td>\n      <td>Released</td>\n      <td>False</td>\n      <td>Horror</td>\n    </tr>\n    <tr>\n      <th>1715</th>\n      <td>Planet of the Sharks</td>\n      <td>Planet of the Sharks</td>\n      <td>en</td>\n      <td>2016-07-27</td>\n      <td>11.088</td>\n      <td>57</td>\n      <td>3.8</td>\n      <td>5</td>\n      <td>6</td>\n      <td>85</td>\n      <td>Released</td>\n      <td>False</td>\n      <td>Action, Horror, Science Fiction</td>\n    </tr>\n  </tbody>\n</table>\n<p>2278 rows × 13 columns</p>\n</div>"
     },
     "execution_count": 24,
     "metadata": {},
     "output_type": "execute_result"
    }
   ],
   "source": [
    "sample"
   ],
   "metadata": {
    "collapsed": false,
    "ExecuteTime": {
     "end_time": "2024-03-27T14:08:32.392681Z",
     "start_time": "2024-03-27T14:08:32.366110Z"
    }
   },
   "id": "258e495e0c6eba03",
   "execution_count": 24
  },
  {
   "cell_type": "code",
   "outputs": [
    {
     "data": {
      "text/plain": "           id                 original_title                          title  \\\n5389   788752                    Vikingulven                    Viking Wolf   \n21727  384723         Witch's Feast (Part 2)         Witch's Feast (Part 2)   \n27998  754651                       On Venus                       On Venus   \n22673  432730                    The Slavers                    The Slavers   \n27590  737515       The Children of Golgotha       The Children of Golgotha   \n...       ...                            ...                            ...   \n26058  642556            Book of 1000 Deaths            Book of 1000 Deaths   \n7134    40464                  Boardinghouse                  Boardinghouse   \n8986    52409                      富江 replay                  Tomie: Replay   \n16591  262621  Haunted House on Sorority Row  Haunted House on Sorority Row   \n26264  652891               Lethal Illusions               Lethal Illusions   \n\n      original_language release_date  popularity  vote_count  vote_average  \\\n5389                 no   2022-11-18       3.648           0           0.0   \n21727                en   2003-01-01       0.600           0           0.0   \n27998                en   2019-11-08       0.600           0           0.0   \n22673                en   1984-01-01       0.600           0           0.0   \n27590                de   2019-11-09       0.600           1           2.0   \n...                 ...          ...         ...         ...           ...   \n26058                en   2012-10-31       0.600           0           0.0   \n7134                 en   1982-01-01       2.644          16           3.4   \n8986                 ja   2000-02-11       1.975          19           5.0   \n16591                en   2014-02-21       0.781           3           4.3   \n26264                en   2000-01-01       0.600           0           0.0   \n\n       budget  revenue  runtime           status  adult  \\\n5389        0        0       97  Post Production  False   \n21727       0        0       35         Released  False   \n27998       0        0       10         Released  False   \n22673       0        0       96         Released  False   \n27590       0        0      110         Released  False   \n...       ...      ...      ...              ...    ...   \n26058   58000        0       91         Released  False   \n7134        0        0       98         Released  False   \n8986        0        0       95         Released  False   \n16591       0        0       81         Released  False   \n26264       0        0       65         Released  False   \n\n                                genre_names  profit  \n5389                       Horror, Thriller       0  \n21727                                Horror       0  \n27998  Documentary, Horror, Science Fiction       0  \n22673                                Horror       0  \n27590                                Horror       0  \n...                                     ...     ...  \n26058                                Horror  -58000  \n7134                                 Horror       0  \n8986                                 Horror       0  \n16591                                Horror       0  \n26264                                Horror       0  \n\n[2278 rows x 15 columns]",
      "text/html": "<div>\n<style scoped>\n    .dataframe tbody tr th:only-of-type {\n        vertical-align: middle;\n    }\n\n    .dataframe tbody tr th {\n        vertical-align: top;\n    }\n\n    .dataframe thead th {\n        text-align: right;\n    }\n</style>\n<table border=\"1\" class=\"dataframe\">\n  <thead>\n    <tr style=\"text-align: right;\">\n      <th></th>\n      <th>id</th>\n      <th>original_title</th>\n      <th>title</th>\n      <th>original_language</th>\n      <th>release_date</th>\n      <th>popularity</th>\n      <th>vote_count</th>\n      <th>vote_average</th>\n      <th>budget</th>\n      <th>revenue</th>\n      <th>runtime</th>\n      <th>status</th>\n      <th>adult</th>\n      <th>genre_names</th>\n      <th>profit</th>\n    </tr>\n  </thead>\n  <tbody>\n    <tr>\n      <th>5389</th>\n      <td>788752</td>\n      <td>Vikingulven</td>\n      <td>Viking Wolf</td>\n      <td>no</td>\n      <td>2022-11-18</td>\n      <td>3.648</td>\n      <td>0</td>\n      <td>0.0</td>\n      <td>0</td>\n      <td>0</td>\n      <td>97</td>\n      <td>Post Production</td>\n      <td>False</td>\n      <td>Horror, Thriller</td>\n      <td>0</td>\n    </tr>\n    <tr>\n      <th>21727</th>\n      <td>384723</td>\n      <td>Witch's Feast (Part 2)</td>\n      <td>Witch's Feast (Part 2)</td>\n      <td>en</td>\n      <td>2003-01-01</td>\n      <td>0.600</td>\n      <td>0</td>\n      <td>0.0</td>\n      <td>0</td>\n      <td>0</td>\n      <td>35</td>\n      <td>Released</td>\n      <td>False</td>\n      <td>Horror</td>\n      <td>0</td>\n    </tr>\n    <tr>\n      <th>27998</th>\n      <td>754651</td>\n      <td>On Venus</td>\n      <td>On Venus</td>\n      <td>en</td>\n      <td>2019-11-08</td>\n      <td>0.600</td>\n      <td>0</td>\n      <td>0.0</td>\n      <td>0</td>\n      <td>0</td>\n      <td>10</td>\n      <td>Released</td>\n      <td>False</td>\n      <td>Documentary, Horror, Science Fiction</td>\n      <td>0</td>\n    </tr>\n    <tr>\n      <th>22673</th>\n      <td>432730</td>\n      <td>The Slavers</td>\n      <td>The Slavers</td>\n      <td>en</td>\n      <td>1984-01-01</td>\n      <td>0.600</td>\n      <td>0</td>\n      <td>0.0</td>\n      <td>0</td>\n      <td>0</td>\n      <td>96</td>\n      <td>Released</td>\n      <td>False</td>\n      <td>Horror</td>\n      <td>0</td>\n    </tr>\n    <tr>\n      <th>27590</th>\n      <td>737515</td>\n      <td>The Children of Golgotha</td>\n      <td>The Children of Golgotha</td>\n      <td>de</td>\n      <td>2019-11-09</td>\n      <td>0.600</td>\n      <td>1</td>\n      <td>2.0</td>\n      <td>0</td>\n      <td>0</td>\n      <td>110</td>\n      <td>Released</td>\n      <td>False</td>\n      <td>Horror</td>\n      <td>0</td>\n    </tr>\n    <tr>\n      <th>...</th>\n      <td>...</td>\n      <td>...</td>\n      <td>...</td>\n      <td>...</td>\n      <td>...</td>\n      <td>...</td>\n      <td>...</td>\n      <td>...</td>\n      <td>...</td>\n      <td>...</td>\n      <td>...</td>\n      <td>...</td>\n      <td>...</td>\n      <td>...</td>\n      <td>...</td>\n    </tr>\n    <tr>\n      <th>26058</th>\n      <td>642556</td>\n      <td>Book of 1000 Deaths</td>\n      <td>Book of 1000 Deaths</td>\n      <td>en</td>\n      <td>2012-10-31</td>\n      <td>0.600</td>\n      <td>0</td>\n      <td>0.0</td>\n      <td>58000</td>\n      <td>0</td>\n      <td>91</td>\n      <td>Released</td>\n      <td>False</td>\n      <td>Horror</td>\n      <td>-58000</td>\n    </tr>\n    <tr>\n      <th>7134</th>\n      <td>40464</td>\n      <td>Boardinghouse</td>\n      <td>Boardinghouse</td>\n      <td>en</td>\n      <td>1982-01-01</td>\n      <td>2.644</td>\n      <td>16</td>\n      <td>3.4</td>\n      <td>0</td>\n      <td>0</td>\n      <td>98</td>\n      <td>Released</td>\n      <td>False</td>\n      <td>Horror</td>\n      <td>0</td>\n    </tr>\n    <tr>\n      <th>8986</th>\n      <td>52409</td>\n      <td>富江 replay</td>\n      <td>Tomie: Replay</td>\n      <td>ja</td>\n      <td>2000-02-11</td>\n      <td>1.975</td>\n      <td>19</td>\n      <td>5.0</td>\n      <td>0</td>\n      <td>0</td>\n      <td>95</td>\n      <td>Released</td>\n      <td>False</td>\n      <td>Horror</td>\n      <td>0</td>\n    </tr>\n    <tr>\n      <th>16591</th>\n      <td>262621</td>\n      <td>Haunted House on Sorority Row</td>\n      <td>Haunted House on Sorority Row</td>\n      <td>en</td>\n      <td>2014-02-21</td>\n      <td>0.781</td>\n      <td>3</td>\n      <td>4.3</td>\n      <td>0</td>\n      <td>0</td>\n      <td>81</td>\n      <td>Released</td>\n      <td>False</td>\n      <td>Horror</td>\n      <td>0</td>\n    </tr>\n    <tr>\n      <th>26264</th>\n      <td>652891</td>\n      <td>Lethal Illusions</td>\n      <td>Lethal Illusions</td>\n      <td>en</td>\n      <td>2000-01-01</td>\n      <td>0.600</td>\n      <td>0</td>\n      <td>0.0</td>\n      <td>0</td>\n      <td>0</td>\n      <td>65</td>\n      <td>Released</td>\n      <td>False</td>\n      <td>Horror</td>\n      <td>0</td>\n    </tr>\n  </tbody>\n</table>\n<p>2278 rows × 15 columns</p>\n</div>"
     },
     "execution_count": 11,
     "metadata": {},
     "output_type": "execute_result"
    }
   ],
   "source": [
    "sample['profit'] = sample['revenue'] - sample['budget']\n",
    "sample"
   ],
   "metadata": {
    "collapsed": false,
    "ExecuteTime": {
     "end_time": "2024-03-25T09:02:02.488481Z",
     "start_time": "2024-03-25T09:02:02.459412Z"
    }
   },
   "id": "4c40b68c6235464f",
   "execution_count": 11
  },
  {
   "cell_type": "code",
   "outputs": [],
   "source": [
    "sample.to_csv('sample.csv', index=False)"
   ],
   "metadata": {
    "collapsed": false,
    "ExecuteTime": {
     "end_time": "2024-03-25T09:02:03.530714Z",
     "start_time": "2024-03-25T09:02:03.512677Z"
    }
   },
   "id": "fa9751418f30561",
   "execution_count": 12
  }
 ],
 "metadata": {
  "kernelspec": {
   "display_name": "Python 3",
   "language": "python",
   "name": "python3"
  },
  "language_info": {
   "codemirror_mode": {
    "name": "ipython",
    "version": 2
   },
   "file_extension": ".py",
   "mimetype": "text/x-python",
   "name": "python",
   "nbconvert_exporter": "python",
   "pygments_lexer": "ipython2",
   "version": "2.7.6"
  }
 },
 "nbformat": 4,
 "nbformat_minor": 5
}
